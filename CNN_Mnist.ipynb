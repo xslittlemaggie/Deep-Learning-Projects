{
  "nbformat": 4,
  "nbformat_minor": 0,
  "metadata": {
    "colab": {
      "name": "CNN_Mnist_LH.ipynb",
      "version": "0.3.2",
      "provenance": [],
      "collapsed_sections": [],
      "toc_visible": true,
      "include_colab_link": true
    },
    "kernelspec": {
      "name": "python3",
      "display_name": "Python 3"
    },
    "accelerator": "GPU"
  },
  "cells": [
    {
      "cell_type": "markdown",
      "metadata": {
        "id": "view-in-github",
        "colab_type": "text"
      },
      "source": [
        "<a href=\"https://colab.research.google.com/github/xslittlemaggie/Deep-Learning-Projects/blob/master/CNN_Mnist.ipynb\" target=\"_parent\"><img src=\"https://colab.research.google.com/assets/colab-badge.svg\" alt=\"Open In Colab\"/></a>"
      ]
    },
    {
      "cell_type": "markdown",
      "metadata": {
        "id": "-IdKbNDks5sy",
        "colab_type": "text"
      },
      "source": [
        "## Step 1: Import librarious"
      ]
    },
    {
      "cell_type": "code",
      "metadata": {
        "id": "Cbi4948Ys3bY",
        "colab_type": "code",
        "colab": {}
      },
      "source": [
        "import numpy as np\n",
        "from keras.models import Sequential\n",
        "from keras.layers.core import Dense, Dropout, Activation\n",
        "from keras.layers import Conv2D, MaxPooling2D, Flatten\n",
        "from keras.optimizers import SGD, Adam, Adadelta\n",
        "from keras.utils import np_utils\n",
        "from keras.datasets import mnist\n",
        "from keras import backend as K"
      ],
      "execution_count": 0,
      "outputs": []
    },
    {
      "cell_type": "markdown",
      "metadata": {
        "id": "x9604MxXtDt4",
        "colab_type": "text"
      },
      "source": [
        "## Step 2: Load mnist data"
      ]
    },
    {
      "cell_type": "code",
      "metadata": {
        "id": "KmTJ3YZWqO2j",
        "colab_type": "code",
        "colab": {}
      },
      "source": [
        "# the data, split between train and test sets\n",
        "(x_train, y_train), (x_test, y_test) = mnist.load_data()\n",
        "\n",
        "if K.image_data_format() == \"channels_first\":\n",
        "  x_train = x_train.reshape(x_train.shape[0], 1, 28, 28)\n",
        "  x_test = x_test.reshape(x_test.shape[0], 1, 28, 28)\n",
        "  input_shape = (1, 28, 28)\n",
        "else:\n",
        "  x_train = x_train.reshape(x_train.shape[0], 28, 28, 1)\n",
        "  x_test = x_test.reshape(x_test.shape[0], 28, 28, 1)\n",
        "  input_shape = (28, 28, 1)\n",
        "\n",
        "x_train = x_train.astype('float32')\n",
        "x_test = x_test.astype('float32')\n",
        "x_train = x_train/255\n",
        "x_test = x_test/255\n",
        "\n",
        "# convert class vectors to binary class matrics\n",
        "y_train = np_utils.to_categorical(y_train, 10)\n",
        "y_test = np_utils.to_categorical(y_test, 10)"
      ],
      "execution_count": 0,
      "outputs": []
    },
    {
      "cell_type": "markdown",
      "metadata": {
        "id": "vUSQTE4DtJXw",
        "colab_type": "text"
      },
      "source": [
        "## Step 3: Get familiar with the data"
      ]
    },
    {
      "cell_type": "code",
      "metadata": {
        "id": "hjjaYXfzqrx7",
        "colab_type": "code",
        "outputId": "ef1eb1a1-85fa-47b9-b06a-73d7e6d9074b",
        "colab": {
          "base_uri": "https://localhost:8080/",
          "height": 87
        }
      },
      "source": [
        "print(\"x_train shape:\", x_train.shape)\n",
        "print(\"y_train shape:\", y_train.shape)\n",
        "print(\"x_test shape:\", x_test.shape)\n",
        "print(\"y_test shape:\", y_test.shape)"
      ],
      "execution_count": 0,
      "outputs": [
        {
          "output_type": "stream",
          "text": [
            "x_train shape: (60000, 28, 28, 1)\n",
            "y_train shape: (60000, 10)\n",
            "x_test shape: (10000, 28, 28, 1)\n",
            "y_test shape: (10000, 10)\n"
          ],
          "name": "stdout"
        }
      ]
    },
    {
      "cell_type": "code",
      "metadata": {
        "id": "_lWNp13nqyeI",
        "colab_type": "code",
        "outputId": "70b9b046-b83c-4cf9-c337-6cb6adb42b15",
        "colab": {
          "base_uri": "https://localhost:8080/",
          "height": 35
        }
      },
      "source": [
        "print(y_train[0]) # the first value is 5"
      ],
      "execution_count": 0,
      "outputs": [
        {
          "output_type": "stream",
          "text": [
            "[0. 0. 0. 0. 0. 1. 0. 0. 0. 0.]\n"
          ],
          "name": "stdout"
        }
      ]
    },
    {
      "cell_type": "markdown",
      "metadata": {
        "id": "e40ewWHUuN57",
        "colab_type": "text"
      },
      "source": [
        "## Step 4: Create the CNN model"
      ]
    },
    {
      "cell_type": "markdown",
      "metadata": {
        "id": "bHp3YTBgzV1x",
        "colab_type": "text"
      },
      "source": [
        "Models:\n",
        "  \n",
        "  1). **Dense -> fully connected** NN\n",
        "  2). **MaxPooling** \n",
        "  3). **Conv2D -> CNN**      4). **Flatten**\n",
        "\n",
        "Parameters:\n",
        "1. Activation functions: \n",
        "    **1). relu** (more efficient)\n",
        "    **2). sigmoid**\n",
        "    **3). tanh**\n",
        "    **4). softmax** (usually the last layer)\n",
        "      \n",
        "2. Loss functions: \n",
        "    **1). mse** (not good for classification)\n",
        "    **2). categorical_crossentropy**\n",
        "      \n",
        "3. Optimizers: \n",
        "    **1). SGD(lr = 0.01)**\n",
        "    **2). Adam**\n",
        "    **3). Adadelta\n",
        "      \n",
        "  "
      ]
    },
    {
      "cell_type": "code",
      "metadata": {
        "id": "Wm0gF8PWsvy9",
        "colab_type": "code",
        "outputId": "5f519a6d-f50b-4650-9110-7ce146498272",
        "colab": {
          "base_uri": "https://localhost:8080/",
          "height": 783
        }
      },
      "source": [
        "model = Sequential()\n",
        "\n",
        "model.add(Conv2D(32, kernel_size = (3, 3), activation = 'relu', input_shape = (28, 28, 1)))\n",
        "\n",
        "model.add(Conv2D(64, (3, 3), activation = 'relu'))\n",
        "model.add(MaxPooling2D((2, 2)))\n",
        "# model.add(Dropout(0.25))  # one solution for overfitting, dropout\n",
        "\n",
        "model.add(Flatten())\n",
        "\n",
        "model.add(Dense(128, activation = 'relu'))\n",
        "# model.add(Dropout(0.5))\n",
        "\n",
        "model.add(Dense(10, activation ='softmax'))\n",
        "\n",
        "model.compile(loss = \"categorical_crossentropy\", optimizer = Adadelta(), metrics = ['accuracy'])\n",
        "\n",
        "model.fit(x_train, y_train,\n",
        "         batch_size = 128, \n",
        "         epochs = 20,\n",
        "         verbose = 1,\n",
        "         validation_data = (x_test, y_test))\n",
        "\n",
        "score = model.evaluate(x_train, y_train, verbose = 0) \n",
        "print(\"Train Acc:\", score[1])\n",
        "\n",
        "score = model.evaluate(x_test, y_test, verbose = 0) \n",
        "\n",
        "print(\"Test Acc:\", score[1])"
      ],
      "execution_count": 0,
      "outputs": [
        {
          "output_type": "stream",
          "text": [
            "Train on 60000 samples, validate on 10000 samples\n",
            "Epoch 1/20\n",
            "60000/60000 [==============================] - 5s 79us/step - loss: 0.1985 - acc: 0.9382 - val_loss: 0.0461 - val_acc: 0.9848\n",
            "Epoch 2/20\n",
            "60000/60000 [==============================] - 4s 71us/step - loss: 0.0461 - acc: 0.9857 - val_loss: 0.0377 - val_acc: 0.9876\n",
            "Epoch 3/20\n",
            "60000/60000 [==============================] - 4s 71us/step - loss: 0.0291 - acc: 0.9908 - val_loss: 0.0330 - val_acc: 0.9899\n",
            "Epoch 4/20\n",
            "60000/60000 [==============================] - 4s 72us/step - loss: 0.0197 - acc: 0.9937 - val_loss: 0.0336 - val_acc: 0.9894\n",
            "Epoch 5/20\n",
            "60000/60000 [==============================] - 4s 72us/step - loss: 0.0131 - acc: 0.9960 - val_loss: 0.0370 - val_acc: 0.9882\n",
            "Epoch 6/20\n",
            "60000/60000 [==============================] - 4s 71us/step - loss: 0.0094 - acc: 0.9972 - val_loss: 0.0380 - val_acc: 0.9881\n",
            "Epoch 7/20\n",
            "60000/60000 [==============================] - 4s 72us/step - loss: 0.0057 - acc: 0.9984 - val_loss: 0.0367 - val_acc: 0.9896\n",
            "Epoch 8/20\n",
            "60000/60000 [==============================] - 4s 72us/step - loss: 0.0041 - acc: 0.9989 - val_loss: 0.0358 - val_acc: 0.9906\n",
            "Epoch 9/20\n",
            "60000/60000 [==============================] - 4s 72us/step - loss: 0.0027 - acc: 0.9992 - val_loss: 0.0384 - val_acc: 0.9902\n",
            "Epoch 10/20\n",
            "60000/60000 [==============================] - 4s 71us/step - loss: 0.0022 - acc: 0.9995 - val_loss: 0.0410 - val_acc: 0.9892\n",
            "Epoch 11/20\n",
            "60000/60000 [==============================] - 4s 71us/step - loss: 0.0012 - acc: 0.9997 - val_loss: 0.0398 - val_acc: 0.9899\n",
            "Epoch 12/20\n",
            "60000/60000 [==============================] - 4s 71us/step - loss: 0.0010 - acc: 0.9998 - val_loss: 0.0421 - val_acc: 0.9899\n",
            "Epoch 13/20\n",
            "60000/60000 [==============================] - 4s 71us/step - loss: 6.2723e-04 - acc: 0.9999 - val_loss: 0.0397 - val_acc: 0.9910\n",
            "Epoch 14/20\n",
            "60000/60000 [==============================] - 4s 71us/step - loss: 4.2903e-04 - acc: 1.0000 - val_loss: 0.0404 - val_acc: 0.9915\n",
            "Epoch 15/20\n",
            "60000/60000 [==============================] - 4s 71us/step - loss: 4.1497e-04 - acc: 0.9999 - val_loss: 0.0432 - val_acc: 0.9909\n",
            "Epoch 16/20\n",
            "60000/60000 [==============================] - 4s 71us/step - loss: 3.2189e-04 - acc: 1.0000 - val_loss: 0.0441 - val_acc: 0.9909\n",
            "Epoch 17/20\n",
            "60000/60000 [==============================] - 4s 71us/step - loss: 3.0599e-04 - acc: 1.0000 - val_loss: 0.0448 - val_acc: 0.9909\n",
            "Epoch 18/20\n",
            "60000/60000 [==============================] - 4s 71us/step - loss: 3.1774e-04 - acc: 1.0000 - val_loss: 0.0453 - val_acc: 0.9906\n",
            "Epoch 19/20\n",
            "60000/60000 [==============================] - 4s 71us/step - loss: 2.9087e-04 - acc: 1.0000 - val_loss: 0.0463 - val_acc: 0.9907\n",
            "Epoch 20/20\n",
            "60000/60000 [==============================] - 4s 71us/step - loss: 2.8627e-04 - acc: 1.0000 - val_loss: 0.0471 - val_acc: 0.9909\n",
            "Train Acc: 0.9999833333333333\n",
            "Test Acc: 0.9909\n"
          ],
          "name": "stdout"
        }
      ]
    },
    {
      "cell_type": "code",
      "metadata": {
        "id": "nc1Ll3fvB-lM",
        "colab_type": "code",
        "colab": {}
      },
      "source": [
        ""
      ],
      "execution_count": 0,
      "outputs": []
    }
  ]
}