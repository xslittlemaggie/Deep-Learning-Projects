{
  "nbformat": 4,
  "nbformat_minor": 0,
  "metadata": {
    "colab": {
      "name": "MNIST_CNN.ipynb",
      "version": "0.3.2",
      "provenance": [],
      "toc_visible": true,
      "include_colab_link": true
    },
    "kernelspec": {
      "name": "python3",
      "display_name": "Python 3"
    },
    "accelerator": "GPU"
  },
  "cells": [
    {
      "cell_type": "markdown",
      "metadata": {
        "id": "view-in-github",
        "colab_type": "text"
      },
      "source": [
        "<a href=\"https://colab.research.google.com/github/xslittlemaggie/Deep-Learning-Projects/blob/master/MNIST_CNN.ipynb\" target=\"_parent\"><img src=\"https://colab.research.google.com/assets/colab-badge.svg\" alt=\"Open In Colab\"/></a>"
      ]
    },
    {
      "cell_type": "code",
      "metadata": {
        "id": "zf9aQHZVvbwF",
        "colab_type": "code",
        "colab": {}
      },
      "source": [
        "import keras\n",
        "from keras.datasets import mnist\n",
        "from keras.models import Sequential\n",
        "from keras.layers import Conv2D, MaxPooling2D, Dropout\n",
        "from keras.layers import Dense, Activation, Flatten\n",
        "from keras.optimizers import SGD, adam, RMSprop\n",
        "\n",
        "from keras.utils import np_utils\n",
        "from keras import backend as K\n",
        "\n",
        "# visualization\n",
        "import matplotlib.pyplot as plt"
      ],
      "execution_count": 0,
      "outputs": []
    },
    {
      "cell_type": "code",
      "metadata": {
        "id": "GGSAd16gHzbJ",
        "colab_type": "code",
        "colab": {}
      },
      "source": [
        "# the data, split between train and test sets\n",
        "(x_train, y_train), (x_test, y_test) = mnist.load_data()"
      ],
      "execution_count": 0,
      "outputs": []
    },
    {
      "cell_type": "markdown",
      "metadata": {
        "id": "lUv4zc6zxz6z",
        "colab_type": "text"
      },
      "source": [
        "## Data preprocessing"
      ]
    },
    {
      "cell_type": "code",
      "metadata": {
        "id": "_2sXEVb2xNff",
        "colab_type": "code",
        "colab": {}
      },
      "source": [
        "if K.image_data_format() == \"channels_first\":\n",
        "  x_train = x_train.reshape(x_train.shape[0], 1, 28, 28)\n",
        "  x_test = x_test.reshape(x_test.shape[0], 1, 28, 28)\n",
        "  input_shape = (1, 28, 28)\n",
        "else:\n",
        "  x_train = x_train.reshape(x_train.shape[0], 28, 28, 1)\n",
        "  x_test = x_test.reshape(x_test.shape[0], 28, 28, 1)\n",
        "  input_shape = (28, 28, 1)\n",
        "\n",
        "x_train = x_train.astype('float32')\n",
        "x_test = x_test.astype('float32')\n",
        "x_train = x_train/255\n",
        "x_test = x_test/255\n",
        "\n",
        "# convert class vectors to binary class matrics\n",
        "y_train = np_utils.to_categorical(y_train, 10)\n",
        "y_test = np_utils.to_categorical(y_test, 10)"
      ],
      "execution_count": 0,
      "outputs": []
    },
    {
      "cell_type": "code",
      "metadata": {
        "id": "_I5mMGK76uWm",
        "colab_type": "code",
        "colab": {
          "base_uri": "https://localhost:8080/",
          "height": 86
        },
        "outputId": "40c01efa-f0dc-4770-c6ea-e65310f9893a"
      },
      "source": [
        "print(\"The shape of x_train: {}\".format(x_train.shape))\n",
        "print(\"The shape of y_train: {}\".format(y_train.shape))\n",
        "print(\"The shape of x_test: {}\".format(x_test.shape))\n",
        "print(\"The shape of y_test: {}\".format(y_test.shape))"
      ],
      "execution_count": 50,
      "outputs": [
        {
          "output_type": "stream",
          "text": [
            "The shape of x_train: (60000, 28, 28, 1)\n",
            "The shape of y_train: (60000, 10)\n",
            "The shape of x_test: (10000, 28, 28, 1)\n",
            "The shape of y_test: (10000, 10)\n"
          ],
          "name": "stdout"
        }
      ]
    },
    {
      "cell_type": "code",
      "metadata": {
        "id": "oXy0CEQH0We9",
        "colab_type": "code",
        "colab": {
          "base_uri": "https://localhost:8080/",
          "height": 55
        },
        "outputId": "9a883a38-4c89-4718-bb80-c319b6302619"
      },
      "source": [
        "\"\"\"\n",
        "nrows = 2\n",
        "ncols = 5\n",
        "plt.figure(figsize = (10, 4))\n",
        "for i in range(10):\n",
        "  print(\"The true label: {}\".format(y_train[i]))\n",
        "  plt.subplot(nrows, ncols, i + 1)  \n",
        "  plt.imshow(x_train[i]) # cmap = \"gray\" \n",
        "  plt.axis(\"Off\")\n",
        "plt.show()\n",
        "\"\"\""
      ],
      "execution_count": 51,
      "outputs": [
        {
          "output_type": "execute_result",
          "data": {
            "text/plain": [
              "'\\nnrows = 2\\nncols = 5\\nplt.figure(figsize = (10, 4))\\nfor i in range(10):\\n  print(\"The true label: {}\".format(y_train[i]))\\n  plt.subplot(nrows, ncols, i + 1)  \\n  plt.imshow(x_train[i]) # cmap = \"gray\" \\n  plt.axis(\"Off\")\\nplt.show()\\n'"
            ]
          },
          "metadata": {
            "tags": []
          },
          "execution_count": 51
        }
      ]
    },
    {
      "cell_type": "markdown",
      "metadata": {
        "id": "4XeOTM0zzBOp",
        "colab_type": "text"
      },
      "source": [
        "## Data visualization"
      ]
    },
    {
      "cell_type": "code",
      "metadata": {
        "id": "J3R7DQYB2N-p",
        "colab_type": "code",
        "colab": {}
      },
      "source": [
        "#data_one = y_train.where(y_train[y_train == 1])"
      ],
      "execution_count": 0,
      "outputs": []
    },
    {
      "cell_type": "code",
      "metadata": {
        "id": "Pz7yEXi2xaQh",
        "colab_type": "code",
        "colab": {
          "base_uri": "https://localhost:8080/",
          "height": 35
        },
        "outputId": "e09d3c24-6fb7-492f-eb52-ceeab6bd0b03"
      },
      "source": [
        "# print the first 5 images from the training dataset\n",
        "\"\"\"\n",
        "for i in range(5):\n",
        "  print(\"The true label: {}\".format(y_train[i]))\n",
        "  plt.axis(\"Off\")\n",
        "  plt.imshow(x_train[i]) # cmap = \"gray\"\n",
        "  plt.show()\n",
        "  print()\n",
        "\"\"\""
      ],
      "execution_count": 53,
      "outputs": [
        {
          "output_type": "execute_result",
          "data": {
            "text/plain": [
              "'\\nfor i in range(5):\\n  print(\"The true label: {}\".format(y_train[i]))\\n  plt.axis(\"Off\")\\n  plt.imshow(x_train[i]) # cmap = \"gray\"\\n  plt.show()\\n  print()\\n'"
            ]
          },
          "metadata": {
            "tags": []
          },
          "execution_count": 53
        }
      ]
    },
    {
      "cell_type": "code",
      "metadata": {
        "id": "PBL3EjRCxhaO",
        "colab_type": "code",
        "colab": {}
      },
      "source": [
        ""
      ],
      "execution_count": 0,
      "outputs": []
    },
    {
      "cell_type": "markdown",
      "metadata": {
        "id": "vhJmQvaI4itR",
        "colab_type": "text"
      },
      "source": [
        "## Mdoel building"
      ]
    },
    {
      "cell_type": "code",
      "metadata": {
        "id": "OboGSwgj4jxt",
        "colab_type": "code",
        "colab": {
          "base_uri": "https://localhost:8080/",
          "height": 1000
        },
        "outputId": "915cdaf7-cf56-4596-d3fa-ca8b2fd2f552"
      },
      "source": [
        "epochs = 100\n",
        "\n",
        "# define CNN model\n",
        "model = Sequential()\n",
        "\n",
        "model.add(Conv2D(32, kernel_size = (3, 3), activation = 'relu', input_shape = (28, 28, 1)))\n",
        "\n",
        "model.add(Conv2D(64, (3, 3), activation = 'relu'))\n",
        "model.add(MaxPooling2D((2, 2)))\n",
        "# model.add(Dropout(0.25))  # one solution for overfitting, dropout\n",
        "\n",
        "model.add(Flatten())\n",
        "\n",
        "model.add(Dense(128, activation = 'relu'))\n",
        "# model.add(Dropout(0.5))\n",
        "\n",
        "model.add(Dense(10, activation ='softmax'))\n",
        "\n",
        "model.compile(loss = \"categorical_crossentropy\", optimizer = adam(), metrics = ['accuracy'])\n",
        "\n",
        "history = model.fit(x_train, y_train,\n",
        "         batch_size = 128, \n",
        "         epochs = epochs,\n",
        "         verbose = 1,\n",
        "         validation_data = (x_test, y_test))\n",
        "\n",
        "score = model.evaluate(x_train, y_train, verbose = 0) \n",
        "print(\"Train Acc:\", score[1])\n",
        "\n",
        "model.evaluate(x_test, y_test, verbose = 0) \n",
        "\n",
        "print(\"Test Acc:\", score[1])"
      ],
      "execution_count": 54,
      "outputs": [
        {
          "output_type": "stream",
          "text": [
            "Train on 60000 samples, validate on 10000 samples\n",
            "Epoch 1/100\n",
            "60000/60000 [==============================] - 9s 142us/step - loss: 0.1651 - acc: 0.9504 - val_loss: 0.0657 - val_acc: 0.9786\n",
            "Epoch 2/100\n",
            "60000/60000 [==============================] - 8s 135us/step - loss: 0.0460 - acc: 0.9859 - val_loss: 0.0432 - val_acc: 0.9850\n",
            "Epoch 3/100\n",
            "60000/60000 [==============================] - 8s 135us/step - loss: 0.0299 - acc: 0.9903 - val_loss: 0.0331 - val_acc: 0.9895\n",
            "Epoch 4/100\n",
            "60000/60000 [==============================] - 8s 134us/step - loss: 0.0207 - acc: 0.9933 - val_loss: 0.0384 - val_acc: 0.9884\n",
            "Epoch 5/100\n",
            "60000/60000 [==============================] - 8s 135us/step - loss: 0.0145 - acc: 0.9955 - val_loss: 0.0363 - val_acc: 0.9889\n",
            "Epoch 6/100\n",
            "60000/60000 [==============================] - 8s 135us/step - loss: 0.0096 - acc: 0.9970 - val_loss: 0.0373 - val_acc: 0.9881\n",
            "Epoch 7/100\n",
            "60000/60000 [==============================] - 8s 135us/step - loss: 0.0093 - acc: 0.9968 - val_loss: 0.0418 - val_acc: 0.9891\n",
            "Epoch 8/100\n",
            "60000/60000 [==============================] - 8s 135us/step - loss: 0.0084 - acc: 0.9970 - val_loss: 0.0392 - val_acc: 0.9889\n",
            "Epoch 9/100\n",
            "60000/60000 [==============================] - 8s 135us/step - loss: 0.0057 - acc: 0.9985 - val_loss: 0.0544 - val_acc: 0.9852\n",
            "Epoch 10/100\n",
            "60000/60000 [==============================] - 8s 134us/step - loss: 0.0049 - acc: 0.9983 - val_loss: 0.0462 - val_acc: 0.9898\n",
            "Epoch 11/100\n",
            "60000/60000 [==============================] - 8s 134us/step - loss: 0.0046 - acc: 0.9986 - val_loss: 0.0502 - val_acc: 0.9884\n",
            "Epoch 12/100\n",
            "60000/60000 [==============================] - 8s 133us/step - loss: 0.0055 - acc: 0.9982 - val_loss: 0.0392 - val_acc: 0.9905\n",
            "Epoch 13/100\n",
            "60000/60000 [==============================] - 8s 133us/step - loss: 0.0024 - acc: 0.9994 - val_loss: 0.0435 - val_acc: 0.9900\n",
            "Epoch 14/100\n",
            "60000/60000 [==============================] - 8s 135us/step - loss: 0.0048 - acc: 0.9984 - val_loss: 0.0535 - val_acc: 0.9863\n",
            "Epoch 15/100\n",
            "60000/60000 [==============================] - 8s 136us/step - loss: 0.0053 - acc: 0.9982 - val_loss: 0.0522 - val_acc: 0.9883\n",
            "Epoch 16/100\n",
            "60000/60000 [==============================] - 8s 133us/step - loss: 0.0022 - acc: 0.9992 - val_loss: 0.0570 - val_acc: 0.9883\n",
            "Epoch 17/100\n",
            "60000/60000 [==============================] - 8s 134us/step - loss: 0.0038 - acc: 0.9988 - val_loss: 0.0593 - val_acc: 0.9887\n",
            "Epoch 18/100\n",
            "60000/60000 [==============================] - 8s 134us/step - loss: 0.0023 - acc: 0.9992 - val_loss: 0.0485 - val_acc: 0.9897\n",
            "Epoch 19/100\n",
            "60000/60000 [==============================] - 8s 134us/step - loss: 0.0013 - acc: 0.9997 - val_loss: 0.0543 - val_acc: 0.9896\n",
            "Epoch 20/100\n",
            "60000/60000 [==============================] - 8s 134us/step - loss: 0.0047 - acc: 0.9986 - val_loss: 0.0570 - val_acc: 0.9870\n",
            "Epoch 21/100\n",
            "60000/60000 [==============================] - 8s 136us/step - loss: 0.0014 - acc: 0.9997 - val_loss: 0.0536 - val_acc: 0.9894\n",
            "Epoch 22/100\n",
            "60000/60000 [==============================] - 8s 134us/step - loss: 8.5168e-04 - acc: 0.9998 - val_loss: 0.0511 - val_acc: 0.9902\n",
            "Epoch 23/100\n",
            "60000/60000 [==============================] - 8s 134us/step - loss: 3.1311e-04 - acc: 1.0000 - val_loss: 0.0514 - val_acc: 0.9901\n",
            "Epoch 24/100\n",
            "60000/60000 [==============================] - 8s 134us/step - loss: 2.7993e-04 - acc: 1.0000 - val_loss: 0.0512 - val_acc: 0.9903\n",
            "Epoch 25/100\n",
            "60000/60000 [==============================] - 8s 134us/step - loss: 2.7594e-04 - acc: 1.0000 - val_loss: 0.0519 - val_acc: 0.9906\n",
            "Epoch 26/100\n",
            "60000/60000 [==============================] - 8s 134us/step - loss: 2.7404e-04 - acc: 1.0000 - val_loss: 0.0528 - val_acc: 0.9907\n",
            "Epoch 27/100\n",
            "60000/60000 [==============================] - 8s 134us/step - loss: 2.7274e-04 - acc: 1.0000 - val_loss: 0.0533 - val_acc: 0.9907\n",
            "Epoch 28/100\n",
            "60000/60000 [==============================] - 8s 134us/step - loss: 2.7183e-04 - acc: 1.0000 - val_loss: 0.0539 - val_acc: 0.9908\n",
            "Epoch 29/100\n",
            "60000/60000 [==============================] - 8s 133us/step - loss: 2.7111e-04 - acc: 1.0000 - val_loss: 0.0543 - val_acc: 0.9908\n",
            "Epoch 30/100\n",
            "60000/60000 [==============================] - 8s 133us/step - loss: 2.7061e-04 - acc: 1.0000 - val_loss: 0.0549 - val_acc: 0.9909\n",
            "Epoch 31/100\n",
            "60000/60000 [==============================] - 8s 134us/step - loss: 2.7020e-04 - acc: 1.0000 - val_loss: 0.0556 - val_acc: 0.9908\n",
            "Epoch 32/100\n",
            "60000/60000 [==============================] - 8s 134us/step - loss: 2.6988e-04 - acc: 1.0000 - val_loss: 0.0561 - val_acc: 0.9910\n",
            "Epoch 33/100\n",
            "60000/60000 [==============================] - 8s 133us/step - loss: 2.6964e-04 - acc: 1.0000 - val_loss: 0.0566 - val_acc: 0.9910\n",
            "Epoch 34/100\n",
            "60000/60000 [==============================] - 8s 134us/step - loss: 2.6944e-04 - acc: 1.0000 - val_loss: 0.0572 - val_acc: 0.9911\n",
            "Epoch 35/100\n",
            "60000/60000 [==============================] - 8s 132us/step - loss: 2.6929e-04 - acc: 1.0000 - val_loss: 0.0578 - val_acc: 0.9909\n",
            "Epoch 36/100\n",
            "60000/60000 [==============================] - 8s 134us/step - loss: 2.6917e-04 - acc: 1.0000 - val_loss: 0.0583 - val_acc: 0.9909\n",
            "Epoch 37/100\n",
            "60000/60000 [==============================] - 8s 135us/step - loss: 2.6908e-04 - acc: 1.0000 - val_loss: 0.0590 - val_acc: 0.9909\n",
            "Epoch 38/100\n",
            "60000/60000 [==============================] - 8s 139us/step - loss: 2.6901e-04 - acc: 1.0000 - val_loss: 0.0595 - val_acc: 0.9910\n",
            "Epoch 39/100\n",
            "60000/60000 [==============================] - 8s 136us/step - loss: 2.6895e-04 - acc: 1.0000 - val_loss: 0.0600 - val_acc: 0.9910\n",
            "Epoch 40/100\n",
            "60000/60000 [==============================] - 8s 134us/step - loss: 2.6891e-04 - acc: 1.0000 - val_loss: 0.0607 - val_acc: 0.9909\n",
            "Epoch 41/100\n",
            "60000/60000 [==============================] - 8s 132us/step - loss: 2.6888e-04 - acc: 1.0000 - val_loss: 0.0614 - val_acc: 0.9909\n",
            "Epoch 42/100\n",
            "60000/60000 [==============================] - 8s 132us/step - loss: 2.6885e-04 - acc: 1.0000 - val_loss: 0.0621 - val_acc: 0.9909\n",
            "Epoch 43/100\n",
            "60000/60000 [==============================] - 8s 133us/step - loss: 2.6883e-04 - acc: 1.0000 - val_loss: 0.0626 - val_acc: 0.9909\n",
            "Epoch 44/100\n",
            "60000/60000 [==============================] - 8s 134us/step - loss: 2.6881e-04 - acc: 1.0000 - val_loss: 0.0631 - val_acc: 0.9908\n",
            "Epoch 45/100\n",
            "60000/60000 [==============================] - 8s 133us/step - loss: 2.6880e-04 - acc: 1.0000 - val_loss: 0.0637 - val_acc: 0.9909\n",
            "Epoch 46/100\n",
            "60000/60000 [==============================] - 8s 134us/step - loss: 2.6879e-04 - acc: 1.0000 - val_loss: 0.0642 - val_acc: 0.9909\n",
            "Epoch 47/100\n",
            "60000/60000 [==============================] - 8s 133us/step - loss: 2.6878e-04 - acc: 1.0000 - val_loss: 0.0649 - val_acc: 0.9908\n",
            "Epoch 48/100\n",
            "60000/60000 [==============================] - 8s 134us/step - loss: 2.6878e-04 - acc: 1.0000 - val_loss: 0.0656 - val_acc: 0.9908\n",
            "Epoch 49/100\n",
            "60000/60000 [==============================] - 8s 132us/step - loss: 2.6877e-04 - acc: 1.0000 - val_loss: 0.0660 - val_acc: 0.9908\n",
            "Epoch 50/100\n",
            "60000/60000 [==============================] - 8s 133us/step - loss: 2.6877e-04 - acc: 1.0000 - val_loss: 0.0668 - val_acc: 0.9908\n",
            "Epoch 51/100\n",
            "60000/60000 [==============================] - 8s 132us/step - loss: 2.6876e-04 - acc: 1.0000 - val_loss: 0.0675 - val_acc: 0.9904\n",
            "Epoch 52/100\n",
            "60000/60000 [==============================] - 8s 133us/step - loss: 2.6876e-04 - acc: 1.0000 - val_loss: 0.0679 - val_acc: 0.9905\n",
            "Epoch 53/100\n",
            "60000/60000 [==============================] - 8s 132us/step - loss: 2.6876e-04 - acc: 1.0000 - val_loss: 0.0686 - val_acc: 0.9906\n",
            "Epoch 54/100\n",
            "60000/60000 [==============================] - 8s 133us/step - loss: 2.6876e-04 - acc: 1.0000 - val_loss: 0.0689 - val_acc: 0.9908\n",
            "Epoch 55/100\n",
            "60000/60000 [==============================] - 8s 132us/step - loss: 2.6876e-04 - acc: 1.0000 - val_loss: 0.0697 - val_acc: 0.9906\n",
            "Epoch 56/100\n",
            "60000/60000 [==============================] - 8s 133us/step - loss: 2.6876e-04 - acc: 1.0000 - val_loss: 0.0701 - val_acc: 0.9905\n",
            "Epoch 57/100\n",
            "60000/60000 [==============================] - 8s 135us/step - loss: 2.6876e-04 - acc: 1.0000 - val_loss: 0.0707 - val_acc: 0.9905\n",
            "Epoch 58/100\n",
            "60000/60000 [==============================] - 8s 136us/step - loss: 2.6876e-04 - acc: 1.0000 - val_loss: 0.0712 - val_acc: 0.9905\n",
            "Epoch 59/100\n",
            "60000/60000 [==============================] - 8s 137us/step - loss: 2.6876e-04 - acc: 1.0000 - val_loss: 0.0717 - val_acc: 0.9906\n",
            "Epoch 60/100\n",
            "60000/60000 [==============================] - 8s 135us/step - loss: 2.6876e-04 - acc: 1.0000 - val_loss: 0.0723 - val_acc: 0.9904\n",
            "Epoch 61/100\n",
            "60000/60000 [==============================] - 8s 136us/step - loss: 2.6875e-04 - acc: 1.0000 - val_loss: 0.0728 - val_acc: 0.9906\n",
            "Epoch 62/100\n",
            "60000/60000 [==============================] - 8s 138us/step - loss: 2.6875e-04 - acc: 1.0000 - val_loss: 0.0729 - val_acc: 0.9905\n",
            "Epoch 63/100\n",
            "60000/60000 [==============================] - 8s 135us/step - loss: 2.6875e-04 - acc: 1.0000 - val_loss: 0.0733 - val_acc: 0.9905\n",
            "Epoch 64/100\n",
            "60000/60000 [==============================] - 8s 137us/step - loss: 2.6875e-04 - acc: 1.0000 - val_loss: 0.0738 - val_acc: 0.9904\n",
            "Epoch 65/100\n",
            "60000/60000 [==============================] - 8s 136us/step - loss: 2.6875e-04 - acc: 1.0000 - val_loss: 0.0745 - val_acc: 0.9903\n",
            "Epoch 66/100\n",
            "60000/60000 [==============================] - 8s 136us/step - loss: 2.6875e-04 - acc: 1.0000 - val_loss: 0.0747 - val_acc: 0.9905\n",
            "Epoch 67/100\n",
            "60000/60000 [==============================] - 8s 136us/step - loss: 2.6875e-04 - acc: 1.0000 - val_loss: 0.0749 - val_acc: 0.9903\n",
            "Epoch 68/100\n",
            "60000/60000 [==============================] - 8s 136us/step - loss: 2.6875e-04 - acc: 1.0000 - val_loss: 0.0754 - val_acc: 0.9904\n",
            "Epoch 69/100\n",
            "60000/60000 [==============================] - 8s 136us/step - loss: 2.6875e-04 - acc: 1.0000 - val_loss: 0.0755 - val_acc: 0.9906\n",
            "Epoch 70/100\n",
            "60000/60000 [==============================] - 8s 136us/step - loss: 2.6875e-04 - acc: 1.0000 - val_loss: 0.0759 - val_acc: 0.9904\n",
            "Epoch 71/100\n",
            "60000/60000 [==============================] - 8s 137us/step - loss: 2.6875e-04 - acc: 1.0000 - val_loss: 0.0762 - val_acc: 0.9905\n",
            "Epoch 72/100\n",
            "60000/60000 [==============================] - 8s 136us/step - loss: 2.6875e-04 - acc: 1.0000 - val_loss: 0.0762 - val_acc: 0.9905\n",
            "Epoch 73/100\n",
            "60000/60000 [==============================] - 8s 136us/step - loss: 2.6875e-04 - acc: 1.0000 - val_loss: 0.0765 - val_acc: 0.9904\n",
            "Epoch 74/100\n",
            "60000/60000 [==============================] - 8s 136us/step - loss: 2.6875e-04 - acc: 1.0000 - val_loss: 0.0765 - val_acc: 0.9905\n",
            "Epoch 75/100\n",
            "60000/60000 [==============================] - 8s 135us/step - loss: 2.6875e-04 - acc: 1.0000 - val_loss: 0.0767 - val_acc: 0.9904\n",
            "Epoch 76/100\n",
            "60000/60000 [==============================] - 8s 138us/step - loss: 2.6875e-04 - acc: 1.0000 - val_loss: 0.0769 - val_acc: 0.9903\n",
            "Epoch 77/100\n",
            "60000/60000 [==============================] - 8s 139us/step - loss: 2.6875e-04 - acc: 1.0000 - val_loss: 0.0770 - val_acc: 0.9902\n",
            "Epoch 78/100\n",
            "60000/60000 [==============================] - 8s 135us/step - loss: 2.6875e-04 - acc: 1.0000 - val_loss: 0.0770 - val_acc: 0.9906\n",
            "Epoch 79/100\n",
            "60000/60000 [==============================] - 8s 135us/step - loss: 2.6875e-04 - acc: 1.0000 - val_loss: 0.0771 - val_acc: 0.9905\n",
            "Epoch 80/100\n",
            "60000/60000 [==============================] - 8s 137us/step - loss: 2.6875e-04 - acc: 1.0000 - val_loss: 0.0772 - val_acc: 0.9903\n",
            "Epoch 81/100\n",
            "60000/60000 [==============================] - 8s 135us/step - loss: 2.6875e-04 - acc: 1.0000 - val_loss: 0.0772 - val_acc: 0.9903\n",
            "Epoch 82/100\n",
            "60000/60000 [==============================] - 8s 132us/step - loss: 2.6875e-04 - acc: 1.0000 - val_loss: 0.0773 - val_acc: 0.9906\n",
            "Epoch 83/100\n",
            "60000/60000 [==============================] - 8s 134us/step - loss: 2.6875e-04 - acc: 1.0000 - val_loss: 0.0773 - val_acc: 0.9904\n",
            "Epoch 84/100\n",
            "60000/60000 [==============================] - 8s 134us/step - loss: 2.6875e-04 - acc: 1.0000 - val_loss: 0.0774 - val_acc: 0.9903\n",
            "Epoch 85/100\n",
            "60000/60000 [==============================] - 8s 134us/step - loss: 2.6875e-04 - acc: 1.0000 - val_loss: 0.0775 - val_acc: 0.9904\n",
            "Epoch 86/100\n",
            "60000/60000 [==============================] - 8s 134us/step - loss: 2.6875e-04 - acc: 1.0000 - val_loss: 0.0774 - val_acc: 0.9905\n",
            "Epoch 87/100\n",
            "60000/60000 [==============================] - 8s 134us/step - loss: 2.6875e-04 - acc: 1.0000 - val_loss: 0.0776 - val_acc: 0.9903\n",
            "Epoch 88/100\n",
            "60000/60000 [==============================] - 8s 135us/step - loss: 2.6875e-04 - acc: 1.0000 - val_loss: 0.0776 - val_acc: 0.9905\n",
            "Epoch 89/100\n",
            "60000/60000 [==============================] - 8s 134us/step - loss: 2.6875e-04 - acc: 1.0000 - val_loss: 0.0776 - val_acc: 0.9904\n",
            "Epoch 90/100\n",
            "60000/60000 [==============================] - 8s 135us/step - loss: 2.6875e-04 - acc: 1.0000 - val_loss: 0.0777 - val_acc: 0.9904\n",
            "Epoch 91/100\n",
            "60000/60000 [==============================] - 8s 135us/step - loss: 2.6875e-04 - acc: 1.0000 - val_loss: 0.0777 - val_acc: 0.9903\n",
            "Epoch 92/100\n",
            "60000/60000 [==============================] - 8s 135us/step - loss: 2.6875e-04 - acc: 1.0000 - val_loss: 0.0777 - val_acc: 0.9905\n",
            "Epoch 93/100\n",
            "60000/60000 [==============================] - 8s 134us/step - loss: 2.6875e-04 - acc: 1.0000 - val_loss: 0.0777 - val_acc: 0.9904\n",
            "Epoch 94/100\n",
            "60000/60000 [==============================] - 8s 135us/step - loss: 2.6875e-04 - acc: 1.0000 - val_loss: 0.0778 - val_acc: 0.9904\n",
            "Epoch 95/100\n",
            "60000/60000 [==============================] - 8s 137us/step - loss: 2.6875e-04 - acc: 1.0000 - val_loss: 0.0778 - val_acc: 0.9904\n",
            "Epoch 96/100\n",
            "60000/60000 [==============================] - 8s 139us/step - loss: 2.6875e-04 - acc: 1.0000 - val_loss: 0.0778 - val_acc: 0.9904\n",
            "Epoch 97/100\n",
            "60000/60000 [==============================] - 8s 136us/step - loss: 2.6875e-04 - acc: 1.0000 - val_loss: 0.0777 - val_acc: 0.9905\n",
            "Epoch 98/100\n",
            "60000/60000 [==============================] - 8s 135us/step - loss: 2.6875e-04 - acc: 1.0000 - val_loss: 0.0778 - val_acc: 0.9904\n",
            "Epoch 99/100\n",
            "60000/60000 [==============================] - 8s 135us/step - loss: 2.6875e-04 - acc: 1.0000 - val_loss: 0.0779 - val_acc: 0.9904\n",
            "Epoch 100/100\n",
            "60000/60000 [==============================] - 8s 136us/step - loss: 2.6875e-04 - acc: 1.0000 - val_loss: 0.0779 - val_acc: 0.9904\n",
            "Train Acc: 0.9999833333333333\n",
            "Test Acc: 0.9999833333333333\n"
          ],
          "name": "stdout"
        }
      ]
    },
    {
      "cell_type": "code",
      "metadata": {
        "id": "KiqsSlpv5KAP",
        "colab_type": "code",
        "colab": {
          "base_uri": "https://localhost:8080/",
          "height": 363
        },
        "outputId": "96f55f9a-db08-4e93-c403-0d1cca144a1d"
      },
      "source": [
        "model.summary()"
      ],
      "execution_count": 55,
      "outputs": [
        {
          "output_type": "stream",
          "text": [
            "Model: \"sequential_3\"\n",
            "_________________________________________________________________\n",
            "Layer (type)                 Output Shape              Param #   \n",
            "=================================================================\n",
            "conv2d_5 (Conv2D)            (None, 26, 26, 32)        320       \n",
            "_________________________________________________________________\n",
            "conv2d_6 (Conv2D)            (None, 24, 24, 64)        18496     \n",
            "_________________________________________________________________\n",
            "max_pooling2d_3 (MaxPooling2 (None, 12, 12, 64)        0         \n",
            "_________________________________________________________________\n",
            "flatten_3 (Flatten)          (None, 9216)              0         \n",
            "_________________________________________________________________\n",
            "dense_5 (Dense)              (None, 128)               1179776   \n",
            "_________________________________________________________________\n",
            "dense_6 (Dense)              (None, 10)                1290      \n",
            "=================================================================\n",
            "Total params: 1,199,882\n",
            "Trainable params: 1,199,882\n",
            "Non-trainable params: 0\n",
            "_________________________________________________________________\n"
          ],
          "name": "stdout"
        }
      ]
    },
    {
      "cell_type": "code",
      "metadata": {
        "id": "Ga92H6N66cyE",
        "colab_type": "code",
        "colab": {
          "base_uri": "https://localhost:8080/",
          "height": 427
        },
        "outputId": "001c0b28-4cb4-4323-bb6f-1c5c4bd2463e"
      },
      "source": [
        "import numpy as np\n",
        "print(\"The best validation accuracy score: {}%\".format(max(history.history[\"val_acc\"]) * 100))\n",
        "plt.figure(figsize = (10, 6))\n",
        "plt.plot(history.history[\"acc\"], color = \"r\")\n",
        "plt.plot(history.history[\"val_acc\"], color = \"g\")\n",
        "plt.xticks(np.arange(1, epochs + 1, 5))\n",
        "plt.legend([\"Training\", \"Validation\" ])\n",
        "plt.title(\"Training vs Validation Accuracy\", size = 16)\n",
        "plt.xlabel(\"Epochs\", size = 14)\n",
        "plt.ylabel(\"Accuracy\", size = 14)\n",
        "plt.savefig(\"Accuracy.png\")\n",
        "plt.show()"
      ],
      "execution_count": 73,
      "outputs": [
        {
          "output_type": "stream",
          "text": [
            "The best validation accuracy score: 99.11%\n"
          ],
          "name": "stdout"
        },
        {
          "output_type": "display_data",
          "data": {
            "image/png": "[encoded data removed]",
            "text/plain": [
              "<Figure size 720x432 with 1 Axes>"
            ]
          },
          "metadata": {
            "tags": []
          }
        }
      ]
    },
    {
      "cell_type": "code",
      "metadata": {
        "id": "ck-YgDr29JEb",
        "colab_type": "code",
        "colab": {
          "base_uri": "https://localhost:8080/",
          "height": 409
        },
        "outputId": "069939f8-a78c-49f7-e37e-050fee2ece4f"
      },
      "source": [
        "plt.figure(figsize = (10, 6))\n",
        "plt.plot(history.history[\"loss\"], color = \"r\")\n",
        "plt.plot(history.history[\"val_loss\"], color = \"g\")\n",
        "plt.xticks(np.arange(1, epochs + 1, 5))\n",
        "plt.legend([\"Training\", \"Validation\" ])\n",
        "plt.title(\"Training vs Validation Loss\", size = 16)\n",
        "plt.xlabel(\"Epochs\", size = 12)\n",
        "plt.ylabel(\"Accuracy\", size = 12)\n",
        "plt.savefig(\"Loss.png\")\n",
        "plt.show()"
      ],
      "execution_count": 64,
      "outputs": [
        {
          "output_type": "display_data",
          "data": {
            "image/png": "[encoded data removed]",
            "text/plain": [
              "<Figure size 720x432 with 1 Axes>"
            ]
          },
          "metadata": {
            "tags": []
          }
        }
      ]
    },
    {
      "cell_type": "code",
      "metadata": {
        "id": "mv2NZCMz-X9l",
        "colab_type": "code",
        "colab": {}
      },
      "source": [
        ""
      ],
      "execution_count": 0,
      "outputs": []
    }
  ]
}