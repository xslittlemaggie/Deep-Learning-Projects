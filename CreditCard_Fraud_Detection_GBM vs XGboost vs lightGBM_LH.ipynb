{
  "nbformat": 4,
  "nbformat_minor": 0,
  "metadata": {
    "colab": {
      "name": "XGboost classification_LH.ipynb",
      "version": "0.3.2",
      "provenance": [],
      "toc_visible": true,
      "include_colab_link": true
    },
    "kernelspec": {
      "name": "python3",
      "display_name": "Python 3"
    }
  },
  "cells": [
    {
      "cell_type": "markdown",
      "metadata": {
        "id": "view-in-github",
        "colab_type": "text"
      },
      "source": [
        "<a href=\"https://colab.research.google.com/github/xslittlemaggie/Machine-Learning-Projects/blob/master/CreditCard_Fraud_Detection_GBM%20vs%20XGboost%20vs%20lightGBM_LH.ipynb\" target=\"_parent\"><img src=\"https://colab.research.google.com/assets/colab-badge.svg\" alt=\"Open In Colab\"/></a>"
      ]
    },
    {
      "cell_type": "markdown",
      "metadata": {
        "id": "ppKnMl7-bMxW",
        "colab_type": "text"
      },
      "source": [
        "## Step 0: Import library"
      ]
    },
    {
      "cell_type": "code",
      "metadata": {
        "id": "0A9mCY8ebP7T",
        "colab_type": "code",
        "colab": {}
      },
      "source": [
        "import pandas as pd\n",
        "import xgboost\n",
        "from xgboost import XGBClassifier\n",
        "from xgboost import plot_importance\n",
        "\n",
        "from sklearn import ensemble\n",
        "from sklearn.ensemble import GradientBoostingClassifier\n",
        "from sklearn.metrics import classification_report, confusion_matrix, roc_curve, auc\n",
        "\n",
        "from sklearn.metrics import accuracy_score \n",
        "from sklearn.model_selection import train_test_split\n",
        "from sklearn.model_selection import GridSearchCV\n",
        "from sklearn.model_selection import StratifiedKFold\n",
        "\n",
        "from matplotlib import pyplot\n",
        "import matplotlib.pyplot as plt"
      ],
      "execution_count": 0,
      "outputs": []
    },
    {
      "cell_type": "markdown",
      "metadata": {
        "id": "WQ4sRQH_cIyp",
        "colab_type": "text"
      },
      "source": [
        "## Step 1: Load data"
      ]
    },
    {
      "cell_type": "code",
      "metadata": {
        "id": "MLbXJ9qO1aHl",
        "colab_type": "code",
        "colab": {}
      },
      "source": [
        "# need to upload data from local manually\n",
        "data = pd.read_csv('/content/diabetes.csv')"
      ],
      "execution_count": 0,
      "outputs": []
    },
    {
      "cell_type": "code",
      "metadata": {
        "id": "nptpq6M53Dqd",
        "colab_type": "code",
        "outputId": "5ac04c55-efa4-4afa-d8a5-ed632de267c5",
        "colab": {
          "base_uri": "https://localhost:8080/",
          "height": 198
        }
      },
      "source": [
        "data.head()"
      ],
      "execution_count": 0,
      "outputs": [
        {
          "output_type": "execute_result",
          "data": {
            "text/html": [
              "<div>\n",
              "<style scoped>\n",
              "    .dataframe tbody tr th:only-of-type {\n",
              "        vertical-align: middle;\n",
              "    }\n",
              "\n",
              "    .dataframe tbody tr th {\n",
              "        vertical-align: top;\n",
              "    }\n",
              "\n",
              "    .dataframe thead th {\n",
              "        text-align: right;\n",
              "    }\n",
              "</style>\n",
              "<table border=\"1\" class=\"dataframe\">\n",
              "  <thead>\n",
              "    <tr style=\"text-align: right;\">\n",
              "      <th></th>\n",
              "      <th>Pregnancies</th>\n",
              "      <th>Glucose</th>\n",
              "      <th>BloodPressure</th>\n",
              "      <th>SkinThickness</th>\n",
              "      <th>Insulin</th>\n",
              "      <th>BMI</th>\n",
              "      <th>DiabetesPedigreeFunction</th>\n",
              "      <th>Age</th>\n",
              "      <th>Outcome</th>\n",
              "    </tr>\n",
              "  </thead>\n",
              "  <tbody>\n",
              "    <tr>\n",
              "      <th>0</th>\n",
              "      <td>6</td>\n",
              "      <td>148</td>\n",
              "      <td>72</td>\n",
              "      <td>35</td>\n",
              "      <td>0</td>\n",
              "      <td>33.6</td>\n",
              "      <td>0.627</td>\n",
              "      <td>50</td>\n",
              "      <td>1</td>\n",
              "    </tr>\n",
              "    <tr>\n",
              "      <th>1</th>\n",
              "      <td>1</td>\n",
              "      <td>85</td>\n",
              "      <td>66</td>\n",
              "      <td>29</td>\n",
              "      <td>0</td>\n",
              "      <td>26.6</td>\n",
              "      <td>0.351</td>\n",
              "      <td>31</td>\n",
              "      <td>0</td>\n",
              "    </tr>\n",
              "    <tr>\n",
              "      <th>2</th>\n",
              "      <td>8</td>\n",
              "      <td>183</td>\n",
              "      <td>64</td>\n",
              "      <td>0</td>\n",
              "      <td>0</td>\n",
              "      <td>23.3</td>\n",
              "      <td>0.672</td>\n",
              "      <td>32</td>\n",
              "      <td>1</td>\n",
              "    </tr>\n",
              "    <tr>\n",
              "      <th>3</th>\n",
              "      <td>1</td>\n",
              "      <td>89</td>\n",
              "      <td>66</td>\n",
              "      <td>23</td>\n",
              "      <td>94</td>\n",
              "      <td>28.1</td>\n",
              "      <td>0.167</td>\n",
              "      <td>21</td>\n",
              "      <td>0</td>\n",
              "    </tr>\n",
              "    <tr>\n",
              "      <th>4</th>\n",
              "      <td>0</td>\n",
              "      <td>137</td>\n",
              "      <td>40</td>\n",
              "      <td>35</td>\n",
              "      <td>168</td>\n",
              "      <td>43.1</td>\n",
              "      <td>2.288</td>\n",
              "      <td>33</td>\n",
              "      <td>1</td>\n",
              "    </tr>\n",
              "  </tbody>\n",
              "</table>\n",
              "</div>"
            ],
            "text/plain": [
              "   Pregnancies  Glucose  BloodPressure  ...  DiabetesPedigreeFunction  Age  Outcome\n",
              "0            6      148             72  ...                     0.627   50        1\n",
              "1            1       85             66  ...                     0.351   31        0\n",
              "2            8      183             64  ...                     0.672   32        1\n",
              "3            1       89             66  ...                     0.167   21        0\n",
              "4            0      137             40  ...                     2.288   33        1\n",
              "\n",
              "[5 rows x 9 columns]"
            ]
          },
          "metadata": {
            "tags": []
          },
          "execution_count": 26
        }
      ]
    },
    {
      "cell_type": "code",
      "metadata": {
        "id": "1s3f1FWgvEjD",
        "colab_type": "code",
        "outputId": "b53d6dc4-e749-4962-c3d3-234228f8c245",
        "colab": {
          "base_uri": "https://localhost:8080/",
          "height": 35
        }
      },
      "source": [
        "data.shape"
      ],
      "execution_count": 0,
      "outputs": [
        {
          "output_type": "execute_result",
          "data": {
            "text/plain": [
              "(768, 9)"
            ]
          },
          "metadata": {
            "tags": []
          },
          "execution_count": 27
        }
      ]
    },
    {
      "cell_type": "code",
      "metadata": {
        "id": "xiZPM4zHbVwi",
        "colab_type": "code",
        "colab": {}
      },
      "source": [
        "X = data.iloc[:, 0:8]\n",
        "Y = data.iloc[:,8]"
      ],
      "execution_count": 0,
      "outputs": []
    },
    {
      "cell_type": "code",
      "metadata": {
        "id": "c-_td3KA4OHs",
        "colab_type": "code",
        "outputId": "1069507e-26c3-4d9e-ef24-366dfd44801b",
        "colab": {
          "base_uri": "https://localhost:8080/",
          "height": 52
        }
      },
      "source": [
        "print(\"The shape of x: {}\".format(X.shape))\n",
        "print(\"The shape of y: {}\".format(Y.shape))\n",
        "      "
      ],
      "execution_count": 0,
      "outputs": [
        {
          "output_type": "stream",
          "text": [
            "The shape of x: (768, 8)\n",
            "The shape of y: (768,)\n"
          ],
          "name": "stdout"
        }
      ]
    },
    {
      "cell_type": "markdown",
      "metadata": {
        "id": "7KaTXg5HvtYg",
        "colab_type": "text"
      },
      "source": [
        "## Step 2: Feature Creation"
      ]
    },
    {
      "cell_type": "markdown",
      "metadata": {
        "id": "o8_oZgYevwLs",
        "colab_type": "text"
      },
      "source": [
        "This section will include feature preprocessing, such as feature combinaiton, convertion, etc."
      ]
    },
    {
      "cell_type": "markdown",
      "metadata": {
        "id": "faS93sEgcMl2",
        "colab_type": "text"
      },
      "source": [
        "## Step 3: Modeling"
      ]
    },
    {
      "cell_type": "code",
      "metadata": {
        "id": "Wt8MUGF30Wl0",
        "colab_type": "code",
        "colab": {}
      },
      "source": [
        "x_train, x_test, y_train, y_test = train_test_split(X, Y, test_size = 0.2, random_state = 0)"
      ],
      "execution_count": 0,
      "outputs": []
    },
    {
      "cell_type": "markdown",
      "metadata": {
        "id": "A3ORHcZkwC3E",
        "colab_type": "text"
      },
      "source": [
        "### Model 1. GBM"
      ]
    },
    {
      "cell_type": "code",
      "metadata": {
        "id": "W6RFOJ5pxmCg",
        "colab_type": "code",
        "outputId": "b334e25c-d33a-44ae-8b70-a5285d2eb5ed",
        "colab": {
          "base_uri": "https://localhost:8080/",
          "height": 432
        }
      },
      "source": [
        "learning_rates = [0.05, 0.1, 0.25, 0.5, 0.75, 1]\n",
        "for learning_rate in learning_rates:\n",
        "  gb = GradientBoostingClassifier(n_estimators = 20, learning_rate = learning_rate, \n",
        "                                 max_features = 4, max_depth = 5, random_state = 0)\n",
        "  gb.fit(x_train, y_train)\n",
        "  print(\"Learning rate: \", learning_rate)\n",
        "  print(\"Accuracy score (training): {:.3f}\".format(gb.score(x_train, y_train)))\n",
        "  print(\"Accuracy score (validation): {:.3f}\".format(gb.score(x_test, y_test)))\n",
        "  print()"
      ],
      "execution_count": 0,
      "outputs": [
        {
          "output_type": "stream",
          "text": [
            "Learning rate:  0.05\n",
            "Accuracy score (training): 0.893\n",
            "Accuracy score (validation): 0.792\n",
            "\n",
            "Learning rate:  0.1\n",
            "Accuracy score (training): 0.925\n",
            "Accuracy score (validation): 0.799\n",
            "\n",
            "Learning rate:  0.25\n",
            "Accuracy score (training): 0.969\n",
            "Accuracy score (validation): 0.786\n",
            "\n",
            "Learning rate:  0.5\n",
            "Accuracy score (training): 0.997\n",
            "Accuracy score (validation): 0.792\n",
            "\n",
            "Learning rate:  0.75\n",
            "Accuracy score (training): 1.000\n",
            "Accuracy score (validation): 0.773\n",
            "\n",
            "Learning rate:  1\n",
            "Accuracy score (training): 1.000\n",
            "Accuracy score (validation): 0.792\n",
            "\n"
          ],
          "name": "stdout"
        }
      ]
    },
    {
      "cell_type": "code",
      "metadata": {
        "id": "_UNyOrzh0263",
        "colab_type": "code",
        "outputId": "a77dde11-0210-465a-ca88-6605797bc0cb",
        "colab": {
          "base_uri": "https://localhost:8080/",
          "height": 259
        }
      },
      "source": [
        "# output confusion matrix and classification report of GBalgorithm on validation dataset\n",
        "gb = GradientBoostingClassifier(n_estimators = 20, learning_rate = 0.5, \n",
        "                                 max_features = 4, max_depth = 5, random_state = 0)\n",
        "gb.fit(x_train, y_train)\n",
        "y_pred = gb.predict(x_test)\n",
        "\n",
        "print(\"Confusion Matrix:\")\n",
        "print(confusion_matrix(y_test, y_pred))\n",
        "print()\n",
        "print(\"Classification Report\")\n",
        "print(classification_report(y_test, y_pred))\n",
        "  "
      ],
      "execution_count": 0,
      "outputs": [
        {
          "output_type": "stream",
          "text": [
            "Confusion Matrix:\n",
            "[[90 17]\n",
            " [15 32]]\n",
            "\n",
            "Classification Report\n",
            "              precision    recall  f1-score   support\n",
            "\n",
            "           0       0.86      0.84      0.85       107\n",
            "           1       0.65      0.68      0.67        47\n",
            "\n",
            "    accuracy                           0.79       154\n",
            "   macro avg       0.76      0.76      0.76       154\n",
            "weighted avg       0.79      0.79      0.79       154\n",
            "\n"
          ],
          "name": "stdout"
        }
      ]
    },
    {
      "cell_type": "code",
      "metadata": {
        "id": "1gJ0dV9vxmLl",
        "colab_type": "code",
        "outputId": "accfb0b7-68eb-48aa-8e12-d5f9eab0f4fc",
        "colab": {
          "base_uri": "https://localhost:8080/",
          "height": 35
        }
      },
      "source": [
        "# ROC curve and Area-under-curve(AUC)\n",
        "\n",
        "y_scores_gb = gb.decision_function(x_test)\n",
        "fpr_gb, tpr_gb, _ = roc_curve(y_test, y_scores_gb)\n",
        "roc_auc_gb = auc(fpr_gb, tpr_gb)\n",
        "\n",
        "print(\"Area under ROC curve = {:.2f}\".format(roc_auc_gb))"
      ],
      "execution_count": 0,
      "outputs": [
        {
          "output_type": "stream",
          "text": [
            "Area under ROC curve = 0.84\n"
          ],
          "name": "stdout"
        }
      ]
    },
    {
      "cell_type": "markdown",
      "metadata": {
        "id": "2XLaR9Oa3Men",
        "colab_type": "text"
      },
      "source": [
        "### Model 2: xgboost"
      ]
    },
    {
      "cell_type": "code",
      "metadata": {
        "id": "TQNTPi4P2rSX",
        "colab_type": "code",
        "colab": {}
      },
      "source": [
        ""
      ],
      "execution_count": 0,
      "outputs": []
    },
    {
      "cell_type": "code",
      "metadata": {
        "id": "PZYg6xgdbmlQ",
        "colab_type": "code",
        "outputId": "444d840c-b434-4f9a-adc4-c092b420ef5d",
        "colab": {
          "base_uri": "https://localhost:8080/",
          "height": 1000
        }
      },
      "source": [
        "#seed = 7\n",
        "#test_size = 0.20\n",
        "\n",
        "# split train, test datasets\n",
        "#x_train, x_test, y_train, y_test = train_test_split(X, Y, test_size = test_size, random_state = seed)\n",
        "\n",
        "# create model\n",
        "model = XGBClassifier()\n",
        "eval_set = [(x_test, y_test)]\n",
        "# train the mdoel\n",
        "model.fit(x_train, y_train, early_stopping_rounds = 10, \n",
        "          eval_metric = \"auc\",  # \"logloss\",\n",
        "          eval_set = eval_set, \n",
        "          verbose = True)\n",
        "# make predictions for the test data\n",
        "y_pred = model.predict(x_test)\n",
        "predictions = [round(value) for value in y_pred]\n",
        "\n",
        "# evaluate predictions \n",
        "accuracy = accuracy_score(y_test, y_pred)\n",
        "print(\"Test Accuracy: {:.2f}%\".format(accuracy * 100.0))"
      ],
      "execution_count": 0,
      "outputs": [
        {
          "output_type": "stream",
          "text": [
            "[0]\tvalidation_0-auc:0.818055\n",
            "Will train until validation_0-auc hasn't improved in 10 rounds.\n",
            "[1]\tvalidation_0-auc:0.826705\n",
            "[2]\tvalidation_0-auc:0.828892\n",
            "[3]\tvalidation_0-auc:0.841718\n",
            "[4]\tvalidation_0-auc:0.836946\n",
            "[5]\tvalidation_0-auc:0.838636\n",
            "[6]\tvalidation_0-auc:0.837443\n",
            "[7]\tvalidation_0-auc:0.841718\n",
            "[8]\tvalidation_0-auc:0.846093\n",
            "[9]\tvalidation_0-auc:0.844601\n",
            "[10]\tvalidation_0-auc:0.840923\n",
            "[11]\tvalidation_0-auc:0.845695\n",
            "[12]\tvalidation_0-auc:0.847186\n",
            "[13]\tvalidation_0-auc:0.848578\n",
            "[14]\tvalidation_0-auc:0.849871\n",
            "[15]\tvalidation_0-auc:0.847584\n",
            "[16]\tvalidation_0-auc:0.850368\n",
            "[17]\tvalidation_0-auc:0.850567\n",
            "[18]\tvalidation_0-auc:0.848181\n",
            "[19]\tvalidation_0-auc:0.847584\n",
            "[20]\tvalidation_0-auc:0.846789\n",
            "[21]\tvalidation_0-auc:0.850467\n",
            "[22]\tvalidation_0-auc:0.851362\n",
            "[23]\tvalidation_0-auc:0.850766\n",
            "[24]\tvalidation_0-auc:0.85166\n",
            "[25]\tvalidation_0-auc:0.851064\n",
            "[26]\tvalidation_0-auc:0.85166\n",
            "[27]\tvalidation_0-auc:0.851064\n",
            "[28]\tvalidation_0-auc:0.851959\n",
            "[29]\tvalidation_0-auc:0.850368\n",
            "[30]\tvalidation_0-auc:0.853351\n",
            "[31]\tvalidation_0-auc:0.853152\n",
            "[32]\tvalidation_0-auc:0.851959\n",
            "[33]\tvalidation_0-auc:0.853351\n",
            "[34]\tvalidation_0-auc:0.853152\n",
            "[35]\tvalidation_0-auc:0.854146\n",
            "[36]\tvalidation_0-auc:0.852157\n",
            "[37]\tvalidation_0-auc:0.854146\n",
            "[38]\tvalidation_0-auc:0.855339\n",
            "[39]\tvalidation_0-auc:0.856035\n",
            "[40]\tvalidation_0-auc:0.856234\n",
            "[41]\tvalidation_0-auc:0.855041\n",
            "[42]\tvalidation_0-auc:0.856234\n",
            "[43]\tvalidation_0-auc:0.855836\n",
            "[44]\tvalidation_0-auc:0.855637\n",
            "[45]\tvalidation_0-auc:0.855836\n",
            "[46]\tvalidation_0-auc:0.856234\n",
            "[47]\tvalidation_0-auc:0.856632\n",
            "[48]\tvalidation_0-auc:0.857029\n",
            "[49]\tvalidation_0-auc:0.856234\n",
            "[50]\tvalidation_0-auc:0.856632\n",
            "[51]\tvalidation_0-auc:0.857427\n",
            "[52]\tvalidation_0-auc:0.859813\n",
            "[53]\tvalidation_0-auc:0.859813\n",
            "[54]\tvalidation_0-auc:0.859217\n",
            "[55]\tvalidation_0-auc:0.859813\n",
            "[56]\tvalidation_0-auc:0.860211\n",
            "[57]\tvalidation_0-auc:0.860211\n",
            "[58]\tvalidation_0-auc:0.860807\n",
            "[59]\tvalidation_0-auc:0.860012\n",
            "[60]\tvalidation_0-auc:0.86041\n",
            "[61]\tvalidation_0-auc:0.859813\n",
            "[62]\tvalidation_0-auc:0.859813\n",
            "[63]\tvalidation_0-auc:0.859813\n",
            "[64]\tvalidation_0-auc:0.86041\n",
            "[65]\tvalidation_0-auc:0.860807\n",
            "[66]\tvalidation_0-auc:0.861205\n",
            "[67]\tvalidation_0-auc:0.861205\n",
            "[68]\tvalidation_0-auc:0.861006\n",
            "[69]\tvalidation_0-auc:0.860608\n",
            "[70]\tvalidation_0-auc:0.860807\n",
            "[71]\tvalidation_0-auc:0.860211\n",
            "[72]\tvalidation_0-auc:0.859018\n",
            "[73]\tvalidation_0-auc:0.859217\n",
            "[74]\tvalidation_0-auc:0.86041\n",
            "[75]\tvalidation_0-auc:0.860211\n",
            "[76]\tvalidation_0-auc:0.860012\n",
            "Stopping. Best iteration:\n",
            "[66]\tvalidation_0-auc:0.861205\n",
            "\n",
            "Test Accuracy: 81.82%\n"
          ],
          "name": "stdout"
        }
      ]
    },
    {
      "cell_type": "markdown",
      "metadata": {
        "id": "kh78PrWig5QN",
        "colab_type": "text"
      },
      "source": [
        "## Step 3: Visualization of the feature importance"
      ]
    },
    {
      "cell_type": "code",
      "metadata": {
        "id": "kmJhiUJ5ef0X",
        "colab_type": "code",
        "outputId": "9e8e1880-2ee4-44dc-ce64-ce194cb2fe2a",
        "colab": {
          "base_uri": "https://localhost:8080/",
          "height": 295
        }
      },
      "source": [
        "plot_importance(model)\n",
        "pyplot.show()"
      ],
      "execution_count": 0,
      "outputs": [
        {
          "output_type": "display_data",
          "data": {
            "image/png": "[encoded data removed]",
            "text/plain": [
              "<Figure size 432x288 with 1 Axes>"
            ]
          },
          "metadata": {
            "tags": []
          }
        }
      ]
    },
    {
      "cell_type": "markdown",
      "metadata": {
        "id": "JpWgEfjI6SsH",
        "colab_type": "text"
      },
      "source": [
        "## Step 4: More analysis about parameters"
      ]
    },
    {
      "cell_type": "markdown",
      "metadata": {
        "id": "C2oPBZeBhMEz",
        "colab_type": "text"
      },
      "source": [
        "参数：\n",
        "1. learning rate = 0.1\n",
        "2. n_estimators = 1000\n",
        "3. max_depth = 5\n",
        "4. min_child_weight = 1\n",
        "4. subsample = 0.8\n",
        "5. objective = \"binary: logistic\"\n",
        "6. nthread = 4\n",
        "7. scale_pos_weight = 1\n",
        "seed = 27\n",
        "\n",
        "正则化参数\n",
        "1. lambda\n",
        "2. alpha"
      ]
    },
    {
      "cell_type": "code",
      "metadata": {
        "id": "mGWNYLbB6Yh2",
        "colab_type": "code",
        "colab": {}
      },
      "source": [
        "xgb1 = XGBClassifier(\n",
        "learning_rate = 0.1, \n",
        "    n_estimators = 1000,\n",
        "    max_depth = 5, \n",
        "    min_child_weight = 1,\n",
        "    gamma = 0, \n",
        "    subsample = 0.8, # random sample 80%\n",
        "    colsample_bytree = 0.8, \n",
        "    objective = \"binary:logistic\", # loss function\n",
        "    nthread = 4, \n",
        "    scale_pos_weight = 1, # if the samples are unbananced, to make it be balanced\n",
        "    seed = 27   \n",
        ")"
      ],
      "execution_count": 0,
      "outputs": []
    },
    {
      "cell_type": "code",
      "metadata": {
        "id": "cvqty17Q7UHU",
        "colab_type": "code",
        "outputId": "b84cb3cd-d081-4ed9-b3cd-0fb2273f9ddf",
        "colab": {
          "base_uri": "https://localhost:8080/",
          "height": 138
        }
      },
      "source": [
        "model = XGBClassifier()\n",
        "learning_rate = [0.0001, 0.001, 0.01, 0.1, 0.2, 0.3]\n",
        "param_grid = dict(learning_rate = learning_rate)\n",
        "kfold = StratifiedKFold(n_splits = 10, shuffle = True, random_state = 7)\n",
        "grid_search = GridSearchCV(model, param_grid, scoring = \"neg_log_loss\", n_jobs = -1, cv = kfold)\n",
        "grid_result = grid_search.fit(X, Y)\n",
        "\n",
        "# summarize results\n",
        "print(\"Best performance: {:.4f} when {}\".format(grid_result.best_score_, grid_result.best_params_))\n",
        "\n",
        "means = grid_result.cv_results_[\"mean_test_score\"]\n",
        "params = grid_result.cv_results_[\"params\"]\n",
        "for mean, param in zip(means, params):\n",
        "  print(\"Performance: {:.4f} when {}\".format(mean, param))"
      ],
      "execution_count": 0,
      "outputs": [
        {
          "output_type": "stream",
          "text": [
            "Best performance: -0.4830 when {'learning_rate': 0.1}\n",
            "Performance: -0.6897 when {'learning_rate': 0.0001}\n",
            "Performance: -0.6613 when {'learning_rate': 0.001}\n",
            "Performance: -0.5307 when {'learning_rate': 0.01}\n",
            "Performance: -0.4830 when {'learning_rate': 0.1}\n",
            "Performance: -0.5154 when {'learning_rate': 0.2}\n",
            "Performance: -0.5573 when {'learning_rate': 0.3}\n"
          ],
          "name": "stdout"
        }
      ]
    },
    {
      "cell_type": "code",
      "metadata": {
        "id": "B-V2S5Ac8Rxw",
        "colab_type": "code",
        "colab": {}
      },
      "source": [
        ""
      ],
      "execution_count": 0,
      "outputs": []
    },
    {
      "cell_type": "markdown",
      "metadata": {
        "id": "plqEdje0wlcS",
        "colab_type": "text"
      },
      "source": [
        "## Useful reference:\n",
        "URL_1 = \"https://medium.com/mlreview/gradient-boosting-from-scratch-1e317ae4587d\" **GBM**\n",
        "\n",
        "URL_2 = \"https://github.com/groverpr/Machine-Learning/blob/master/notebooks/01_Gradient_Boosting_Scratch.ipynb\" **GBM code from scratch to complete**"
      ]
    },
    {
      "cell_type": "code",
      "metadata": {
        "id": "H4ViFuGpwqWf",
        "colab_type": "code",
        "colab": {}
      },
      "source": [
        ""
      ],
      "execution_count": 0,
      "outputs": []
    }
  ]
}