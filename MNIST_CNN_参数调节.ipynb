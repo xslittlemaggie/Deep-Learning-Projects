{
  "nbformat": 4,
  "nbformat_minor": 0,
  "metadata": {
    "colab": {
      "name": "MNIST_CNN 参数调节.ipynb",
      "version": "0.3.2",
      "provenance": [],
      "collapsed_sections": [],
      "include_colab_link": true
    },
    "kernelspec": {
      "name": "python3",
      "display_name": "Python 3"
    },
    "accelerator": "GPU"
  },
  "cells": [
    {
      "cell_type": "markdown",
      "metadata": {
        "id": "view-in-github",
        "colab_type": "text"
      },
      "source": [
        "<a href=\"https://colab.research.google.com/github/xslittlemaggie/Deep-Learning-Projects/blob/master/MNIST_CNN_%E5%8F%82%E6%95%B0%E8%B0%83%E8%8A%82.ipynb\" target=\"_parent\"><img src=\"https://colab.research.google.com/assets/colab-badge.svg\" alt=\"Open In Colab\"/></a>"
      ]
    },
    {
      "cell_type": "code",
      "metadata": {
        "id": "uWcscijNFffz",
        "colab_type": "code",
        "colab": {
          "base_uri": "https://localhost:8080/",
          "height": 35
        },
        "outputId": "4978bf31-a7d1-4093-fa0c-921cee72a476"
      },
      "source": [
        "import keras\n",
        "from keras.datasets import mnist\n",
        "from keras.models import Sequential\n",
        "from keras.layers import Conv2D, MaxPooling2D, Dropout\n",
        "from keras.layers import Dense, Activation, Flatten\n",
        "from keras.optimizers import SGD, adam, RMSprop\n",
        "\n",
        "from keras.utils import np_utils\n",
        "from keras import backend as K\n",
        "\n",
        "# visualization\n",
        "import matplotlib.pyplot as plt\n",
        "\n",
        "import warnings\n",
        "warnings.filterwarnings('ignore')"
      ],
      "execution_count": 1,
      "outputs": [
        {
          "output_type": "stream",
          "text": [
            "Using TensorFlow backend.\n"
          ],
          "name": "stderr"
        }
      ]
    },
    {
      "cell_type": "code",
      "metadata": {
        "id": "0FqOAGrPFg4W",
        "colab_type": "code",
        "colab": {
          "base_uri": "https://localhost:8080/",
          "height": 52
        },
        "outputId": "3880068c-a657-427a-8297-2abb2f9a7c2b"
      },
      "source": [
        "# the data, split between train and test sets\n",
        "(x_train, y_train), (x_test, y_test) = mnist.load_data()"
      ],
      "execution_count": 2,
      "outputs": [
        {
          "output_type": "stream",
          "text": [
            "Downloading data from https://s3.amazonaws.com/img-datasets/mnist.npz\n",
            "11493376/11490434 [==============================] - 2s 0us/step\n"
          ],
          "name": "stdout"
        }
      ]
    },
    {
      "cell_type": "code",
      "metadata": {
        "id": "tVMvPN0kGTOO",
        "colab_type": "code",
        "colab": {}
      },
      "source": [
        "# the data, split between train and test sets\n",
        "if K.image_data_format() == \"channels_first\":\n",
        "  x_train = x_train.reshape(x_train.shape[0], 1, 28, 28)\n",
        "  x_test = x_test.reshape(x_test.shape[0], 1, 28, 28)\n",
        "  input_shape = (1, 28, 28)\n",
        "else:\n",
        "  x_train = x_train.reshape(x_train.shape[0], 28, 28, 1)\n",
        "  x_test = x_test.reshape(x_test.shape[0], 28, 28, 1)\n",
        "  input_shape = (28, 28, 1)\n",
        "\n",
        "x_train = x_train.astype('float32')\n",
        "x_test = x_test.astype('float32')\n",
        "#x_train = x_train/255\n",
        "#x_test = x_test/255\n",
        "\n",
        "# convert class vectors to binary class matrics\n",
        "y_train = np_utils.to_categorical(y_train, 10)\n",
        "y_test = np_utils.to_categorical(y_test, 10)"
      ],
      "execution_count": 0,
      "outputs": []
    },
    {
      "cell_type": "code",
      "metadata": {
        "id": "d_fENKHPFlsm",
        "colab_type": "code",
        "colab": {
          "base_uri": "https://localhost:8080/",
          "height": 521
        },
        "outputId": "cc3f4c07-f8b4-4936-9bdf-0d8601c57bd9"
      },
      "source": [
        "model = Sequential()\n",
        "\n",
        "# 第一层: CNN\n",
        "model.add(Conv2D(32, kernel_size = (3, 3), input_shape = (28, 28, 1)))\n",
        "\n",
        "# 第二层：激活层\n",
        "model.add(Activation(\"sigmoid\"))\n",
        "\n",
        "# 第三层：池化层\n",
        "model.add(MaxPooling2D(2, 2))\n",
        "\n",
        "\n",
        "# 将图片拉平\n",
        "model.add(Flatten())\n",
        "model.add(Dense(10, activation = \"softmax\"))\n",
        "\n",
        "model.compile(loss = 'mse', optimizer = adam(), metrics = [\"accuracy\"]) # categorical_crossentropy\n",
        "\n",
        "model.summary()"
      ],
      "execution_count": 4,
      "outputs": [
        {
          "output_type": "stream",
          "text": [
            "WARNING:tensorflow:From /usr/local/lib/python3.6/dist-packages/keras/backend/tensorflow_backend.py:66: The name tf.get_default_graph is deprecated. Please use tf.compat.v1.get_default_graph instead.\n",
            "\n",
            "WARNING:tensorflow:From /usr/local/lib/python3.6/dist-packages/keras/backend/tensorflow_backend.py:541: The name tf.placeholder is deprecated. Please use tf.compat.v1.placeholder instead.\n",
            "\n",
            "WARNING:tensorflow:From /usr/local/lib/python3.6/dist-packages/keras/backend/tensorflow_backend.py:4432: The name tf.random_uniform is deprecated. Please use tf.random.uniform instead.\n",
            "\n",
            "WARNING:tensorflow:From /usr/local/lib/python3.6/dist-packages/keras/backend/tensorflow_backend.py:4267: The name tf.nn.max_pool is deprecated. Please use tf.nn.max_pool2d instead.\n",
            "\n",
            "WARNING:tensorflow:From /usr/local/lib/python3.6/dist-packages/keras/optimizers.py:793: The name tf.train.Optimizer is deprecated. Please use tf.compat.v1.train.Optimizer instead.\n",
            "\n",
            "Model: \"sequential_1\"\n",
            "_________________________________________________________________\n",
            "Layer (type)                 Output Shape              Param #   \n",
            "=================================================================\n",
            "conv2d_1 (Conv2D)            (None, 26, 26, 32)        320       \n",
            "_________________________________________________________________\n",
            "activation_1 (Activation)    (None, 26, 26, 32)        0         \n",
            "_________________________________________________________________\n",
            "max_pooling2d_1 (MaxPooling2 (None, 13, 13, 32)        0         \n",
            "_________________________________________________________________\n",
            "flatten_1 (Flatten)          (None, 5408)              0         \n",
            "_________________________________________________________________\n",
            "dense_1 (Dense)              (None, 10)                54090     \n",
            "=================================================================\n",
            "Total params: 54,410\n",
            "Trainable params: 54,410\n",
            "Non-trainable params: 0\n",
            "_________________________________________________________________\n"
          ],
          "name": "stdout"
        }
      ]
    },
    {
      "cell_type": "code",
      "metadata": {
        "id": "A-bSJ62zFzAV",
        "colab_type": "code",
        "colab": {
          "base_uri": "https://localhost:8080/",
          "height": 1000
        },
        "outputId": "d17cb4f0-c825-4400-b70b-2778d96dcf51"
      },
      "source": [
        "history = model.fit(x_train, y_train, \n",
        "                   batch_size = 128, \n",
        "                   epochs = 30,\n",
        "                   validation_data = (x_test, y_test))\n",
        "score = model.evaluate(x_train, y_train)\n",
        "print(\"Train score: {}\".format(score[1]))\n",
        "\n",
        "\n",
        "score = model.evaluate(x_test, y_test)\n",
        "print(\"Test score: {}\".format(score[1]))"
      ],
      "execution_count": 28,
      "outputs": [
        {
          "output_type": "stream",
          "text": [
            "Train on 60000 samples, validate on 10000 samples\n",
            "Epoch 1/130\n",
            "60000/60000 [==============================] - 4s 65us/step - loss: 0.0761 - acc: 0.4297 - val_loss: 0.0670 - val_acc: 0.4876\n",
            "Epoch 2/130\n",
            "60000/60000 [==============================] - 4s 59us/step - loss: 0.0660 - acc: 0.4902 - val_loss: 0.0652 - val_acc: 0.4936\n",
            "Epoch 3/130\n",
            "60000/60000 [==============================] - 4s 59us/step - loss: 0.0651 - acc: 0.4932 - val_loss: 0.0650 - val_acc: 0.4955\n",
            "Epoch 4/130\n",
            "60000/60000 [==============================] - 4s 61us/step - loss: 0.0648 - acc: 0.4941 - val_loss: 0.0661 - val_acc: 0.4946\n",
            "Epoch 5/130\n",
            "60000/60000 [==============================] - 4s 59us/step - loss: 0.0647 - acc: 0.4948 - val_loss: 0.0638 - val_acc: 0.4967\n",
            "Epoch 6/130\n",
            "60000/60000 [==============================] - 4s 60us/step - loss: 0.0642 - acc: 0.4961 - val_loss: 0.0640 - val_acc: 0.4960\n",
            "Epoch 7/130\n",
            "60000/60000 [==============================] - 4s 60us/step - loss: 0.0643 - acc: 0.4964 - val_loss: 0.0643 - val_acc: 0.4953\n",
            "Epoch 8/130\n",
            "60000/60000 [==============================] - 4s 59us/step - loss: 0.0641 - acc: 0.4964 - val_loss: 0.0635 - val_acc: 0.4972\n",
            "Epoch 9/130\n",
            "60000/60000 [==============================] - 4s 61us/step - loss: 0.0639 - acc: 0.4972 - val_loss: 0.0642 - val_acc: 0.4968\n",
            "Epoch 10/130\n",
            "60000/60000 [==============================] - 4s 61us/step - loss: 0.0640 - acc: 0.4965 - val_loss: 0.0640 - val_acc: 0.4957\n",
            "Epoch 11/130\n",
            "60000/60000 [==============================] - 4s 63us/step - loss: 0.0638 - acc: 0.4977 - val_loss: 0.0634 - val_acc: 0.4969\n",
            "Epoch 12/130\n",
            "60000/60000 [==============================] - 4s 62us/step - loss: 0.0636 - acc: 0.4983 - val_loss: 0.0637 - val_acc: 0.4975\n",
            "Epoch 13/130\n",
            "60000/60000 [==============================] - 4s 61us/step - loss: 0.0636 - acc: 0.4980 - val_loss: 0.0639 - val_acc: 0.4971\n",
            "Epoch 14/130\n",
            "60000/60000 [==============================] - 4s 59us/step - loss: 0.0635 - acc: 0.4987 - val_loss: 0.0642 - val_acc: 0.4969\n",
            "Epoch 15/130\n",
            "60000/60000 [==============================] - 4s 60us/step - loss: 0.0635 - acc: 0.4987 - val_loss: 0.0650 - val_acc: 0.4955\n",
            "Epoch 16/130\n",
            "60000/60000 [==============================] - 4s 59us/step - loss: 0.0634 - acc: 0.4990 - val_loss: 0.0640 - val_acc: 0.4975\n",
            "Epoch 17/130\n",
            "60000/60000 [==============================] - 4s 60us/step - loss: 0.0635 - acc: 0.4991 - val_loss: 0.0634 - val_acc: 0.4976\n",
            "Epoch 18/130\n",
            "60000/60000 [==============================] - 4s 59us/step - loss: 0.0635 - acc: 0.4992 - val_loss: 0.0638 - val_acc: 0.4976\n",
            "Epoch 19/130\n",
            "60000/60000 [==============================] - 4s 62us/step - loss: 0.0634 - acc: 0.4993 - val_loss: 0.0637 - val_acc: 0.4979\n",
            "Epoch 20/130\n",
            "60000/60000 [==============================] - 4s 59us/step - loss: 0.0633 - acc: 0.4996 - val_loss: 0.0635 - val_acc: 0.4978\n",
            "Epoch 21/130\n",
            "60000/60000 [==============================] - 4s 61us/step - loss: 0.0633 - acc: 0.4994 - val_loss: 0.0636 - val_acc: 0.4977\n",
            "Epoch 22/130\n",
            "60000/60000 [==============================] - 4s 59us/step - loss: 0.0633 - acc: 0.4996 - val_loss: 0.0633 - val_acc: 0.4977\n",
            "Epoch 23/130\n",
            "60000/60000 [==============================] - 4s 61us/step - loss: 0.0631 - acc: 0.4997 - val_loss: 0.0641 - val_acc: 0.4970\n",
            "Epoch 24/130\n",
            "60000/60000 [==============================] - 4s 60us/step - loss: 0.0633 - acc: 0.4993 - val_loss: 0.0640 - val_acc: 0.4964\n",
            "Epoch 25/130\n",
            "60000/60000 [==============================] - 4s 59us/step - loss: 0.0633 - acc: 0.5001 - val_loss: 0.0634 - val_acc: 0.4973\n",
            "Epoch 26/130\n",
            "60000/60000 [==============================] - 3s 58us/step - loss: 0.0630 - acc: 0.5002 - val_loss: 0.0638 - val_acc: 0.4973\n",
            "Epoch 27/130\n",
            "60000/60000 [==============================] - 4s 59us/step - loss: 0.0630 - acc: 0.5001 - val_loss: 0.0635 - val_acc: 0.4971\n",
            "Epoch 28/130\n",
            "60000/60000 [==============================] - 4s 59us/step - loss: 0.0633 - acc: 0.4998 - val_loss: 0.0646 - val_acc: 0.4961\n",
            "Epoch 29/130\n",
            "60000/60000 [==============================] - 4s 58us/step - loss: 0.0630 - acc: 0.5003 - val_loss: 0.0643 - val_acc: 0.4973\n",
            "Epoch 30/130\n",
            "60000/60000 [==============================] - 4s 60us/step - loss: 0.0630 - acc: 0.5003 - val_loss: 0.0641 - val_acc: 0.4975\n",
            "Epoch 31/130\n",
            "60000/60000 [==============================] - 4s 59us/step - loss: 0.0630 - acc: 0.5003 - val_loss: 0.0641 - val_acc: 0.4961\n",
            "Epoch 32/130\n",
            "60000/60000 [==============================] - 3s 58us/step - loss: 0.0631 - acc: 0.5002 - val_loss: 0.0634 - val_acc: 0.4976\n",
            "Epoch 33/130\n",
            "60000/60000 [==============================] - 3s 58us/step - loss: 0.0630 - acc: 0.5004 - val_loss: 0.0644 - val_acc: 0.4965\n",
            "Epoch 34/130\n",
            "60000/60000 [==============================] - 4s 59us/step - loss: 0.0630 - acc: 0.5004 - val_loss: 0.0634 - val_acc: 0.4969\n",
            "Epoch 35/130\n",
            "60000/60000 [==============================] - 4s 61us/step - loss: 0.0631 - acc: 0.5002 - val_loss: 0.0647 - val_acc: 0.4960\n",
            "Epoch 36/130\n",
            "60000/60000 [==============================] - 4s 60us/step - loss: 0.0630 - acc: 0.5007 - val_loss: 0.0636 - val_acc: 0.4976\n",
            "Epoch 37/130\n",
            "60000/60000 [==============================] - 4s 61us/step - loss: 0.0629 - acc: 0.5005 - val_loss: 0.0635 - val_acc: 0.4972\n",
            "Epoch 38/130\n",
            "60000/60000 [==============================] - 4s 59us/step - loss: 0.0629 - acc: 0.5005 - val_loss: 0.0633 - val_acc: 0.4976\n",
            "Epoch 39/130\n",
            "60000/60000 [==============================] - 4s 62us/step - loss: 0.0629 - acc: 0.5008 - val_loss: 0.0636 - val_acc: 0.4974\n",
            "Epoch 40/130\n",
            "60000/60000 [==============================] - 4s 60us/step - loss: 0.0629 - acc: 0.5009 - val_loss: 0.0637 - val_acc: 0.4976\n",
            "Epoch 41/130\n",
            "60000/60000 [==============================] - 4s 61us/step - loss: 0.0630 - acc: 0.5008 - val_loss: 0.0633 - val_acc: 0.4977\n",
            "Epoch 42/130\n",
            "60000/60000 [==============================] - 4s 60us/step - loss: 0.0628 - acc: 0.5009 - val_loss: 0.0636 - val_acc: 0.4974\n",
            "Epoch 43/130\n",
            "60000/60000 [==============================] - 4s 60us/step - loss: 0.0628 - acc: 0.5012 - val_loss: 0.0641 - val_acc: 0.4969\n",
            "Epoch 44/130\n",
            "60000/60000 [==============================] - 4s 60us/step - loss: 0.0629 - acc: 0.5008 - val_loss: 0.0635 - val_acc: 0.4979\n",
            "Epoch 45/130\n",
            "60000/60000 [==============================] - 4s 61us/step - loss: 0.0629 - acc: 0.5010 - val_loss: 0.0636 - val_acc: 0.4976\n",
            "Epoch 46/130\n",
            "60000/60000 [==============================] - 4s 59us/step - loss: 0.0630 - acc: 0.5009 - val_loss: 0.0635 - val_acc: 0.4977\n",
            "Epoch 47/130\n",
            "60000/60000 [==============================] - 4s 58us/step - loss: 0.0627 - acc: 0.5011 - val_loss: 0.0635 - val_acc: 0.4972\n",
            "Epoch 48/130\n",
            "60000/60000 [==============================] - 4s 59us/step - loss: 0.0628 - acc: 0.5011 - val_loss: 0.0636 - val_acc: 0.4977\n",
            "Epoch 49/130\n",
            "60000/60000 [==============================] - 4s 59us/step - loss: 0.0628 - acc: 0.5012 - val_loss: 0.0636 - val_acc: 0.4972\n",
            "Epoch 50/130\n",
            "60000/60000 [==============================] - 4s 59us/step - loss: 0.0628 - acc: 0.5010 - val_loss: 0.0636 - val_acc: 0.4973\n",
            "Epoch 51/130\n",
            "60000/60000 [==============================] - 4s 59us/step - loss: 0.0628 - acc: 0.5012 - val_loss: 0.0637 - val_acc: 0.4978\n",
            "Epoch 52/130\n",
            "60000/60000 [==============================] - 4s 60us/step - loss: 0.0628 - acc: 0.5012 - val_loss: 0.0636 - val_acc: 0.4968\n",
            "Epoch 53/130\n",
            "60000/60000 [==============================] - 4s 61us/step - loss: 0.0630 - acc: 0.5007 - val_loss: 0.0639 - val_acc: 0.4968\n",
            "Epoch 54/130\n",
            "60000/60000 [==============================] - 4s 58us/step - loss: 0.0628 - acc: 0.5012 - val_loss: 0.0634 - val_acc: 0.4979\n",
            "Epoch 55/130\n",
            "60000/60000 [==============================] - 3s 58us/step - loss: 0.0627 - acc: 0.5013 - val_loss: 0.0635 - val_acc: 0.4969\n",
            "Epoch 56/130\n",
            "60000/60000 [==============================] - 4s 61us/step - loss: 0.0627 - acc: 0.5013 - val_loss: 0.0639 - val_acc: 0.4966\n",
            "Epoch 57/130\n",
            "60000/60000 [==============================] - 4s 60us/step - loss: 0.0627 - acc: 0.5012 - val_loss: 0.0639 - val_acc: 0.4970\n",
            "Epoch 58/130\n",
            "60000/60000 [==============================] - 4s 60us/step - loss: 0.0630 - acc: 0.5011 - val_loss: 0.0634 - val_acc: 0.4970\n",
            "Epoch 59/130\n",
            "60000/60000 [==============================] - 4s 60us/step - loss: 0.0626 - acc: 0.5013 - val_loss: 0.0633 - val_acc: 0.4973\n",
            "Epoch 60/130\n",
            "60000/60000 [==============================] - 4s 59us/step - loss: 0.0627 - acc: 0.5014 - val_loss: 0.0635 - val_acc: 0.4975\n",
            "Epoch 61/130\n",
            "60000/60000 [==============================] - 4s 60us/step - loss: 0.0627 - acc: 0.5013 - val_loss: 0.0634 - val_acc: 0.4977\n",
            "Epoch 62/130\n",
            "60000/60000 [==============================] - 4s 61us/step - loss: 0.0627 - acc: 0.5013 - val_loss: 0.0636 - val_acc: 0.4981\n",
            "Epoch 63/130\n",
            "60000/60000 [==============================] - 4s 59us/step - loss: 0.0626 - acc: 0.5014 - val_loss: 0.0637 - val_acc: 0.4962\n",
            "Epoch 64/130\n",
            "60000/60000 [==============================] - 4s 59us/step - loss: 0.0628 - acc: 0.5011 - val_loss: 0.0636 - val_acc: 0.4972\n",
            "Epoch 65/130\n",
            "60000/60000 [==============================] - 4s 60us/step - loss: 0.0627 - acc: 0.5014 - val_loss: 0.0635 - val_acc: 0.4971\n",
            "Epoch 66/130\n",
            "60000/60000 [==============================] - 4s 60us/step - loss: 0.0627 - acc: 0.5013 - val_loss: 0.0641 - val_acc: 0.4978\n",
            "Epoch 67/130\n",
            "60000/60000 [==============================] - 4s 62us/step - loss: 0.0626 - acc: 0.5016 - val_loss: 0.0635 - val_acc: 0.4974\n",
            "Epoch 68/130\n",
            "60000/60000 [==============================] - 4s 63us/step - loss: 0.0626 - acc: 0.5016 - val_loss: 0.0640 - val_acc: 0.4967\n",
            "Epoch 69/130\n",
            "60000/60000 [==============================] - 4s 60us/step - loss: 0.0627 - acc: 0.5014 - val_loss: 0.0636 - val_acc: 0.4980\n",
            "Epoch 70/130\n",
            "60000/60000 [==============================] - 4s 62us/step - loss: 0.0627 - acc: 0.5016 - val_loss: 0.0644 - val_acc: 0.4961\n",
            "Epoch 71/130\n",
            "60000/60000 [==============================] - 4s 65us/step - loss: 0.0626 - acc: 0.5015 - val_loss: 0.0636 - val_acc: 0.4975\n",
            "Epoch 72/130\n",
            "60000/60000 [==============================] - 4s 61us/step - loss: 0.0627 - acc: 0.5014 - val_loss: 0.0641 - val_acc: 0.4962\n",
            "Epoch 73/130\n",
            "60000/60000 [==============================] - 4s 61us/step - loss: 0.0626 - acc: 0.5015 - val_loss: 0.0641 - val_acc: 0.4967\n",
            "Epoch 74/130\n",
            "60000/60000 [==============================] - 4s 60us/step - loss: 0.0627 - acc: 0.5015 - val_loss: 0.0640 - val_acc: 0.4971\n",
            "Epoch 75/130\n",
            "60000/60000 [==============================] - 4s 60us/step - loss: 0.0627 - acc: 0.5014 - val_loss: 0.0636 - val_acc: 0.4975\n",
            "Epoch 76/130\n",
            "60000/60000 [==============================] - 4s 60us/step - loss: 0.0625 - acc: 0.5018 - val_loss: 0.0634 - val_acc: 0.4974\n",
            "Epoch 77/130\n",
            "60000/60000 [==============================] - 3s 58us/step - loss: 0.0627 - acc: 0.5015 - val_loss: 0.0635 - val_acc: 0.4973\n",
            "Epoch 78/130\n",
            "60000/60000 [==============================] - 4s 60us/step - loss: 0.0626 - acc: 0.5016 - val_loss: 0.0638 - val_acc: 0.4968\n",
            "Epoch 79/130\n",
            "60000/60000 [==============================] - 4s 61us/step - loss: 0.0626 - acc: 0.5015 - val_loss: 0.0635 - val_acc: 0.4975\n",
            "Epoch 80/130\n",
            "60000/60000 [==============================] - 4s 60us/step - loss: 0.0626 - acc: 0.5016 - val_loss: 0.0637 - val_acc: 0.4974\n",
            "Epoch 81/130\n",
            "60000/60000 [==============================] - 4s 60us/step - loss: 0.0626 - acc: 0.5017 - val_loss: 0.0638 - val_acc: 0.4967\n",
            "Epoch 82/130\n",
            "60000/60000 [==============================] - 4s 60us/step - loss: 0.0626 - acc: 0.5017 - val_loss: 0.0640 - val_acc: 0.4963\n",
            "Epoch 83/130\n",
            "60000/60000 [==============================] - 4s 59us/step - loss: 0.0626 - acc: 0.5016 - val_loss: 0.0638 - val_acc: 0.4968\n",
            "Epoch 84/130\n",
            "60000/60000 [==============================] - 4s 60us/step - loss: 0.0626 - acc: 0.5017 - val_loss: 0.0637 - val_acc: 0.4969\n",
            "Epoch 85/130\n",
            "60000/60000 [==============================] - 4s 59us/step - loss: 0.0626 - acc: 0.5016 - val_loss: 0.0635 - val_acc: 0.4974\n",
            "Epoch 86/130\n",
            "60000/60000 [==============================] - 4s 59us/step - loss: 0.0626 - acc: 0.5017 - val_loss: 0.0633 - val_acc: 0.4974\n",
            "Epoch 87/130\n",
            "60000/60000 [==============================] - 4s 59us/step - loss: 0.0626 - acc: 0.5019 - val_loss: 0.0636 - val_acc: 0.4967\n",
            "Epoch 88/130\n",
            "60000/60000 [==============================] - 4s 61us/step - loss: 0.0626 - acc: 0.5018 - val_loss: 0.0637 - val_acc: 0.4970\n",
            "Epoch 89/130\n",
            "60000/60000 [==============================] - 4s 60us/step - loss: 0.0625 - acc: 0.5018 - val_loss: 0.0635 - val_acc: 0.4982\n",
            "Epoch 90/130\n",
            "60000/60000 [==============================] - 4s 59us/step - loss: 0.0626 - acc: 0.5018 - val_loss: 0.0634 - val_acc: 0.4972\n",
            "Epoch 91/130\n",
            "60000/60000 [==============================] - 4s 60us/step - loss: 0.0626 - acc: 0.5017 - val_loss: 0.0637 - val_acc: 0.4969\n",
            "Epoch 92/130\n",
            "60000/60000 [==============================] - 3s 57us/step - loss: 0.0625 - acc: 0.5017 - val_loss: 0.0642 - val_acc: 0.4974\n",
            "Epoch 93/130\n",
            "60000/60000 [==============================] - 3s 58us/step - loss: 0.0625 - acc: 0.5018 - val_loss: 0.0635 - val_acc: 0.4973\n",
            "Epoch 94/130\n",
            "60000/60000 [==============================] - 4s 59us/step - loss: 0.0626 - acc: 0.5019 - val_loss: 0.0634 - val_acc: 0.4975\n",
            "Epoch 95/130\n",
            "60000/60000 [==============================] - 4s 61us/step - loss: 0.0626 - acc: 0.5017 - val_loss: 0.0635 - val_acc: 0.4974\n",
            "Epoch 96/130\n",
            "60000/60000 [==============================] - 4s 59us/step - loss: 0.0625 - acc: 0.5018 - val_loss: 0.0635 - val_acc: 0.4960\n",
            "Epoch 97/130\n",
            "60000/60000 [==============================] - 4s 59us/step - loss: 0.0626 - acc: 0.5017 - val_loss: 0.0641 - val_acc: 0.4975\n",
            "Epoch 98/130\n",
            "60000/60000 [==============================] - 4s 59us/step - loss: 0.0625 - acc: 0.5017 - val_loss: 0.0634 - val_acc: 0.4973\n",
            "Epoch 99/130\n",
            "60000/60000 [==============================] - 4s 59us/step - loss: 0.0625 - acc: 0.5018 - val_loss: 0.0640 - val_acc: 0.4971\n",
            "Epoch 100/130\n",
            "60000/60000 [==============================] - 4s 60us/step - loss: 0.0626 - acc: 0.5017 - val_loss: 0.0638 - val_acc: 0.4968\n",
            "Epoch 101/130\n",
            "60000/60000 [==============================] - 4s 61us/step - loss: 0.0625 - acc: 0.5016 - val_loss: 0.0642 - val_acc: 0.4978\n",
            "Epoch 102/130\n",
            "60000/60000 [==============================] - 3s 58us/step - loss: 0.0625 - acc: 0.5019 - val_loss: 0.0635 - val_acc: 0.4966\n",
            "Epoch 103/130\n",
            "60000/60000 [==============================] - 4s 61us/step - loss: 0.0626 - acc: 0.5017 - val_loss: 0.0634 - val_acc: 0.4970\n",
            "Epoch 104/130\n",
            "60000/60000 [==============================] - 4s 62us/step - loss: 0.0625 - acc: 0.5019 - val_loss: 0.0635 - val_acc: 0.4970\n",
            "Epoch 105/130\n",
            "60000/60000 [==============================] - 4s 59us/step - loss: 0.0625 - acc: 0.5019 - val_loss: 0.0638 - val_acc: 0.4964\n",
            "Epoch 106/130\n",
            "60000/60000 [==============================] - 4s 60us/step - loss: 0.0625 - acc: 0.5018 - val_loss: 0.0636 - val_acc: 0.4973\n",
            "Epoch 107/130\n",
            "60000/60000 [==============================] - 4s 59us/step - loss: 0.0625 - acc: 0.5018 - val_loss: 0.0635 - val_acc: 0.4969\n",
            "Epoch 108/130\n",
            "60000/60000 [==============================] - 3s 58us/step - loss: 0.0626 - acc: 0.5018 - val_loss: 0.0635 - val_acc: 0.4967\n",
            "Epoch 109/130\n",
            "60000/60000 [==============================] - 4s 62us/step - loss: 0.0625 - acc: 0.5019 - val_loss: 0.0649 - val_acc: 0.4971\n",
            "Epoch 110/130\n",
            "60000/60000 [==============================] - 4s 59us/step - loss: 0.0625 - acc: 0.5019 - val_loss: 0.0635 - val_acc: 0.4971\n",
            "Epoch 111/130\n",
            "60000/60000 [==============================] - 4s 60us/step - loss: 0.0626 - acc: 0.5020 - val_loss: 0.0636 - val_acc: 0.4977\n",
            "Epoch 112/130\n",
            "60000/60000 [==============================] - 4s 61us/step - loss: 0.0625 - acc: 0.5020 - val_loss: 0.0643 - val_acc: 0.4969\n",
            "Epoch 113/130\n",
            "60000/60000 [==============================] - 4s 59us/step - loss: 0.0625 - acc: 0.5018 - val_loss: 0.0637 - val_acc: 0.4973\n",
            "Epoch 114/130\n",
            "60000/60000 [==============================] - 4s 61us/step - loss: 0.0625 - acc: 0.5020 - val_loss: 0.0638 - val_acc: 0.4975\n",
            "Epoch 115/130\n",
            "60000/60000 [==============================] - 4s 61us/step - loss: 0.0625 - acc: 0.5018 - val_loss: 0.0634 - val_acc: 0.4972\n",
            "Epoch 116/130\n",
            "60000/60000 [==============================] - 4s 60us/step - loss: 0.0625 - acc: 0.5018 - val_loss: 0.0637 - val_acc: 0.4966\n",
            "Epoch 117/130\n",
            "60000/60000 [==============================] - 4s 61us/step - loss: 0.0625 - acc: 0.5020 - val_loss: 0.0636 - val_acc: 0.4967\n",
            "Epoch 118/130\n",
            "60000/60000 [==============================] - 4s 59us/step - loss: 0.0625 - acc: 0.5019 - val_loss: 0.0645 - val_acc: 0.4957\n",
            "Epoch 119/130\n",
            "60000/60000 [==============================] - 4s 60us/step - loss: 0.0625 - acc: 0.5019 - val_loss: 0.0638 - val_acc: 0.4968\n",
            "Epoch 120/130\n",
            "60000/60000 [==============================] - 4s 59us/step - loss: 0.0624 - acc: 0.5020 - val_loss: 0.0634 - val_acc: 0.4970\n",
            "Epoch 121/130\n",
            "60000/60000 [==============================] - 4s 62us/step - loss: 0.0625 - acc: 0.5021 - val_loss: 0.0637 - val_acc: 0.4967\n",
            "Epoch 122/130\n",
            "60000/60000 [==============================] - 4s 60us/step - loss: 0.0625 - acc: 0.5020 - val_loss: 0.0642 - val_acc: 0.4964\n",
            "Epoch 123/130\n",
            "60000/60000 [==============================] - 3s 58us/step - loss: 0.0625 - acc: 0.5017 - val_loss: 0.0638 - val_acc: 0.4979\n",
            "Epoch 124/130\n",
            "60000/60000 [==============================] - 4s 59us/step - loss: 0.0625 - acc: 0.5019 - val_loss: 0.0634 - val_acc: 0.4977\n",
            "Epoch 125/130\n",
            "60000/60000 [==============================] - 4s 59us/step - loss: 0.0625 - acc: 0.5018 - val_loss: 0.0636 - val_acc: 0.4967\n",
            "Epoch 126/130\n",
            "60000/60000 [==============================] - 4s 59us/step - loss: 0.0625 - acc: 0.5019 - val_loss: 0.0639 - val_acc: 0.4961\n",
            "Epoch 127/130\n",
            "60000/60000 [==============================] - 4s 59us/step - loss: 0.0624 - acc: 0.5019 - val_loss: 0.0641 - val_acc: 0.4975\n",
            "Epoch 128/130\n",
            "60000/60000 [==============================] - 4s 60us/step - loss: 0.0625 - acc: 0.5018 - val_loss: 0.0643 - val_acc: 0.4958\n",
            "Epoch 129/130\n",
            "60000/60000 [==============================] - 4s 61us/step - loss: 0.0626 - acc: 0.5019 - val_loss: 0.0635 - val_acc: 0.4980\n",
            "Epoch 130/130\n",
            "60000/60000 [==============================] - 4s 60us/step - loss: 0.0625 - acc: 0.5019 - val_loss: 0.0634 - val_acc: 0.4970\n",
            "60000/60000 [==============================] - 4s 64us/step\n",
            "Train score: 0.5022333333333333\n",
            "10000/10000 [==============================] - 1s 66us/step\n",
            "Test score: 0.497\n"
          ],
          "name": "stdout"
        }
      ]
    },
    {
      "cell_type": "code",
      "metadata": {
        "id": "jJGNK0VsMXSG",
        "colab_type": "code",
        "colab": {
          "base_uri": "https://localhost:8080/",
          "height": 523
        },
        "outputId": "fbf0a5a0-851e-4b26-cf44-6cac3119f1f6"
      },
      "source": [
        "plt.figure(figsize = (12, 8))\n",
        "plt.plot(history.history[\"acc\"], color = \"b\")\n",
        "plt.plot(history.history[\"val_acc\"], color = \"r\")\n",
        "plt.title(\"The accuracy of Training and testing datasets\", size = 20)\n",
        "plt.xlabel(\"Epochs\", size = 16)\n",
        "plt.ylabel(\"Accuracy\", size = 16)\n",
        "plt.legend([\"Training\",\"Testing\"])\n",
        "plt.show()"
      ],
      "execution_count": 32,
      "outputs": [
        {
          "output_type": "display_data",
          "data": {
            "image/png": "[encoded data removed]",
            "text/plain": [
              "<Figure size 864x576 with 1 Axes>"
            ]
          },
          "metadata": {
            "tags": []
          }
        }
      ]
    },
    {
      "cell_type": "markdown",
      "metadata": {
        "id": "bG2M6IwAdt8k",
        "colab_type": "text"
      },
      "source": [
        "# 参数调节"
      ]
    },
    {
      "cell_type": "markdown",
      "metadata": {
        "id": "o7-3PcsReAlT",
        "colab_type": "text"
      },
      "source": [
        "## 调参 1. 增加网络的深度"
      ]
    },
    {
      "cell_type": "code",
      "metadata": {
        "id": "yOo91drwQV8C",
        "colab_type": "code",
        "colab": {
          "base_uri": "https://localhost:8080/",
          "height": 950
        },
        "outputId": "b3934a5b-4b1c-4a5e-d356-9c149b681514"
      },
      "source": [
        "model = Sequential()\n",
        "\n",
        "for i in range(10):\n",
        "  # 第一层: CNN\n",
        "  model.add(Conv2D(32, kernel_size = (3, 3), input_shape = (28, 28, 1)))\n",
        "\n",
        "  # 第二层：激活层\n",
        "  model.add(Activation(\"sigmoid\"))\n",
        "\n",
        "# 第三层：池化层\n",
        "model.add(MaxPooling2D(2, 2))\n",
        "\n",
        "# 将图片拉平\n",
        "model.add(Flatten())\n",
        "model.add(Dense(10, activation = \"softmax\"))\n",
        "\n",
        "model.compile(loss = 'mse', optimizer = adam(), metrics = [\"accuracy\"])\n",
        "model.summary()"
      ],
      "execution_count": 5,
      "outputs": [
        {
          "output_type": "stream",
          "text": [
            "Model: \"sequential_2\"\n",
            "_________________________________________________________________\n",
            "Layer (type)                 Output Shape              Param #   \n",
            "=================================================================\n",
            "conv2d_2 (Conv2D)            (None, 26, 26, 32)        320       \n",
            "_________________________________________________________________\n",
            "activation_2 (Activation)    (None, 26, 26, 32)        0         \n",
            "_________________________________________________________________\n",
            "conv2d_3 (Conv2D)            (None, 24, 24, 32)        9248      \n",
            "_________________________________________________________________\n",
            "activation_3 (Activation)    (None, 24, 24, 32)        0         \n",
            "_________________________________________________________________\n",
            "conv2d_4 (Conv2D)            (None, 22, 22, 32)        9248      \n",
            "_________________________________________________________________\n",
            "activation_4 (Activation)    (None, 22, 22, 32)        0         \n",
            "_________________________________________________________________\n",
            "conv2d_5 (Conv2D)            (None, 20, 20, 32)        9248      \n",
            "_________________________________________________________________\n",
            "activation_5 (Activation)    (None, 20, 20, 32)        0         \n",
            "_________________________________________________________________\n",
            "conv2d_6 (Conv2D)            (None, 18, 18, 32)        9248      \n",
            "_________________________________________________________________\n",
            "activation_6 (Activation)    (None, 18, 18, 32)        0         \n",
            "_________________________________________________________________\n",
            "conv2d_7 (Conv2D)            (None, 16, 16, 32)        9248      \n",
            "_________________________________________________________________\n",
            "activation_7 (Activation)    (None, 16, 16, 32)        0         \n",
            "_________________________________________________________________\n",
            "conv2d_8 (Conv2D)            (None, 14, 14, 32)        9248      \n",
            "_________________________________________________________________\n",
            "activation_8 (Activation)    (None, 14, 14, 32)        0         \n",
            "_________________________________________________________________\n",
            "conv2d_9 (Conv2D)            (None, 12, 12, 32)        9248      \n",
            "_________________________________________________________________\n",
            "activation_9 (Activation)    (None, 12, 12, 32)        0         \n",
            "_________________________________________________________________\n",
            "conv2d_10 (Conv2D)           (None, 10, 10, 32)        9248      \n",
            "_________________________________________________________________\n",
            "activation_10 (Activation)   (None, 10, 10, 32)        0         \n",
            "_________________________________________________________________\n",
            "conv2d_11 (Conv2D)           (None, 8, 8, 32)          9248      \n",
            "_________________________________________________________________\n",
            "activation_11 (Activation)   (None, 8, 8, 32)          0         \n",
            "_________________________________________________________________\n",
            "max_pooling2d_2 (MaxPooling2 (None, 4, 4, 32)          0         \n",
            "_________________________________________________________________\n",
            "flatten_2 (Flatten)          (None, 512)               0         \n",
            "_________________________________________________________________\n",
            "dense_2 (Dense)              (None, 10)                5130      \n",
            "=================================================================\n",
            "Total params: 88,682\n",
            "Trainable params: 88,682\n",
            "Non-trainable params: 0\n",
            "_________________________________________________________________\n"
          ],
          "name": "stdout"
        }
      ]
    },
    {
      "cell_type": "code",
      "metadata": {
        "id": "zw6z5SQ0ePRw",
        "colab_type": "code",
        "colab": {
          "base_uri": "https://localhost:8080/",
          "height": 1000
        },
        "outputId": "2a2802f5-cfe6-4743-d1f4-ec8fcbe3ed3d"
      },
      "source": [
        "history = model.fit(x_train, y_train, \n",
        "                   batch_size = 128, \n",
        "                   epochs = 30,\n",
        "                   validation_data = (x_test, y_test))\n",
        "score = model.evaluate(x_train, y_train)\n",
        "print(\"Train score: {}\".format(score[1]))\n",
        "\n",
        "\n",
        "score = model.evaluate(x_test, y_test)\n",
        "print(\"Test score: {}\".format(score[1]))"
      ],
      "execution_count": 6,
      "outputs": [
        {
          "output_type": "stream",
          "text": [
            "WARNING:tensorflow:From /usr/local/lib/python3.6/dist-packages/keras/backend/tensorflow_backend.py:1033: The name tf.assign_add is deprecated. Please use tf.compat.v1.assign_add instead.\n",
            "\n",
            "WARNING:tensorflow:From /usr/local/lib/python3.6/dist-packages/keras/backend/tensorflow_backend.py:1020: The name tf.assign is deprecated. Please use tf.compat.v1.assign instead.\n",
            "\n",
            "Train on 60000 samples, validate on 10000 samples\n",
            "Epoch 1/30\n",
            "60000/60000 [==============================] - 21s 356us/step - loss: 0.0901 - acc: 0.1066 - val_loss: 0.0900 - val_acc: 0.1135\n",
            "Epoch 2/30\n",
            "60000/60000 [==============================] - 14s 241us/step - loss: 0.0900 - acc: 0.1121 - val_loss: 0.0900 - val_acc: 0.1135\n",
            "Epoch 3/30\n",
            "60000/60000 [==============================] - 14s 240us/step - loss: 0.0900 - acc: 0.1124 - val_loss: 0.0900 - val_acc: 0.1135\n",
            "Epoch 4/30\n",
            "60000/60000 [==============================] - 14s 241us/step - loss: 0.0900 - acc: 0.1124 - val_loss: 0.0900 - val_acc: 0.1135\n",
            "Epoch 5/30\n",
            "60000/60000 [==============================] - 14s 241us/step - loss: 0.0900 - acc: 0.1124 - val_loss: 0.0900 - val_acc: 0.1135\n",
            "Epoch 6/30\n",
            "60000/60000 [==============================] - 14s 241us/step - loss: 0.0900 - acc: 0.1124 - val_loss: 0.0900 - val_acc: 0.1135\n",
            "Epoch 7/30\n",
            "60000/60000 [==============================] - 14s 240us/step - loss: 0.0900 - acc: 0.1124 - val_loss: 0.0900 - val_acc: 0.1135\n",
            "Epoch 8/30\n",
            "60000/60000 [==============================] - 15s 242us/step - loss: 0.0900 - acc: 0.1124 - val_loss: 0.0900 - val_acc: 0.1135\n",
            "Epoch 9/30\n",
            "60000/60000 [==============================] - 14s 241us/step - loss: 0.0900 - acc: 0.1124 - val_loss: 0.0900 - val_acc: 0.1135\n",
            "Epoch 10/30\n",
            "60000/60000 [==============================] - 14s 241us/step - loss: 0.0900 - acc: 0.1124 - val_loss: 0.0900 - val_acc: 0.1135\n",
            "Epoch 11/30\n",
            "60000/60000 [==============================] - 14s 241us/step - loss: 0.0900 - acc: 0.1124 - val_loss: 0.0900 - val_acc: 0.1135\n",
            "Epoch 12/30\n",
            "60000/60000 [==============================] - 14s 240us/step - loss: 0.0900 - acc: 0.1124 - val_loss: 0.0900 - val_acc: 0.1135\n",
            "Epoch 13/30\n",
            "60000/60000 [==============================] - 14s 240us/step - loss: 0.0900 - acc: 0.1124 - val_loss: 0.0900 - val_acc: 0.1135\n",
            "Epoch 14/30\n",
            "60000/60000 [==============================] - 14s 241us/step - loss: 0.0900 - acc: 0.1124 - val_loss: 0.0900 - val_acc: 0.1135\n",
            "Epoch 15/30\n",
            "60000/60000 [==============================] - 14s 241us/step - loss: 0.0900 - acc: 0.1124 - val_loss: 0.0900 - val_acc: 0.1135\n",
            "Epoch 16/30\n",
            "60000/60000 [==============================] - 14s 241us/step - loss: 0.0900 - acc: 0.1124 - val_loss: 0.0900 - val_acc: 0.1135\n",
            "Epoch 17/30\n",
            "60000/60000 [==============================] - 15s 242us/step - loss: 0.0900 - acc: 0.1124 - val_loss: 0.0900 - val_acc: 0.1135\n",
            "Epoch 18/30\n",
            "60000/60000 [==============================] - 14s 241us/step - loss: 0.0900 - acc: 0.1124 - val_loss: 0.0900 - val_acc: 0.1135\n",
            "Epoch 19/30\n",
            "60000/60000 [==============================] - 14s 241us/step - loss: 0.0900 - acc: 0.1124 - val_loss: 0.0900 - val_acc: 0.1135\n",
            "Epoch 20/30\n",
            "60000/60000 [==============================] - 14s 240us/step - loss: 0.0900 - acc: 0.1124 - val_loss: 0.0900 - val_acc: 0.1135\n",
            "Epoch 21/30\n",
            "60000/60000 [==============================] - 14s 239us/step - loss: 0.0900 - acc: 0.1124 - val_loss: 0.0900 - val_acc: 0.1135\n",
            "Epoch 22/30\n",
            "60000/60000 [==============================] - 14s 240us/step - loss: 0.0900 - acc: 0.1124 - val_loss: 0.0900 - val_acc: 0.1135\n",
            "Epoch 23/30\n",
            "60000/60000 [==============================] - 14s 241us/step - loss: 0.0900 - acc: 0.1124 - val_loss: 0.0900 - val_acc: 0.1135\n",
            "Epoch 24/30\n",
            "60000/60000 [==============================] - 14s 239us/step - loss: 0.0900 - acc: 0.1124 - val_loss: 0.0900 - val_acc: 0.1135\n",
            "Epoch 25/30\n",
            "60000/60000 [==============================] - 14s 240us/step - loss: 0.0900 - acc: 0.1124 - val_loss: 0.0900 - val_acc: 0.1135\n",
            "Epoch 26/30\n",
            "60000/60000 [==============================] - 14s 240us/step - loss: 0.0900 - acc: 0.1124 - val_loss: 0.0900 - val_acc: 0.1135\n",
            "Epoch 27/30\n",
            "60000/60000 [==============================] - 14s 240us/step - loss: 0.0900 - acc: 0.1124 - val_loss: 0.0900 - val_acc: 0.1135\n",
            "Epoch 28/30\n",
            "60000/60000 [==============================] - 14s 240us/step - loss: 0.0900 - acc: 0.1124 - val_loss: 0.0900 - val_acc: 0.1135\n",
            "Epoch 29/30\n",
            "60000/60000 [==============================] - 14s 239us/step - loss: 0.0900 - acc: 0.1124 - val_loss: 0.0900 - val_acc: 0.1135\n",
            "Epoch 30/30\n",
            "60000/60000 [==============================] - 14s 240us/step - loss: 0.0900 - acc: 0.1124 - val_loss: 0.0900 - val_acc: 0.1135\n",
            "60000/60000 [==============================] - 8s 126us/step\n",
            "Train score: 0.11236666666666667\n",
            "10000/10000 [==============================] - 1s 122us/step\n",
            "Test score: 0.1135\n"
          ],
          "name": "stdout"
        }
      ]
    },
    {
      "cell_type": "code",
      "metadata": {
        "id": "2GCwAdnUF71A",
        "colab_type": "code",
        "colab": {}
      },
      "source": [
        "max(history.history[\"val_acc\"])"
      ],
      "execution_count": 0,
      "outputs": []
    },
    {
      "cell_type": "code",
      "metadata": {
        "id": "ZSbb8klWgBs8",
        "colab_type": "code",
        "colab": {
          "base_uri": "https://localhost:8080/",
          "height": 523
        },
        "outputId": "7b6baf75-6859-4426-f110-d357864c5293"
      },
      "source": [
        "plt.figure(figsize = (12, 8))\n",
        "plt.plot(history.history[\"acc\"], color = \"b\")\n",
        "plt.plot(history.history[\"val_acc\"], color = \"r\")\n",
        "plt.title(\"The accuracy of Training and testing datasets\", size = 20)\n",
        "plt.xlabel(\"Epochs\", size = 16)\n",
        "plt.ylabel(\"Accuracy\", size = 16)\n",
        "plt.legend([\"Training\",\"Testing\"])\n",
        "plt.show()"
      ],
      "execution_count": 7,
      "outputs": [
        {
          "output_type": "display_data",
          "data": {
            "image/png": "[encoded data removed]",
            "text/plain": [
              "<Figure size 864x576 with 1 Axes>"
            ]
          },
          "metadata": {
            "tags": []
          }
        }
      ]
    },
    {
      "cell_type": "markdown",
      "metadata": {
        "id": "FLhHUiMIgV_h",
        "colab_type": "text"
      },
      "source": [
        "## 调参 2. 数据归一化"
      ]
    },
    {
      "cell_type": "code",
      "metadata": {
        "id": "tdqokUA_gYSw",
        "colab_type": "code",
        "colab": {}
      },
      "source": [
        "x_train = x_train/255\n",
        "x_test = x_test/255"
      ],
      "execution_count": 0,
      "outputs": []
    },
    {
      "cell_type": "code",
      "metadata": {
        "id": "RN5uaV22geG9",
        "colab_type": "code",
        "colab": {
          "base_uri": "https://localhost:8080/",
          "height": 328
        },
        "outputId": "eea6446d-754a-4994-b43c-9bd78c4a41a5"
      },
      "source": [
        "model = Sequential()\n",
        "\n",
        "# 第一层: CNN\n",
        "model.add(Conv2D(32, kernel_size = (3, 3), input_shape = (28, 28, 1)))\n",
        "\n",
        "# 第二层：激活层\n",
        "model.add(Activation(\"sigmoid\"))\n",
        "\n",
        "# 第三层：池化层\n",
        "model.add(MaxPooling2D(2, 2))\n",
        "\n",
        "# 将图片拉平\n",
        "model.add(Flatten())\n",
        "model.add(Dense(10, activation = \"softmax\"))\n",
        "\n",
        "model.compile(loss = 'mse', optimizer = adam(), metrics = [\"accuracy\"])\n",
        "model.summary()"
      ],
      "execution_count": 10,
      "outputs": [
        {
          "output_type": "stream",
          "text": [
            "Model: \"sequential_4\"\n",
            "_________________________________________________________________\n",
            "Layer (type)                 Output Shape              Param #   \n",
            "=================================================================\n",
            "conv2d_22 (Conv2D)           (None, 26, 26, 32)        320       \n",
            "_________________________________________________________________\n",
            "activation_22 (Activation)   (None, 26, 26, 32)        0         \n",
            "_________________________________________________________________\n",
            "max_pooling2d_4 (MaxPooling2 (None, 13, 13, 32)        0         \n",
            "_________________________________________________________________\n",
            "flatten_4 (Flatten)          (None, 5408)              0         \n",
            "_________________________________________________________________\n",
            "dense_4 (Dense)              (None, 10)                54090     \n",
            "=================================================================\n",
            "Total params: 54,410\n",
            "Trainable params: 54,410\n",
            "Non-trainable params: 0\n",
            "_________________________________________________________________\n"
          ],
          "name": "stdout"
        }
      ]
    },
    {
      "cell_type": "code",
      "metadata": {
        "id": "JbxHLT1khR-Q",
        "colab_type": "code",
        "colab": {
          "base_uri": "https://localhost:8080/",
          "height": 1000
        },
        "outputId": "f774ce5b-34df-41af-f3cd-cf2e3546e9fd"
      },
      "source": [
        "history = model.fit(x_train, y_train, \n",
        "                   batch_size = 128, \n",
        "                   epochs = 30,\n",
        "                   validation_data = (x_test, y_test))\n",
        "score = model.evaluate(x_train, y_train)\n",
        "print(\"Train score: {}\".format(score[1]))\n",
        "\n",
        "\n",
        "score = model.evaluate(x_test, y_test)\n",
        "print(\"Test score: {}\".format(score[1]))"
      ],
      "execution_count": 11,
      "outputs": [
        {
          "output_type": "stream",
          "text": [
            "Train on 60000 samples, validate on 10000 samples\n",
            "Epoch 1/30\n",
            "60000/60000 [==============================] - 4s 66us/step - loss: 0.0833 - acc: 0.3432 - val_loss: 0.0671 - val_acc: 0.5116\n",
            "Epoch 2/30\n",
            "60000/60000 [==============================] - 4s 59us/step - loss: 0.0652 - acc: 0.5173 - val_loss: 0.0645 - val_acc: 0.5257\n",
            "Epoch 3/30\n",
            "60000/60000 [==============================] - 4s 60us/step - loss: 0.0631 - acc: 0.5295 - val_loss: 0.0608 - val_acc: 0.5410\n",
            "Epoch 4/30\n",
            "60000/60000 [==============================] - 4s 60us/step - loss: 0.0618 - acc: 0.5364 - val_loss: 0.0600 - val_acc: 0.5429\n",
            "Epoch 5/30\n",
            "60000/60000 [==============================] - 4s 60us/step - loss: 0.0601 - acc: 0.5444 - val_loss: 0.0580 - val_acc: 0.5563\n",
            "Epoch 6/30\n",
            "60000/60000 [==============================] - 4s 59us/step - loss: 0.0591 - acc: 0.5501 - val_loss: 0.0570 - val_acc: 0.5613\n",
            "Epoch 7/30\n",
            "60000/60000 [==============================] - 4s 60us/step - loss: 0.0583 - acc: 0.5546 - val_loss: 0.0575 - val_acc: 0.5587\n",
            "Epoch 8/30\n",
            "60000/60000 [==============================] - 4s 59us/step - loss: 0.0572 - acc: 0.5602 - val_loss: 0.0567 - val_acc: 0.5637\n",
            "Epoch 9/30\n",
            "60000/60000 [==============================] - 4s 60us/step - loss: 0.0562 - acc: 0.5651 - val_loss: 0.0557 - val_acc: 0.5685\n",
            "Epoch 10/30\n",
            "60000/60000 [==============================] - 4s 59us/step - loss: 0.0558 - acc: 0.5676 - val_loss: 0.0548 - val_acc: 0.5714\n",
            "Epoch 11/30\n",
            "60000/60000 [==============================] - 4s 59us/step - loss: 0.0554 - acc: 0.5701 - val_loss: 0.0551 - val_acc: 0.5729\n",
            "Epoch 12/30\n",
            "60000/60000 [==============================] - 4s 60us/step - loss: 0.0550 - acc: 0.5713 - val_loss: 0.0540 - val_acc: 0.5768\n",
            "Epoch 13/30\n",
            "60000/60000 [==============================] - 4s 60us/step - loss: 0.0549 - acc: 0.5723 - val_loss: 0.0546 - val_acc: 0.5749\n",
            "Epoch 14/30\n",
            "60000/60000 [==============================] - 4s 60us/step - loss: 0.0543 - acc: 0.5750 - val_loss: 0.0544 - val_acc: 0.5755\n",
            "Epoch 15/30\n",
            "60000/60000 [==============================] - 4s 60us/step - loss: 0.0542 - acc: 0.5750 - val_loss: 0.0537 - val_acc: 0.5776\n",
            "Epoch 16/30\n",
            "60000/60000 [==============================] - 4s 60us/step - loss: 0.0541 - acc: 0.5753 - val_loss: 0.0537 - val_acc: 0.5776\n",
            "Epoch 17/30\n",
            "60000/60000 [==============================] - 4s 59us/step - loss: 0.0541 - acc: 0.5757 - val_loss: 0.0535 - val_acc: 0.5775\n",
            "Epoch 18/30\n",
            "60000/60000 [==============================] - 4s 60us/step - loss: 0.0539 - acc: 0.5771 - val_loss: 0.0541 - val_acc: 0.5789\n",
            "Epoch 19/30\n",
            "60000/60000 [==============================] - 4s 60us/step - loss: 0.0538 - acc: 0.5771 - val_loss: 0.0534 - val_acc: 0.5791\n",
            "Epoch 20/30\n",
            "60000/60000 [==============================] - 4s 60us/step - loss: 0.0537 - acc: 0.5782 - val_loss: 0.0534 - val_acc: 0.5792\n",
            "Epoch 21/30\n",
            "60000/60000 [==============================] - 4s 60us/step - loss: 0.0536 - acc: 0.5782 - val_loss: 0.0528 - val_acc: 0.5804\n",
            "Epoch 22/30\n",
            "60000/60000 [==============================] - 4s 60us/step - loss: 0.0534 - acc: 0.5788 - val_loss: 0.0527 - val_acc: 0.5806\n",
            "Epoch 23/30\n",
            "60000/60000 [==============================] - 4s 59us/step - loss: 0.0533 - acc: 0.5790 - val_loss: 0.0533 - val_acc: 0.5805\n",
            "Epoch 24/30\n",
            "60000/60000 [==============================] - 4s 60us/step - loss: 0.0534 - acc: 0.5791 - val_loss: 0.0527 - val_acc: 0.5817\n",
            "Epoch 25/30\n",
            "60000/60000 [==============================] - 4s 60us/step - loss: 0.0533 - acc: 0.5796 - val_loss: 0.0537 - val_acc: 0.5781\n",
            "Epoch 26/30\n",
            "60000/60000 [==============================] - 4s 60us/step - loss: 0.0531 - acc: 0.5802 - val_loss: 0.0532 - val_acc: 0.5792\n",
            "Epoch 27/30\n",
            "60000/60000 [==============================] - 4s 60us/step - loss: 0.0531 - acc: 0.5798 - val_loss: 0.0527 - val_acc: 0.5815\n",
            "Epoch 28/30\n",
            "60000/60000 [==============================] - 4s 60us/step - loss: 0.0529 - acc: 0.5805 - val_loss: 0.0530 - val_acc: 0.5807\n",
            "Epoch 29/30\n",
            "60000/60000 [==============================] - 4s 60us/step - loss: 0.0529 - acc: 0.5806 - val_loss: 0.0526 - val_acc: 0.5805\n",
            "Epoch 30/30\n",
            "60000/60000 [==============================] - 4s 60us/step - loss: 0.0528 - acc: 0.5807 - val_loss: 0.0528 - val_acc: 0.5801\n",
            "60000/60000 [==============================] - 4s 64us/step\n",
            "Train score: 0.58155\n",
            "10000/10000 [==============================] - 1s 69us/step\n",
            "Test score: 0.5801\n"
          ],
          "name": "stdout"
        }
      ]
    },
    {
      "cell_type": "code",
      "metadata": {
        "id": "dGcD5hPsF6dF",
        "colab_type": "code",
        "colab": {}
      },
      "source": [
        "max(history.history[\"val_acc\"])"
      ],
      "execution_count": 0,
      "outputs": []
    },
    {
      "cell_type": "code",
      "metadata": {
        "id": "qLf4tLtvhW17",
        "colab_type": "code",
        "colab": {
          "base_uri": "https://localhost:8080/",
          "height": 523
        },
        "outputId": "819d49dd-84df-4835-acb1-97e04e3a2d37"
      },
      "source": [
        "plt.figure(figsize = (12, 8))\n",
        "plt.plot(history.history[\"acc\"], color = \"b\")\n",
        "plt.plot(history.history[\"val_acc\"], color = \"r\")\n",
        "plt.title(\"The accuracy of Training and testing datasets\", size = 20)\n",
        "plt.xlabel(\"Epochs\", size = 16)\n",
        "plt.ylabel(\"Accuracy\", size = 16)\n",
        "plt.legend([\"Training\",\"Testing\"])\n",
        "plt.show()"
      ],
      "execution_count": 12,
      "outputs": [
        {
          "output_type": "display_data",
          "data": {
            "image/png": "[encoded data removed]",
            "text/plain": [
              "<Figure size 864x576 with 1 Axes>"
            ]
          },
          "metadata": {
            "tags": []
          }
        }
      ]
    },
    {
      "cell_type": "markdown",
      "metadata": {
        "id": "7T4fp_B9hj2b",
        "colab_type": "text"
      },
      "source": [
        "## 调参 3: 激励函数 "
      ]
    },
    {
      "cell_type": "code",
      "metadata": {
        "id": "PuJKFEcehrR9",
        "colab_type": "code",
        "colab": {
          "base_uri": "https://localhost:8080/",
          "height": 328
        },
        "outputId": "03e6d4ef-3d0e-42ac-ff31-a1e8fcdabb98"
      },
      "source": [
        "model = Sequential()\n",
        "\n",
        "# 第一层: CNN\n",
        "model.add(Conv2D(32, kernel_size = (3, 3), input_shape = (28, 28, 1)))\n",
        "\n",
        "# 第二层：激活层\n",
        "model.add(Activation(\"relu\"))\n",
        "\n",
        "# 第三层：池化层\n",
        "model.add(MaxPooling2D(2, 2))\n",
        "\n",
        "# 将图片拉平\n",
        "model.add(Flatten())\n",
        "model.add(Dense(10, activation = \"softmax\"))\n",
        "\n",
        "model.compile(loss = 'mse', optimizer = adam(), metrics = [\"accuracy\"])\n",
        "model.summary()"
      ],
      "execution_count": 13,
      "outputs": [
        {
          "output_type": "stream",
          "text": [
            "Model: \"sequential_5\"\n",
            "_________________________________________________________________\n",
            "Layer (type)                 Output Shape              Param #   \n",
            "=================================================================\n",
            "conv2d_23 (Conv2D)           (None, 26, 26, 32)        320       \n",
            "_________________________________________________________________\n",
            "activation_23 (Activation)   (None, 26, 26, 32)        0         \n",
            "_________________________________________________________________\n",
            "max_pooling2d_5 (MaxPooling2 (None, 13, 13, 32)        0         \n",
            "_________________________________________________________________\n",
            "flatten_5 (Flatten)          (None, 5408)              0         \n",
            "_________________________________________________________________\n",
            "dense_5 (Dense)              (None, 10)                54090     \n",
            "=================================================================\n",
            "Total params: 54,410\n",
            "Trainable params: 54,410\n",
            "Non-trainable params: 0\n",
            "_________________________________________________________________\n"
          ],
          "name": "stdout"
        }
      ]
    },
    {
      "cell_type": "code",
      "metadata": {
        "id": "1si5CJvulLyO",
        "colab_type": "code",
        "colab": {
          "base_uri": "https://localhost:8080/",
          "height": 1000
        },
        "outputId": "d6d1386b-d17e-45f8-9c9f-f268ff45ba51"
      },
      "source": [
        "history = model.fit(x_train, y_train, \n",
        "                   batch_size = 128, \n",
        "                   epochs = 30,\n",
        "                   validation_data = (x_test, y_test))\n",
        "score = model.evaluate(x_train, y_train)\n",
        "print(\"Train score: {}\".format(score[1]))\n",
        "\n",
        "\n",
        "score = model.evaluate(x_test, y_test)\n",
        "print(\"Test score: {}\".format(score[1]))"
      ],
      "execution_count": 14,
      "outputs": [
        {
          "output_type": "stream",
          "text": [
            "Train on 60000 samples, validate on 10000 samples\n",
            "Epoch 1/30\n",
            "60000/60000 [==============================] - 4s 66us/step - loss: 0.0159 - acc: 0.8986 - val_loss: 0.0086 - val_acc: 0.9441\n",
            "Epoch 2/30\n",
            "60000/60000 [==============================] - 4s 60us/step - loss: 0.0064 - acc: 0.9607 - val_loss: 0.0049 - val_acc: 0.9700\n",
            "Epoch 3/30\n",
            "60000/60000 [==============================] - 4s 60us/step - loss: 0.0044 - acc: 0.9740 - val_loss: 0.0047 - val_acc: 0.9713\n",
            "Epoch 4/30\n",
            "60000/60000 [==============================] - 4s 60us/step - loss: 0.0035 - acc: 0.9792 - val_loss: 0.0036 - val_acc: 0.9761\n",
            "Epoch 5/30\n",
            "60000/60000 [==============================] - 4s 60us/step - loss: 0.0030 - acc: 0.9824 - val_loss: 0.0032 - val_acc: 0.9793\n",
            "Epoch 6/30\n",
            "60000/60000 [==============================] - 4s 61us/step - loss: 0.0026 - acc: 0.9843 - val_loss: 0.0033 - val_acc: 0.9781\n",
            "Epoch 7/30\n",
            "60000/60000 [==============================] - 4s 60us/step - loss: 0.0025 - acc: 0.9855 - val_loss: 0.0030 - val_acc: 0.9806\n",
            "Epoch 8/30\n",
            "60000/60000 [==============================] - 4s 60us/step - loss: 0.0022 - acc: 0.9876 - val_loss: 0.0029 - val_acc: 0.9805\n",
            "Epoch 9/30\n",
            "60000/60000 [==============================] - 4s 60us/step - loss: 0.0020 - acc: 0.9884 - val_loss: 0.0028 - val_acc: 0.9819\n",
            "Epoch 10/30\n",
            "60000/60000 [==============================] - 4s 60us/step - loss: 0.0018 - acc: 0.9895 - val_loss: 0.0029 - val_acc: 0.9809\n",
            "Epoch 11/30\n",
            "60000/60000 [==============================] - 4s 60us/step - loss: 0.0017 - acc: 0.9908 - val_loss: 0.0029 - val_acc: 0.9812\n",
            "Epoch 12/30\n",
            "60000/60000 [==============================] - 4s 60us/step - loss: 0.0016 - acc: 0.9912 - val_loss: 0.0027 - val_acc: 0.9820\n",
            "Epoch 13/30\n",
            "60000/60000 [==============================] - 4s 60us/step - loss: 0.0015 - acc: 0.9920 - val_loss: 0.0027 - val_acc: 0.9814\n",
            "Epoch 14/30\n",
            "60000/60000 [==============================] - 4s 60us/step - loss: 0.0014 - acc: 0.9926 - val_loss: 0.0026 - val_acc: 0.9835\n",
            "Epoch 15/30\n",
            "60000/60000 [==============================] - 4s 60us/step - loss: 0.0013 - acc: 0.9934 - val_loss: 0.0026 - val_acc: 0.9832\n",
            "Epoch 16/30\n",
            "60000/60000 [==============================] - 4s 60us/step - loss: 0.0012 - acc: 0.9938 - val_loss: 0.0029 - val_acc: 0.9811\n",
            "Epoch 17/30\n",
            "60000/60000 [==============================] - 4s 60us/step - loss: 0.0011 - acc: 0.9940 - val_loss: 0.0027 - val_acc: 0.9822\n",
            "Epoch 18/30\n",
            "60000/60000 [==============================] - 4s 60us/step - loss: 0.0011 - acc: 0.9944 - val_loss: 0.0027 - val_acc: 0.9821\n",
            "Epoch 19/30\n",
            "60000/60000 [==============================] - 4s 61us/step - loss: 9.7992e-04 - acc: 0.9949 - val_loss: 0.0028 - val_acc: 0.9825\n",
            "Epoch 20/30\n",
            "60000/60000 [==============================] - 4s 61us/step - loss: 9.4775e-04 - acc: 0.9951 - val_loss: 0.0028 - val_acc: 0.9821\n",
            "Epoch 21/30\n",
            "60000/60000 [==============================] - 4s 61us/step - loss: 8.7476e-04 - acc: 0.9955 - val_loss: 0.0027 - val_acc: 0.9828\n",
            "Epoch 22/30\n",
            "60000/60000 [==============================] - 4s 60us/step - loss: 8.1306e-04 - acc: 0.9960 - val_loss: 0.0027 - val_acc: 0.9829\n",
            "Epoch 23/30\n",
            "60000/60000 [==============================] - 4s 61us/step - loss: 7.5779e-04 - acc: 0.9964 - val_loss: 0.0026 - val_acc: 0.9820\n",
            "Epoch 24/30\n",
            "60000/60000 [==============================] - 4s 60us/step - loss: 7.4352e-04 - acc: 0.9961 - val_loss: 0.0027 - val_acc: 0.9820\n",
            "Epoch 25/30\n",
            "60000/60000 [==============================] - 4s 61us/step - loss: 6.7532e-04 - acc: 0.9966 - val_loss: 0.0028 - val_acc: 0.9818\n",
            "Epoch 26/30\n",
            "60000/60000 [==============================] - 4s 61us/step - loss: 6.5760e-04 - acc: 0.9969 - val_loss: 0.0027 - val_acc: 0.9820\n",
            "Epoch 27/30\n",
            "60000/60000 [==============================] - 4s 60us/step - loss: 6.2640e-04 - acc: 0.9970 - val_loss: 0.0029 - val_acc: 0.9814\n",
            "Epoch 28/30\n",
            "60000/60000 [==============================] - 4s 60us/step - loss: 6.2522e-04 - acc: 0.9970 - val_loss: 0.0028 - val_acc: 0.9811\n",
            "Epoch 29/30\n",
            "60000/60000 [==============================] - 4s 60us/step - loss: 5.6721e-04 - acc: 0.9972 - val_loss: 0.0029 - val_acc: 0.9818\n",
            "Epoch 30/30\n",
            "60000/60000 [==============================] - 4s 60us/step - loss: 5.8575e-04 - acc: 0.9972 - val_loss: 0.0027 - val_acc: 0.9832\n",
            "60000/60000 [==============================] - 4s 66us/step\n",
            "Train score: 0.9975666666666667\n",
            "10000/10000 [==============================] - 1s 65us/step\n",
            "Test score: 0.9832\n"
          ],
          "name": "stdout"
        }
      ]
    },
    {
      "cell_type": "code",
      "metadata": {
        "id": "o57FvHO7F5F5",
        "colab_type": "code",
        "colab": {}
      },
      "source": [
        "max(history.history[\"val_acc\"])"
      ],
      "execution_count": 0,
      "outputs": []
    },
    {
      "cell_type": "code",
      "metadata": {
        "id": "kwQdJHj7lNwd",
        "colab_type": "code",
        "colab": {
          "base_uri": "https://localhost:8080/",
          "height": 523
        },
        "outputId": "a34fddb3-882c-45e7-a61d-c959a8bef9f9"
      },
      "source": [
        "plt.figure(figsize = (12, 8))\n",
        "plt.plot(history.history[\"acc\"], color = \"b\")\n",
        "plt.plot(history.history[\"val_acc\"], color = \"r\")\n",
        "plt.title(\"The accuracy of Training and testing datasets\", size = 20)\n",
        "plt.xlabel(\"Epochs\", size = 16)\n",
        "plt.ylabel(\"Accuracy\", size = 16)\n",
        "plt.legend([\"Training\",\"Testing\"])\n",
        "plt.show()"
      ],
      "execution_count": 15,
      "outputs": [
        {
          "output_type": "display_data",
          "data": {
            "image/png": "[encoded data removed]",
            "text/plain": [
              "<Figure size 864x576 with 1 Axes>"
            ]
          },
          "metadata": {
            "tags": []
          }
        }
      ]
    },
    {
      "cell_type": "code",
      "metadata": {
        "id": "9X97tLBgmjuE",
        "colab_type": "code",
        "colab": {}
      },
      "source": [
        ""
      ],
      "execution_count": 0,
      "outputs": []
    },
    {
      "cell_type": "markdown",
      "metadata": {
        "id": "F0kLP79Ilo67",
        "colab_type": "text"
      },
      "source": [
        "## 调参 4: 目标函数"
      ]
    },
    {
      "cell_type": "code",
      "metadata": {
        "id": "nv0dS1vUmkok",
        "colab_type": "code",
        "colab": {
          "base_uri": "https://localhost:8080/",
          "height": 328
        },
        "outputId": "6f682c91-6967-4884-caea-1f4dbf097dee"
      },
      "source": [
        "model = Sequential()\n",
        "\n",
        "# 第一层: CNN\n",
        "model.add(Conv2D(32, kernel_size = (3, 3), input_shape = (28, 28, 1)))\n",
        "\n",
        "# 第二层：激活层\n",
        "model.add(Activation(\"relu\"))\n",
        "\n",
        "# 第三层：池化层\n",
        "model.add(MaxPooling2D(2, 2))\n",
        "\n",
        "# 将图片拉平\n",
        "model.add(Flatten())\n",
        "model.add(Dense(10, activation = \"softmax\"))\n",
        "\n",
        "model.compile(loss = 'categorical_crossentropy', optimizer = adam(), metrics = [\"accuracy\"])\n",
        "model.summary()"
      ],
      "execution_count": 16,
      "outputs": [
        {
          "output_type": "stream",
          "text": [
            "Model: \"sequential_6\"\n",
            "_________________________________________________________________\n",
            "Layer (type)                 Output Shape              Param #   \n",
            "=================================================================\n",
            "conv2d_24 (Conv2D)           (None, 26, 26, 32)        320       \n",
            "_________________________________________________________________\n",
            "activation_24 (Activation)   (None, 26, 26, 32)        0         \n",
            "_________________________________________________________________\n",
            "max_pooling2d_6 (MaxPooling2 (None, 13, 13, 32)        0         \n",
            "_________________________________________________________________\n",
            "flatten_6 (Flatten)          (None, 5408)              0         \n",
            "_________________________________________________________________\n",
            "dense_6 (Dense)              (None, 10)                54090     \n",
            "=================================================================\n",
            "Total params: 54,410\n",
            "Trainable params: 54,410\n",
            "Non-trainable params: 0\n",
            "_________________________________________________________________\n"
          ],
          "name": "stdout"
        }
      ]
    },
    {
      "cell_type": "code",
      "metadata": {
        "id": "0YhcmRHimeLu",
        "colab_type": "code",
        "colab": {
          "base_uri": "https://localhost:8080/",
          "height": 1000
        },
        "outputId": "8a5c486e-6326-4a1e-c6ff-04f14c4f957d"
      },
      "source": [
        "history = model.fit(x_train, y_train, \n",
        "                   batch_size = 128, \n",
        "                   epochs = 30,\n",
        "                   validation_data = (x_test, y_test))\n",
        "score = model.evaluate(x_train, y_train)\n",
        "print(\"Train score: {}\".format(score[1]))\n",
        "\n",
        "\n",
        "score = model.evaluate(x_test, y_test)\n",
        "print(\"Test score: {}\".format(score[1]))"
      ],
      "execution_count": 17,
      "outputs": [
        {
          "output_type": "stream",
          "text": [
            "WARNING:tensorflow:From /usr/local/lib/python3.6/dist-packages/tensorflow/python/ops/math_grad.py:1250: add_dispatch_support.<locals>.wrapper (from tensorflow.python.ops.array_ops) is deprecated and will be removed in a future version.\n",
            "Instructions for updating:\n",
            "Use tf.where in 2.0, which has the same broadcast rule as np.where\n",
            "Train on 60000 samples, validate on 10000 samples\n",
            "Epoch 1/30\n",
            "60000/60000 [==============================] - 4s 71us/step - loss: 0.3582 - acc: 0.9022 - val_loss: 0.1610 - val_acc: 0.9558\n",
            "Epoch 2/30\n",
            "60000/60000 [==============================] - 4s 63us/step - loss: 0.1309 - acc: 0.9642 - val_loss: 0.0983 - val_acc: 0.9717\n",
            "Epoch 3/30\n",
            "60000/60000 [==============================] - 4s 62us/step - loss: 0.0884 - acc: 0.9759 - val_loss: 0.0753 - val_acc: 0.9769\n",
            "Epoch 4/30\n",
            "60000/60000 [==============================] - 4s 64us/step - loss: 0.0710 - acc: 0.9801 - val_loss: 0.0664 - val_acc: 0.9793\n",
            "Epoch 5/30\n",
            "60000/60000 [==============================] - 4s 63us/step - loss: 0.0616 - acc: 0.9821 - val_loss: 0.0597 - val_acc: 0.9808\n",
            "Epoch 6/30\n",
            "60000/60000 [==============================] - 4s 63us/step - loss: 0.0545 - acc: 0.9842 - val_loss: 0.0574 - val_acc: 0.9810\n",
            "Epoch 7/30\n",
            "60000/60000 [==============================] - 4s 63us/step - loss: 0.0490 - acc: 0.9858 - val_loss: 0.0543 - val_acc: 0.9817\n",
            "Epoch 8/30\n",
            "60000/60000 [==============================] - 4s 65us/step - loss: 0.0449 - acc: 0.9866 - val_loss: 0.0558 - val_acc: 0.9817\n",
            "Epoch 9/30\n",
            "60000/60000 [==============================] - 4s 63us/step - loss: 0.0421 - acc: 0.9876 - val_loss: 0.0527 - val_acc: 0.9827\n",
            "Epoch 10/30\n",
            "60000/60000 [==============================] - 4s 63us/step - loss: 0.0384 - acc: 0.9889 - val_loss: 0.0520 - val_acc: 0.9825\n",
            "Epoch 11/30\n",
            "60000/60000 [==============================] - 4s 63us/step - loss: 0.0350 - acc: 0.9896 - val_loss: 0.0548 - val_acc: 0.9825\n",
            "Epoch 12/30\n",
            "60000/60000 [==============================] - 4s 63us/step - loss: 0.0322 - acc: 0.9907 - val_loss: 0.0522 - val_acc: 0.9826\n",
            "Epoch 13/30\n",
            "60000/60000 [==============================] - 4s 63us/step - loss: 0.0297 - acc: 0.9914 - val_loss: 0.0536 - val_acc: 0.9823\n",
            "Epoch 14/30\n",
            "60000/60000 [==============================] - 4s 63us/step - loss: 0.0271 - acc: 0.9923 - val_loss: 0.0561 - val_acc: 0.9826\n",
            "Epoch 15/30\n",
            "60000/60000 [==============================] - 4s 63us/step - loss: 0.0255 - acc: 0.9928 - val_loss: 0.0526 - val_acc: 0.9832\n",
            "Epoch 16/30\n",
            "60000/60000 [==============================] - 4s 63us/step - loss: 0.0234 - acc: 0.9932 - val_loss: 0.0515 - val_acc: 0.9842\n",
            "Epoch 17/30\n",
            "60000/60000 [==============================] - 4s 63us/step - loss: 0.0220 - acc: 0.9937 - val_loss: 0.0524 - val_acc: 0.9830\n",
            "Epoch 18/30\n",
            "60000/60000 [==============================] - 4s 62us/step - loss: 0.0200 - acc: 0.9944 - val_loss: 0.0593 - val_acc: 0.9826\n",
            "Epoch 19/30\n",
            "60000/60000 [==============================] - 4s 65us/step - loss: 0.0180 - acc: 0.9951 - val_loss: 0.0560 - val_acc: 0.9823\n",
            "Epoch 20/30\n",
            "60000/60000 [==============================] - 4s 66us/step - loss: 0.0165 - acc: 0.9958 - val_loss: 0.0557 - val_acc: 0.9835\n",
            "Epoch 21/30\n",
            "60000/60000 [==============================] - 4s 66us/step - loss: 0.0149 - acc: 0.9961 - val_loss: 0.0554 - val_acc: 0.9838\n",
            "Epoch 22/30\n",
            "60000/60000 [==============================] - 4s 63us/step - loss: 0.0136 - acc: 0.9964 - val_loss: 0.0649 - val_acc: 0.9827\n",
            "Epoch 23/30\n",
            "60000/60000 [==============================] - 4s 62us/step - loss: 0.0128 - acc: 0.9968 - val_loss: 0.0615 - val_acc: 0.9824\n",
            "Epoch 24/30\n",
            "60000/60000 [==============================] - 4s 62us/step - loss: 0.0111 - acc: 0.9973 - val_loss: 0.0637 - val_acc: 0.9831\n",
            "Epoch 25/30\n",
            "60000/60000 [==============================] - 4s 62us/step - loss: 0.0105 - acc: 0.9975 - val_loss: 0.0634 - val_acc: 0.9830\n",
            "Epoch 26/30\n",
            "60000/60000 [==============================] - 4s 62us/step - loss: 0.0097 - acc: 0.9977 - val_loss: 0.0621 - val_acc: 0.9827\n",
            "Epoch 27/30\n",
            "60000/60000 [==============================] - 4s 63us/step - loss: 0.0085 - acc: 0.9981 - val_loss: 0.0692 - val_acc: 0.9832\n",
            "Epoch 28/30\n",
            "60000/60000 [==============================] - 4s 61us/step - loss: 0.0079 - acc: 0.9984 - val_loss: 0.0692 - val_acc: 0.9831\n",
            "Epoch 29/30\n",
            "60000/60000 [==============================] - 4s 63us/step - loss: 0.0073 - acc: 0.9985 - val_loss: 0.0667 - val_acc: 0.9830\n",
            "Epoch 30/30\n",
            "60000/60000 [==============================] - 4s 63us/step - loss: 0.0061 - acc: 0.9990 - val_loss: 0.0773 - val_acc: 0.9819\n",
            "60000/60000 [==============================] - 4s 68us/step\n",
            "Train score: 0.99675\n",
            "10000/10000 [==============================] - 1s 66us/step\n",
            "Test score: 0.9819\n"
          ],
          "name": "stdout"
        }
      ]
    },
    {
      "cell_type": "code",
      "metadata": {
        "id": "UdrRLBuVF3mv",
        "colab_type": "code",
        "colab": {}
      },
      "source": [
        "max(history.history[\"val_acc\"])"
      ],
      "execution_count": 0,
      "outputs": []
    },
    {
      "cell_type": "code",
      "metadata": {
        "id": "c6xdWG8Zmunn",
        "colab_type": "code",
        "colab": {
          "base_uri": "https://localhost:8080/",
          "height": 523
        },
        "outputId": "cc536ac3-0d20-491a-a0d0-009aefb0d23b"
      },
      "source": [
        "plt.figure(figsize = (12, 8))\n",
        "plt.plot(history.history[\"acc\"], color = \"b\")\n",
        "plt.plot(history.history[\"val_acc\"], color = \"r\")\n",
        "plt.title(\"The accuracy of Training and testing datasets\", size = 20)\n",
        "plt.xlabel(\"Epochs\", size = 16)\n",
        "plt.ylabel(\"Accuracy\", size = 16)\n",
        "plt.legend([\"Training\",\"Testing\"])\n",
        "plt.show()"
      ],
      "execution_count": 18,
      "outputs": [
        {
          "output_type": "display_data",
          "data": {
            "image/png": "[encoded data removed]",
            "text/plain": [
              "<Figure size 864x576 with 1 Axes>"
            ]
          },
          "metadata": {
            "tags": []
          }
        }
      ]
    },
    {
      "cell_type": "code",
      "metadata": {
        "id": "D_fUeHD7F2GD",
        "colab_type": "code",
        "colab": {}
      },
      "source": [
        ""
      ],
      "execution_count": 0,
      "outputs": []
    },
    {
      "cell_type": "markdown",
      "metadata": {
        "id": "Uci32GtWlvNJ",
        "colab_type": "text"
      },
      "source": [
        "## 调参 5: 优化函数"
      ]
    },
    {
      "cell_type": "code",
      "metadata": {
        "id": "tazI1OE-m6OZ",
        "colab_type": "code",
        "colab": {}
      },
      "source": [
        "model = Sequential()\n",
        "\n",
        "# 第一层: CNN\n",
        "model.add(Conv2D(32, kernel_size = (3, 3), input_shape = (28, 28, 1)))\n",
        "\n",
        "# 第二层：激活层\n",
        "model.add(Activation(\"relu\"))\n",
        "\n",
        "# 第三层：池化层\n",
        "model.add(MaxPooling2D(2, 2))\n",
        "\n",
        "# 将图片拉平\n",
        "model.add(Flatten())\n",
        "model.add(Dense(10, activation = \"softmax\"))\n",
        "\n",
        "model.compile(loss = 'categorical_crossentropy', optimizer = adam(), metrics = [\"accuracy\"])\n",
        "model.summary()"
      ],
      "execution_count": 0,
      "outputs": []
    },
    {
      "cell_type": "code",
      "metadata": {
        "id": "5sMO7N3znC2R",
        "colab_type": "code",
        "colab": {}
      },
      "source": [
        "history = model.fit(x_train, y_train, \n",
        "                   batch_size = 128, \n",
        "                   epochs = 30,\n",
        "                   validation_data = (x_test, y_test))\n",
        "score = model.evaluate(x_train, y_train)\n",
        "print(\"Train score: {}\".format(score[1]))\n",
        "\n",
        "\n",
        "score = model.evaluate(x_test, y_test)\n",
        "print(\"Test score: {}\".format(score[1]))"
      ],
      "execution_count": 0,
      "outputs": []
    },
    {
      "cell_type": "code",
      "metadata": {
        "id": "34usWrXfm1Q9",
        "colab_type": "code",
        "colab": {}
      },
      "source": [
        "plt.figure(figsize = (12, 8))\n",
        "plt.plot(history.history[\"acc\"], color = \"b\")\n",
        "plt.plot(history.history[\"val_acc\"], color = \"r\")\n",
        "plt.title(\"The accuracy of Training and testing datasets\", size = 20)\n",
        "plt.xlabel(\"Epochs\", size = 16)\n",
        "plt.ylabel(\"Accuracy\", size = 16)\n",
        "plt.legend([\"Training\",\"Testing\"])\n",
        "plt.show()"
      ],
      "execution_count": 0,
      "outputs": []
    },
    {
      "cell_type": "markdown",
      "metadata": {
        "id": "E-lqGGAJlzrZ",
        "colab_type": "text"
      },
      "source": [
        "## 调参 6: 批归一化（BN）"
      ]
    },
    {
      "cell_type": "code",
      "metadata": {
        "id": "2tExRWaAm8pO",
        "colab_type": "code",
        "colab": {
          "base_uri": "https://localhost:8080/",
          "height": 397
        },
        "outputId": "9e5f2faa-48c6-4749-b891-0b55a6191273"
      },
      "source": [
        "from keras.layers.normalization import BatchNormalization\n",
        "\n",
        "model = Sequential()\n",
        "\n",
        "# 第一层: CNN\n",
        "model.add(Conv2D(32, kernel_size = (3, 3), input_shape = (28, 28, 1)))\n",
        "model.add(BatchNormalization())\n",
        "# 第二层：激活层\n",
        "model.add(Activation(\"relu\"))\n",
        "\n",
        "# 第三层：池化层\n",
        "model.add(MaxPooling2D(2, 2))\n",
        "\n",
        "# 将图片拉平\n",
        "model.add(Flatten())\n",
        "model.add(BatchNormalization())\n",
        "model.add(Dense(10, activation = \"softmax\"))\n",
        "\n",
        "model.compile(loss = 'categorical_crossentropy', optimizer = adam(), metrics = [\"accuracy\"])\n",
        "model.summary()"
      ],
      "execution_count": 22,
      "outputs": [
        {
          "output_type": "stream",
          "text": [
            "Model: \"sequential_10\"\n",
            "_________________________________________________________________\n",
            "Layer (type)                 Output Shape              Param #   \n",
            "=================================================================\n",
            "conv2d_28 (Conv2D)           (None, 26, 26, 32)        320       \n",
            "_________________________________________________________________\n",
            "batch_normalization_2 (Batch (None, 26, 26, 32)        128       \n",
            "_________________________________________________________________\n",
            "activation_26 (Activation)   (None, 26, 26, 32)        0         \n",
            "_________________________________________________________________\n",
            "max_pooling2d_8 (MaxPooling2 (None, 13, 13, 32)        0         \n",
            "_________________________________________________________________\n",
            "flatten_8 (Flatten)          (None, 5408)              0         \n",
            "_________________________________________________________________\n",
            "batch_normalization_3 (Batch (None, 5408)              21632     \n",
            "_________________________________________________________________\n",
            "dense_8 (Dense)              (None, 10)                54090     \n",
            "=================================================================\n",
            "Total params: 76,170\n",
            "Trainable params: 65,290\n",
            "Non-trainable params: 10,880\n",
            "_________________________________________________________________\n"
          ],
          "name": "stdout"
        }
      ]
    },
    {
      "cell_type": "code",
      "metadata": {
        "id": "V8gATyjtnEBL",
        "colab_type": "code",
        "colab": {
          "base_uri": "https://localhost:8080/",
          "height": 1000
        },
        "outputId": "c329f867-8dad-42df-86b6-8c9856c7951c"
      },
      "source": [
        "history = model.fit(x_train, y_train, \n",
        "                   batch_size = 128, \n",
        "                   epochs = 30,\n",
        "                   validation_data = (x_test, y_test))\n",
        "score = model.evaluate(x_train, y_train)\n",
        "print(\"Train score: {}\".format(score[1]))\n",
        "\n",
        "\n",
        "score = model.evaluate(x_test, y_test)\n",
        "print(\"Test score: {}\".format(score[1]))"
      ],
      "execution_count": 23,
      "outputs": [
        {
          "output_type": "stream",
          "text": [
            "Train on 60000 samples, validate on 10000 samples\n",
            "Epoch 1/30\n",
            "60000/60000 [==============================] - 7s 116us/step - loss: 0.1809 - acc: 0.9468 - val_loss: 0.1299 - val_acc: 0.9609\n",
            "Epoch 2/30\n",
            "60000/60000 [==============================] - 6s 103us/step - loss: 0.0754 - acc: 0.9775 - val_loss: 0.1241 - val_acc: 0.9644\n",
            "Epoch 3/30\n",
            "60000/60000 [==============================] - 6s 101us/step - loss: 0.0542 - acc: 0.9837 - val_loss: 0.1337 - val_acc: 0.9645\n",
            "Epoch 4/30\n",
            "60000/60000 [==============================] - 6s 100us/step - loss: 0.0424 - acc: 0.9866 - val_loss: 0.0852 - val_acc: 0.9765\n",
            "Epoch 5/30\n",
            "60000/60000 [==============================] - 6s 100us/step - loss: 0.0345 - acc: 0.9887 - val_loss: 0.1147 - val_acc: 0.9703\n",
            "Epoch 6/30\n",
            "60000/60000 [==============================] - 6s 103us/step - loss: 0.0279 - acc: 0.9907 - val_loss: 0.1316 - val_acc: 0.9684\n",
            "Epoch 7/30\n",
            "60000/60000 [==============================] - 6s 105us/step - loss: 0.0246 - acc: 0.9921 - val_loss: 0.1087 - val_acc: 0.9758\n",
            "Epoch 8/30\n",
            "60000/60000 [==============================] - 6s 100us/step - loss: 0.0232 - acc: 0.9922 - val_loss: 0.1542 - val_acc: 0.9686\n",
            "Epoch 9/30\n",
            "60000/60000 [==============================] - 6s 100us/step - loss: 0.0181 - acc: 0.9938 - val_loss: 0.1227 - val_acc: 0.9737\n",
            "Epoch 10/30\n",
            "60000/60000 [==============================] - 6s 101us/step - loss: 0.0162 - acc: 0.9946 - val_loss: 0.1290 - val_acc: 0.9734\n",
            "Epoch 11/30\n",
            "60000/60000 [==============================] - 6s 101us/step - loss: 0.0144 - acc: 0.9950 - val_loss: 0.1269 - val_acc: 0.9767\n",
            "Epoch 12/30\n",
            "60000/60000 [==============================] - 6s 101us/step - loss: 0.0153 - acc: 0.9950 - val_loss: 0.1189 - val_acc: 0.9776\n",
            "Epoch 13/30\n",
            "60000/60000 [==============================] - 6s 101us/step - loss: 0.0144 - acc: 0.9954 - val_loss: 0.1931 - val_acc: 0.9650\n",
            "Epoch 14/30\n",
            "60000/60000 [==============================] - 6s 101us/step - loss: 0.0126 - acc: 0.9952 - val_loss: 0.1462 - val_acc: 0.9742\n",
            "Epoch 15/30\n",
            "60000/60000 [==============================] - 6s 101us/step - loss: 0.0118 - acc: 0.9963 - val_loss: 0.1333 - val_acc: 0.9744\n",
            "Epoch 16/30\n",
            "60000/60000 [==============================] - 6s 100us/step - loss: 0.0098 - acc: 0.9966 - val_loss: 0.1165 - val_acc: 0.9769\n",
            "Epoch 17/30\n",
            "60000/60000 [==============================] - 6s 101us/step - loss: 0.0105 - acc: 0.9966 - val_loss: 0.1187 - val_acc: 0.9784\n",
            "Epoch 18/30\n",
            "60000/60000 [==============================] - 6s 100us/step - loss: 0.0118 - acc: 0.9961 - val_loss: 0.1419 - val_acc: 0.9763\n",
            "Epoch 19/30\n",
            "60000/60000 [==============================] - 6s 101us/step - loss: 0.0090 - acc: 0.9970 - val_loss: 0.1151 - val_acc: 0.9809\n",
            "Epoch 20/30\n",
            "60000/60000 [==============================] - 6s 99us/step - loss: 0.0094 - acc: 0.9972 - val_loss: 0.1413 - val_acc: 0.9765\n",
            "Epoch 21/30\n",
            "60000/60000 [==============================] - 6s 99us/step - loss: 0.0080 - acc: 0.9973 - val_loss: 0.1351 - val_acc: 0.9791\n",
            "Epoch 22/30\n",
            "60000/60000 [==============================] - 6s 99us/step - loss: 0.0083 - acc: 0.9973 - val_loss: 0.1289 - val_acc: 0.9806\n",
            "Epoch 23/30\n",
            "60000/60000 [==============================] - 6s 101us/step - loss: 0.0067 - acc: 0.9980 - val_loss: 0.1441 - val_acc: 0.9783\n",
            "Epoch 24/30\n",
            "60000/60000 [==============================] - 6s 100us/step - loss: 0.0084 - acc: 0.9976 - val_loss: 0.1470 - val_acc: 0.9783\n",
            "Epoch 25/30\n",
            "60000/60000 [==============================] - 6s 99us/step - loss: 0.0068 - acc: 0.9977 - val_loss: 0.1608 - val_acc: 0.9752\n",
            "Epoch 26/30\n",
            "60000/60000 [==============================] - 6s 99us/step - loss: 0.0083 - acc: 0.9972 - val_loss: 0.1498 - val_acc: 0.9761\n",
            "Epoch 27/30\n",
            "60000/60000 [==============================] - 6s 99us/step - loss: 0.0064 - acc: 0.9979 - val_loss: 0.1383 - val_acc: 0.9792\n",
            "Epoch 28/30\n",
            "60000/60000 [==============================] - 6s 99us/step - loss: 0.0075 - acc: 0.9976 - val_loss: 0.1288 - val_acc: 0.9814\n",
            "Epoch 29/30\n",
            "60000/60000 [==============================] - 6s 99us/step - loss: 0.0070 - acc: 0.9978 - val_loss: 0.1508 - val_acc: 0.9789\n",
            "Epoch 30/30\n",
            "60000/60000 [==============================] - 6s 100us/step - loss: 0.0076 - acc: 0.9980 - val_loss: 0.1430 - val_acc: 0.9804\n",
            "60000/60000 [==============================] - 5s 84us/step\n",
            "Train score: 0.99825\n",
            "10000/10000 [==============================] - 1s 86us/step\n",
            "Test score: 0.9804\n"
          ],
          "name": "stdout"
        }
      ]
    },
    {
      "cell_type": "code",
      "metadata": {
        "id": "l8Gd0VSxF0OA",
        "colab_type": "code",
        "colab": {}
      },
      "source": [
        "max(history.history[\"val_acc\"])"
      ],
      "execution_count": 0,
      "outputs": []
    },
    {
      "cell_type": "code",
      "metadata": {
        "id": "NyNrTlfLm0cq",
        "colab_type": "code",
        "colab": {
          "base_uri": "https://localhost:8080/",
          "height": 523
        },
        "outputId": "5e37cd0e-7313-4d80-b178-1bb87125a35e"
      },
      "source": [
        "plt.figure(figsize = (12, 8))\n",
        "plt.plot(history.history[\"acc\"], color = \"b\")\n",
        "plt.plot(history.history[\"val_acc\"], color = \"r\")\n",
        "plt.title(\"The accuracy of Training and testing datasets\", size = 20)\n",
        "plt.xlabel(\"Epochs\", size = 16)\n",
        "plt.ylabel(\"Accuracy\", size = 16)\n",
        "plt.legend([\"Training\",\"Testing\"])\n",
        "plt.show()"
      ],
      "execution_count": 24,
      "outputs": [
        {
          "output_type": "display_data",
          "data": {
            "image/png": "[encoded data removed]",
            "text/plain": [
              "<Figure size 864x576 with 1 Axes>"
            ]
          },
          "metadata": {
            "tags": []
          }
        }
      ]
    },
    {
      "cell_type": "markdown",
      "metadata": {
        "id": "2TUSnTcTl8HJ",
        "colab_type": "text"
      },
      "source": [
        "## 调参 7：Dropout"
      ]
    },
    {
      "cell_type": "code",
      "metadata": {
        "id": "UvwFtpdcm9d3",
        "colab_type": "code",
        "colab": {
          "base_uri": "https://localhost:8080/",
          "height": 504
        },
        "outputId": "72871fe2-70be-4a52-d88d-9ef46c972946"
      },
      "source": [
        "model = Sequential()\n",
        "\n",
        "# 第一层: CNN\n",
        "model.add(Conv2D(32, kernel_size = (3, 3), input_shape = (28, 28, 1)))\n",
        "model.add(BatchNormalization())\n",
        "# 第二层：激活层\n",
        "model.add(Activation(\"relu\"))\n",
        "\n",
        "# 第三层：池化层\n",
        "model.add(MaxPooling2D(2, 2))\n",
        "model.add(Dropout(0.5))\n",
        "\n",
        "# 将图片拉平\n",
        "model.add(Flatten())\n",
        "model.add(BatchNormalization())\n",
        "model.add(Dense(10, activation = \"softmax\"))\n",
        "\n",
        "model.compile(loss = 'categorical_crossentropy', optimizer = adam(), metrics = [\"accuracy\"])\n",
        "model.summary()"
      ],
      "execution_count": 25,
      "outputs": [
        {
          "output_type": "stream",
          "text": [
            "WARNING:tensorflow:From /usr/local/lib/python3.6/dist-packages/keras/backend/tensorflow_backend.py:3733: calling dropout (from tensorflow.python.ops.nn_ops) with keep_prob is deprecated and will be removed in a future version.\n",
            "Instructions for updating:\n",
            "Please use `rate` instead of `keep_prob`. Rate should be set to `rate = 1 - keep_prob`.\n",
            "Model: \"sequential_11\"\n",
            "_________________________________________________________________\n",
            "Layer (type)                 Output Shape              Param #   \n",
            "=================================================================\n",
            "conv2d_29 (Conv2D)           (None, 26, 26, 32)        320       \n",
            "_________________________________________________________________\n",
            "batch_normalization_4 (Batch (None, 26, 26, 32)        128       \n",
            "_________________________________________________________________\n",
            "activation_27 (Activation)   (None, 26, 26, 32)        0         \n",
            "_________________________________________________________________\n",
            "max_pooling2d_9 (MaxPooling2 (None, 13, 13, 32)        0         \n",
            "_________________________________________________________________\n",
            "dropout_1 (Dropout)          (None, 13, 13, 32)        0         \n",
            "_________________________________________________________________\n",
            "flatten_9 (Flatten)          (None, 5408)              0         \n",
            "_________________________________________________________________\n",
            "batch_normalization_5 (Batch (None, 5408)              21632     \n",
            "_________________________________________________________________\n",
            "dense_9 (Dense)              (None, 10)                54090     \n",
            "=================================================================\n",
            "Total params: 76,170\n",
            "Trainable params: 65,290\n",
            "Non-trainable params: 10,880\n",
            "_________________________________________________________________\n"
          ],
          "name": "stdout"
        }
      ]
    },
    {
      "cell_type": "code",
      "metadata": {
        "id": "aEXcV9bMnFNA",
        "colab_type": "code",
        "colab": {
          "base_uri": "https://localhost:8080/",
          "height": 1000
        },
        "outputId": "bf0f3e8c-1fc8-4e6d-811b-31faa213a131"
      },
      "source": [
        "history = model.fit(x_train, y_train, \n",
        "                   batch_size = 128, \n",
        "                   epochs = 30,\n",
        "                   validation_data = (x_test, y_test))\n",
        "score = model.evaluate(x_train, y_train)\n",
        "print(\"Train score: {}\".format(score[1]))\n",
        "\n",
        "\n",
        "score = model.evaluate(x_test, y_test)\n",
        "print(\"Test score: {}\".format(score[1]))"
      ],
      "execution_count": 26,
      "outputs": [
        {
          "output_type": "stream",
          "text": [
            "Train on 60000 samples, validate on 10000 samples\n",
            "Epoch 1/30\n",
            "60000/60000 [==============================] - 8s 125us/step - loss: 0.2948 - acc: 0.9103 - val_loss: 0.1051 - val_acc: 0.9695\n",
            "Epoch 2/30\n",
            "60000/60000 [==============================] - 6s 102us/step - loss: 0.1322 - acc: 0.9591 - val_loss: 0.0799 - val_acc: 0.9756\n",
            "Epoch 3/30\n",
            "60000/60000 [==============================] - 6s 101us/step - loss: 0.1058 - acc: 0.9683 - val_loss: 0.0760 - val_acc: 0.9787\n",
            "Epoch 4/30\n",
            "60000/60000 [==============================] - 6s 100us/step - loss: 0.0949 - acc: 0.9712 - val_loss: 0.0908 - val_acc: 0.9749\n",
            "Epoch 5/30\n",
            "60000/60000 [==============================] - 6s 102us/step - loss: 0.0876 - acc: 0.9731 - val_loss: 0.0645 - val_acc: 0.9810\n",
            "Epoch 6/30\n",
            "60000/60000 [==============================] - 6s 102us/step - loss: 0.0804 - acc: 0.9751 - val_loss: 0.0665 - val_acc: 0.9810\n",
            "Epoch 7/30\n",
            "60000/60000 [==============================] - 6s 102us/step - loss: 0.0799 - acc: 0.9754 - val_loss: 0.0674 - val_acc: 0.9810\n",
            "Epoch 8/30\n",
            "60000/60000 [==============================] - 6s 101us/step - loss: 0.0735 - acc: 0.9777 - val_loss: 0.0639 - val_acc: 0.9816\n",
            "Epoch 9/30\n",
            "60000/60000 [==============================] - 6s 101us/step - loss: 0.0691 - acc: 0.9795 - val_loss: 0.0807 - val_acc: 0.9804\n",
            "Epoch 10/30\n",
            "60000/60000 [==============================] - 6s 101us/step - loss: 0.0698 - acc: 0.9788 - val_loss: 0.0740 - val_acc: 0.9821\n",
            "Epoch 11/30\n",
            "60000/60000 [==============================] - 6s 102us/step - loss: 0.0656 - acc: 0.9799 - val_loss: 0.0704 - val_acc: 0.9829\n",
            "Epoch 12/30\n",
            "60000/60000 [==============================] - 6s 101us/step - loss: 0.0643 - acc: 0.9803 - val_loss: 0.0736 - val_acc: 0.9820\n",
            "Epoch 13/30\n",
            "60000/60000 [==============================] - 6s 101us/step - loss: 0.0629 - acc: 0.9814 - val_loss: 0.0687 - val_acc: 0.9822\n",
            "Epoch 14/30\n",
            "60000/60000 [==============================] - 6s 100us/step - loss: 0.0624 - acc: 0.9819 - val_loss: 0.0697 - val_acc: 0.9836\n",
            "Epoch 15/30\n",
            "60000/60000 [==============================] - 6s 102us/step - loss: 0.0569 - acc: 0.9823 - val_loss: 0.0726 - val_acc: 0.9837\n",
            "Epoch 16/30\n",
            "60000/60000 [==============================] - 6s 101us/step - loss: 0.0588 - acc: 0.9823 - val_loss: 0.0763 - val_acc: 0.9817\n",
            "Epoch 17/30\n",
            "60000/60000 [==============================] - 6s 100us/step - loss: 0.0564 - acc: 0.9832 - val_loss: 0.0663 - val_acc: 0.9854\n",
            "Epoch 18/30\n",
            "60000/60000 [==============================] - 6s 100us/step - loss: 0.0563 - acc: 0.9831 - val_loss: 0.0727 - val_acc: 0.9829\n",
            "Epoch 19/30\n",
            "60000/60000 [==============================] - 6s 100us/step - loss: 0.0553 - acc: 0.9829 - val_loss: 0.0694 - val_acc: 0.9845\n",
            "Epoch 20/30\n",
            "60000/60000 [==============================] - 6s 100us/step - loss: 0.0515 - acc: 0.9840 - val_loss: 0.0689 - val_acc: 0.9851\n",
            "Epoch 21/30\n",
            "60000/60000 [==============================] - 6s 101us/step - loss: 0.0535 - acc: 0.9835 - val_loss: 0.0653 - val_acc: 0.9859\n",
            "Epoch 22/30\n",
            "60000/60000 [==============================] - 6s 101us/step - loss: 0.0538 - acc: 0.9838 - val_loss: 0.0756 - val_acc: 0.9846\n",
            "Epoch 23/30\n",
            "60000/60000 [==============================] - 6s 100us/step - loss: 0.0509 - acc: 0.9847 - val_loss: 0.0712 - val_acc: 0.9859\n",
            "Epoch 24/30\n",
            "60000/60000 [==============================] - 6s 102us/step - loss: 0.0493 - acc: 0.9848 - val_loss: 0.0704 - val_acc: 0.9841\n",
            "Epoch 25/30\n",
            "60000/60000 [==============================] - 6s 101us/step - loss: 0.0519 - acc: 0.9845 - val_loss: 0.0753 - val_acc: 0.9844\n",
            "Epoch 26/30\n",
            "60000/60000 [==============================] - 6s 100us/step - loss: 0.0484 - acc: 0.9856 - val_loss: 0.0771 - val_acc: 0.9850\n",
            "Epoch 27/30\n",
            "60000/60000 [==============================] - 6s 99us/step - loss: 0.0484 - acc: 0.9855 - val_loss: 0.0698 - val_acc: 0.9854\n",
            "Epoch 28/30\n",
            "60000/60000 [==============================] - 6s 99us/step - loss: 0.0494 - acc: 0.9853 - val_loss: 0.0751 - val_acc: 0.9831\n",
            "Epoch 29/30\n",
            "60000/60000 [==============================] - 6s 99us/step - loss: 0.0480 - acc: 0.9853 - val_loss: 0.0666 - val_acc: 0.9862\n",
            "Epoch 30/30\n",
            "60000/60000 [==============================] - 6s 100us/step - loss: 0.0427 - acc: 0.9864 - val_loss: 0.0734 - val_acc: 0.9861\n",
            "60000/60000 [==============================] - 5s 83us/step\n",
            "Train score: 0.9963666666666666\n",
            "10000/10000 [==============================] - 1s 85us/step\n",
            "Test score: 0.9861\n"
          ],
          "name": "stdout"
        }
      ]
    },
    {
      "cell_type": "code",
      "metadata": {
        "id": "ba251Mv0Fywj",
        "colab_type": "code",
        "colab": {}
      },
      "source": [
        "max(history.history[\"val_acc\"])"
      ],
      "execution_count": 0,
      "outputs": []
    },
    {
      "cell_type": "code",
      "metadata": {
        "id": "OwjN17zum2Q1",
        "colab_type": "code",
        "colab": {
          "base_uri": "https://localhost:8080/",
          "height": 523
        },
        "outputId": "6acf8469-799d-4b59-f720-0d075aae4233"
      },
      "source": [
        "plt.figure(figsize = (12, 8))\n",
        "plt.plot(history.history[\"acc\"], color = \"b\")\n",
        "plt.plot(history.history[\"val_acc\"], color = \"r\")\n",
        "plt.title(\"The accuracy of Training and testing datasets\", size = 20)\n",
        "plt.xlabel(\"Epochs\", size = 16)\n",
        "plt.ylabel(\"Accuracy\", size = 16)\n",
        "plt.legend([\"Training\",\"Testing\"])\n",
        "plt.show()"
      ],
      "execution_count": 27,
      "outputs": [
        {
          "output_type": "display_data",
          "data": {
            "image/png": "[encoded data removed]",
            "text/plain": [
              "<Figure size 864x576 with 1 Axes>"
            ]
          },
          "metadata": {
            "tags": []
          }
        }
      ]
    },
    {
      "cell_type": "markdown",
      "metadata": {
        "id": "Y-Jvle17mB6u",
        "colab_type": "text"
      },
      "source": [
        "## 调参 8： 卷积核个数， 大小"
      ]
    },
    {
      "cell_type": "code",
      "metadata": {
        "id": "OPpm9NpGm-Rj",
        "colab_type": "code",
        "colab": {
          "base_uri": "https://localhost:8080/",
          "height": 639
        },
        "outputId": "edd00c4e-3c03-4446-e172-e04397a68ceb"
      },
      "source": [
        "model = Sequential()\n",
        "\n",
        "# 第一层: CNN\n",
        "model.add(Conv2D(64, kernel_size = (3, 3), input_shape = (28, 28, 1)))\n",
        "model.add(BatchNormalization())\n",
        "# 第二层：激活层\n",
        "model.add(Activation(\"relu\"))\n",
        "\n",
        "# 第一层: CNN\n",
        "model.add(Conv2D(64, kernel_size = (3, 3)))\n",
        "model.add(BatchNormalization())\n",
        "# 第二层：激活层\n",
        "model.add(Activation(\"relu\"))\n",
        "\n",
        "# 第二层：激活层\n",
        "# 第一层: CNN\n",
        "model.add(Conv2D(32, kernel_size = (3, 3)))\n",
        "model.add(BatchNormalization())\n",
        "\n",
        "\n",
        "# 第二层：激活层\n",
        "model.add(Activation(\"relu\"))\n",
        "\n",
        "# 第三层：池化层\n",
        "model.add(MaxPooling2D(2, 2))\n",
        "model.add(Dropout(0.5))\n",
        "\n",
        "# 将图片拉平\n",
        "model.add(Flatten())\n",
        "model.add(BatchNormalization())\n",
        "model.add(Dense(10, activation = \"softmax\"))\n",
        "\n",
        "model.compile(loss = 'categorical_crossentropy', optimizer = adam(), metrics = [\"accuracy\"])\n",
        "model.summary()"
      ],
      "execution_count": 28,
      "outputs": [
        {
          "output_type": "stream",
          "text": [
            "Model: \"sequential_12\"\n",
            "_________________________________________________________________\n",
            "Layer (type)                 Output Shape              Param #   \n",
            "=================================================================\n",
            "conv2d_30 (Conv2D)           (None, 26, 26, 64)        640       \n",
            "_________________________________________________________________\n",
            "batch_normalization_6 (Batch (None, 26, 26, 64)        256       \n",
            "_________________________________________________________________\n",
            "activation_28 (Activation)   (None, 26, 26, 64)        0         \n",
            "_________________________________________________________________\n",
            "conv2d_31 (Conv2D)           (None, 24, 24, 64)        36928     \n",
            "_________________________________________________________________\n",
            "batch_normalization_7 (Batch (None, 24, 24, 64)        256       \n",
            "_________________________________________________________________\n",
            "activation_29 (Activation)   (None, 24, 24, 64)        0         \n",
            "_________________________________________________________________\n",
            "conv2d_32 (Conv2D)           (None, 22, 22, 32)        18464     \n",
            "_________________________________________________________________\n",
            "batch_normalization_8 (Batch (None, 22, 22, 32)        128       \n",
            "_________________________________________________________________\n",
            "activation_30 (Activation)   (None, 22, 22, 32)        0         \n",
            "_________________________________________________________________\n",
            "max_pooling2d_10 (MaxPooling (None, 11, 11, 32)        0         \n",
            "_________________________________________________________________\n",
            "dropout_2 (Dropout)          (None, 11, 11, 32)        0         \n",
            "_________________________________________________________________\n",
            "flatten_10 (Flatten)         (None, 3872)              0         \n",
            "_________________________________________________________________\n",
            "batch_normalization_9 (Batch (None, 3872)              15488     \n",
            "_________________________________________________________________\n",
            "dense_10 (Dense)             (None, 10)                38730     \n",
            "=================================================================\n",
            "Total params: 110,890\n",
            "Trainable params: 102,826\n",
            "Non-trainable params: 8,064\n",
            "_________________________________________________________________\n"
          ],
          "name": "stdout"
        }
      ]
    },
    {
      "cell_type": "code",
      "metadata": {
        "id": "VSIZ5DujnGId",
        "colab_type": "code",
        "colab": {
          "base_uri": "https://localhost:8080/",
          "height": 1000
        },
        "outputId": "04ec1966-10c0-4eba-c660-93e513974f78"
      },
      "source": [
        "history = model.fit(x_train, y_train, \n",
        "                   batch_size = 128, \n",
        "                   epochs = 30,\n",
        "                   validation_data = (x_test, y_test))\n",
        "score = model.evaluate(x_train, y_train)\n",
        "print(\"Train score: {}\".format(score[1]))\n",
        "\n",
        "\n",
        "score = model.evaluate(x_test, y_test)\n",
        "print(\"Test score: {}\".format(score[1]))"
      ],
      "execution_count": 29,
      "outputs": [
        {
          "output_type": "stream",
          "text": [
            "Train on 60000 samples, validate on 10000 samples\n",
            "Epoch 1/30\n",
            "60000/60000 [==============================] - 18s 306us/step - loss: 0.1830 - acc: 0.9438 - val_loss: 0.0521 - val_acc: 0.9828\n",
            "Epoch 2/30\n",
            "60000/60000 [==============================] - 17s 278us/step - loss: 0.0745 - acc: 0.9773 - val_loss: 0.0502 - val_acc: 0.9840\n",
            "Epoch 3/30\n",
            "60000/60000 [==============================] - 17s 277us/step - loss: 0.0622 - acc: 0.9813 - val_loss: 0.0444 - val_acc: 0.9858\n",
            "Epoch 4/30\n",
            "60000/60000 [==============================] - 17s 277us/step - loss: 0.0569 - acc: 0.9827 - val_loss: 0.0455 - val_acc: 0.9867\n",
            "Epoch 5/30\n",
            "60000/60000 [==============================] - 17s 278us/step - loss: 0.0479 - acc: 0.9858 - val_loss: 0.0612 - val_acc: 0.9836\n",
            "Epoch 6/30\n",
            "60000/60000 [==============================] - 17s 277us/step - loss: 0.0512 - acc: 0.9848 - val_loss: 0.0433 - val_acc: 0.9872\n",
            "Epoch 7/30\n",
            "60000/60000 [==============================] - 17s 278us/step - loss: 0.0458 - acc: 0.9870 - val_loss: 0.0329 - val_acc: 0.9902\n",
            "Epoch 8/30\n",
            "60000/60000 [==============================] - 17s 278us/step - loss: 0.0438 - acc: 0.9872 - val_loss: 0.0389 - val_acc: 0.9880\n",
            "Epoch 9/30\n",
            "60000/60000 [==============================] - 17s 278us/step - loss: 0.0423 - acc: 0.9879 - val_loss: 0.0378 - val_acc: 0.9890\n",
            "Epoch 10/30\n",
            "60000/60000 [==============================] - 17s 278us/step - loss: 0.0410 - acc: 0.9881 - val_loss: 0.0342 - val_acc: 0.9897\n",
            "Epoch 11/30\n",
            "60000/60000 [==============================] - 17s 276us/step - loss: 0.0368 - acc: 0.9892 - val_loss: 0.0411 - val_acc: 0.9899\n",
            "Epoch 12/30\n",
            "60000/60000 [==============================] - 17s 278us/step - loss: 0.0376 - acc: 0.9891 - val_loss: 0.0416 - val_acc: 0.9904\n",
            "Epoch 13/30\n",
            "60000/60000 [==============================] - 17s 277us/step - loss: 0.0335 - acc: 0.9903 - val_loss: 0.0412 - val_acc: 0.9890\n",
            "Epoch 14/30\n",
            "60000/60000 [==============================] - 17s 277us/step - loss: 0.0370 - acc: 0.9898 - val_loss: 0.0346 - val_acc: 0.9912\n",
            "Epoch 15/30\n",
            "60000/60000 [==============================] - 17s 277us/step - loss: 0.0322 - acc: 0.9908 - val_loss: 0.0395 - val_acc: 0.9906\n",
            "Epoch 16/30\n",
            "60000/60000 [==============================] - 17s 279us/step - loss: 0.0309 - acc: 0.9910 - val_loss: 0.0398 - val_acc: 0.9898\n",
            "Epoch 17/30\n",
            "60000/60000 [==============================] - 17s 278us/step - loss: 0.0308 - acc: 0.9909 - val_loss: 0.0370 - val_acc: 0.9914\n",
            "Epoch 18/30\n",
            "60000/60000 [==============================] - 17s 277us/step - loss: 0.0346 - acc: 0.9910 - val_loss: 0.0454 - val_acc: 0.9906\n",
            "Epoch 19/30\n",
            "60000/60000 [==============================] - 17s 277us/step - loss: 0.0274 - acc: 0.9920 - val_loss: 0.0412 - val_acc: 0.9913\n",
            "Epoch 20/30\n",
            "60000/60000 [==============================] - 17s 279us/step - loss: 0.0275 - acc: 0.9918 - val_loss: 0.0386 - val_acc: 0.9910\n",
            "Epoch 21/30\n",
            "60000/60000 [==============================] - 17s 277us/step - loss: 0.0323 - acc: 0.9914 - val_loss: 0.0727 - val_acc: 0.9859\n",
            "Epoch 22/30\n",
            "60000/60000 [==============================] - 17s 276us/step - loss: 0.0262 - acc: 0.9928 - val_loss: 0.0371 - val_acc: 0.9907\n",
            "Epoch 23/30\n",
            "60000/60000 [==============================] - 17s 278us/step - loss: 0.0245 - acc: 0.9925 - val_loss: 0.0383 - val_acc: 0.9916\n",
            "Epoch 24/30\n",
            "60000/60000 [==============================] - 17s 277us/step - loss: 0.0264 - acc: 0.9926 - val_loss: 0.0340 - val_acc: 0.9904\n",
            "Epoch 25/30\n",
            "60000/60000 [==============================] - 17s 278us/step - loss: 0.0253 - acc: 0.9933 - val_loss: 0.0366 - val_acc: 0.9916\n",
            "Epoch 26/30\n",
            "60000/60000 [==============================] - 17s 276us/step - loss: 0.0243 - acc: 0.9932 - val_loss: 0.0403 - val_acc: 0.9908\n",
            "Epoch 27/30\n",
            "60000/60000 [==============================] - 17s 278us/step - loss: 0.0248 - acc: 0.9931 - val_loss: 0.0350 - val_acc: 0.9921\n",
            "Epoch 28/30\n",
            "60000/60000 [==============================] - 17s 279us/step - loss: 0.0230 - acc: 0.9935 - val_loss: 0.0403 - val_acc: 0.9915\n",
            "Epoch 29/30\n",
            "60000/60000 [==============================] - 17s 277us/step - loss: 0.0223 - acc: 0.9936 - val_loss: 0.0418 - val_acc: 0.9908\n",
            "Epoch 30/30\n",
            "60000/60000 [==============================] - 17s 278us/step - loss: 0.0239 - acc: 0.9936 - val_loss: 0.0386 - val_acc: 0.9923\n",
            "60000/60000 [==============================] - 9s 154us/step\n",
            "Train score: 0.9985333333333334\n",
            "10000/10000 [==============================] - 2s 158us/step\n",
            "Test score: 0.9923\n"
          ],
          "name": "stdout"
        }
      ]
    },
    {
      "cell_type": "code",
      "metadata": {
        "id": "_D5EnZnaFv5Y",
        "colab_type": "code",
        "colab": {}
      },
      "source": [
        "max(history.history[\"val_acc\"])"
      ],
      "execution_count": 0,
      "outputs": []
    },
    {
      "cell_type": "code",
      "metadata": {
        "id": "5Pw-u01Km3B1",
        "colab_type": "code",
        "colab": {
          "base_uri": "https://localhost:8080/",
          "height": 523
        },
        "outputId": "0f0d8a49-0d2f-4422-e960-657652de44ca"
      },
      "source": [
        "plt.figure(figsize = (12, 8))\n",
        "plt.plot(history.history[\"acc\"], color = \"b\")\n",
        "plt.plot(history.history[\"val_acc\"], color = \"r\")\n",
        "plt.title(\"The accuracy of Training and testing datasets\", size = 20)\n",
        "plt.xlabel(\"Epochs\", size = 16)\n",
        "plt.ylabel(\"Accuracy\", size = 16)\n",
        "plt.legend([\"Training\",\"Testing\"])\n",
        "plt.show()"
      ],
      "execution_count": 30,
      "outputs": [
        {
          "output_type": "display_data",
          "data": {
            "image/png": "[encoded data removed]",
            "text/plain": [
              "<Figure size 864x576 with 1 Axes>"
            ]
          },
          "metadata": {
            "tags": []
          }
        }
      ]
    },
    {
      "cell_type": "markdown",
      "metadata": {
        "id": "EWX_YcMkmIcq",
        "colab_type": "text"
      },
      "source": [
        "## 调参 9： batch size"
      ]
    },
    {
      "cell_type": "code",
      "metadata": {
        "id": "b9Z9o0XWm_OP",
        "colab_type": "code",
        "colab": {
          "base_uri": "https://localhost:8080/",
          "height": 639
        },
        "outputId": "2c19ae50-0dca-4395-d0c7-2e9782c6223e"
      },
      "source": [
        "model = Sequential()\n",
        "\n",
        "# 第一层: CNN\n",
        "model.add(Conv2D(64, kernel_size = (3, 3), input_shape = (28, 28, 1)))\n",
        "model.add(BatchNormalization())\n",
        "model.add(Activation(\"relu\"))\n",
        "\n",
        "\n",
        "model.add(Conv2D(64, kernel_size = (3, 3)))\n",
        "model.add(BatchNormalization())\n",
        "model.add(Activation(\"relu\"))\n",
        "\n",
        "\n",
        "model.add(Conv2D(32, kernel_size = (3, 3)))\n",
        "model.add(BatchNormalization())\n",
        "model.add(Activation(\"relu\"))\n",
        "\n",
        "#池化层\n",
        "model.add(MaxPooling2D(2, 2))\n",
        "model.add(Dropout(0.5))\n",
        "\n",
        "# 将图片拉平\n",
        "model.add(Flatten())\n",
        "model.add(BatchNormalization())\n",
        "model.add(Dense(10, activation = \"softmax\"))\n",
        "\n",
        "model.compile(loss = 'categorical_crossentropy', optimizer = adam(), metrics = [\"accuracy\"])\n",
        "model.summary()"
      ],
      "execution_count": 39,
      "outputs": [
        {
          "output_type": "stream",
          "text": [
            "Model: \"sequential_14\"\n",
            "_________________________________________________________________\n",
            "Layer (type)                 Output Shape              Param #   \n",
            "=================================================================\n",
            "conv2d_36 (Conv2D)           (None, 26, 26, 64)        640       \n",
            "_________________________________________________________________\n",
            "batch_normalization_14 (Batc (None, 26, 26, 64)        256       \n",
            "_________________________________________________________________\n",
            "activation_34 (Activation)   (None, 26, 26, 64)        0         \n",
            "_________________________________________________________________\n",
            "conv2d_37 (Conv2D)           (None, 24, 24, 64)        36928     \n",
            "_________________________________________________________________\n",
            "batch_normalization_15 (Batc (None, 24, 24, 64)        256       \n",
            "_________________________________________________________________\n",
            "activation_35 (Activation)   (None, 24, 24, 64)        0         \n",
            "_________________________________________________________________\n",
            "conv2d_38 (Conv2D)           (None, 22, 22, 32)        18464     \n",
            "_________________________________________________________________\n",
            "batch_normalization_16 (Batc (None, 22, 22, 32)        128       \n",
            "_________________________________________________________________\n",
            "activation_36 (Activation)   (None, 22, 22, 32)        0         \n",
            "_________________________________________________________________\n",
            "max_pooling2d_12 (MaxPooling (None, 11, 11, 32)        0         \n",
            "_________________________________________________________________\n",
            "dropout_4 (Dropout)          (None, 11, 11, 32)        0         \n",
            "_________________________________________________________________\n",
            "flatten_12 (Flatten)         (None, 3872)              0         \n",
            "_________________________________________________________________\n",
            "batch_normalization_17 (Batc (None, 3872)              15488     \n",
            "_________________________________________________________________\n",
            "dense_12 (Dense)             (None, 10)                38730     \n",
            "=================================================================\n",
            "Total params: 110,890\n",
            "Trainable params: 102,826\n",
            "Non-trainable params: 8,064\n",
            "_________________________________________________________________\n"
          ],
          "name": "stdout"
        }
      ]
    },
    {
      "cell_type": "code",
      "metadata": {
        "id": "YYefYEIenG-t",
        "colab_type": "code",
        "colab": {
          "base_uri": "https://localhost:8080/",
          "height": 1000
        },
        "outputId": "66caf86d-5023-4643-8904-b5d8ad0a5af9"
      },
      "source": [
        "history = model.fit(x_train, y_train, \n",
        "                   batch_size = 64, \n",
        "                   epochs = 100,\n",
        "                   validation_data = (x_test, y_test))\n",
        "score = model.evaluate(x_train, y_train)\n",
        "print(\"Train score: {}\".format(score[1]))\n",
        "\n",
        "\n",
        "score = model.evaluate(x_test, y_test)\n",
        "print(\"Test score: {}\".format(score[1]))"
      ],
      "execution_count": 40,
      "outputs": [
        {
          "output_type": "stream",
          "text": [
            "Train on 60000 samples, validate on 10000 samples\n",
            "Epoch 1/100\n",
            "60000/60000 [==============================] - 25s 415us/step - loss: 0.1834 - acc: 0.9438 - val_loss: 0.0689 - val_acc: 0.9797\n",
            "Epoch 2/100\n",
            "60000/60000 [==============================] - 23s 382us/step - loss: 0.0963 - acc: 0.9723 - val_loss: 0.0520 - val_acc: 0.9846\n",
            "Epoch 3/100\n",
            "60000/60000 [==============================] - 23s 382us/step - loss: 0.0835 - acc: 0.9766 - val_loss: 0.0570 - val_acc: 0.9838\n",
            "Epoch 4/100\n",
            "60000/60000 [==============================] - 23s 380us/step - loss: 0.0767 - acc: 0.9793 - val_loss: 0.0488 - val_acc: 0.9873\n",
            "Epoch 5/100\n",
            "60000/60000 [==============================] - 23s 381us/step - loss: 0.0709 - acc: 0.9810 - val_loss: 0.0460 - val_acc: 0.9884\n",
            "Epoch 6/100\n",
            "60000/60000 [==============================] - 23s 384us/step - loss: 0.0701 - acc: 0.9824 - val_loss: 0.0588 - val_acc: 0.9867\n",
            "Epoch 7/100\n",
            "60000/60000 [==============================] - 23s 382us/step - loss: 0.0659 - acc: 0.9833 - val_loss: 0.0583 - val_acc: 0.9868\n",
            "Epoch 8/100\n",
            "60000/60000 [==============================] - 23s 382us/step - loss: 0.0656 - acc: 0.9839 - val_loss: 0.0483 - val_acc: 0.9891\n",
            "Epoch 9/100\n",
            "60000/60000 [==============================] - 23s 382us/step - loss: 0.0624 - acc: 0.9845 - val_loss: 0.0484 - val_acc: 0.9882\n",
            "Epoch 10/100\n",
            "60000/60000 [==============================] - 23s 383us/step - loss: 0.0614 - acc: 0.9849 - val_loss: 0.0486 - val_acc: 0.9895\n",
            "Epoch 11/100\n",
            "60000/60000 [==============================] - 23s 381us/step - loss: 0.0556 - acc: 0.9859 - val_loss: 0.0425 - val_acc: 0.9898\n",
            "Epoch 12/100\n",
            "60000/60000 [==============================] - 23s 381us/step - loss: 0.0545 - acc: 0.9870 - val_loss: 0.0531 - val_acc: 0.9892\n",
            "Epoch 13/100\n",
            "60000/60000 [==============================] - 23s 382us/step - loss: 0.0500 - acc: 0.9877 - val_loss: 0.0586 - val_acc: 0.9883\n",
            "Epoch 14/100\n",
            "60000/60000 [==============================] - 23s 382us/step - loss: 0.0496 - acc: 0.9877 - val_loss: 0.0491 - val_acc: 0.9901\n",
            "Epoch 15/100\n",
            "60000/60000 [==============================] - 23s 380us/step - loss: 0.0534 - acc: 0.9875 - val_loss: 0.0528 - val_acc: 0.9892\n",
            "Epoch 16/100\n",
            "60000/60000 [==============================] - 23s 380us/step - loss: 0.0426 - acc: 0.9896 - val_loss: 0.0632 - val_acc: 0.9879\n",
            "Epoch 17/100\n",
            "60000/60000 [==============================] - 23s 379us/step - loss: 0.0456 - acc: 0.9889 - val_loss: 0.0482 - val_acc: 0.9894\n",
            "Epoch 18/100\n",
            "60000/60000 [==============================] - 23s 381us/step - loss: 0.0461 - acc: 0.9890 - val_loss: 0.0444 - val_acc: 0.9906\n",
            "Epoch 19/100\n",
            "60000/60000 [==============================] - 23s 383us/step - loss: 0.0430 - acc: 0.9898 - val_loss: 0.0383 - val_acc: 0.9922\n",
            "Epoch 20/100\n",
            "60000/60000 [==============================] - 23s 382us/step - loss: 0.0421 - acc: 0.9898 - val_loss: 0.0487 - val_acc: 0.9910\n",
            "Epoch 21/100\n",
            "60000/60000 [==============================] - 23s 382us/step - loss: 0.0371 - acc: 0.9908 - val_loss: 0.0540 - val_acc: 0.9906\n",
            "Epoch 22/100\n",
            "60000/60000 [==============================] - 23s 380us/step - loss: 0.0375 - acc: 0.9906 - val_loss: 0.0492 - val_acc: 0.9913\n",
            "Epoch 23/100\n",
            "60000/60000 [==============================] - 23s 380us/step - loss: 0.0413 - acc: 0.9900 - val_loss: 0.0606 - val_acc: 0.9894\n",
            "Epoch 24/100\n",
            "60000/60000 [==============================] - 23s 381us/step - loss: 0.0341 - acc: 0.9915 - val_loss: 0.0503 - val_acc: 0.9902\n",
            "Epoch 25/100\n",
            "60000/60000 [==============================] - 23s 380us/step - loss: 0.0359 - acc: 0.9912 - val_loss: 0.0561 - val_acc: 0.9899\n",
            "Epoch 26/100\n",
            "60000/60000 [==============================] - 23s 381us/step - loss: 0.0357 - acc: 0.9913 - val_loss: 0.0553 - val_acc: 0.9905\n",
            "Epoch 27/100\n",
            "60000/60000 [==============================] - 23s 379us/step - loss: 0.0359 - acc: 0.9916 - val_loss: 0.0606 - val_acc: 0.9904\n",
            "Epoch 28/100\n",
            "60000/60000 [==============================] - 23s 381us/step - loss: 0.0326 - acc: 0.9924 - val_loss: 0.0497 - val_acc: 0.9918\n",
            "Epoch 29/100\n",
            "60000/60000 [==============================] - 23s 380us/step - loss: 0.0337 - acc: 0.9920 - val_loss: 0.0435 - val_acc: 0.9920\n",
            "Epoch 30/100\n",
            "60000/60000 [==============================] - 23s 378us/step - loss: 0.0352 - acc: 0.9918 - val_loss: 0.0423 - val_acc: 0.9925\n",
            "Epoch 31/100\n",
            "60000/60000 [==============================] - 23s 380us/step - loss: 0.0313 - acc: 0.9926 - val_loss: 0.0648 - val_acc: 0.9887\n",
            "Epoch 32/100\n",
            "60000/60000 [==============================] - 23s 381us/step - loss: 0.0316 - acc: 0.9926 - val_loss: 0.0447 - val_acc: 0.9915\n",
            "Epoch 33/100\n",
            "60000/60000 [==============================] - 23s 383us/step - loss: 0.0317 - acc: 0.9923 - val_loss: 0.0491 - val_acc: 0.9922\n",
            "Epoch 34/100\n",
            "60000/60000 [==============================] - 23s 380us/step - loss: 0.0298 - acc: 0.9926 - val_loss: 0.0445 - val_acc: 0.9931\n",
            "Epoch 35/100\n",
            "60000/60000 [==============================] - 23s 380us/step - loss: 0.0340 - acc: 0.9918 - val_loss: 0.0433 - val_acc: 0.9935\n",
            "Epoch 36/100\n",
            "60000/60000 [==============================] - 23s 381us/step - loss: 0.0319 - acc: 0.9928 - val_loss: 0.0465 - val_acc: 0.9922\n",
            "Epoch 37/100\n",
            "60000/60000 [==============================] - 23s 380us/step - loss: 0.0297 - acc: 0.9926 - val_loss: 0.0515 - val_acc: 0.9921\n",
            "Epoch 38/100\n",
            "60000/60000 [==============================] - 23s 384us/step - loss: 0.0288 - acc: 0.9935 - val_loss: 0.0524 - val_acc: 0.9917\n",
            "Epoch 39/100\n",
            "60000/60000 [==============================] - 23s 381us/step - loss: 0.0274 - acc: 0.9929 - val_loss: 0.0474 - val_acc: 0.9916\n",
            "Epoch 40/100\n",
            "60000/60000 [==============================] - 23s 382us/step - loss: 0.0282 - acc: 0.9933 - val_loss: 0.0607 - val_acc: 0.9886\n",
            "Epoch 41/100\n",
            "60000/60000 [==============================] - 23s 383us/step - loss: 0.0271 - acc: 0.9932 - val_loss: 0.0484 - val_acc: 0.9909\n",
            "Epoch 42/100\n",
            "60000/60000 [==============================] - 23s 380us/step - loss: 0.0291 - acc: 0.9930 - val_loss: 0.0462 - val_acc: 0.9912\n",
            "Epoch 43/100\n",
            "60000/60000 [==============================] - 23s 377us/step - loss: 0.0245 - acc: 0.9941 - val_loss: 0.0496 - val_acc: 0.9910\n",
            "Epoch 44/100\n",
            "60000/60000 [==============================] - 23s 378us/step - loss: 0.0261 - acc: 0.9938 - val_loss: 0.0480 - val_acc: 0.9918\n",
            "Epoch 45/100\n",
            "60000/60000 [==============================] - 23s 380us/step - loss: 0.0258 - acc: 0.9935 - val_loss: 0.0545 - val_acc: 0.9927\n",
            "Epoch 46/100\n",
            "60000/60000 [==============================] - 23s 383us/step - loss: 0.0298 - acc: 0.9933 - val_loss: 0.0494 - val_acc: 0.9926\n",
            "Epoch 47/100\n",
            "60000/60000 [==============================] - 23s 383us/step - loss: 0.0239 - acc: 0.9942 - val_loss: 0.0576 - val_acc: 0.9916\n",
            "Epoch 48/100\n",
            "60000/60000 [==============================] - 23s 382us/step - loss: 0.0248 - acc: 0.9939 - val_loss: 0.0503 - val_acc: 0.9921\n",
            "Epoch 49/100\n",
            "60000/60000 [==============================] - 23s 381us/step - loss: 0.0257 - acc: 0.9938 - val_loss: 0.0452 - val_acc: 0.9924\n",
            "Epoch 50/100\n",
            "60000/60000 [==============================] - 23s 379us/step - loss: 0.0251 - acc: 0.9938 - val_loss: 0.0450 - val_acc: 0.9923\n",
            "Epoch 51/100\n",
            "60000/60000 [==============================] - 23s 379us/step - loss: 0.0244 - acc: 0.9939 - val_loss: 0.0493 - val_acc: 0.9924\n",
            "Epoch 52/100\n",
            "60000/60000 [==============================] - 23s 380us/step - loss: 0.0251 - acc: 0.9941 - val_loss: 0.0496 - val_acc: 0.9921\n",
            "Epoch 53/100\n",
            "60000/60000 [==============================] - 23s 381us/step - loss: 0.0242 - acc: 0.9941 - val_loss: 0.0443 - val_acc: 0.9925\n",
            "Epoch 54/100\n",
            "60000/60000 [==============================] - 23s 382us/step - loss: 0.0273 - acc: 0.9933 - val_loss: 0.0534 - val_acc: 0.9916\n",
            "Epoch 55/100\n",
            "60000/60000 [==============================] - 23s 380us/step - loss: 0.0228 - acc: 0.9946 - val_loss: 0.0457 - val_acc: 0.9916\n",
            "Epoch 56/100\n",
            "60000/60000 [==============================] - 23s 380us/step - loss: 0.0256 - acc: 0.9936 - val_loss: 0.0543 - val_acc: 0.9924\n",
            "Epoch 57/100\n",
            "60000/60000 [==============================] - 23s 380us/step - loss: 0.0248 - acc: 0.9942 - val_loss: 0.0484 - val_acc: 0.9929\n",
            "Epoch 58/100\n",
            "60000/60000 [==============================] - 23s 379us/step - loss: 0.0236 - acc: 0.9942 - val_loss: 0.0532 - val_acc: 0.9909\n",
            "Epoch 59/100\n",
            "60000/60000 [==============================] - 23s 380us/step - loss: 0.0251 - acc: 0.9940 - val_loss: 0.0499 - val_acc: 0.9921\n",
            "Epoch 60/100\n",
            "60000/60000 [==============================] - 23s 383us/step - loss: 0.0227 - acc: 0.9947 - val_loss: 0.0535 - val_acc: 0.9923\n",
            "Epoch 61/100\n",
            "60000/60000 [==============================] - 23s 381us/step - loss: 0.0211 - acc: 0.9951 - val_loss: 0.0511 - val_acc: 0.9913\n",
            "Epoch 62/100\n",
            "60000/60000 [==============================] - 23s 380us/step - loss: 0.0235 - acc: 0.9948 - val_loss: 0.0563 - val_acc: 0.9915\n",
            "Epoch 63/100\n",
            "60000/60000 [==============================] - 23s 380us/step - loss: 0.0211 - acc: 0.9950 - val_loss: 0.0520 - val_acc: 0.9916\n",
            "Epoch 64/100\n",
            "60000/60000 [==============================] - 23s 380us/step - loss: 0.0218 - acc: 0.9949 - val_loss: 0.0549 - val_acc: 0.9923\n",
            "Epoch 65/100\n",
            "60000/60000 [==============================] - 23s 380us/step - loss: 0.0236 - acc: 0.9944 - val_loss: 0.0498 - val_acc: 0.9922\n",
            "Epoch 66/100\n",
            "60000/60000 [==============================] - 23s 379us/step - loss: 0.0225 - acc: 0.9947 - val_loss: 0.0504 - val_acc: 0.9924\n",
            "Epoch 67/100\n",
            "60000/60000 [==============================] - 23s 381us/step - loss: 0.0229 - acc: 0.9947 - val_loss: 0.0652 - val_acc: 0.9907\n",
            "Epoch 68/100\n",
            "60000/60000 [==============================] - 23s 382us/step - loss: 0.0244 - acc: 0.9944 - val_loss: 0.0526 - val_acc: 0.9923\n",
            "Epoch 69/100\n",
            "60000/60000 [==============================] - 23s 381us/step - loss: 0.0229 - acc: 0.9945 - val_loss: 0.0517 - val_acc: 0.9922\n",
            "Epoch 70/100\n",
            "60000/60000 [==============================] - 23s 383us/step - loss: 0.0202 - acc: 0.9953 - val_loss: 0.0535 - val_acc: 0.9917\n",
            "Epoch 71/100\n",
            "60000/60000 [==============================] - 23s 382us/step - loss: 0.0212 - acc: 0.9950 - val_loss: 0.0585 - val_acc: 0.9913\n",
            "Epoch 72/100\n",
            "60000/60000 [==============================] - 23s 384us/step - loss: 0.0221 - acc: 0.9950 - val_loss: 0.0604 - val_acc: 0.9916\n",
            "Epoch 73/100\n",
            "60000/60000 [==============================] - 23s 383us/step - loss: 0.0210 - acc: 0.9950 - val_loss: 0.0519 - val_acc: 0.9922\n",
            "Epoch 74/100\n",
            "60000/60000 [==============================] - 23s 388us/step - loss: 0.0221 - acc: 0.9947 - val_loss: 0.0594 - val_acc: 0.9916\n",
            "Epoch 75/100\n",
            "60000/60000 [==============================] - 23s 382us/step - loss: 0.0192 - acc: 0.9951 - val_loss: 0.0451 - val_acc: 0.9928\n",
            "Epoch 76/100\n",
            "60000/60000 [==============================] - 23s 383us/step - loss: 0.0192 - acc: 0.9953 - val_loss: 0.0443 - val_acc: 0.9923\n",
            "Epoch 77/100\n",
            "60000/60000 [==============================] - 23s 383us/step - loss: 0.0240 - acc: 0.9948 - val_loss: 0.0493 - val_acc: 0.9918\n",
            "Epoch 78/100\n",
            "60000/60000 [==============================] - 23s 383us/step - loss: 0.0210 - acc: 0.9952 - val_loss: 0.0568 - val_acc: 0.9921\n",
            "Epoch 79/100\n",
            "60000/60000 [==============================] - 23s 383us/step - loss: 0.0184 - acc: 0.9959 - val_loss: 0.0555 - val_acc: 0.9923\n",
            "Epoch 80/100\n",
            "60000/60000 [==============================] - 23s 384us/step - loss: 0.0220 - acc: 0.9947 - val_loss: 0.0533 - val_acc: 0.9921\n",
            "Epoch 81/100\n",
            "60000/60000 [==============================] - 23s 382us/step - loss: 0.0221 - acc: 0.9948 - val_loss: 0.0563 - val_acc: 0.9919\n",
            "Epoch 82/100\n",
            "60000/60000 [==============================] - 23s 381us/step - loss: 0.0205 - acc: 0.9952 - val_loss: 0.0486 - val_acc: 0.9924\n",
            "Epoch 83/100\n",
            "60000/60000 [==============================] - 23s 384us/step - loss: 0.0211 - acc: 0.9952 - val_loss: 0.0640 - val_acc: 0.9915\n",
            "Epoch 84/100\n",
            "60000/60000 [==============================] - 23s 382us/step - loss: 0.0183 - acc: 0.9954 - val_loss: 0.0529 - val_acc: 0.9928\n",
            "Epoch 85/100\n",
            "60000/60000 [==============================] - 23s 383us/step - loss: 0.0158 - acc: 0.9959 - val_loss: 0.0541 - val_acc: 0.9928\n",
            "Epoch 86/100\n",
            "60000/60000 [==============================] - 23s 383us/step - loss: 0.0193 - acc: 0.9955 - val_loss: 0.0601 - val_acc: 0.9919\n",
            "Epoch 87/100\n",
            "60000/60000 [==============================] - 23s 386us/step - loss: 0.0183 - acc: 0.9957 - val_loss: 0.0507 - val_acc: 0.9927\n",
            "Epoch 88/100\n",
            "60000/60000 [==============================] - 23s 382us/step - loss: 0.0169 - acc: 0.9960 - val_loss: 0.0589 - val_acc: 0.9926\n",
            "Epoch 89/100\n",
            "60000/60000 [==============================] - 23s 382us/step - loss: 0.0214 - acc: 0.9953 - val_loss: 0.0545 - val_acc: 0.9926\n",
            "Epoch 90/100\n",
            "60000/60000 [==============================] - 23s 382us/step - loss: 0.0187 - acc: 0.9955 - val_loss: 0.0512 - val_acc: 0.9926\n",
            "Epoch 91/100\n",
            "60000/60000 [==============================] - 23s 382us/step - loss: 0.0192 - acc: 0.9955 - val_loss: 0.0584 - val_acc: 0.9917\n",
            "Epoch 92/100\n",
            "60000/60000 [==============================] - 23s 382us/step - loss: 0.0197 - acc: 0.9956 - val_loss: 0.0578 - val_acc: 0.9924\n",
            "Epoch 93/100\n",
            "60000/60000 [==============================] - 23s 381us/step - loss: 0.0161 - acc: 0.9962 - val_loss: 0.0547 - val_acc: 0.9922\n",
            "Epoch 94/100\n",
            "60000/60000 [==============================] - 23s 382us/step - loss: 0.0174 - acc: 0.9960 - val_loss: 0.0553 - val_acc: 0.9918\n",
            "Epoch 95/100\n",
            "60000/60000 [==============================] - 23s 382us/step - loss: 0.0203 - acc: 0.9955 - val_loss: 0.0626 - val_acc: 0.9925\n",
            "Epoch 96/100\n",
            "60000/60000 [==============================] - 23s 382us/step - loss: 0.0142 - acc: 0.9966 - val_loss: 0.0520 - val_acc: 0.9931\n",
            "Epoch 97/100\n",
            "60000/60000 [==============================] - 23s 382us/step - loss: 0.0183 - acc: 0.9959 - val_loss: 0.0566 - val_acc: 0.9919\n",
            "Epoch 98/100\n",
            "60000/60000 [==============================] - 23s 381us/step - loss: 0.0185 - acc: 0.9958 - val_loss: 0.0584 - val_acc: 0.9926\n",
            "Epoch 99/100\n",
            "60000/60000 [==============================] - 23s 382us/step - loss: 0.0218 - acc: 0.9950 - val_loss: 0.0494 - val_acc: 0.9929\n",
            "Epoch 100/100\n",
            "60000/60000 [==============================] - 23s 382us/step - loss: 0.0177 - acc: 0.9959 - val_loss: 0.0621 - val_acc: 0.9911\n",
            "60000/60000 [==============================] - 10s 159us/step\n",
            "Train score: 0.9991333333333333\n",
            "10000/10000 [==============================] - 2s 160us/step\n",
            "Test score: 0.9911\n"
          ],
          "name": "stdout"
        }
      ]
    },
    {
      "cell_type": "code",
      "metadata": {
        "id": "oZrYbhM-Dg8j",
        "colab_type": "code",
        "colab": {
          "base_uri": "https://localhost:8080/",
          "height": 35
        },
        "outputId": "fdc79e12-0b62-403a-9484-abfcf59192f1"
      },
      "source": [
        "max(history.history[\"val_acc\"])"
      ],
      "execution_count": 42,
      "outputs": [
        {
          "output_type": "execute_result",
          "data": {
            "text/plain": [
              "0.9935"
            ]
          },
          "metadata": {
            "tags": []
          },
          "execution_count": 42
        }
      ]
    },
    {
      "cell_type": "code",
      "metadata": {
        "id": "7CFbs-_ilste",
        "colab_type": "code",
        "colab": {
          "base_uri": "https://localhost:8080/",
          "height": 520
        },
        "outputId": "e8320645-a7d5-4a0e-f898-b90730eebc3c"
      },
      "source": [
        "plt.figure(figsize = (12, 8))\n",
        "plt.plot(history.history[\"acc\"], color = \"b\")\n",
        "plt.plot(history.history[\"val_acc\"], color = \"r\")\n",
        "plt.title(\"The accuracy of Training and testing datasets, batch_size = 64, epochs = 100\", size = 16)\n",
        "plt.xlabel(\"Epochs\", size = 16)\n",
        "plt.ylabel(\"Accuracy\", size = 16)\n",
        "plt.legend([\"Training\",\"Testing\"])\n",
        "plt.show()"
      ],
      "execution_count": 43,
      "outputs": [
        {
          "output_type": "display_data",
          "data": {
            "image/png": "[encoded data removed]",
            "text/plain": [
              "<Figure size 864x576 with 1 Axes>"
            ]
          },
          "metadata": {
            "tags": []
          }
        }
      ]
    },
    {
      "cell_type": "code",
      "metadata": {
        "id": "OAyEZ8t41Lu8",
        "colab_type": "code",
        "colab": {
          "base_uri": "https://localhost:8080/",
          "height": 190
        },
        "outputId": "7f7878d8-b621-4b31-8b5d-da644c0985e0"
      },
      "source": [
        "\n",
        "model = Sequential()\n",
        "#model.add(Dense(units = input_shape = (28, 28, 1)))\n",
        "model.add(Dense(10, input_dim=784, activation='sigmoid'))\n",
        "model.compile(loss = 'mean_squared_error', optimizer = adam(), metrics = [\"accuracy\"]) # 'sgd'\n",
        "#SGD(lr=0.01, momentum=0.9, nesterov=True)\n",
        "model.summary()"
      ],
      "execution_count": 116,
      "outputs": [
        {
          "output_type": "stream",
          "text": [
            "Model: \"sequential_23\"\n",
            "_________________________________________________________________\n",
            "Layer (type)                 Output Shape              Param #   \n",
            "=================================================================\n",
            "dense_19 (Dense)             (None, 10)                7850      \n",
            "=================================================================\n",
            "Total params: 7,850\n",
            "Trainable params: 7,850\n",
            "Non-trainable params: 0\n",
            "_________________________________________________________________\n"
          ],
          "name": "stdout"
        }
      ]
    },
    {
      "cell_type": "code",
      "metadata": {
        "id": "D5023tqOIY_Q",
        "colab_type": "code",
        "colab": {}
      },
      "source": [
        "x_train_new = x_train[:].reshape((-1, 28 * 28))\n",
        "y_train_new = y_train[:]\n",
        "x_test_new = x_test[:].reshape((-1, 28 * 28))\n",
        "y_test_new = y_test[:]"
      ],
      "execution_count": 0,
      "outputs": []
    },
    {
      "cell_type": "code",
      "metadata": {
        "id": "piY9qndBGriG",
        "colab_type": "code",
        "colab": {
          "base_uri": "https://localhost:8080/",
          "height": 795
        },
        "outputId": "00725b4b-c924-47ba-f088-446be93613dd"
      },
      "source": [
        "\n",
        "history = model.fit(x_train_new, y_train_new, \n",
        "                   batch_size = 64, \n",
        "                   epochs = 20,\n",
        "                   validation_data = (x_test_new, y_test_new))\n",
        "score = model.evaluate(x_train_new, y_train_new)\n",
        "print(\"Train score: {}\".format(score[1]))\n",
        "\n",
        "\n",
        "score = model.evaluate(x_test_new, y_test_new)\n",
        "print(\"Test score: {}\".format(score[1]))"
      ],
      "execution_count": 122,
      "outputs": [
        {
          "output_type": "stream",
          "text": [
            "Train on 60000 samples, validate on 10000 samples\n",
            "Epoch 1/20\n",
            "60000/60000 [==============================] - 4s 63us/step - loss: 0.0162 - acc: 0.9180 - val_loss: 0.0265 - val_acc: 0.8872\n",
            "Epoch 2/20\n",
            "60000/60000 [==============================] - 4s 65us/step - loss: 0.0159 - acc: 0.9191 - val_loss: 0.0303 - val_acc: 0.8888\n",
            "Epoch 3/20\n",
            "60000/60000 [==============================] - 4s 63us/step - loss: 0.0156 - acc: 0.9212 - val_loss: 0.0336 - val_acc: 0.8834\n",
            "Epoch 4/20\n",
            "60000/60000 [==============================] - 4s 64us/step - loss: 0.0154 - acc: 0.9221 - val_loss: 0.0341 - val_acc: 0.8824\n",
            "Epoch 5/20\n",
            "60000/60000 [==============================] - 4s 65us/step - loss: 0.0152 - acc: 0.9222 - val_loss: 0.0350 - val_acc: 0.8828\n",
            "Epoch 6/20\n",
            "60000/60000 [==============================] - 4s 65us/step - loss: 0.0151 - acc: 0.9237 - val_loss: 0.0409 - val_acc: 0.8760\n",
            "Epoch 7/20\n",
            "60000/60000 [==============================] - 4s 64us/step - loss: 0.0150 - acc: 0.9240 - val_loss: 0.0410 - val_acc: 0.8737\n",
            "Epoch 8/20\n",
            "60000/60000 [==============================] - 4s 64us/step - loss: 0.0148 - acc: 0.9240 - val_loss: 0.0408 - val_acc: 0.8762\n",
            "Epoch 9/20\n",
            "60000/60000 [==============================] - 4s 63us/step - loss: 0.0147 - acc: 0.9247 - val_loss: 0.0431 - val_acc: 0.8727\n",
            "Epoch 10/20\n",
            "60000/60000 [==============================] - 4s 65us/step - loss: 0.0146 - acc: 0.9251 - val_loss: 0.0428 - val_acc: 0.8783\n",
            "Epoch 11/20\n",
            "60000/60000 [==============================] - 4s 63us/step - loss: 0.0145 - acc: 0.9255 - val_loss: 0.0468 - val_acc: 0.8701\n",
            "Epoch 12/20\n",
            "60000/60000 [==============================] - 4s 64us/step - loss: 0.0145 - acc: 0.9259 - val_loss: 0.0498 - val_acc: 0.8631\n",
            "Epoch 13/20\n",
            "60000/60000 [==============================] - 4s 64us/step - loss: 0.0144 - acc: 0.9265 - val_loss: 0.0518 - val_acc: 0.8599\n",
            "Epoch 14/20\n",
            "60000/60000 [==============================] - 4s 63us/step - loss: 0.0143 - acc: 0.9264 - val_loss: 0.0487 - val_acc: 0.8638\n",
            "Epoch 15/20\n",
            "60000/60000 [==============================] - 4s 64us/step - loss: 0.0143 - acc: 0.9270 - val_loss: 0.0510 - val_acc: 0.8641\n",
            "Epoch 16/20\n",
            "60000/60000 [==============================] - 4s 63us/step - loss: 0.0142 - acc: 0.9270 - val_loss: 0.0513 - val_acc: 0.8640\n",
            "Epoch 17/20\n",
            "60000/60000 [==============================] - 4s 63us/step - loss: 0.0141 - acc: 0.9273 - val_loss: 0.0540 - val_acc: 0.8570\n",
            "Epoch 18/20\n",
            "60000/60000 [==============================] - 4s 65us/step - loss: 0.0141 - acc: 0.9277 - val_loss: 0.0536 - val_acc: 0.8583\n",
            "Epoch 19/20\n",
            "60000/60000 [==============================] - 4s 65us/step - loss: 0.0141 - acc: 0.9277 - val_loss: 0.0567 - val_acc: 0.8519\n",
            "Epoch 20/20\n",
            "60000/60000 [==============================] - 4s 64us/step - loss: 0.0140 - acc: 0.9282 - val_loss: 0.0579 - val_acc: 0.8523\n",
            "60000/60000 [==============================] - 3s 53us/step\n",
            "Train score: 0.9287833333333333\n",
            "10000/10000 [==============================] - 1s 54us/step\n",
            "Test score: 0.8523\n"
          ],
          "name": "stdout"
        }
      ]
    },
    {
      "cell_type": "code",
      "metadata": {
        "id": "MfZHQXWYKRQv",
        "colab_type": "code",
        "colab": {}
      },
      "source": [
        "weights, bias = model.get_weights()"
      ],
      "execution_count": 0,
      "outputs": []
    },
    {
      "cell_type": "code",
      "metadata": {
        "id": "VxqWI0tJLob6",
        "colab_type": "code",
        "colab": {
          "base_uri": "https://localhost:8080/",
          "height": 35
        },
        "outputId": "652ac3a1-65c9-431f-fb12-dffe96a80025"
      },
      "source": [
        "weights.shape"
      ],
      "execution_count": 124,
      "outputs": [
        {
          "output_type": "execute_result",
          "data": {
            "text/plain": [
              "(784, 10)"
            ]
          },
          "metadata": {
            "tags": []
          },
          "execution_count": 124
        }
      ]
    },
    {
      "cell_type": "code",
      "metadata": {
        "id": "W6LQRYPEL1pi",
        "colab_type": "code",
        "colab": {
          "base_uri": "https://localhost:8080/",
          "height": 1000
        },
        "outputId": "ad65b476-ed64-41fe-a32a-9a15ca24a75d"
      },
      "source": [
        "for i in range(10):\n",
        "  plt.imshow(weights[:, i].reshape(28, 28))\n",
        "  plt.show()"
      ],
      "execution_count": 125,
      "outputs": [
        {
          "output_type": "display_data",
          "data": {
            "image/png": "[encoded data removed]",
            "text/plain": [
              "<Figure size 432x288 with 1 Axes>"
            ]
          },
          "metadata": {
            "tags": []
          }
        },
        {
          "output_type": "display_data",
          "data": {
            "image/png": "[encoded data removed]",
            "text/plain": [
              "<Figure size 432x288 with 1 Axes>"
            ]
          },
          "metadata": {
            "tags": []
          }
        },
        {
          "output_type": "display_data",
          "data": {
            "image/png": "[encoded data removed]",
            "text/plain": [
              "<Figure size 432x288 with 1 Axes>"
            ]
          },
          "metadata": {
            "tags": []
          }
        },
        {
          "output_type": "display_data",
          "data": {
            "image/png": "[encoded data removed]",
            "text/plain": [
              "<Figure size 432x288 with 1 Axes>"
            ]
          },
          "metadata": {
            "tags": []
          }
        },
        {
          "output_type": "display_data",
          "data": {
            "image/png": "[encoded data removed]",
            "text/plain": [
              "<Figure size 432x288 with 1 Axes>"
            ]
          },
          "metadata": {
            "tags": []
          }
        },
        {
          "output_type": "display_data",
          "data": {
            "image/png": "[encoded data removed]",
            "text/plain": [
              "<Figure size 432x288 with 1 Axes>"
            ]
          },
          "metadata": {
            "tags": []
          }
        },
        {
          "output_type": "display_data",
          "data": {
            "image/png": "[encoded data removed]",
            "text/plain": [
              "<Figure size 432x288 with 1 Axes>"
            ]
          },
          "metadata": {
            "tags": []
          }
        },
        {
          "output_type": "display_data",
          "data": {
            "image/png": "[encoded data removed]",
            "text/plain": [
              "<Figure size 432x288 with 1 Axes>"
            ]
          },
          "metadata": {
            "tags": []
          }
        },
        {
          "output_type": "display_data",
          "data": {
            "image/png": "[encoded data removed]",
            "text/plain": [
              "<Figure size 432x288 with 1 Axes>"
            ]
          },
          "metadata": {
            "tags": []
          }
        },
        {
          "output_type": "display_data",
          "data": {
            "image/png": "[encoded data removed]",
            "text/plain": [
              "<Figure size 432x288 with 1 Axes>"
            ]
          },
          "metadata": {
            "tags": []
          }
        }
      ]
    },
    {
      "cell_type": "code",
      "metadata": {
        "id": "KdGgF0ltNP9j",
        "colab_type": "code",
        "colab": {}
      },
      "source": [
        ""
      ],
      "execution_count": 0,
      "outputs": []
    }
  ]
}