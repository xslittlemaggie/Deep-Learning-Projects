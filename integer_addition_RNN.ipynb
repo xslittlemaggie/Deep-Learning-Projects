{
  "nbformat": 4,
  "nbformat_minor": 0,
  "metadata": {
    "colab": {
      "name": "integer_addition.ipynb",
      "provenance": [],
      "include_colab_link": true
    },
    "kernelspec": {
      "name": "python3",
      "display_name": "Python 3"
    }
  },
  "cells": [
    {
      "cell_type": "markdown",
      "metadata": {
        "id": "view-in-github",
        "colab_type": "text"
      },
      "source": [
        "<a href=\"https://colab.research.google.com/github/xslittlemaggie/Deep-Learning-Projects/blob/master/integer_addition_RNN.ipynb\" target=\"_parent\"><img src=\"https://colab.research.google.com/assets/colab-badge.svg\" alt=\"Open In Colab\"/></a>"
      ]
    },
    {
      "cell_type": "markdown",
      "metadata": {
        "id": "p2GJje9lSY0F",
        "colab_type": "text"
      },
      "source": [
        "# Integers addition"
      ]
    },
    {
      "cell_type": "code",
      "metadata": {
        "id": "67K1pwjBSRPh",
        "colab_type": "code",
        "colab": {
          "base_uri": "https://localhost:8080/",
          "height": 34
        },
        "outputId": "cb55ab09-51c1-4dc3-fc07-1eff4558c4f7"
      },
      "source": [
        "import numpy as np\n",
        "from keras import Sequential\n",
        "from keras.layers import LSTM, Dense\n",
        "from sklearn.utils import shuffle\n",
        "from random import randint\n",
        "\n",
        "from keras.callbacks import ModelCheckpoint\n",
        "from keras.models import save_model, load_model\n",
        "import matplotlib.pyplot as plt"
      ],
      "execution_count": 1,
      "outputs": [
        {
          "output_type": "stream",
          "text": [
            "Using TensorFlow backend.\n"
          ],
          "name": "stderr"
        }
      ]
    },
    {
      "cell_type": "markdown",
      "metadata": {
        "id": "AVtjphSBTi86",
        "colab_type": "text"
      },
      "source": [
        "## Model Building"
      ]
    },
    {
      "cell_type": "code",
      "metadata": {
        "id": "fCpd1nNpS725",
        "colab_type": "code",
        "outputId": "e6450109-e7b0-4871-fe2e-b7f645d0a060",
        "colab": {
          "base_uri": "https://localhost:8080/",
          "height": 411
        }
      },
      "source": [
        "model = Sequential()\n",
        "model.add(LSTM(40,input_shape = (None, 1), return_sequences=True))\n",
        "model.add(LSTM(20, return_sequences=False))\n",
        "model.add(Dense(1))\n",
        "\n",
        "model.compile(loss='mse',optimizer='adam')\n",
        "\n",
        "filepath = \"weights-best.hdf5\" \n",
        "checkpoint = ModelCheckpoint(filepath, monitor='loss',mode='min' ,save_best_only='True')\n",
        "\n",
        "callback_lists=[checkpoint]\n",
        "\n",
        "model.summary()"
      ],
      "execution_count": 2,
      "outputs": [
        {
          "output_type": "stream",
          "text": [
            "WARNING:tensorflow:From /usr/local/lib/python3.6/dist-packages/keras/backend/tensorflow_backend.py:66: The name tf.get_default_graph is deprecated. Please use tf.compat.v1.get_default_graph instead.\n",
            "\n",
            "WARNING:tensorflow:From /usr/local/lib/python3.6/dist-packages/keras/backend/tensorflow_backend.py:541: The name tf.placeholder is deprecated. Please use tf.compat.v1.placeholder instead.\n",
            "\n",
            "WARNING:tensorflow:From /usr/local/lib/python3.6/dist-packages/keras/backend/tensorflow_backend.py:4432: The name tf.random_uniform is deprecated. Please use tf.random.uniform instead.\n",
            "\n",
            "WARNING:tensorflow:From /usr/local/lib/python3.6/dist-packages/keras/optimizers.py:793: The name tf.train.Optimizer is deprecated. Please use tf.compat.v1.train.Optimizer instead.\n",
            "\n",
            "Model: \"sequential_1\"\n",
            "_________________________________________________________________\n",
            "Layer (type)                 Output Shape              Param #   \n",
            "=================================================================\n",
            "lstm_1 (LSTM)                (None, None, 40)          6720      \n",
            "_________________________________________________________________\n",
            "lstm_2 (LSTM)                (None, 20)                4880      \n",
            "_________________________________________________________________\n",
            "dense_1 (Dense)              (None, 1)                 21        \n",
            "=================================================================\n",
            "Total params: 11,621\n",
            "Trainable params: 11,621\n",
            "Non-trainable params: 0\n",
            "_________________________________________________________________\n"
          ],
          "name": "stdout"
        }
      ]
    },
    {
      "cell_type": "markdown",
      "metadata": {
        "id": "JMDFnsUvTlPG",
        "colab_type": "text"
      },
      "source": [
        "## Data Generation"
      ]
    },
    {
      "cell_type": "code",
      "metadata": {
        "id": "zuwocCzIlqpN",
        "colab_type": "code",
        "colab": {
          "base_uri": "https://localhost:8080/",
          "height": 204
        },
        "outputId": "bdbbc32c-bbc0-4dff-8d6c-e68bbf61e0de"
      },
      "source": [
        "dic = {str(i):i for i in range(10)}\n",
        "dic['+'] = 11\n",
        "dic\n",
        "\n",
        "\"11 + 32\""
      ],
      "execution_count": 8,
      "outputs": [
        {
          "output_type": "execute_result",
          "data": {
            "text/plain": [
              "{'+': 11,\n",
              " '0': 0,\n",
              " '1': 1,\n",
              " '2': 2,\n",
              " '3': 3,\n",
              " '4': 4,\n",
              " '5': 5,\n",
              " '6': 6,\n",
              " '7': 7,\n",
              " '8': 8,\n",
              " '9': 9}"
            ]
          },
          "metadata": {
            "tags": []
          },
          "execution_count": 8
        }
      ]
    },
    {
      "cell_type": "code",
      "metadata": {
        "id": "6cFrvsO4H2GV",
        "colab_type": "code",
        "colab": {
          "base_uri": "https://localhost:8080/",
          "height": 34
        },
        "outputId": "f22b96f8-e253-42bf-f212-ea5e93afd873"
      },
      "source": [
        "\"11 + 32\", 43\n",
        "\"13 + 32\""
      ],
      "execution_count": 19,
      "outputs": [
        {
          "output_type": "execute_result",
          "data": {
            "text/plain": [
              "'11 + 32'"
            ]
          },
          "metadata": {
            "tags": []
          },
          "execution_count": 19
        }
      ]
    },
    {
      "cell_type": "code",
      "metadata": {
        "id": "diY_vkoUTXm_",
        "colab_type": "code",
        "outputId": "a42e8b28-1a64-43e1-c03d-8875b8d9a7a0",
        "colab": {
          "base_uri": "https://localhost:8080/",
          "height": 34
        }
      },
      "source": [
        "def encode(input_str):\n",
        "  return [[dic[s]] for s in input_str]\n",
        "\n",
        "encode('12+12'), 24"
      ],
      "execution_count": 20,
      "outputs": [
        {
          "output_type": "execute_result",
          "data": {
            "text/plain": [
              "[[1], [2], [11], [1], [2]]"
            ]
          },
          "metadata": {
            "tags": []
          },
          "execution_count": 20
        }
      ]
    },
    {
      "cell_type": "code",
      "metadata": {
        "id": "ey2Pvd_ueKFi",
        "colab_type": "code",
        "colab": {}
      },
      "source": [
        "def train_generator():\n",
        "    while True:\n",
        "        i = randint(0,99)\n",
        "        j = randint(0,99)\n",
        "        x_train = np.array([encode(str(i)+'+'+str(j))])\n",
        "        y_train = [i+j]\n",
        "        yield x_train, y_train"
      ],
      "execution_count": 0,
      "outputs": []
    },
    {
      "cell_type": "code",
      "metadata": {
        "id": "GSdrTaYXgPSP",
        "colab_type": "code",
        "colab": {
          "base_uri": "https://localhost:8080/",
          "height": 187
        },
        "outputId": "b9e527ef-8946-4e7f-fcaf-6d44bc7024ed"
      },
      "source": [
        "gen = train_generator()\n",
        "print(next(gen))\n",
        "print()\n",
        "print(next(gen))"
      ],
      "execution_count": 18,
      "outputs": [
        {
          "output_type": "stream",
          "text": [
            "(array([[[ 9],\n",
            "        [ 2],\n",
            "        [11],\n",
            "        [ 7]]]), [99])\n",
            "\n",
            "(array([[[ 8],\n",
            "        [ 4],\n",
            "        [11],\n",
            "        [ 2],\n",
            "        [ 6]]]), [110])\n"
          ],
          "name": "stdout"
        }
      ]
    },
    {
      "cell_type": "markdown",
      "metadata": {
        "id": "bJySF_uOW7d2",
        "colab_type": "text"
      },
      "source": [
        "## Training"
      ]
    },
    {
      "cell_type": "code",
      "metadata": {
        "id": "aYvDO6OCVBhQ",
        "colab_type": "code",
        "outputId": "98d979a4-2b4a-448b-acc7-d7784ac18847",
        "colab": {
          "base_uri": "https://localhost:8080/",
          "height": 1000
        }
      },
      "source": [
        "history = model.fit(train_generator(), steps_per_epoch=1000, \n",
        "          epochs=50, \n",
        "          verbose=1,\n",
        "         callbacks=callback_lists)"
      ],
      "execution_count": 7,
      "outputs": [
        {
          "output_type": "stream",
          "text": [
            "Epoch 1/50\n",
            "1000/1000 [==============================] - 7s 7ms/step - loss: 1199.8847\n",
            "Epoch 2/50\n",
            "1000/1000 [==============================] - 7s 7ms/step - loss: 822.0779\n",
            "Epoch 3/50\n",
            "1000/1000 [==============================] - 7s 7ms/step - loss: 598.9914\n",
            "Epoch 4/50\n",
            "1000/1000 [==============================] - 7s 7ms/step - loss: 418.7307\n",
            "Epoch 5/50\n",
            "1000/1000 [==============================] - 7s 7ms/step - loss: 297.2965\n",
            "Epoch 6/50\n",
            "1000/1000 [==============================] - 7s 7ms/step - loss: 192.2123\n",
            "Epoch 7/50\n",
            "1000/1000 [==============================] - 7s 7ms/step - loss: 146.3340\n",
            "Epoch 8/50\n",
            "1000/1000 [==============================] - 7s 7ms/step - loss: 78.7298\n",
            "Epoch 9/50\n",
            "1000/1000 [==============================] - 7s 7ms/step - loss: 71.8140\n",
            "Epoch 10/50\n",
            "1000/1000 [==============================] - 7s 7ms/step - loss: 45.7480\n",
            "Epoch 11/50\n",
            "1000/1000 [==============================] - 8s 8ms/step - loss: 34.3604\n",
            "Epoch 12/50\n",
            "1000/1000 [==============================] - 7s 7ms/step - loss: 25.3598\n",
            "Epoch 13/50\n",
            "1000/1000 [==============================] - 7s 7ms/step - loss: 20.2818\n",
            "Epoch 14/50\n",
            "1000/1000 [==============================] - 7s 7ms/step - loss: 18.0262\n",
            "Epoch 15/50\n",
            "1000/1000 [==============================] - 7s 7ms/step - loss: 13.6932\n",
            "Epoch 16/50\n",
            "1000/1000 [==============================] - 7s 7ms/step - loss: 11.0819\n",
            "Epoch 17/50\n",
            "1000/1000 [==============================] - 7s 7ms/step - loss: 8.4826\n",
            "Epoch 18/50\n",
            "1000/1000 [==============================] - 8s 8ms/step - loss: 9.0037\n",
            "Epoch 19/50\n",
            "1000/1000 [==============================] - 8s 8ms/step - loss: 6.6430\n",
            "Epoch 20/50\n",
            "1000/1000 [==============================] - 8s 8ms/step - loss: 5.3973\n",
            "Epoch 21/50\n",
            "1000/1000 [==============================] - 8s 8ms/step - loss: 5.6481\n",
            "Epoch 22/50\n",
            "1000/1000 [==============================] - 7s 7ms/step - loss: 4.1607\n",
            "Epoch 23/50\n",
            "1000/1000 [==============================] - 7s 7ms/step - loss: 9.9252\n",
            "Epoch 24/50\n",
            "1000/1000 [==============================] - 8s 8ms/step - loss: 2.4501\n",
            "Epoch 25/50\n",
            "1000/1000 [==============================] - 8s 8ms/step - loss: 4.1056\n",
            "Epoch 26/50\n",
            "1000/1000 [==============================] - 8s 8ms/step - loss: 3.5071\n",
            "Epoch 27/50\n",
            "1000/1000 [==============================] - 7s 7ms/step - loss: 4.5583\n",
            "Epoch 28/50\n",
            "1000/1000 [==============================] - 7s 7ms/step - loss: 3.7503\n",
            "Epoch 29/50\n",
            "1000/1000 [==============================] - 7s 7ms/step - loss: 3.6082\n",
            "Epoch 30/50\n",
            "1000/1000 [==============================] - 7s 7ms/step - loss: 4.6272\n",
            "Epoch 31/50\n",
            "1000/1000 [==============================] - 7s 7ms/step - loss: 4.8868\n",
            "Epoch 32/50\n",
            "1000/1000 [==============================] - 7s 7ms/step - loss: 2.2500\n",
            "Epoch 33/50\n",
            "1000/1000 [==============================] - 8s 8ms/step - loss: 4.9651\n",
            "Epoch 34/50\n",
            "1000/1000 [==============================] - 7s 7ms/step - loss: 2.6595\n",
            "Epoch 35/50\n",
            "1000/1000 [==============================] - 7s 7ms/step - loss: 3.1911\n",
            "Epoch 36/50\n",
            "1000/1000 [==============================] - 8s 8ms/step - loss: 2.5166\n",
            "Epoch 37/50\n",
            "1000/1000 [==============================] - 7s 7ms/step - loss: 7.6243\n",
            "Epoch 38/50\n",
            "1000/1000 [==============================] - 7s 7ms/step - loss: 1.7139\n",
            "Epoch 39/50\n",
            "1000/1000 [==============================] - 7s 7ms/step - loss: 3.2293\n",
            "Epoch 40/50\n",
            "1000/1000 [==============================] - 7s 7ms/step - loss: 2.5148\n",
            "Epoch 41/50\n",
            "1000/1000 [==============================] - 7s 7ms/step - loss: 2.3532\n",
            "Epoch 42/50\n",
            "1000/1000 [==============================] - 7s 7ms/step - loss: 2.6306\n",
            "Epoch 43/50\n",
            "1000/1000 [==============================] - 7s 7ms/step - loss: 3.8525\n",
            "Epoch 44/50\n",
            "1000/1000 [==============================] - 7s 7ms/step - loss: 2.5668\n",
            "Epoch 45/50\n",
            "1000/1000 [==============================] - 7s 7ms/step - loss: 2.3926\n",
            "Epoch 46/50\n",
            "1000/1000 [==============================] - 7s 7ms/step - loss: 2.4351\n",
            "Epoch 47/50\n",
            "1000/1000 [==============================] - 7s 7ms/step - loss: 2.3680\n",
            "Epoch 48/50\n",
            "1000/1000 [==============================] - 7s 7ms/step - loss: 2.8343\n",
            "Epoch 49/50\n",
            "1000/1000 [==============================] - 7s 7ms/step - loss: 2.1004\n",
            "Epoch 50/50\n",
            "1000/1000 [==============================] - 8s 8ms/step - loss: 2.7619\n"
          ],
          "name": "stdout"
        }
      ]
    },
    {
      "cell_type": "code",
      "metadata": {
        "id": "1-XaZKryk7Ns",
        "colab_type": "code",
        "colab": {
          "base_uri": "https://localhost:8080/",
          "height": 392
        },
        "outputId": "5035315c-acdc-4f5c-d4a3-b61cc681dc64"
      },
      "source": [
        "plt.figure(figsize = (10, 6))\n",
        "plt.plot(history.history[\"loss\"])\n",
        "plt.ylabel(\"Loss: $MSE$\")\n",
        "plt.xlabel(\"Epochs\")\n",
        "plt.show()"
      ],
      "execution_count": 14,
      "outputs": [
        {
          "output_type": "display_data",
          "data": {
            "image/png": "[encoded data removed]",
            "text/plain": [
              "<Figure size 720x432 with 1 Axes>"
            ]
          },
          "metadata": {
            "tags": []
          }
        }
      ]
    },
    {
      "cell_type": "markdown",
      "metadata": {
        "id": "k4Jtht1pggdK",
        "colab_type": "text"
      },
      "source": [
        "## Testing"
      ]
    },
    {
      "cell_type": "code",
      "metadata": {
        "id": "f1afBfZogeEJ",
        "colab_type": "code",
        "outputId": "0d309798-512f-4ad9-b0d8-3a94d46a4699",
        "colab": {
          "base_uri": "https://localhost:8080/",
          "height": 68
        }
      },
      "source": [
        "model = load_model('weights-best.hdf5')\n",
        "print(model.predict(np.array([encode('3+17')])))\n",
        "print(model.predict(np.array([encode('39+46')])))\n",
        "print(model.predict(np.array([encode('64+25')])))"
      ],
      "execution_count": 15,
      "outputs": [
        {
          "output_type": "stream",
          "text": [
            "[[20.447134]]\n",
            "[[83.93134]]\n",
            "[[88.05633]]\n"
          ],
          "name": "stdout"
        }
      ]
    },
    {
      "cell_type": "code",
      "metadata": {
        "id": "djVFNhwmlObZ",
        "colab_type": "code",
        "colab": {
          "base_uri": "https://localhost:8080/",
          "height": 34
        },
        "outputId": "001990d1-2366-4f3f-9f75-a5bae73c2953"
      },
      "source": [
        "print(model.predict(np.array([encode('125+234')])))"
      ],
      "execution_count": 16,
      "outputs": [
        {
          "output_type": "stream",
          "text": [
            "[[121.306145]]\n"
          ],
          "name": "stdout"
        }
      ]
    }
  ]
}