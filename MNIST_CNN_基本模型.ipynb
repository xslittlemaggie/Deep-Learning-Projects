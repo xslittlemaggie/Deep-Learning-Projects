{
  "nbformat": 4,
  "nbformat_minor": 0,
  "metadata": {
    "colab": {
      "name": "MNIST_CNN 参数调节.ipynb",
      "version": "0.3.2",
      "provenance": [],
      "collapsed_sections": [],
      "include_colab_link": true
    },
    "kernelspec": {
      "name": "python3",
      "display_name": "Python 3"
    },
    "accelerator": "GPU"
  },
  "cells": [
    {
      "cell_type": "markdown",
      "metadata": {
        "id": "view-in-github",
        "colab_type": "text"
      },
      "source": [
        "<a href=\"https://colab.research.google.com/github/xslittlemaggie/Deep-Learning-Projects/blob/master/MNIST_CNN_%E5%9F%BA%E6%9C%AC%E6%A8%A1%E5%9E%8B.ipynb\" target=\"_parent\"><img src=\"https://colab.research.google.com/assets/colab-badge.svg\" alt=\"Open In Colab\"/></a>"
      ]
    },
    {
      "cell_type": "code",
      "metadata": {
        "id": "uWcscijNFffz",
        "colab_type": "code",
        "colab": {}
      },
      "source": [
        "import keras\n",
        "from keras.datasets import mnist\n",
        "from keras.models import Sequential\n",
        "from keras.layers import Conv2D, MaxPooling2D, Dropout\n",
        "from keras.layers import Dense, Activation, Flatten\n",
        "from keras.optimizers import SGD, adam, RMSprop\n",
        "\n",
        "from keras.utils import np_utils\n",
        "from keras import backend as K\n",
        "\n",
        "# visualization\n",
        "import matplotlib.pyplot as plt\n",
        "\n",
        "import warnings\n",
        "warnings.filterwarnings('ignore')"
      ],
      "execution_count": 0,
      "outputs": []
    },
    {
      "cell_type": "code",
      "metadata": {
        "id": "0FqOAGrPFg4W",
        "colab_type": "code",
        "colab": {}
      },
      "source": [
        "# the data, split between train and test sets\n",
        "(x_train, y_train), (x_test, y_test) = mnist.load_data()"
      ],
      "execution_count": 0,
      "outputs": []
    },
    {
      "cell_type": "code",
      "metadata": {
        "id": "tVMvPN0kGTOO",
        "colab_type": "code",
        "colab": {}
      },
      "source": [
        "# the data, split between train and test sets\n",
        "if K.image_data_format() == \"channels_first\":\n",
        "  x_train = x_train.reshape(x_train.shape[0], 1, 28, 28)\n",
        "  x_test = x_test.reshape(x_test.shape[0], 1, 28, 28)\n",
        "  input_shape = (1, 28, 28)\n",
        "else:\n",
        "  x_train = x_train.reshape(x_train.shape[0], 28, 28, 1)\n",
        "  x_test = x_test.reshape(x_test.shape[0], 28, 28, 1)\n",
        "  input_shape = (28, 28, 1)\n",
        "\n",
        "x_train = x_train.astype('float32')\n",
        "x_test = x_test.astype('float32')\n",
        "#x_train = x_train/255\n",
        "#x_test = x_test/255\n",
        "\n",
        "# convert class vectors to binary class matrics\n",
        "y_train = np_utils.to_categorical(y_train, 10)\n",
        "y_test = np_utils.to_categorical(y_test, 10)"
      ],
      "execution_count": 0,
      "outputs": []
    },
    {
      "cell_type": "code",
      "metadata": {
        "id": "d_fENKHPFlsm",
        "colab_type": "code",
        "outputId": "7aff66c3-ca7b-4960-9b31-65edf5e8405c",
        "colab": {
          "base_uri": "https://localhost:8080/",
          "height": 328
        }
      },
      "source": [
        "model = Sequential()\n",
        "\n",
        "# 第一层: CNN\n",
        "model.add(Conv2D(32, kernel_size = (3, 3), input_shape = (28, 28, 1)))\n",
        "\n",
        "# 第二层：激活层\n",
        "model.add(Activation(\"sigmoid\"))\n",
        "\n",
        "# 第三层：池化层\n",
        "model.add(MaxPooling2D(2, 2))\n",
        "\n",
        "\n",
        "# 将图片拉平\n",
        "model.add(Flatten())\n",
        "model.add(Dense(10, activation = \"softmax\"))\n",
        "\n",
        "model.compile(loss = 'mse', optimizer = adam(), metrics = [\"accuracy\"]) # categorical_crossentropy\n",
        "\n",
        "model.summary()"
      ],
      "execution_count": 0,
      "outputs": [
        {
          "output_type": "stream",
          "text": [
            "Model: \"sequential_3\"\n",
            "_________________________________________________________________\n",
            "Layer (type)                 Output Shape              Param #   \n",
            "=================================================================\n",
            "conv2d_3 (Conv2D)            (None, 26, 26, 32)        320       \n",
            "_________________________________________________________________\n",
            "activation_3 (Activation)    (None, 26, 26, 32)        0         \n",
            "_________________________________________________________________\n",
            "max_pooling2d_3 (MaxPooling2 (None, 13, 13, 32)        0         \n",
            "_________________________________________________________________\n",
            "flatten_3 (Flatten)          (None, 5408)              0         \n",
            "_________________________________________________________________\n",
            "dense_3 (Dense)              (None, 10)                54090     \n",
            "=================================================================\n",
            "Total params: 54,410\n",
            "Trainable params: 54,410\n",
            "Non-trainable params: 0\n",
            "_________________________________________________________________\n"
          ],
          "name": "stdout"
        }
      ]
    },
    {
      "cell_type": "code",
      "metadata": {
        "id": "A-bSJ62zFzAV",
        "colab_type": "code",
        "outputId": "bd6a3163-a604-4edc-c2bd-11cad22ff93c",
        "colab": {
          "base_uri": "https://localhost:8080/",
          "height": 1000
        }
      },
      "source": [
        "history_0 = model.fit(x_train, y_train, \n",
        "                   batch_size = 128, \n",
        "                   epochs = 30,\n",
        "                   validation_data = (x_test, y_test))\n",
        "score = model.evaluate(x_train, y_train)\n",
        "print(\"Train score: {}\".format(score[1]))\n",
        "\n",
        "\n",
        "score = model.evaluate(x_test, y_test)\n",
        "print(\"Test score: {}\".format(score[1]))"
      ],
      "execution_count": 0,
      "outputs": [
        {
          "output_type": "stream",
          "text": [
            "Train on 60000 samples, validate on 10000 samples\n",
            "Epoch 1/30\n",
            "60000/60000 [==============================] - 4s 66us/step - loss: 0.0872 - acc: 0.3657 - val_loss: 0.0797 - val_acc: 0.4022\n",
            "Epoch 2/30\n",
            "60000/60000 [==============================] - 4s 62us/step - loss: 0.0801 - acc: 0.4015 - val_loss: 0.0786 - val_acc: 0.4074\n",
            "Epoch 3/30\n",
            "60000/60000 [==============================] - 4s 62us/step - loss: 0.0791 - acc: 0.4046 - val_loss: 0.0779 - val_acc: 0.4093\n",
            "Epoch 4/30\n",
            "60000/60000 [==============================] - 4s 63us/step - loss: 0.0786 - acc: 0.4059 - val_loss: 0.0776 - val_acc: 0.4098\n",
            "Epoch 5/30\n",
            "60000/60000 [==============================] - 4s 63us/step - loss: 0.0786 - acc: 0.4063 - val_loss: 0.0780 - val_acc: 0.4085\n",
            "Epoch 6/30\n",
            "60000/60000 [==============================] - 4s 63us/step - loss: 0.0782 - acc: 0.4071 - val_loss: 0.0772 - val_acc: 0.4105\n",
            "Epoch 7/30\n",
            "60000/60000 [==============================] - 4s 62us/step - loss: 0.0783 - acc: 0.4075 - val_loss: 0.0782 - val_acc: 0.4084\n",
            "Epoch 8/30\n",
            "60000/60000 [==============================] - 4s 62us/step - loss: 0.0781 - acc: 0.4074 - val_loss: 0.0794 - val_acc: 0.4076\n",
            "Epoch 9/30\n",
            "60000/60000 [==============================] - 4s 62us/step - loss: 0.0778 - acc: 0.4084 - val_loss: 0.0774 - val_acc: 0.4105\n",
            "Epoch 10/30\n",
            "60000/60000 [==============================] - 4s 62us/step - loss: 0.0779 - acc: 0.4081 - val_loss: 0.0769 - val_acc: 0.4116\n",
            "Epoch 11/30\n",
            "60000/60000 [==============================] - 4s 63us/step - loss: 0.0776 - acc: 0.4086 - val_loss: 0.0785 - val_acc: 0.4096\n",
            "Epoch 12/30\n",
            "60000/60000 [==============================] - 4s 63us/step - loss: 0.0778 - acc: 0.4087 - val_loss: 0.0782 - val_acc: 0.4100\n",
            "Epoch 13/30\n",
            "60000/60000 [==============================] - 4s 63us/step - loss: 0.0778 - acc: 0.4090 - val_loss: 0.0786 - val_acc: 0.4100\n",
            "Epoch 14/30\n",
            "60000/60000 [==============================] - 4s 62us/step - loss: 0.0776 - acc: 0.4089 - val_loss: 0.0771 - val_acc: 0.4111\n",
            "Epoch 15/30\n",
            "60000/60000 [==============================] - 4s 62us/step - loss: 0.0775 - acc: 0.4093 - val_loss: 0.0774 - val_acc: 0.4101\n",
            "Epoch 16/30\n",
            "60000/60000 [==============================] - 4s 62us/step - loss: 0.0774 - acc: 0.4096 - val_loss: 0.0774 - val_acc: 0.4109\n",
            "Epoch 17/30\n",
            "60000/60000 [==============================] - 4s 62us/step - loss: 0.0776 - acc: 0.4092 - val_loss: 0.0772 - val_acc: 0.4105\n",
            "Epoch 18/30\n",
            "60000/60000 [==============================] - 4s 62us/step - loss: 0.0775 - acc: 0.4094 - val_loss: 0.0771 - val_acc: 0.4115\n",
            "Epoch 19/30\n",
            "60000/60000 [==============================] - 4s 63us/step - loss: 0.0776 - acc: 0.4094 - val_loss: 0.0768 - val_acc: 0.4114\n",
            "Epoch 20/30\n",
            "60000/60000 [==============================] - 4s 62us/step - loss: 0.0773 - acc: 0.4096 - val_loss: 0.0769 - val_acc: 0.4107\n",
            "Epoch 21/30\n",
            "60000/60000 [==============================] - 4s 62us/step - loss: 0.0774 - acc: 0.4094 - val_loss: 0.0767 - val_acc: 0.4118\n",
            "Epoch 22/30\n",
            "60000/60000 [==============================] - 4s 62us/step - loss: 0.0775 - acc: 0.4097 - val_loss: 0.0772 - val_acc: 0.4102\n",
            "Epoch 23/30\n",
            "60000/60000 [==============================] - 4s 63us/step - loss: 0.0773 - acc: 0.4098 - val_loss: 0.0772 - val_acc: 0.4113\n",
            "Epoch 24/30\n",
            "60000/60000 [==============================] - 4s 62us/step - loss: 0.0773 - acc: 0.4100 - val_loss: 0.0772 - val_acc: 0.4104\n",
            "Epoch 25/30\n",
            "60000/60000 [==============================] - 4s 62us/step - loss: 0.0774 - acc: 0.4099 - val_loss: 0.0770 - val_acc: 0.4110\n",
            "Epoch 26/30\n",
            "60000/60000 [==============================] - 4s 62us/step - loss: 0.0772 - acc: 0.4098 - val_loss: 0.0771 - val_acc: 0.4117\n",
            "Epoch 27/30\n",
            "60000/60000 [==============================] - 4s 64us/step - loss: 0.0773 - acc: 0.4098 - val_loss: 0.0774 - val_acc: 0.4114\n",
            "Epoch 28/30\n",
            "60000/60000 [==============================] - 4s 62us/step - loss: 0.0773 - acc: 0.4100 - val_loss: 0.0785 - val_acc: 0.4092\n",
            "Epoch 29/30\n",
            "60000/60000 [==============================] - 4s 63us/step - loss: 0.0772 - acc: 0.4099 - val_loss: 0.0768 - val_acc: 0.4124\n",
            "Epoch 30/30\n",
            "60000/60000 [==============================] - 4s 63us/step - loss: 0.0773 - acc: 0.4099 - val_loss: 0.0774 - val_acc: 0.4112\n",
            "60000/60000 [==============================] - 4s 67us/step\n",
            "Train score: 0.4105333333333333\n",
            "10000/10000 [==============================] - 1s 69us/step\n",
            "Test score: 0.4112\n"
          ],
          "name": "stdout"
        }
      ]
    },
    {
      "cell_type": "code",
      "metadata": {
        "id": "jJGNK0VsMXSG",
        "colab_type": "code",
        "outputId": "f1fbe81c-6274-4e14-f2fa-db86fb9feef7",
        "colab": {
          "base_uri": "https://localhost:8080/",
          "height": 523
        }
      },
      "source": [
        "plt.figure(figsize = (12, 8))\n",
        "plt.plot(history_0.history[\"acc\"], color = \"b\")\n",
        "plt.plot(history_0.history[\"val_acc\"], color = \"r\")\n",
        "plt.title(\"The accuracy of Training and testing datasets\", size = 20)\n",
        "plt.xlabel(\"Epochs\", size = 16)\n",
        "plt.ylabel(\"Accuracy\", size = 16)\n",
        "plt.legend([\"Training\",\"Testing\"])\n",
        "plt.show()"
      ],
      "execution_count": 0,
      "outputs": [
        {
          "output_type": "display_data",
          "data": {
            "image/png": "[encoded data removed]",
            "text/plain": [
              "<Figure size 864x576 with 1 Axes>"
            ]
          },
          "metadata": {
            "tags": []
          }
        }
      ]
    },
    {
      "cell_type": "markdown",
      "metadata": {
        "id": "bG2M6IwAdt8k",
        "colab_type": "text"
      },
      "source": [
        "# 参数调节"
      ]
    },
    {
      "cell_type": "markdown",
      "metadata": {
        "id": "Pa0bGBwo1qPQ",
        "colab_type": "text"
      },
      "source": [
        "## 调参 1. 数据归一化"
      ]
    },
    {
      "cell_type": "code",
      "metadata": {
        "id": "tdqokUA_gYSw",
        "colab_type": "code",
        "colab": {}
      },
      "source": [
        "x_train = x_train/255\n",
        "x_test = x_test/255"
      ],
      "execution_count": 0,
      "outputs": []
    },
    {
      "cell_type": "code",
      "metadata": {
        "id": "RN5uaV22geG9",
        "colab_type": "code",
        "outputId": "93588238-72cb-4adc-b65b-2b45ac78a81f",
        "colab": {
          "base_uri": "https://localhost:8080/",
          "height": 323
        }
      },
      "source": [
        "model = Sequential()\n",
        "\n",
        "# 第一层: CNN\n",
        "model.add(Conv2D(32, kernel_size = (3, 3), input_shape = (28, 28, 1)))\n",
        "\n",
        "# 第二层：激活层\n",
        "model.add(Activation(\"sigmoid\"))\n",
        "\n",
        "# 第三层：池化层\n",
        "model.add(MaxPooling2D(2, 2))\n",
        "\n",
        "# 将图片拉平\n",
        "model.add(Flatten())\n",
        "model.add(Dense(10, activation = \"softmax\"))\n",
        "\n",
        "model.compile(loss = 'mse', optimizer = adam(), metrics = [\"accuracy\"])\n",
        "model.summary()"
      ],
      "execution_count": 0,
      "outputs": [
        {
          "output_type": "stream",
          "text": [
            "Model: \"sequential_4\"\n",
            "_________________________________________________________________\n",
            "Layer (type)                 Output Shape              Param #   \n",
            "=================================================================\n",
            "conv2d_4 (Conv2D)            (None, 26, 26, 32)        320       \n",
            "_________________________________________________________________\n",
            "activation_4 (Activation)    (None, 26, 26, 32)        0         \n",
            "_________________________________________________________________\n",
            "max_pooling2d_4 (MaxPooling2 (None, 13, 13, 32)        0         \n",
            "_________________________________________________________________\n",
            "flatten_4 (Flatten)          (None, 5408)              0         \n",
            "_________________________________________________________________\n",
            "dense_4 (Dense)              (None, 10)                54090     \n",
            "=================================================================\n",
            "Total params: 54,410\n",
            "Trainable params: 54,410\n",
            "Non-trainable params: 0\n",
            "_________________________________________________________________\n"
          ],
          "name": "stdout"
        }
      ]
    },
    {
      "cell_type": "code",
      "metadata": {
        "id": "JbxHLT1khR-Q",
        "colab_type": "code",
        "outputId": "11fde034-36b4-4556-db58-86b30c1430f2",
        "colab": {
          "base_uri": "https://localhost:8080/",
          "height": 1000
        }
      },
      "source": [
        "history_1 = model.fit(x_train, y_train, \n",
        "                   batch_size = 128, \n",
        "                   epochs = 30,\n",
        "                   validation_data = (x_test, y_test))\n",
        "score = model.evaluate(x_train, y_train)\n",
        "print(\"Train score: {}\".format(score[1]))\n",
        "\n",
        "\n",
        "score = model.evaluate(x_test, y_test)\n",
        "print(\"Test score: {}\".format(score[1]))"
      ],
      "execution_count": 0,
      "outputs": [
        {
          "output_type": "stream",
          "text": [
            "Train on 60000 samples, validate on 10000 samples\n",
            "Epoch 1/30\n",
            "60000/60000 [==============================] - 4s 67us/step - loss: 0.0812 - acc: 0.3742 - val_loss: 0.0618 - val_acc: 0.5541\n",
            "Epoch 2/30\n",
            "60000/60000 [==============================] - 4s 63us/step - loss: 0.0625 - acc: 0.5470 - val_loss: 0.0629 - val_acc: 0.5482\n",
            "Epoch 3/30\n",
            "60000/60000 [==============================] - 4s 66us/step - loss: 0.0606 - acc: 0.5555 - val_loss: 0.0613 - val_acc: 0.5526\n",
            "Epoch 4/30\n",
            "60000/60000 [==============================] - 4s 65us/step - loss: 0.0594 - acc: 0.5614 - val_loss: 0.0576 - val_acc: 0.5740\n",
            "Epoch 5/30\n",
            "60000/60000 [==============================] - 4s 62us/step - loss: 0.0584 - acc: 0.5654 - val_loss: 0.0561 - val_acc: 0.5789\n",
            "Epoch 6/30\n",
            "60000/60000 [==============================] - 4s 63us/step - loss: 0.0575 - acc: 0.5704 - val_loss: 0.0567 - val_acc: 0.5750\n",
            "Epoch 7/30\n",
            "60000/60000 [==============================] - 4s 65us/step - loss: 0.0566 - acc: 0.5741 - val_loss: 0.0558 - val_acc: 0.5808\n",
            "Epoch 8/30\n",
            "60000/60000 [==============================] - 4s 65us/step - loss: 0.0555 - acc: 0.5786 - val_loss: 0.0538 - val_acc: 0.5875\n",
            "Epoch 9/30\n",
            "60000/60000 [==============================] - 4s 62us/step - loss: 0.0551 - acc: 0.5803 - val_loss: 0.0531 - val_acc: 0.5897\n",
            "Epoch 10/30\n",
            "60000/60000 [==============================] - 4s 60us/step - loss: 0.0544 - acc: 0.5832 - val_loss: 0.0540 - val_acc: 0.5900\n",
            "Epoch 11/30\n",
            "60000/60000 [==============================] - 4s 63us/step - loss: 0.0542 - acc: 0.5842 - val_loss: 0.0541 - val_acc: 0.5861\n",
            "Epoch 12/30\n",
            "60000/60000 [==============================] - 4s 62us/step - loss: 0.0537 - acc: 0.5860 - val_loss: 0.0525 - val_acc: 0.5949\n",
            "Epoch 13/30\n",
            "60000/60000 [==============================] - 4s 62us/step - loss: 0.0535 - acc: 0.5874 - val_loss: 0.0528 - val_acc: 0.5924\n",
            "Epoch 14/30\n",
            "60000/60000 [==============================] - 4s 61us/step - loss: 0.0531 - acc: 0.5884 - val_loss: 0.0526 - val_acc: 0.5931\n",
            "Epoch 15/30\n",
            "60000/60000 [==============================] - 4s 61us/step - loss: 0.0529 - acc: 0.5889 - val_loss: 0.0519 - val_acc: 0.5950\n",
            "Epoch 16/30\n",
            "60000/60000 [==============================] - 4s 61us/step - loss: 0.0529 - acc: 0.5890 - val_loss: 0.0525 - val_acc: 0.5912\n",
            "Epoch 17/30\n",
            "60000/60000 [==============================] - 4s 61us/step - loss: 0.0528 - acc: 0.5901 - val_loss: 0.0517 - val_acc: 0.5963\n",
            "Epoch 18/30\n",
            "60000/60000 [==============================] - 4s 61us/step - loss: 0.0526 - acc: 0.5899 - val_loss: 0.0522 - val_acc: 0.5931\n",
            "Epoch 19/30\n",
            "60000/60000 [==============================] - 4s 61us/step - loss: 0.0523 - acc: 0.5914 - val_loss: 0.0516 - val_acc: 0.5975\n",
            "Epoch 20/30\n",
            "60000/60000 [==============================] - 4s 61us/step - loss: 0.0524 - acc: 0.5915 - val_loss: 0.0518 - val_acc: 0.5969\n",
            "Epoch 21/30\n",
            "60000/60000 [==============================] - 4s 61us/step - loss: 0.0522 - acc: 0.5920 - val_loss: 0.0515 - val_acc: 0.5957\n",
            "Epoch 22/30\n",
            "60000/60000 [==============================] - 4s 62us/step - loss: 0.0520 - acc: 0.5922 - val_loss: 0.0516 - val_acc: 0.5943\n",
            "Epoch 23/30\n",
            "60000/60000 [==============================] - 4s 62us/step - loss: 0.0520 - acc: 0.5927 - val_loss: 0.0512 - val_acc: 0.5971\n",
            "Epoch 24/30\n",
            "60000/60000 [==============================] - 4s 62us/step - loss: 0.0520 - acc: 0.5923 - val_loss: 0.0512 - val_acc: 0.5968\n",
            "Epoch 25/30\n",
            "60000/60000 [==============================] - 4s 67us/step - loss: 0.0518 - acc: 0.5928 - val_loss: 0.0510 - val_acc: 0.5962\n",
            "Epoch 26/30\n",
            "60000/60000 [==============================] - 4s 64us/step - loss: 0.0518 - acc: 0.5935 - val_loss: 0.0511 - val_acc: 0.5965\n",
            "Epoch 27/30\n",
            "60000/60000 [==============================] - 4s 64us/step - loss: 0.0517 - acc: 0.5931 - val_loss: 0.0518 - val_acc: 0.5947\n",
            "Epoch 28/30\n",
            "60000/60000 [==============================] - 4s 61us/step - loss: 0.0516 - acc: 0.5934 - val_loss: 0.0510 - val_acc: 0.5971\n",
            "Epoch 29/30\n",
            "60000/60000 [==============================] - 4s 61us/step - loss: 0.0515 - acc: 0.5939 - val_loss: 0.0509 - val_acc: 0.5983\n",
            "Epoch 30/30\n",
            "60000/60000 [==============================] - 4s 62us/step - loss: 0.0515 - acc: 0.5943 - val_loss: 0.0507 - val_acc: 0.5970\n",
            "60000/60000 [==============================] - 4s 67us/step\n",
            "Train score: 0.5950833333333333\n",
            "10000/10000 [==============================] - 1s 68us/step\n",
            "Test score: 0.597\n"
          ],
          "name": "stdout"
        }
      ]
    },
    {
      "cell_type": "code",
      "metadata": {
        "id": "qLf4tLtvhW17",
        "colab_type": "code",
        "outputId": "dfadfba2-df3a-4e96-be76-a8a186fb4f7e",
        "colab": {
          "base_uri": "https://localhost:8080/",
          "height": 523
        }
      },
      "source": [
        "plt.figure(figsize = (12, 8))\n",
        "plt.plot(history_1.history[\"acc\"], color = \"b\")\n",
        "plt.plot(history_1.history[\"val_acc\"], color = \"r\")\n",
        "plt.title(\"The accuracy of Training and testing datasets\", size = 20)\n",
        "plt.xlabel(\"Epochs\", size = 16)\n",
        "plt.ylabel(\"Accuracy\", size = 16)\n",
        "plt.legend([\"Training\",\"Testing\"])\n",
        "plt.show()"
      ],
      "execution_count": 0,
      "outputs": [
        {
          "output_type": "display_data",
          "data": {
            "image/png": "[encoded data removed]",
            "text/plain": [
              "<Figure size 864x576 with 1 Axes>"
            ]
          },
          "metadata": {
            "tags": []
          }
        }
      ]
    },
    {
      "cell_type": "markdown",
      "metadata": {
        "id": "o7-3PcsReAlT",
        "colab_type": "text"
      },
      "source": [
        "## 调参 2. 增加网络的深度"
      ]
    },
    {
      "cell_type": "code",
      "metadata": {
        "id": "yOo91drwQV8C",
        "colab_type": "code",
        "outputId": "3e330a26-e465-4072-a1a1-f823ab7b12c3",
        "colab": {
          "base_uri": "https://localhost:8080/",
          "height": 950
        }
      },
      "source": [
        "model = Sequential()\n",
        "\n",
        "for i in range(10):\n",
        "\n",
        "  # 第一层: CNN\n",
        "  model.add(Conv2D(32, kernel_size = (3, 3), padding = \"SAME\", input_shape = (28, 28, 1)))\n",
        "\n",
        "  # 第二层：激活层\n",
        "  model.add(Activation(\"sigmoid\"))\n",
        "\n",
        "# 第三层：池化层\n",
        "model.add(MaxPooling2D(2, 2))\n",
        "\n",
        "# 将图片拉平\n",
        "model.add(Flatten())\n",
        "model.add(Dense(10, activation = \"softmax\"))\n",
        "\n",
        "model.compile(loss = 'mse', optimizer = adam(), metrics = [\"accuracy\"])\n",
        "model.summary()"
      ],
      "execution_count": 0,
      "outputs": [
        {
          "output_type": "stream",
          "text": [
            "Model: \"sequential_11\"\n",
            "_________________________________________________________________\n",
            "Layer (type)                 Output Shape              Param #   \n",
            "=================================================================\n",
            "conv2d_45 (Conv2D)           (None, 28, 28, 32)        320       \n",
            "_________________________________________________________________\n",
            "activation_45 (Activation)   (None, 28, 28, 32)        0         \n",
            "_________________________________________________________________\n",
            "conv2d_46 (Conv2D)           (None, 28, 28, 32)        9248      \n",
            "_________________________________________________________________\n",
            "activation_46 (Activation)   (None, 28, 28, 32)        0         \n",
            "_________________________________________________________________\n",
            "conv2d_47 (Conv2D)           (None, 28, 28, 32)        9248      \n",
            "_________________________________________________________________\n",
            "activation_47 (Activation)   (None, 28, 28, 32)        0         \n",
            "_________________________________________________________________\n",
            "conv2d_48 (Conv2D)           (None, 28, 28, 32)        9248      \n",
            "_________________________________________________________________\n",
            "activation_48 (Activation)   (None, 28, 28, 32)        0         \n",
            "_________________________________________________________________\n",
            "conv2d_49 (Conv2D)           (None, 28, 28, 32)        9248      \n",
            "_________________________________________________________________\n",
            "activation_49 (Activation)   (None, 28, 28, 32)        0         \n",
            "_________________________________________________________________\n",
            "conv2d_50 (Conv2D)           (None, 28, 28, 32)        9248      \n",
            "_________________________________________________________________\n",
            "activation_50 (Activation)   (None, 28, 28, 32)        0         \n",
            "_________________________________________________________________\n",
            "conv2d_51 (Conv2D)           (None, 28, 28, 32)        9248      \n",
            "_________________________________________________________________\n",
            "activation_51 (Activation)   (None, 28, 28, 32)        0         \n",
            "_________________________________________________________________\n",
            "conv2d_52 (Conv2D)           (None, 28, 28, 32)        9248      \n",
            "_________________________________________________________________\n",
            "activation_52 (Activation)   (None, 28, 28, 32)        0         \n",
            "_________________________________________________________________\n",
            "conv2d_53 (Conv2D)           (None, 28, 28, 32)        9248      \n",
            "_________________________________________________________________\n",
            "activation_53 (Activation)   (None, 28, 28, 32)        0         \n",
            "_________________________________________________________________\n",
            "conv2d_54 (Conv2D)           (None, 28, 28, 32)        9248      \n",
            "_________________________________________________________________\n",
            "activation_54 (Activation)   (None, 28, 28, 32)        0         \n",
            "_________________________________________________________________\n",
            "max_pooling2d_23 (MaxPooling (None, 14, 14, 32)        0         \n",
            "_________________________________________________________________\n",
            "flatten_8 (Flatten)          (None, 6272)              0         \n",
            "_________________________________________________________________\n",
            "dense_8 (Dense)              (None, 10)                62730     \n",
            "=================================================================\n",
            "Total params: 146,282\n",
            "Trainable params: 146,282\n",
            "Non-trainable params: 0\n",
            "_________________________________________________________________\n"
          ],
          "name": "stdout"
        }
      ]
    },
    {
      "cell_type": "code",
      "metadata": {
        "id": "zw6z5SQ0ePRw",
        "colab_type": "code",
        "outputId": "559ac968-47c5-48cd-9fe7-9ee869df6ebc",
        "colab": {
          "base_uri": "https://localhost:8080/",
          "height": 1000
        }
      },
      "source": [
        "history_2 = model.fit(x_train, y_train, \n",
        "                   batch_size = 128, \n",
        "                   epochs = 30,\n",
        "                   validation_data = (x_test, y_test))\n",
        "score = model.evaluate(x_train, y_train)\n",
        "print(\"Train score: {}\".format(score[1]))\n",
        "\n",
        "\n",
        "score = model.evaluate(x_test, y_test)\n",
        "print(\"Test score: {}\".format(score[1]))"
      ],
      "execution_count": 0,
      "outputs": [
        {
          "output_type": "stream",
          "text": [
            "Train on 60000 samples, validate on 10000 samples\n",
            "Epoch 1/30\n",
            "60000/60000 [==============================] - 30s 498us/step - loss: 0.0940 - acc: 0.1071 - val_loss: 0.0900 - val_acc: 0.1135\n",
            "Epoch 2/30\n",
            "60000/60000 [==============================] - 29s 490us/step - loss: 0.0900 - acc: 0.1124 - val_loss: 0.0900 - val_acc: 0.1135\n",
            "Epoch 3/30\n",
            "60000/60000 [==============================] - 29s 489us/step - loss: 0.0900 - acc: 0.1124 - val_loss: 0.0900 - val_acc: 0.1135\n",
            "Epoch 4/30\n",
            "60000/60000 [==============================] - 30s 496us/step - loss: 0.0900 - acc: 0.1124 - val_loss: 0.0900 - val_acc: 0.1135\n",
            "Epoch 5/30\n",
            "60000/60000 [==============================] - 30s 498us/step - loss: 0.0900 - acc: 0.1124 - val_loss: 0.0900 - val_acc: 0.1135\n",
            "Epoch 6/30\n",
            "60000/60000 [==============================] - 29s 487us/step - loss: 0.0900 - acc: 0.1124 - val_loss: 0.0900 - val_acc: 0.1135\n",
            "Epoch 7/30\n",
            "60000/60000 [==============================] - 29s 490us/step - loss: 0.0900 - acc: 0.1124 - val_loss: 0.0900 - val_acc: 0.1135\n",
            "Epoch 8/30\n",
            "60000/60000 [==============================] - 30s 493us/step - loss: 0.0900 - acc: 0.1124 - val_loss: 0.0900 - val_acc: 0.1135\n",
            "Epoch 9/30\n",
            "60000/60000 [==============================] - 30s 492us/step - loss: 0.0900 - acc: 0.1124 - val_loss: 0.0900 - val_acc: 0.1135\n",
            "Epoch 10/30\n",
            "60000/60000 [==============================] - 30s 492us/step - loss: 0.0900 - acc: 0.1124 - val_loss: 0.0900 - val_acc: 0.1135\n",
            "Epoch 11/30\n",
            "60000/60000 [==============================] - 30s 492us/step - loss: 0.0900 - acc: 0.1124 - val_loss: 0.0900 - val_acc: 0.1135\n",
            "Epoch 12/30\n",
            "60000/60000 [==============================] - 30s 494us/step - loss: 0.0900 - acc: 0.1124 - val_loss: 0.0900 - val_acc: 0.1135\n",
            "Epoch 13/30\n",
            "60000/60000 [==============================] - 29s 490us/step - loss: 0.0900 - acc: 0.1124 - val_loss: 0.0900 - val_acc: 0.1135\n",
            "Epoch 14/30\n",
            "60000/60000 [==============================] - 30s 495us/step - loss: 0.0900 - acc: 0.1124 - val_loss: 0.0900 - val_acc: 0.1135\n",
            "Epoch 15/30\n",
            "60000/60000 [==============================] - 30s 493us/step - loss: 0.0900 - acc: 0.1124 - val_loss: 0.0900 - val_acc: 0.1135\n",
            "Epoch 16/30\n",
            "60000/60000 [==============================] - 30s 492us/step - loss: 0.0900 - acc: 0.1124 - val_loss: 0.0900 - val_acc: 0.1135\n",
            "Epoch 17/30\n",
            "60000/60000 [==============================] - 29s 491us/step - loss: 0.0900 - acc: 0.1124 - val_loss: 0.0900 - val_acc: 0.1135\n",
            "Epoch 18/30\n",
            "60000/60000 [==============================] - 30s 507us/step - loss: 0.0900 - acc: 0.1124 - val_loss: 0.0900 - val_acc: 0.1135\n",
            "Epoch 19/30\n",
            "60000/60000 [==============================] - 29s 489us/step - loss: 0.0900 - acc: 0.1124 - val_loss: 0.0900 - val_acc: 0.1135\n",
            "Epoch 20/30\n",
            "60000/60000 [==============================] - 29s 489us/step - loss: 0.0900 - acc: 0.1124 - val_loss: 0.0900 - val_acc: 0.1135\n",
            "Epoch 21/30\n",
            "60000/60000 [==============================] - 29s 489us/step - loss: 0.0900 - acc: 0.1124 - val_loss: 0.0900 - val_acc: 0.1135\n",
            "Epoch 22/30\n",
            "60000/60000 [==============================] - 29s 490us/step - loss: 0.0900 - acc: 0.1124 - val_loss: 0.0900 - val_acc: 0.1135\n",
            "Epoch 23/30\n",
            "60000/60000 [==============================] - 29s 489us/step - loss: 0.0900 - acc: 0.1124 - val_loss: 0.0900 - val_acc: 0.1135\n",
            "Epoch 24/30\n",
            "60000/60000 [==============================] - 29s 488us/step - loss: 0.0900 - acc: 0.1124 - val_loss: 0.0900 - val_acc: 0.1135\n",
            "Epoch 25/30\n",
            "60000/60000 [==============================] - 29s 487us/step - loss: 0.0900 - acc: 0.1124 - val_loss: 0.0900 - val_acc: 0.1135\n",
            "Epoch 26/30\n",
            "60000/60000 [==============================] - 29s 488us/step - loss: 0.0900 - acc: 0.1124 - val_loss: 0.0900 - val_acc: 0.1135\n",
            "Epoch 27/30\n",
            "60000/60000 [==============================] - 29s 489us/step - loss: 0.0900 - acc: 0.1124 - val_loss: 0.0900 - val_acc: 0.1135\n",
            "Epoch 28/30\n",
            "60000/60000 [==============================] - 29s 489us/step - loss: 0.0900 - acc: 0.1124 - val_loss: 0.0900 - val_acc: 0.1135\n",
            "Epoch 29/30\n",
            "60000/60000 [==============================] - 29s 490us/step - loss: 0.0900 - acc: 0.1124 - val_loss: 0.0900 - val_acc: 0.1135\n",
            "Epoch 30/30\n",
            "60000/60000 [==============================] - 29s 489us/step - loss: 0.0900 - acc: 0.1124 - val_loss: 0.0900 - val_acc: 0.1135\n",
            "60000/60000 [==============================] - 13s 216us/step\n",
            "Train score: 0.11236666666666667\n",
            "10000/10000 [==============================] - 2s 212us/step\n",
            "Test score: 0.1135\n"
          ],
          "name": "stdout"
        }
      ]
    },
    {
      "cell_type": "code",
      "metadata": {
        "id": "2GCwAdnUF71A",
        "colab_type": "code",
        "outputId": "dd28e065-c6ec-427a-8a97-20a7edfe9aa3",
        "colab": {
          "base_uri": "https://localhost:8080/",
          "height": 35
        }
      },
      "source": [
        "max(history_2.history[\"val_acc\"])"
      ],
      "execution_count": 0,
      "outputs": [
        {
          "output_type": "execute_result",
          "data": {
            "text/plain": [
              "0.1135"
            ]
          },
          "metadata": {
            "tags": []
          },
          "execution_count": 35
        }
      ]
    },
    {
      "cell_type": "code",
      "metadata": {
        "id": "ZSbb8klWgBs8",
        "colab_type": "code",
        "outputId": "c3da90f1-2869-42aa-87b4-e59d4487f773",
        "colab": {
          "base_uri": "https://localhost:8080/",
          "height": 523
        }
      },
      "source": [
        "plt.figure(figsize = (12, 8))\n",
        "plt.plot(history_2.history[\"acc\"], color = \"b\")\n",
        "plt.plot(history_2.history[\"val_acc\"], color = \"r\")\n",
        "plt.title(\"The accuracy of Training and testing datasets\", size = 20)\n",
        "plt.xlabel(\"Epochs\", size = 16)\n",
        "plt.ylabel(\"Accuracy\", size = 16)\n",
        "plt.legend([\"Training\",\"Testing\"])\n",
        "plt.show()"
      ],
      "execution_count": 0,
      "outputs": [
        {
          "output_type": "display_data",
          "data": {
            "image/png": "[encoded data removed]",
            "text/plain": [
              "<Figure size 864x576 with 1 Axes>"
            ]
          },
          "metadata": {
            "tags": []
          }
        }
      ]
    },
    {
      "cell_type": "markdown",
      "metadata": {
        "id": "7T4fp_B9hj2b",
        "colab_type": "text"
      },
      "source": [
        "## 调参 3: 激励函数 "
      ]
    },
    {
      "cell_type": "code",
      "metadata": {
        "id": "PuJKFEcehrR9",
        "colab_type": "code",
        "outputId": "06a34125-5f10-4905-e4c6-288b3bec6cca",
        "colab": {
          "base_uri": "https://localhost:8080/",
          "height": 328
        }
      },
      "source": [
        "model = Sequential()\n",
        "\n",
        "# 第一层: CNN\n",
        "model.add(Conv2D(32, kernel_size = (3, 3), input_shape = (28, 28, 1)))\n",
        "\n",
        "# 第二层：激活层\n",
        "model.add(Activation(\"relu\"))\n",
        "\n",
        "# 第三层：池化层\n",
        "model.add(MaxPooling2D(2, 2))\n",
        "\n",
        "# 将图片拉平\n",
        "model.add(Flatten())\n",
        "model.add(Dense(10, activation = \"softmax\"))\n",
        "\n",
        "model.compile(loss = 'mse', optimizer = adam(), metrics = [\"accuracy\"])\n",
        "model.summary()"
      ],
      "execution_count": 0,
      "outputs": [
        {
          "output_type": "stream",
          "text": [
            "Model: \"sequential_13\"\n",
            "_________________________________________________________________\n",
            "Layer (type)                 Output Shape              Param #   \n",
            "=================================================================\n",
            "conv2d_56 (Conv2D)           (None, 26, 26, 32)        320       \n",
            "_________________________________________________________________\n",
            "activation_56 (Activation)   (None, 26, 26, 32)        0         \n",
            "_________________________________________________________________\n",
            "max_pooling2d_24 (MaxPooling (None, 13, 13, 32)        0         \n",
            "_________________________________________________________________\n",
            "flatten_9 (Flatten)          (None, 5408)              0         \n",
            "_________________________________________________________________\n",
            "dense_9 (Dense)              (None, 10)                54090     \n",
            "=================================================================\n",
            "Total params: 54,410\n",
            "Trainable params: 54,410\n",
            "Non-trainable params: 0\n",
            "_________________________________________________________________\n"
          ],
          "name": "stdout"
        }
      ]
    },
    {
      "cell_type": "code",
      "metadata": {
        "id": "1si5CJvulLyO",
        "colab_type": "code",
        "outputId": "46765a48-9413-4cb7-f140-f4a7f749fd4e",
        "colab": {
          "base_uri": "https://localhost:8080/",
          "height": 1000
        }
      },
      "source": [
        "history_3 = model.fit(x_train, y_train, \n",
        "                   batch_size = 128, \n",
        "                   epochs = 30,\n",
        "                   validation_data = (x_test, y_test))\n",
        "score = model.evaluate(x_train, y_train)\n",
        "print(\"Train score: {}\".format(score[1]))\n",
        "\n",
        "\n",
        "score = model.evaluate(x_test, y_test)\n",
        "print(\"Test score: {}\".format(score[1]))"
      ],
      "execution_count": 0,
      "outputs": [
        {
          "output_type": "stream",
          "text": [
            "Train on 60000 samples, validate on 10000 samples\n",
            "Epoch 1/30\n",
            "60000/60000 [==============================] - 5s 76us/step - loss: 0.0160 - acc: 0.8984 - val_loss: 0.0079 - val_acc: 0.9503\n",
            "Epoch 2/30\n",
            "60000/60000 [==============================] - 4s 64us/step - loss: 0.0066 - acc: 0.9599 - val_loss: 0.0049 - val_acc: 0.9699\n",
            "Epoch 3/30\n",
            "60000/60000 [==============================] - 4s 64us/step - loss: 0.0045 - acc: 0.9738 - val_loss: 0.0040 - val_acc: 0.9751\n",
            "Epoch 4/30\n",
            "60000/60000 [==============================] - 4s 65us/step - loss: 0.0035 - acc: 0.9792 - val_loss: 0.0033 - val_acc: 0.9796\n",
            "Epoch 5/30\n",
            "60000/60000 [==============================] - 4s 63us/step - loss: 0.0030 - acc: 0.9822 - val_loss: 0.0031 - val_acc: 0.9815\n",
            "Epoch 6/30\n",
            "60000/60000 [==============================] - 4s 64us/step - loss: 0.0026 - acc: 0.9843 - val_loss: 0.0032 - val_acc: 0.9800\n",
            "Epoch 7/30\n",
            "60000/60000 [==============================] - 4s 64us/step - loss: 0.0023 - acc: 0.9865 - val_loss: 0.0028 - val_acc: 0.9827\n",
            "Epoch 8/30\n",
            "60000/60000 [==============================] - 4s 64us/step - loss: 0.0021 - acc: 0.9879 - val_loss: 0.0026 - val_acc: 0.9832\n",
            "Epoch 9/30\n",
            "60000/60000 [==============================] - 4s 64us/step - loss: 0.0019 - acc: 0.9890 - val_loss: 0.0025 - val_acc: 0.9832\n",
            "Epoch 10/30\n",
            "60000/60000 [==============================] - 4s 64us/step - loss: 0.0018 - acc: 0.9901 - val_loss: 0.0026 - val_acc: 0.9826\n",
            "Epoch 11/30\n",
            "60000/60000 [==============================] - 4s 63us/step - loss: 0.0016 - acc: 0.9909 - val_loss: 0.0026 - val_acc: 0.9838\n",
            "Epoch 12/30\n",
            "60000/60000 [==============================] - 4s 64us/step - loss: 0.0015 - acc: 0.9916 - val_loss: 0.0024 - val_acc: 0.9850\n",
            "Epoch 13/30\n",
            "60000/60000 [==============================] - 4s 64us/step - loss: 0.0014 - acc: 0.9921 - val_loss: 0.0025 - val_acc: 0.9833\n",
            "Epoch 14/30\n",
            "60000/60000 [==============================] - 4s 64us/step - loss: 0.0013 - acc: 0.9932 - val_loss: 0.0023 - val_acc: 0.9839\n",
            "Epoch 15/30\n",
            "60000/60000 [==============================] - 4s 64us/step - loss: 0.0012 - acc: 0.9938 - val_loss: 0.0026 - val_acc: 0.9833\n",
            "Epoch 16/30\n",
            "60000/60000 [==============================] - 4s 64us/step - loss: 0.0011 - acc: 0.9941 - val_loss: 0.0025 - val_acc: 0.9840\n",
            "Epoch 17/30\n",
            "60000/60000 [==============================] - 4s 65us/step - loss: 0.0011 - acc: 0.9944 - val_loss: 0.0024 - val_acc: 0.9841\n",
            "Epoch 18/30\n",
            "60000/60000 [==============================] - 4s 66us/step - loss: 9.6064e-04 - acc: 0.9950 - val_loss: 0.0024 - val_acc: 0.9841\n",
            "Epoch 19/30\n",
            "60000/60000 [==============================] - 4s 66us/step - loss: 9.1319e-04 - acc: 0.9956 - val_loss: 0.0024 - val_acc: 0.9832\n",
            "Epoch 20/30\n",
            "60000/60000 [==============================] - 4s 64us/step - loss: 8.5978e-04 - acc: 0.9955 - val_loss: 0.0023 - val_acc: 0.9837\n",
            "Epoch 21/30\n",
            "60000/60000 [==============================] - 4s 63us/step - loss: 7.9434e-04 - acc: 0.9960 - val_loss: 0.0026 - val_acc: 0.9826\n",
            "Epoch 22/30\n",
            "60000/60000 [==============================] - 4s 65us/step - loss: 7.5105e-04 - acc: 0.9964 - val_loss: 0.0024 - val_acc: 0.9837\n",
            "Epoch 23/30\n",
            "60000/60000 [==============================] - 4s 64us/step - loss: 7.2539e-04 - acc: 0.9966 - val_loss: 0.0025 - val_acc: 0.9836\n",
            "Epoch 24/30\n",
            "60000/60000 [==============================] - 4s 64us/step - loss: 6.5190e-04 - acc: 0.9969 - val_loss: 0.0025 - val_acc: 0.9828\n",
            "Epoch 25/30\n",
            "60000/60000 [==============================] - 4s 64us/step - loss: 6.3680e-04 - acc: 0.9970 - val_loss: 0.0025 - val_acc: 0.9835\n",
            "Epoch 26/30\n",
            "60000/60000 [==============================] - 4s 64us/step - loss: 6.0842e-04 - acc: 0.9971 - val_loss: 0.0025 - val_acc: 0.9831\n",
            "Epoch 27/30\n",
            "60000/60000 [==============================] - 4s 64us/step - loss: 5.7675e-04 - acc: 0.9973 - val_loss: 0.0024 - val_acc: 0.9847\n",
            "Epoch 28/30\n",
            "60000/60000 [==============================] - 4s 64us/step - loss: 5.5704e-04 - acc: 0.9973 - val_loss: 0.0027 - val_acc: 0.9819\n",
            "Epoch 29/30\n",
            "60000/60000 [==============================] - 4s 64us/step - loss: 5.5403e-04 - acc: 0.9973 - val_loss: 0.0028 - val_acc: 0.9823\n",
            "Epoch 30/30\n",
            "60000/60000 [==============================] - 4s 63us/step - loss: 5.1025e-04 - acc: 0.9976 - val_loss: 0.0028 - val_acc: 0.9814\n",
            "60000/60000 [==============================] - 4s 75us/step\n",
            "Train score: 0.9973166666666666\n",
            "10000/10000 [==============================] - 1s 76us/step\n",
            "Test score: 0.9814\n"
          ],
          "name": "stdout"
        }
      ]
    },
    {
      "cell_type": "code",
      "metadata": {
        "id": "o57FvHO7F5F5",
        "colab_type": "code",
        "outputId": "58dc5d39-3bf3-4438-e089-8cb38ae34ba1",
        "colab": {
          "base_uri": "https://localhost:8080/",
          "height": 35
        }
      },
      "source": [
        "max(history_3.history[\"val_acc\"])"
      ],
      "execution_count": 0,
      "outputs": [
        {
          "output_type": "execute_result",
          "data": {
            "text/plain": [
              "0.985"
            ]
          },
          "metadata": {
            "tags": []
          },
          "execution_count": 40
        }
      ]
    },
    {
      "cell_type": "code",
      "metadata": {
        "id": "kwQdJHj7lNwd",
        "colab_type": "code",
        "outputId": "4cbfebed-5fa4-4ece-f9f3-163435a7eb6f",
        "colab": {
          "base_uri": "https://localhost:8080/",
          "height": 523
        }
      },
      "source": [
        "plt.figure(figsize = (12, 8))\n",
        "plt.plot(history_3.history[\"acc\"], color = \"b\")\n",
        "plt.plot(history_3.history[\"val_acc\"], color = \"r\")\n",
        "plt.title(\"The accuracy of Training and testing datasets\", size = 20)\n",
        "plt.xlabel(\"Epochs\", size = 16)\n",
        "plt.ylabel(\"Accuracy\", size = 16)\n",
        "plt.legend([\"Training\",\"Testing\"])\n",
        "plt.show()"
      ],
      "execution_count": 0,
      "outputs": [
        {
          "output_type": "display_data",
          "data": {
            "image/png": "[encoded data removed]",
            "text/plain": [
              "<Figure size 864x576 with 1 Axes>"
            ]
          },
          "metadata": {
            "tags": []
          }
        }
      ]
    },
    {
      "cell_type": "markdown",
      "metadata": {
        "id": "F0kLP79Ilo67",
        "colab_type": "text"
      },
      "source": [
        "## 调参 4: 目标函数"
      ]
    },
    {
      "cell_type": "code",
      "metadata": {
        "id": "nv0dS1vUmkok",
        "colab_type": "code",
        "outputId": "f131dfb2-ab67-42c7-9e40-916def18a4d7",
        "colab": {
          "base_uri": "https://localhost:8080/",
          "height": 328
        }
      },
      "source": [
        "model = Sequential()\n",
        "\n",
        "# 第一层: CNN\n",
        "model.add(Conv2D(32, kernel_size = (3, 3), input_shape = (28, 28, 1)))\n",
        "\n",
        "# 第二层：激活层\n",
        "model.add(Activation(\"relu\"))\n",
        "\n",
        "# 第三层：池化层\n",
        "model.add(MaxPooling2D(2, 2))\n",
        "\n",
        "# 将图片拉平\n",
        "model.add(Flatten())\n",
        "model.add(Dense(10, activation = \"softmax\"))\n",
        "\n",
        "model.compile(loss = 'categorical_crossentropy', optimizer = adam(), metrics = [\"accuracy\"])\n",
        "model.summary()"
      ],
      "execution_count": 0,
      "outputs": [
        {
          "output_type": "stream",
          "text": [
            "Model: \"sequential_14\"\n",
            "_________________________________________________________________\n",
            "Layer (type)                 Output Shape              Param #   \n",
            "=================================================================\n",
            "conv2d_57 (Conv2D)           (None, 26, 26, 32)        320       \n",
            "_________________________________________________________________\n",
            "activation_57 (Activation)   (None, 26, 26, 32)        0         \n",
            "_________________________________________________________________\n",
            "max_pooling2d_25 (MaxPooling (None, 13, 13, 32)        0         \n",
            "_________________________________________________________________\n",
            "flatten_10 (Flatten)         (None, 5408)              0         \n",
            "_________________________________________________________________\n",
            "dense_10 (Dense)             (None, 10)                54090     \n",
            "=================================================================\n",
            "Total params: 54,410\n",
            "Trainable params: 54,410\n",
            "Non-trainable params: 0\n",
            "_________________________________________________________________\n"
          ],
          "name": "stdout"
        }
      ]
    },
    {
      "cell_type": "code",
      "metadata": {
        "id": "0YhcmRHimeLu",
        "colab_type": "code",
        "outputId": "9c02fe86-1c5f-47b0-8dee-b10f2920dba3",
        "colab": {
          "base_uri": "https://localhost:8080/",
          "height": 1000
        }
      },
      "source": [
        "history_4 = model.fit(x_train, y_train, \n",
        "                   batch_size = 128, \n",
        "                   epochs = 30,\n",
        "                   validation_data = (x_test, y_test))\n",
        "score = model.evaluate(x_train, y_train)\n",
        "print(\"Train score: {}\".format(score[1]))\n",
        "\n",
        "\n",
        "score = model.evaluate(x_test, y_test)\n",
        "print(\"Test score: {}\".format(score[1]))"
      ],
      "execution_count": 0,
      "outputs": [
        {
          "output_type": "stream",
          "text": [
            "Train on 60000 samples, validate on 10000 samples\n",
            "Epoch 1/30\n",
            "60000/60000 [==============================] - 4s 72us/step - loss: 0.1599 - acc: 0.9559 - val_loss: 0.1102 - val_acc: 0.9701\n",
            "Epoch 2/30\n",
            "60000/60000 [==============================] - 4s 69us/step - loss: 0.0973 - acc: 0.9728 - val_loss: 0.0791 - val_acc: 0.9771\n",
            "Epoch 3/30\n",
            "60000/60000 [==============================] - 4s 71us/step - loss: 0.0756 - acc: 0.9784 - val_loss: 0.0718 - val_acc: 0.9769\n",
            "Epoch 4/30\n",
            "60000/60000 [==============================] - 4s 69us/step - loss: 0.0638 - acc: 0.9819 - val_loss: 0.0689 - val_acc: 0.9791\n",
            "Epoch 5/30\n",
            "60000/60000 [==============================] - 4s 67us/step - loss: 0.0566 - acc: 0.9835 - val_loss: 0.0591 - val_acc: 0.9810\n",
            "Epoch 6/30\n",
            "60000/60000 [==============================] - 4s 66us/step - loss: 0.0514 - acc: 0.9848 - val_loss: 0.0609 - val_acc: 0.9806\n",
            "Epoch 7/30\n",
            "60000/60000 [==============================] - 4s 68us/step - loss: 0.0460 - acc: 0.9872 - val_loss: 0.0530 - val_acc: 0.9824\n",
            "Epoch 8/30\n",
            "60000/60000 [==============================] - 4s 67us/step - loss: 0.0421 - acc: 0.9878 - val_loss: 0.0583 - val_acc: 0.9818\n",
            "Epoch 9/30\n",
            "60000/60000 [==============================] - 4s 67us/step - loss: 0.0391 - acc: 0.9885 - val_loss: 0.0546 - val_acc: 0.9828\n",
            "Epoch 10/30\n",
            "60000/60000 [==============================] - 4s 67us/step - loss: 0.0355 - acc: 0.9895 - val_loss: 0.0602 - val_acc: 0.9820\n",
            "Epoch 11/30\n",
            "60000/60000 [==============================] - 4s 66us/step - loss: 0.0333 - acc: 0.9905 - val_loss: 0.0511 - val_acc: 0.9834\n",
            "Epoch 12/30\n",
            "60000/60000 [==============================] - 4s 67us/step - loss: 0.0312 - acc: 0.9912 - val_loss: 0.0527 - val_acc: 0.9832\n",
            "Epoch 13/30\n",
            "60000/60000 [==============================] - 4s 67us/step - loss: 0.0281 - acc: 0.9917 - val_loss: 0.0559 - val_acc: 0.9822\n",
            "Epoch 14/30\n",
            "60000/60000 [==============================] - 4s 66us/step - loss: 0.0264 - acc: 0.9923 - val_loss: 0.0523 - val_acc: 0.9841\n",
            "Epoch 15/30\n",
            "60000/60000 [==============================] - 4s 68us/step - loss: 0.0244 - acc: 0.9931 - val_loss: 0.0607 - val_acc: 0.9823\n",
            "Epoch 16/30\n",
            "60000/60000 [==============================] - 4s 67us/step - loss: 0.0221 - acc: 0.9937 - val_loss: 0.0541 - val_acc: 0.9825\n",
            "Epoch 17/30\n",
            "60000/60000 [==============================] - 4s 68us/step - loss: 0.0208 - acc: 0.9941 - val_loss: 0.0572 - val_acc: 0.9834\n",
            "Epoch 18/30\n",
            "60000/60000 [==============================] - 4s 69us/step - loss: 0.0190 - acc: 0.9947 - val_loss: 0.0556 - val_acc: 0.9838\n",
            "Epoch 19/30\n",
            "60000/60000 [==============================] - 4s 70us/step - loss: 0.0177 - acc: 0.9953 - val_loss: 0.0611 - val_acc: 0.9821\n",
            "Epoch 20/30\n",
            "60000/60000 [==============================] - 4s 67us/step - loss: 0.0162 - acc: 0.9956 - val_loss: 0.0609 - val_acc: 0.9839\n",
            "Epoch 21/30\n",
            "60000/60000 [==============================] - 4s 66us/step - loss: 0.0146 - acc: 0.9962 - val_loss: 0.0576 - val_acc: 0.9838\n",
            "Epoch 22/30\n",
            "60000/60000 [==============================] - 4s 66us/step - loss: 0.0136 - acc: 0.9965 - val_loss: 0.0578 - val_acc: 0.9833\n",
            "Epoch 23/30\n",
            "60000/60000 [==============================] - 4s 67us/step - loss: 0.0123 - acc: 0.9970 - val_loss: 0.0605 - val_acc: 0.9836\n",
            "Epoch 24/30\n",
            "60000/60000 [==============================] - 4s 67us/step - loss: 0.0109 - acc: 0.9976 - val_loss: 0.0656 - val_acc: 0.9827\n",
            "Epoch 25/30\n",
            "60000/60000 [==============================] - 4s 68us/step - loss: 0.0099 - acc: 0.9978 - val_loss: 0.0620 - val_acc: 0.9838\n",
            "Epoch 26/30\n",
            "60000/60000 [==============================] - 4s 67us/step - loss: 0.0094 - acc: 0.9978 - val_loss: 0.0654 - val_acc: 0.9830\n",
            "Epoch 27/30\n",
            "60000/60000 [==============================] - 4s 68us/step - loss: 0.0083 - acc: 0.9982 - val_loss: 0.0649 - val_acc: 0.9827\n",
            "Epoch 28/30\n",
            "60000/60000 [==============================] - 4s 67us/step - loss: 0.0080 - acc: 0.9983 - val_loss: 0.0679 - val_acc: 0.9819\n",
            "Epoch 29/30\n",
            "60000/60000 [==============================] - 4s 67us/step - loss: 0.0068 - acc: 0.9988 - val_loss: 0.0670 - val_acc: 0.9828\n",
            "Epoch 30/30\n",
            "60000/60000 [==============================] - 4s 67us/step - loss: 0.0070 - acc: 0.9985 - val_loss: 0.0700 - val_acc: 0.9825\n",
            "60000/60000 [==============================] - 5s 79us/step\n",
            "Train score: 0.9988166666666667\n",
            "10000/10000 [==============================] - 1s 76us/step\n",
            "Test score: 0.9825\n"
          ],
          "name": "stdout"
        }
      ]
    },
    {
      "cell_type": "code",
      "metadata": {
        "id": "UdrRLBuVF3mv",
        "colab_type": "code",
        "outputId": "827aab4c-c8bf-4085-d7f3-697d464146cf",
        "colab": {
          "base_uri": "https://localhost:8080/",
          "height": 35
        }
      },
      "source": [
        "max(history_4.history[\"val_acc\"])"
      ],
      "execution_count": 0,
      "outputs": [
        {
          "output_type": "execute_result",
          "data": {
            "text/plain": [
              "0.9841"
            ]
          },
          "metadata": {
            "tags": []
          },
          "execution_count": 45
        }
      ]
    },
    {
      "cell_type": "code",
      "metadata": {
        "id": "c6xdWG8Zmunn",
        "colab_type": "code",
        "outputId": "3108c94f-1eab-4716-ad85-53d42170c59a",
        "colab": {
          "base_uri": "https://localhost:8080/",
          "height": 523
        }
      },
      "source": [
        "plt.figure(figsize = (12, 8))\n",
        "plt.plot(history_4.history[\"acc\"], color = \"b\")\n",
        "plt.plot(history_4.history[\"val_acc\"], color = \"r\")\n",
        "plt.title(\"The accuracy of Training and testing datasets\", size = 20)\n",
        "plt.xlabel(\"Epochs\", size = 16)\n",
        "plt.ylabel(\"Accuracy\", size = 16)\n",
        "plt.legend([\"Training\",\"Testing\"])\n",
        "plt.show()"
      ],
      "execution_count": 0,
      "outputs": [
        {
          "output_type": "display_data",
          "data": {
            "image/png": "[encoded data removed]",
            "text/plain": [
              "<Figure size 864x576 with 1 Axes>"
            ]
          },
          "metadata": {
            "tags": []
          }
        }
      ]
    },
    {
      "cell_type": "code",
      "metadata": {
        "id": "D_fUeHD7F2GD",
        "colab_type": "code",
        "colab": {}
      },
      "source": [
        ""
      ],
      "execution_count": 0,
      "outputs": []
    },
    {
      "cell_type": "markdown",
      "metadata": {
        "id": "Uci32GtWlvNJ",
        "colab_type": "text"
      },
      "source": [
        "## 调参 5: 优化函数"
      ]
    },
    {
      "cell_type": "code",
      "metadata": {
        "id": "tazI1OE-m6OZ",
        "colab_type": "code",
        "colab": {}
      },
      "source": [
        "model = Sequential()\n",
        "\n",
        "# 第一层: CNN\n",
        "model.add(Conv2D(32, kernel_size = (3, 3), input_shape = (28, 28, 1)))\n",
        "\n",
        "# 第二层：激活层\n",
        "model.add(Activation(\"relu\"))\n",
        "\n",
        "# 第三层：池化层\n",
        "model.add(MaxPooling2D(2, 2))\n",
        "\n",
        "# 将图片拉平\n",
        "model.add(Flatten())\n",
        "model.add(Dense(10, activation = \"softmax\"))\n",
        "\n",
        "model.compile(loss = 'categorical_crossentropy', optimizer = adam(), metrics = [\"accuracy\"])\n",
        "model.summary()"
      ],
      "execution_count": 0,
      "outputs": []
    },
    {
      "cell_type": "code",
      "metadata": {
        "id": "5sMO7N3znC2R",
        "colab_type": "code",
        "colab": {}
      },
      "source": [
        "history_5 = model.fit(x_train, y_train, \n",
        "                   batch_size = 128, \n",
        "                   epochs = 30,\n",
        "                   validation_data = (x_test, y_test))\n",
        "score = model.evaluate(x_train, y_train)\n",
        "print(\"Train score: {}\".format(score[1]))\n",
        "\n",
        "\n",
        "score = model.evaluate(x_test, y_test)\n",
        "print(\"Test score: {}\".format(score[1]))"
      ],
      "execution_count": 0,
      "outputs": []
    },
    {
      "cell_type": "code",
      "metadata": {
        "id": "34usWrXfm1Q9",
        "colab_type": "code",
        "colab": {}
      },
      "source": [
        "plt.figure(figsize = (12, 8))\n",
        "plt.plot(history_5.history[\"acc\"], color = \"b\")\n",
        "plt.plot(history_5.history[\"val_acc\"], color = \"r\")\n",
        "plt.title(\"The accuracy of Training and testing datasets\", size = 20)\n",
        "plt.xlabel(\"Epochs\", size = 16)\n",
        "plt.ylabel(\"Accuracy\", size = 16)\n",
        "plt.legend([\"Training\",\"Testing\"])\n",
        "plt.show()"
      ],
      "execution_count": 0,
      "outputs": []
    },
    {
      "cell_type": "markdown",
      "metadata": {
        "id": "E-lqGGAJlzrZ",
        "colab_type": "text"
      },
      "source": [
        "## 调参 6: 批归一化（BN）"
      ]
    },
    {
      "cell_type": "code",
      "metadata": {
        "id": "2tExRWaAm8pO",
        "colab_type": "code",
        "outputId": "62b062d9-6e8e-4f91-a732-b558faac4c55",
        "colab": {
          "base_uri": "https://localhost:8080/",
          "height": 452
        }
      },
      "source": [
        "from keras.layers.normalization import BatchNormalization\n",
        "\n",
        "model = Sequential()\n",
        "\n",
        "# 第一层: CNN\n",
        "model.add(Conv2D(32, kernel_size = (3, 3), input_shape = (28, 28, 1)))\n",
        "model.add(BatchNormalization())\n",
        "# 第二层：激活层\n",
        "model.add(Activation(\"relu\"))\n",
        "\n",
        "# 第三层：池化层\n",
        "model.add(MaxPooling2D(2, 2))\n",
        "\n",
        "# 将图片拉平\n",
        "model.add(Flatten())\n",
        "model.add(BatchNormalization())\n",
        "model.add(Dense(10, activation = \"softmax\"))\n",
        "\n",
        "model.compile(loss = 'categorical_crossentropy', optimizer = adam(), metrics = [\"accuracy\"])\n",
        "model.summary()"
      ],
      "execution_count": 0,
      "outputs": [
        {
          "output_type": "stream",
          "text": [
            "WARNING:tensorflow:From /usr/local/lib/python3.6/dist-packages/keras/backend/tensorflow_backend.py:2041: The name tf.nn.fused_batch_norm is deprecated. Please use tf.compat.v1.nn.fused_batch_norm instead.\n",
            "\n",
            "Model: \"sequential_15\"\n",
            "_________________________________________________________________\n",
            "Layer (type)                 Output Shape              Param #   \n",
            "=================================================================\n",
            "conv2d_58 (Conv2D)           (None, 26, 26, 32)        320       \n",
            "_________________________________________________________________\n",
            "batch_normalization_1 (Batch (None, 26, 26, 32)        128       \n",
            "_________________________________________________________________\n",
            "activation_58 (Activation)   (None, 26, 26, 32)        0         \n",
            "_________________________________________________________________\n",
            "max_pooling2d_26 (MaxPooling (None, 13, 13, 32)        0         \n",
            "_________________________________________________________________\n",
            "flatten_11 (Flatten)         (None, 5408)              0         \n",
            "_________________________________________________________________\n",
            "batch_normalization_2 (Batch (None, 5408)              21632     \n",
            "_________________________________________________________________\n",
            "dense_11 (Dense)             (None, 10)                54090     \n",
            "=================================================================\n",
            "Total params: 76,170\n",
            "Trainable params: 65,290\n",
            "Non-trainable params: 10,880\n",
            "_________________________________________________________________\n"
          ],
          "name": "stdout"
        }
      ]
    },
    {
      "cell_type": "code",
      "metadata": {
        "id": "V8gATyjtnEBL",
        "colab_type": "code",
        "outputId": "871a6caa-0047-45d8-a37c-c07a44fe97be",
        "colab": {
          "base_uri": "https://localhost:8080/",
          "height": 1000
        }
      },
      "source": [
        "history_6 = model.fit(x_train, y_train, \n",
        "                   batch_size = 128, \n",
        "                   epochs = 30,\n",
        "                   validation_data = (x_test, y_test))\n",
        "score = model.evaluate(x_train, y_train)\n",
        "print(\"Train score: {}\".format(score[1]))\n",
        "\n",
        "\n",
        "score = model.evaluate(x_test, y_test)\n",
        "print(\"Test score: {}\".format(score[1]))"
      ],
      "execution_count": 0,
      "outputs": [
        {
          "output_type": "stream",
          "text": [
            "Train on 60000 samples, validate on 10000 samples\n",
            "Epoch 1/30\n",
            "60000/60000 [==============================] - 8s 127us/step - loss: 0.1868 - acc: 0.9447 - val_loss: 0.0969 - val_acc: 0.9713\n",
            "Epoch 2/30\n",
            "60000/60000 [==============================] - 7s 109us/step - loss: 0.0745 - acc: 0.9781 - val_loss: 0.0890 - val_acc: 0.9770\n",
            "Epoch 3/30\n",
            "60000/60000 [==============================] - 6s 108us/step - loss: 0.0553 - acc: 0.9830 - val_loss: 0.0943 - val_acc: 0.9730\n",
            "Epoch 4/30\n",
            "60000/60000 [==============================] - 7s 109us/step - loss: 0.0423 - acc: 0.9872 - val_loss: 0.0858 - val_acc: 0.9774\n",
            "Epoch 5/30\n",
            "60000/60000 [==============================] - 6s 107us/step - loss: 0.0348 - acc: 0.9885 - val_loss: 0.0967 - val_acc: 0.9765\n",
            "Epoch 6/30\n",
            "60000/60000 [==============================] - 6s 108us/step - loss: 0.0275 - acc: 0.9911 - val_loss: 0.0902 - val_acc: 0.9778\n",
            "Epoch 7/30\n",
            "60000/60000 [==============================] - 7s 108us/step - loss: 0.0244 - acc: 0.9918 - val_loss: 0.1158 - val_acc: 0.9743\n",
            "Epoch 8/30\n",
            "60000/60000 [==============================] - 6s 108us/step - loss: 0.0224 - acc: 0.9925 - val_loss: 0.0968 - val_acc: 0.9771\n",
            "Epoch 9/30\n",
            "60000/60000 [==============================] - 6s 108us/step - loss: 0.0177 - acc: 0.9939 - val_loss: 0.0923 - val_acc: 0.9785\n",
            "Epoch 10/30\n",
            "60000/60000 [==============================] - 6s 107us/step - loss: 0.0147 - acc: 0.9951 - val_loss: 0.0990 - val_acc: 0.9770\n",
            "Epoch 11/30\n",
            "60000/60000 [==============================] - 6s 108us/step - loss: 0.0132 - acc: 0.9954 - val_loss: 0.1173 - val_acc: 0.9767\n",
            "Epoch 12/30\n",
            "60000/60000 [==============================] - 6s 108us/step - loss: 0.0114 - acc: 0.9960 - val_loss: 0.1104 - val_acc: 0.9785\n",
            "Epoch 13/30\n",
            "60000/60000 [==============================] - 6s 108us/step - loss: 0.0156 - acc: 0.9947 - val_loss: 0.1043 - val_acc: 0.9803\n",
            "Epoch 14/30\n",
            "60000/60000 [==============================] - 6s 107us/step - loss: 0.0144 - acc: 0.9949 - val_loss: 0.1505 - val_acc: 0.9737\n",
            "Epoch 15/30\n",
            "60000/60000 [==============================] - 6s 108us/step - loss: 0.0096 - acc: 0.9966 - val_loss: 0.1398 - val_acc: 0.9759\n",
            "Epoch 16/30\n",
            "60000/60000 [==============================] - 6s 108us/step - loss: 0.0096 - acc: 0.9968 - val_loss: 0.1101 - val_acc: 0.9801\n",
            "Epoch 17/30\n",
            "60000/60000 [==============================] - 6s 107us/step - loss: 0.0104 - acc: 0.9962 - val_loss: 0.1037 - val_acc: 0.9821\n",
            "Epoch 18/30\n",
            "60000/60000 [==============================] - 7s 108us/step - loss: 0.0086 - acc: 0.9969 - val_loss: 0.1131 - val_acc: 0.9796\n",
            "Epoch 19/30\n",
            "60000/60000 [==============================] - 7s 109us/step - loss: 0.0076 - acc: 0.9975 - val_loss: 0.1376 - val_acc: 0.9768\n",
            "Epoch 20/30\n",
            "60000/60000 [==============================] - 7s 111us/step - loss: 0.0077 - acc: 0.9975 - val_loss: 0.1245 - val_acc: 0.9772\n",
            "Epoch 21/30\n",
            "60000/60000 [==============================] - 7s 109us/step - loss: 0.0098 - acc: 0.9967 - val_loss: 0.1316 - val_acc: 0.9778\n",
            "Epoch 22/30\n",
            "60000/60000 [==============================] - 6s 108us/step - loss: 0.0059 - acc: 0.9980 - val_loss: 0.1216 - val_acc: 0.9808\n",
            "Epoch 23/30\n",
            "60000/60000 [==============================] - 6s 108us/step - loss: 0.0065 - acc: 0.9977 - val_loss: 0.1315 - val_acc: 0.9786\n",
            "Epoch 24/30\n",
            "60000/60000 [==============================] - 7s 109us/step - loss: 0.0058 - acc: 0.9979 - val_loss: 0.1306 - val_acc: 0.9799\n",
            "Epoch 25/30\n",
            "60000/60000 [==============================] - 6s 108us/step - loss: 0.0082 - acc: 0.9972 - val_loss: 0.1889 - val_acc: 0.9713\n",
            "Epoch 26/30\n",
            "60000/60000 [==============================] - 6s 108us/step - loss: 0.0059 - acc: 0.9978 - val_loss: 0.1442 - val_acc: 0.9779\n",
            "Epoch 27/30\n",
            "60000/60000 [==============================] - 6s 108us/step - loss: 0.0064 - acc: 0.9978 - val_loss: 0.1349 - val_acc: 0.9797\n",
            "Epoch 28/30\n",
            "60000/60000 [==============================] - 6s 108us/step - loss: 0.0059 - acc: 0.9983 - val_loss: 0.1372 - val_acc: 0.9794\n",
            "Epoch 29/30\n",
            "60000/60000 [==============================] - 6s 107us/step - loss: 0.0052 - acc: 0.9983 - val_loss: 0.1373 - val_acc: 0.9797\n",
            "Epoch 30/30\n",
            "60000/60000 [==============================] - 6s 107us/step - loss: 0.0038 - acc: 0.9987 - val_loss: 0.1255 - val_acc: 0.9824\n",
            "60000/60000 [==============================] - 6s 94us/step\n",
            "Train score: 0.99945\n",
            "10000/10000 [==============================] - 1s 93us/step\n",
            "Test score: 0.9824\n"
          ],
          "name": "stdout"
        }
      ]
    },
    {
      "cell_type": "code",
      "metadata": {
        "id": "l8Gd0VSxF0OA",
        "colab_type": "code",
        "outputId": "2af66861-2dc3-42fa-c800-b07eb48fc77d",
        "colab": {
          "base_uri": "https://localhost:8080/",
          "height": 35
        }
      },
      "source": [
        "max(history_6.history[\"val_acc\"])"
      ],
      "execution_count": 0,
      "outputs": [
        {
          "output_type": "execute_result",
          "data": {
            "text/plain": [
              "0.9824"
            ]
          },
          "metadata": {
            "tags": []
          },
          "execution_count": 49
        }
      ]
    },
    {
      "cell_type": "code",
      "metadata": {
        "id": "NyNrTlfLm0cq",
        "colab_type": "code",
        "outputId": "0cd5ec1d-6728-4d4c-a66e-d1135be5be48",
        "colab": {
          "base_uri": "https://localhost:8080/",
          "height": 523
        }
      },
      "source": [
        "plt.figure(figsize = (12, 8))\n",
        "plt.plot(history_6.history[\"acc\"], color = \"b\")\n",
        "plt.plot(history_6.history[\"val_acc\"], color = \"r\")\n",
        "plt.title(\"The accuracy of Training and testing datasets\", size = 20)\n",
        "plt.xlabel(\"Epochs\", size = 16)\n",
        "plt.ylabel(\"Accuracy\", size = 16)\n",
        "plt.legend([\"Training\",\"Testing\"])\n",
        "plt.show()"
      ],
      "execution_count": 0,
      "outputs": [
        {
          "output_type": "display_data",
          "data": {
            "image/png": "[encoded data removed]",
            "text/plain": [
              "<Figure size 864x576 with 1 Axes>"
            ]
          },
          "metadata": {
            "tags": []
          }
        }
      ]
    },
    {
      "cell_type": "markdown",
      "metadata": {
        "id": "2TUSnTcTl8HJ",
        "colab_type": "text"
      },
      "source": [
        "## 调参 7：Dropout"
      ]
    },
    {
      "cell_type": "code",
      "metadata": {
        "id": "UvwFtpdcm9d3",
        "colab_type": "code",
        "outputId": "b8ebdd50-44e6-413d-cebc-cffbe9f14d22",
        "colab": {
          "base_uri": "https://localhost:8080/",
          "height": 432
        }
      },
      "source": [
        "model = Sequential()\n",
        "\n",
        "# 第一层: CNN\n",
        "model.add(Conv2D(32, kernel_size = (3, 3), input_shape = (28, 28, 1)))\n",
        "model.add(BatchNormalization())\n",
        "# 第二层：激活层\n",
        "model.add(Activation(\"relu\"))\n",
        "\n",
        "# 第三层：池化层\n",
        "model.add(MaxPooling2D(2, 2))\n",
        "model.add(Dropout(0.5))\n",
        "\n",
        "# 将图片拉平\n",
        "model.add(Flatten())\n",
        "model.add(BatchNormalization())\n",
        "model.add(Dense(10, activation = \"softmax\"))\n",
        "\n",
        "model.compile(loss = 'categorical_crossentropy', optimizer = adam(), metrics = [\"accuracy\"])\n",
        "model.summary()"
      ],
      "execution_count": 0,
      "outputs": [
        {
          "output_type": "stream",
          "text": [
            "Model: \"sequential_18\"\n",
            "_________________________________________________________________\n",
            "Layer (type)                 Output Shape              Param #   \n",
            "=================================================================\n",
            "conv2d_60 (Conv2D)           (None, 26, 26, 32)        320       \n",
            "_________________________________________________________________\n",
            "batch_normalization_5 (Batch (None, 26, 26, 32)        128       \n",
            "_________________________________________________________________\n",
            "activation_60 (Activation)   (None, 26, 26, 32)        0         \n",
            "_________________________________________________________________\n",
            "max_pooling2d_28 (MaxPooling (None, 13, 13, 32)        0         \n",
            "_________________________________________________________________\n",
            "dropout_2 (Dropout)          (None, 13, 13, 32)        0         \n",
            "_________________________________________________________________\n",
            "flatten_13 (Flatten)         (None, 5408)              0         \n",
            "_________________________________________________________________\n",
            "batch_normalization_6 (Batch (None, 5408)              21632     \n",
            "_________________________________________________________________\n",
            "dense_13 (Dense)             (None, 10)                54090     \n",
            "=================================================================\n",
            "Total params: 76,170\n",
            "Trainable params: 65,290\n",
            "Non-trainable params: 10,880\n",
            "_________________________________________________________________\n"
          ],
          "name": "stdout"
        }
      ]
    },
    {
      "cell_type": "code",
      "metadata": {
        "id": "aEXcV9bMnFNA",
        "colab_type": "code",
        "outputId": "c5de475d-123a-47d8-9384-d0feac7a90d5",
        "colab": {
          "base_uri": "https://localhost:8080/",
          "height": 1000
        }
      },
      "source": [
        "history_7 = model.fit(x_train, y_train, \n",
        "                   batch_size = 128, \n",
        "                   epochs = 30,\n",
        "                   validation_data = (x_test, y_test))\n",
        "score = model.evaluate(x_train, y_train)\n",
        "print(\"Train score: {}\".format(score[1]))\n",
        "\n",
        "\n",
        "score = model.evaluate(x_test, y_test)\n",
        "print(\"Test score: {}\".format(score[1]))"
      ],
      "execution_count": 0,
      "outputs": [
        {
          "output_type": "stream",
          "text": [
            "Train on 60000 samples, validate on 10000 samples\n",
            "Epoch 1/30\n",
            "60000/60000 [==============================] - 8s 136us/step - loss: 0.2923 - acc: 0.9123 - val_loss: 0.1099 - val_acc: 0.9685\n",
            "Epoch 2/30\n",
            "60000/60000 [==============================] - 7s 113us/step - loss: 0.1248 - acc: 0.9623 - val_loss: 0.0776 - val_acc: 0.9785\n",
            "Epoch 3/30\n",
            "60000/60000 [==============================] - 7s 113us/step - loss: 0.0977 - acc: 0.9711 - val_loss: 0.0783 - val_acc: 0.9779\n",
            "Epoch 4/30\n",
            "60000/60000 [==============================] - 7s 113us/step - loss: 0.0906 - acc: 0.9717 - val_loss: 0.0819 - val_acc: 0.9778\n",
            "Epoch 5/30\n",
            "60000/60000 [==============================] - 7s 112us/step - loss: 0.0794 - acc: 0.9760 - val_loss: 0.0811 - val_acc: 0.9787\n",
            "Epoch 6/30\n",
            "60000/60000 [==============================] - 7s 113us/step - loss: 0.0814 - acc: 0.9749 - val_loss: 0.0711 - val_acc: 0.9817\n",
            "Epoch 7/30\n",
            "60000/60000 [==============================] - 7s 114us/step - loss: 0.0755 - acc: 0.9769 - val_loss: 0.0741 - val_acc: 0.9813\n",
            "Epoch 8/30\n",
            "60000/60000 [==============================] - 7s 113us/step - loss: 0.0729 - acc: 0.9781 - val_loss: 0.0719 - val_acc: 0.9814\n",
            "Epoch 9/30\n",
            "60000/60000 [==============================] - 7s 117us/step - loss: 0.0659 - acc: 0.9797 - val_loss: 0.0757 - val_acc: 0.9822\n",
            "Epoch 10/30\n",
            "60000/60000 [==============================] - 7s 116us/step - loss: 0.0680 - acc: 0.9796 - val_loss: 0.0712 - val_acc: 0.9826\n",
            "Epoch 11/30\n",
            "60000/60000 [==============================] - 7s 113us/step - loss: 0.0641 - acc: 0.9803 - val_loss: 0.0756 - val_acc: 0.9813\n",
            "Epoch 12/30\n",
            "60000/60000 [==============================] - 7s 113us/step - loss: 0.0642 - acc: 0.9800 - val_loss: 0.0778 - val_acc: 0.9830\n",
            "Epoch 13/30\n",
            "60000/60000 [==============================] - 7s 113us/step - loss: 0.0617 - acc: 0.9806 - val_loss: 0.0766 - val_acc: 0.9827\n",
            "Epoch 14/30\n",
            "60000/60000 [==============================] - 7s 113us/step - loss: 0.0591 - acc: 0.9823 - val_loss: 0.0704 - val_acc: 0.9843\n",
            "Epoch 15/30\n",
            "60000/60000 [==============================] - 7s 114us/step - loss: 0.0574 - acc: 0.9820 - val_loss: 0.0783 - val_acc: 0.9827\n",
            "Epoch 16/30\n",
            "60000/60000 [==============================] - 7s 113us/step - loss: 0.0585 - acc: 0.9827 - val_loss: 0.0795 - val_acc: 0.9838\n",
            "Epoch 17/30\n",
            "60000/60000 [==============================] - 7s 112us/step - loss: 0.0589 - acc: 0.9823 - val_loss: 0.0805 - val_acc: 0.9818\n",
            "Epoch 18/30\n",
            "60000/60000 [==============================] - 7s 112us/step - loss: 0.0533 - acc: 0.9845 - val_loss: 0.0911 - val_acc: 0.9815\n",
            "Epoch 19/30\n",
            "60000/60000 [==============================] - 7s 113us/step - loss: 0.0553 - acc: 0.9836 - val_loss: 0.0781 - val_acc: 0.9833\n",
            "Epoch 20/30\n",
            "60000/60000 [==============================] - 7s 113us/step - loss: 0.0542 - acc: 0.9841 - val_loss: 0.0912 - val_acc: 0.9835\n",
            "Epoch 21/30\n",
            "60000/60000 [==============================] - 7s 112us/step - loss: 0.0496 - acc: 0.9847 - val_loss: 0.0784 - val_acc: 0.9850\n",
            "Epoch 22/30\n",
            "60000/60000 [==============================] - 7s 115us/step - loss: 0.0530 - acc: 0.9842 - val_loss: 0.0788 - val_acc: 0.9830\n",
            "Epoch 23/30\n",
            "60000/60000 [==============================] - 7s 113us/step - loss: 0.0487 - acc: 0.9852 - val_loss: 0.0821 - val_acc: 0.9824\n",
            "Epoch 24/30\n",
            "60000/60000 [==============================] - 7s 112us/step - loss: 0.0517 - acc: 0.9851 - val_loss: 0.0773 - val_acc: 0.9839\n",
            "Epoch 25/30\n",
            "60000/60000 [==============================] - 7s 111us/step - loss: 0.0459 - acc: 0.9861 - val_loss: 0.0724 - val_acc: 0.9857\n",
            "Epoch 26/30\n",
            "60000/60000 [==============================] - 7s 113us/step - loss: 0.0441 - acc: 0.9864 - val_loss: 0.0742 - val_acc: 0.9844\n",
            "Epoch 27/30\n",
            "60000/60000 [==============================] - 7s 111us/step - loss: 0.0441 - acc: 0.9860 - val_loss: 0.0722 - val_acc: 0.9847\n",
            "Epoch 28/30\n",
            "60000/60000 [==============================] - 7s 112us/step - loss: 0.0425 - acc: 0.9866 - val_loss: 0.0724 - val_acc: 0.9861\n",
            "Epoch 29/30\n",
            "60000/60000 [==============================] - 7s 112us/step - loss: 0.0466 - acc: 0.9864 - val_loss: 0.0778 - val_acc: 0.9853\n",
            "Epoch 30/30\n",
            "60000/60000 [==============================] - 7s 112us/step - loss: 0.0458 - acc: 0.9867 - val_loss: 0.0908 - val_acc: 0.9833\n",
            "60000/60000 [==============================] - 6s 95us/step\n",
            "Train score: 0.9967333333333334\n",
            "10000/10000 [==============================] - 1s 93us/step\n",
            "Test score: 0.9833\n"
          ],
          "name": "stdout"
        }
      ]
    },
    {
      "cell_type": "code",
      "metadata": {
        "id": "ba251Mv0Fywj",
        "colab_type": "code",
        "outputId": "26d6c363-3598-4092-e3b0-e8e2d8474984",
        "colab": {
          "base_uri": "https://localhost:8080/",
          "height": 35
        }
      },
      "source": [
        "max(history_7.history[\"val_acc\"])"
      ],
      "execution_count": 0,
      "outputs": [
        {
          "output_type": "execute_result",
          "data": {
            "text/plain": [
              "0.9861"
            ]
          },
          "metadata": {
            "tags": []
          },
          "execution_count": 54
        }
      ]
    },
    {
      "cell_type": "code",
      "metadata": {
        "id": "OwjN17zum2Q1",
        "colab_type": "code",
        "colab": {}
      },
      "source": [
        "plt.figure(figsize = (12, 8))\n",
        "plt.plot(history_7.history[\"acc\"], color = \"b\")\n",
        "plt.plot(history_7.history[\"val_acc\"], color = \"r\")\n",
        "plt.title(\"The accuracy of Training and testing datasets\", size = 20)\n",
        "plt.xlabel(\"Epochs\", size = 16)\n",
        "plt.ylabel(\"Accuracy\", size = 16)\n",
        "plt.legend([\"Training\",\"Testing\"])\n",
        "plt.show()"
      ],
      "execution_count": 0,
      "outputs": []
    },
    {
      "cell_type": "markdown",
      "metadata": {
        "id": "Y-Jvle17mB6u",
        "colab_type": "text"
      },
      "source": [
        "## 调参 8_1： 卷积核个数， 大小"
      ]
    },
    {
      "cell_type": "code",
      "metadata": {
        "id": "OPpm9NpGm-Rj",
        "colab_type": "code",
        "outputId": "1ff3fb04-edf7-42d3-8773-b0f846e0504c",
        "colab": {
          "base_uri": "https://localhost:8080/",
          "height": 432
        }
      },
      "source": [
        "model = Sequential()\n",
        "\n",
        "# 第一层: CNN\n",
        "model.add(Conv2D(64, kernel_size = (3, 3), input_shape = (28, 28, 1)))\n",
        "model.add(BatchNormalization())\n",
        "# 第二层：激活层\n",
        "model.add(Activation(\"relu\"))\n",
        "\n",
        "# 第三层：池化层\n",
        "model.add(MaxPooling2D(2, 2))\n",
        "model.add(Dropout(0.5))\n",
        "\n",
        "# 将图片拉平\n",
        "model.add(Flatten())\n",
        "model.add(BatchNormalization())\n",
        "model.add(Dense(10, activation = \"softmax\"))\n",
        "\n",
        "model.compile(loss = 'categorical_crossentropy', optimizer = adam(), metrics = [\"accuracy\"])\n",
        "model.summary()"
      ],
      "execution_count": 0,
      "outputs": [
        {
          "output_type": "stream",
          "text": [
            "Model: \"sequential_19\"\n",
            "_________________________________________________________________\n",
            "Layer (type)                 Output Shape              Param #   \n",
            "=================================================================\n",
            "conv2d_61 (Conv2D)           (None, 26, 26, 64)        640       \n",
            "_________________________________________________________________\n",
            "batch_normalization_7 (Batch (None, 26, 26, 64)        256       \n",
            "_________________________________________________________________\n",
            "activation_61 (Activation)   (None, 26, 26, 64)        0         \n",
            "_________________________________________________________________\n",
            "max_pooling2d_29 (MaxPooling (None, 13, 13, 64)        0         \n",
            "_________________________________________________________________\n",
            "dropout_3 (Dropout)          (None, 13, 13, 64)        0         \n",
            "_________________________________________________________________\n",
            "flatten_14 (Flatten)         (None, 10816)             0         \n",
            "_________________________________________________________________\n",
            "batch_normalization_8 (Batch (None, 10816)             43264     \n",
            "_________________________________________________________________\n",
            "dense_14 (Dense)             (None, 10)                108170    \n",
            "=================================================================\n",
            "Total params: 152,330\n",
            "Trainable params: 130,570\n",
            "Non-trainable params: 21,760\n",
            "_________________________________________________________________\n"
          ],
          "name": "stdout"
        }
      ]
    },
    {
      "cell_type": "code",
      "metadata": {
        "id": "VSIZ5DujnGId",
        "colab_type": "code",
        "outputId": "178d7aa6-2a62-4dc6-e5ca-f3ef899a27e3",
        "colab": {
          "base_uri": "https://localhost:8080/",
          "height": 1000
        }
      },
      "source": [
        "history_8_1 = model.fit(x_train, y_train, \n",
        "                   batch_size = 128, \n",
        "                   epochs = 30,\n",
        "                   validation_data = (x_test, y_test))\n",
        "score = model.evaluate(x_train, y_train)\n",
        "print(\"Train score: {}\".format(score[1]))\n",
        "\n",
        "\n",
        "score = model.evaluate(x_test, y_test)\n",
        "print(\"Test score: {}\".format(score[1]))"
      ],
      "execution_count": 0,
      "outputs": [
        {
          "output_type": "stream",
          "text": [
            "Train on 60000 samples, validate on 10000 samples\n",
            "Epoch 1/30\n",
            "60000/60000 [==============================] - 9s 158us/step - loss: 0.2459 - acc: 0.9291 - val_loss: 0.0921 - val_acc: 0.9727\n",
            "Epoch 2/30\n",
            "60000/60000 [==============================] - 8s 134us/step - loss: 0.1275 - acc: 0.9639 - val_loss: 0.1003 - val_acc: 0.9746\n",
            "Epoch 3/30\n",
            "60000/60000 [==============================] - 8s 132us/step - loss: 0.1083 - acc: 0.9704 - val_loss: 0.0919 - val_acc: 0.9771\n",
            "Epoch 4/30\n",
            "60000/60000 [==============================] - 8s 132us/step - loss: 0.0978 - acc: 0.9741 - val_loss: 0.0905 - val_acc: 0.9787\n",
            "Epoch 5/30\n",
            "60000/60000 [==============================] - 8s 133us/step - loss: 0.0919 - acc: 0.9761 - val_loss: 0.0904 - val_acc: 0.9814\n",
            "Epoch 6/30\n",
            "60000/60000 [==============================] - 8s 133us/step - loss: 0.0879 - acc: 0.9783 - val_loss: 0.0950 - val_acc: 0.9802\n",
            "Epoch 7/30\n",
            "60000/60000 [==============================] - 8s 133us/step - loss: 0.0819 - acc: 0.9795 - val_loss: 0.0994 - val_acc: 0.9806\n",
            "Epoch 8/30\n",
            "60000/60000 [==============================] - 8s 134us/step - loss: 0.0816 - acc: 0.9803 - val_loss: 0.0904 - val_acc: 0.9820\n",
            "Epoch 9/30\n",
            "60000/60000 [==============================] - 8s 133us/step - loss: 0.0762 - acc: 0.9810 - val_loss: 0.0998 - val_acc: 0.9810\n",
            "Epoch 10/30\n",
            "60000/60000 [==============================] - 8s 133us/step - loss: 0.0720 - acc: 0.9822 - val_loss: 0.0961 - val_acc: 0.9807\n",
            "Epoch 11/30\n",
            "60000/60000 [==============================] - 8s 133us/step - loss: 0.0744 - acc: 0.9826 - val_loss: 0.1128 - val_acc: 0.9809\n",
            "Epoch 12/30\n",
            "60000/60000 [==============================] - 8s 133us/step - loss: 0.0713 - acc: 0.9831 - val_loss: 0.1437 - val_acc: 0.9758\n",
            "Epoch 13/30\n",
            "60000/60000 [==============================] - 8s 134us/step - loss: 0.0707 - acc: 0.9836 - val_loss: 0.0965 - val_acc: 0.9829\n",
            "Epoch 14/30\n",
            "60000/60000 [==============================] - 8s 133us/step - loss: 0.0672 - acc: 0.9839 - val_loss: 0.1091 - val_acc: 0.9819\n",
            "Epoch 15/30\n",
            "60000/60000 [==============================] - 8s 132us/step - loss: 0.0619 - acc: 0.9851 - val_loss: 0.1106 - val_acc: 0.9824\n",
            "Epoch 16/30\n",
            "60000/60000 [==============================] - 8s 134us/step - loss: 0.0609 - acc: 0.9860 - val_loss: 0.1004 - val_acc: 0.9838\n",
            "Epoch 17/30\n",
            "60000/60000 [==============================] - 8s 133us/step - loss: 0.0575 - acc: 0.9863 - val_loss: 0.1083 - val_acc: 0.9823\n",
            "Epoch 18/30\n",
            "60000/60000 [==============================] - 8s 132us/step - loss: 0.0614 - acc: 0.9853 - val_loss: 0.1162 - val_acc: 0.9815\n",
            "Epoch 19/30\n",
            "60000/60000 [==============================] - 8s 133us/step - loss: 0.0595 - acc: 0.9867 - val_loss: 0.1281 - val_acc: 0.9806\n",
            "Epoch 20/30\n",
            "60000/60000 [==============================] - 8s 134us/step - loss: 0.0537 - acc: 0.9875 - val_loss: 0.1102 - val_acc: 0.9825\n",
            "Epoch 21/30\n",
            "60000/60000 [==============================] - 8s 137us/step - loss: 0.0523 - acc: 0.9878 - val_loss: 0.1964 - val_acc: 0.9710\n",
            "Epoch 22/30\n",
            "60000/60000 [==============================] - 8s 134us/step - loss: 0.0536 - acc: 0.9874 - val_loss: 0.1169 - val_acc: 0.9847\n",
            "Epoch 23/30\n",
            "60000/60000 [==============================] - 8s 133us/step - loss: 0.0509 - acc: 0.9886 - val_loss: 0.1058 - val_acc: 0.9835\n",
            "Epoch 24/30\n",
            "60000/60000 [==============================] - 8s 132us/step - loss: 0.0506 - acc: 0.9881 - val_loss: 0.1107 - val_acc: 0.9844\n",
            "Epoch 25/30\n",
            "60000/60000 [==============================] - 8s 131us/step - loss: 0.0477 - acc: 0.9895 - val_loss: 0.1184 - val_acc: 0.9830\n",
            "Epoch 26/30\n",
            "60000/60000 [==============================] - 8s 130us/step - loss: 0.0511 - acc: 0.9884 - val_loss: 0.1160 - val_acc: 0.9839\n",
            "Epoch 27/30\n",
            "60000/60000 [==============================] - 8s 133us/step - loss: 0.0469 - acc: 0.9886 - val_loss: 0.1023 - val_acc: 0.9854\n",
            "Epoch 28/30\n",
            "60000/60000 [==============================] - 8s 132us/step - loss: 0.0484 - acc: 0.9892 - val_loss: 0.1091 - val_acc: 0.9841\n",
            "Epoch 29/30\n",
            "60000/60000 [==============================] - 8s 133us/step - loss: 0.0462 - acc: 0.9894 - val_loss: 0.1130 - val_acc: 0.9842\n",
            "Epoch 30/30\n",
            "60000/60000 [==============================] - 8s 134us/step - loss: 0.0474 - acc: 0.9897 - val_loss: 0.1165 - val_acc: 0.9839\n",
            "60000/60000 [==============================] - 6s 107us/step\n",
            "Train score: 0.99775\n",
            "10000/10000 [==============================] - 1s 109us/step\n",
            "Test score: 0.9839\n"
          ],
          "name": "stdout"
        }
      ]
    },
    {
      "cell_type": "code",
      "metadata": {
        "id": "ZWxv7AAxGRrL",
        "colab_type": "code",
        "outputId": "2522dc75-f84f-4ed6-9735-dc5fe9ad9487",
        "colab": {
          "base_uri": "https://localhost:8080/",
          "height": 35
        }
      },
      "source": [
        "max(history_8_1.history[\"val_acc\"])"
      ],
      "execution_count": 0,
      "outputs": [
        {
          "output_type": "execute_result",
          "data": {
            "text/plain": [
              "0.9854"
            ]
          },
          "metadata": {
            "tags": []
          },
          "execution_count": 57
        }
      ]
    },
    {
      "cell_type": "code",
      "metadata": {
        "id": "etpXqIRgEDEN",
        "colab_type": "code",
        "outputId": "ddc46579-ed2c-493b-a26e-793572c8dde2",
        "colab": {
          "base_uri": "https://localhost:8080/",
          "height": 523
        }
      },
      "source": [
        "plt.figure(figsize = (12, 8))\n",
        "plt.plot(history_8_1.history[\"acc\"], color = \"b\")\n",
        "plt.plot(history_8_1.history[\"val_acc\"], color = \"r\")\n",
        "plt.title(\"The accuracy of Training and testing datasets\", size = 20)\n",
        "plt.xlabel(\"Epochs\", size = 16)\n",
        "plt.ylabel(\"Accuracy\", size = 16)\n",
        "plt.legend([\"Training\",\"Testing\"])\n",
        "plt.show()"
      ],
      "execution_count": 0,
      "outputs": [
        {
          "output_type": "display_data",
          "data": {
            "image/png": "[encoded data removed]",
            "text/plain": [
              "<Figure size 864x576 with 1 Axes>"
            ]
          },
          "metadata": {
            "tags": []
          }
        }
      ]
    },
    {
      "cell_type": "markdown",
      "metadata": {
        "id": "hgNQFS2fEF-9",
        "colab_type": "text"
      },
      "source": [
        "## 调参 8_2： 卷积核个数， 大小, 更深"
      ]
    },
    {
      "cell_type": "code",
      "metadata": {
        "id": "BtxWR1U8D1sf",
        "colab_type": "code",
        "outputId": "a70426b2-cfb3-47d9-afd0-ddebdeef00bb",
        "colab": {
          "base_uri": "https://localhost:8080/",
          "height": 639
        }
      },
      "source": [
        "model = Sequential()\n",
        "\n",
        "# 第一层: CNN\n",
        "model.add(Conv2D(64, kernel_size = (3, 3), input_shape = (28, 28, 1)))\n",
        "model.add(BatchNormalization())\n",
        "# 第二层：激活层\n",
        "model.add(Activation(\"relu\"))\n",
        "\n",
        "# 第一层: CNN\n",
        "model.add(Conv2D(64, kernel_size = (3, 3)))\n",
        "model.add(BatchNormalization())\n",
        "# 第二层：激活层\n",
        "model.add(Activation(\"relu\"))\n",
        "\n",
        "# 第二层：激活层\n",
        "# 第一层: CNN\n",
        "model.add(Conv2D(32, kernel_size = (3, 3)))\n",
        "model.add(BatchNormalization())\n",
        "\n",
        "\n",
        "# 第二层：激活层\n",
        "model.add(Activation(\"relu\"))\n",
        "\n",
        "# 第三层：池化层\n",
        "model.add(MaxPooling2D(2, 2))\n",
        "model.add(Dropout(0.5))\n",
        "\n",
        "# 将图片拉平\n",
        "model.add(Flatten())\n",
        "model.add(BatchNormalization())\n",
        "model.add(Dense(10, activation = \"softmax\"))\n",
        "\n",
        "model.compile(loss = 'categorical_crossentropy', optimizer = adam(), metrics = [\"accuracy\"])\n",
        "model.summary()"
      ],
      "execution_count": 0,
      "outputs": [
        {
          "output_type": "stream",
          "text": [
            "Model: \"sequential_20\"\n",
            "_________________________________________________________________\n",
            "Layer (type)                 Output Shape              Param #   \n",
            "=================================================================\n",
            "conv2d_62 (Conv2D)           (None, 26, 26, 64)        640       \n",
            "_________________________________________________________________\n",
            "batch_normalization_9 (Batch (None, 26, 26, 64)        256       \n",
            "_________________________________________________________________\n",
            "activation_62 (Activation)   (None, 26, 26, 64)        0         \n",
            "_________________________________________________________________\n",
            "conv2d_63 (Conv2D)           (None, 24, 24, 64)        36928     \n",
            "_________________________________________________________________\n",
            "batch_normalization_10 (Batc (None, 24, 24, 64)        256       \n",
            "_________________________________________________________________\n",
            "activation_63 (Activation)   (None, 24, 24, 64)        0         \n",
            "_________________________________________________________________\n",
            "conv2d_64 (Conv2D)           (None, 22, 22, 32)        18464     \n",
            "_________________________________________________________________\n",
            "batch_normalization_11 (Batc (None, 22, 22, 32)        128       \n",
            "_________________________________________________________________\n",
            "activation_64 (Activation)   (None, 22, 22, 32)        0         \n",
            "_________________________________________________________________\n",
            "max_pooling2d_30 (MaxPooling (None, 11, 11, 32)        0         \n",
            "_________________________________________________________________\n",
            "dropout_4 (Dropout)          (None, 11, 11, 32)        0         \n",
            "_________________________________________________________________\n",
            "flatten_15 (Flatten)         (None, 3872)              0         \n",
            "_________________________________________________________________\n",
            "batch_normalization_12 (Batc (None, 3872)              15488     \n",
            "_________________________________________________________________\n",
            "dense_15 (Dense)             (None, 10)                38730     \n",
            "=================================================================\n",
            "Total params: 110,890\n",
            "Trainable params: 102,826\n",
            "Non-trainable params: 8,064\n",
            "_________________________________________________________________\n"
          ],
          "name": "stdout"
        }
      ]
    },
    {
      "cell_type": "code",
      "metadata": {
        "id": "m65PPNyHES8a",
        "colab_type": "code",
        "outputId": "1c4dcab0-ad51-48f4-de41-ddf6d6cb35c9",
        "colab": {
          "base_uri": "https://localhost:8080/",
          "height": 1000
        }
      },
      "source": [
        "history_8_2 = model.fit(x_train, y_train, \n",
        "                   batch_size = 128, \n",
        "                   epochs = 30,\n",
        "                   validation_data = (x_test, y_test))\n",
        "score = model.evaluate(x_train, y_train)\n",
        "print(\"Train score: {}\".format(score[1]))\n",
        "\n",
        "\n",
        "score = model.evaluate(x_test, y_test)\n",
        "print(\"Test score: {}\".format(score[1]))"
      ],
      "execution_count": 0,
      "outputs": [
        {
          "output_type": "stream",
          "text": [
            "Train on 60000 samples, validate on 10000 samples\n",
            "Epoch 1/30\n",
            "60000/60000 [==============================] - 19s 321us/step - loss: 0.1927 - acc: 0.9404 - val_loss: 0.0630 - val_acc: 0.9803\n",
            "Epoch 2/30\n",
            "60000/60000 [==============================] - 17s 282us/step - loss: 0.0718 - acc: 0.9775 - val_loss: 0.0467 - val_acc: 0.9840\n",
            "Epoch 3/30\n",
            "60000/60000 [==============================] - 17s 283us/step - loss: 0.0642 - acc: 0.9817 - val_loss: 0.0404 - val_acc: 0.9876\n",
            "Epoch 4/30\n",
            "60000/60000 [==============================] - 17s 283us/step - loss: 0.0585 - acc: 0.9830 - val_loss: 0.0411 - val_acc: 0.9880\n",
            "Epoch 5/30\n",
            "60000/60000 [==============================] - 17s 285us/step - loss: 0.0527 - acc: 0.9839 - val_loss: 0.0419 - val_acc: 0.9885\n",
            "Epoch 6/30\n",
            "60000/60000 [==============================] - 17s 283us/step - loss: 0.0496 - acc: 0.9856 - val_loss: 0.0517 - val_acc: 0.9857\n",
            "Epoch 7/30\n",
            "60000/60000 [==============================] - 17s 283us/step - loss: 0.0478 - acc: 0.9858 - val_loss: 0.0525 - val_acc: 0.9868\n",
            "Epoch 8/30\n",
            "60000/60000 [==============================] - 17s 282us/step - loss: 0.0448 - acc: 0.9872 - val_loss: 0.0375 - val_acc: 0.9895\n",
            "Epoch 9/30\n",
            "60000/60000 [==============================] - 17s 284us/step - loss: 0.0445 - acc: 0.9868 - val_loss: 0.0388 - val_acc: 0.9891\n",
            "Epoch 10/30\n",
            "60000/60000 [==============================] - 17s 283us/step - loss: 0.0408 - acc: 0.9878 - val_loss: 0.0435 - val_acc: 0.9894\n",
            "Epoch 11/30\n",
            "60000/60000 [==============================] - 17s 282us/step - loss: 0.0414 - acc: 0.9883 - val_loss: 0.0344 - val_acc: 0.9900\n",
            "Epoch 12/30\n",
            "60000/60000 [==============================] - 17s 282us/step - loss: 0.0420 - acc: 0.9881 - val_loss: 0.0433 - val_acc: 0.9894\n",
            "Epoch 13/30\n",
            "60000/60000 [==============================] - 17s 282us/step - loss: 0.0367 - acc: 0.9891 - val_loss: 0.0413 - val_acc: 0.9906\n",
            "Epoch 14/30\n",
            "60000/60000 [==============================] - 17s 282us/step - loss: 0.0334 - acc: 0.9903 - val_loss: 0.0390 - val_acc: 0.9909\n",
            "Epoch 15/30\n",
            "60000/60000 [==============================] - 17s 281us/step - loss: 0.0346 - acc: 0.9905 - val_loss: 0.0547 - val_acc: 0.9880\n",
            "Epoch 16/30\n",
            "60000/60000 [==============================] - 17s 281us/step - loss: 0.0320 - acc: 0.9907 - val_loss: 0.0399 - val_acc: 0.9901\n",
            "Epoch 17/30\n",
            "60000/60000 [==============================] - 17s 281us/step - loss: 0.0291 - acc: 0.9915 - val_loss: 0.0453 - val_acc: 0.9908\n",
            "Epoch 18/30\n",
            "60000/60000 [==============================] - 17s 282us/step - loss: 0.0328 - acc: 0.9909 - val_loss: 0.0420 - val_acc: 0.9922\n",
            "Epoch 19/30\n",
            "60000/60000 [==============================] - 17s 282us/step - loss: 0.0270 - acc: 0.9924 - val_loss: 0.0433 - val_acc: 0.9920\n",
            "Epoch 20/30\n",
            "60000/60000 [==============================] - 17s 282us/step - loss: 0.0316 - acc: 0.9912 - val_loss: 0.0464 - val_acc: 0.9897\n",
            "Epoch 21/30\n",
            "60000/60000 [==============================] - 17s 282us/step - loss: 0.0279 - acc: 0.9923 - val_loss: 0.0507 - val_acc: 0.9893\n",
            "Epoch 22/30\n",
            "60000/60000 [==============================] - 17s 282us/step - loss: 0.0298 - acc: 0.9918 - val_loss: 0.0450 - val_acc: 0.9917\n",
            "Epoch 23/30\n",
            "60000/60000 [==============================] - 17s 283us/step - loss: 0.0271 - acc: 0.9925 - val_loss: 0.0420 - val_acc: 0.9920\n",
            "Epoch 24/30\n",
            "60000/60000 [==============================] - 17s 282us/step - loss: 0.0261 - acc: 0.9929 - val_loss: 0.0439 - val_acc: 0.9916\n",
            "Epoch 25/30\n",
            "60000/60000 [==============================] - 17s 281us/step - loss: 0.0273 - acc: 0.9921 - val_loss: 0.0431 - val_acc: 0.9916\n",
            "Epoch 26/30\n",
            "60000/60000 [==============================] - 17s 282us/step - loss: 0.0236 - acc: 0.9937 - val_loss: 0.0434 - val_acc: 0.9918\n",
            "Epoch 27/30\n",
            "60000/60000 [==============================] - 17s 282us/step - loss: 0.0264 - acc: 0.9929 - val_loss: 0.0419 - val_acc: 0.9925\n",
            "Epoch 28/30\n",
            "60000/60000 [==============================] - 17s 281us/step - loss: 0.0242 - acc: 0.9933 - val_loss: 0.0431 - val_acc: 0.9916\n",
            "Epoch 29/30\n",
            "60000/60000 [==============================] - 17s 282us/step - loss: 0.0220 - acc: 0.9938 - val_loss: 0.0430 - val_acc: 0.9924\n",
            "Epoch 30/30\n",
            "60000/60000 [==============================] - 17s 281us/step - loss: 0.0236 - acc: 0.9935 - val_loss: 0.0480 - val_acc: 0.9903\n",
            "60000/60000 [==============================] - 10s 167us/step\n",
            "Train score: 0.9981\n",
            "10000/10000 [==============================] - 2s 180us/step\n",
            "Test score: 0.9903\n"
          ],
          "name": "stdout"
        }
      ]
    },
    {
      "cell_type": "code",
      "metadata": {
        "id": "_D5EnZnaFv5Y",
        "colab_type": "code",
        "outputId": "d8115f67-54ca-4593-dfca-2a189d68680e",
        "colab": {
          "base_uri": "https://localhost:8080/",
          "height": 35
        }
      },
      "source": [
        "max(history_8_2.history[\"val_acc\"])"
      ],
      "execution_count": 0,
      "outputs": [
        {
          "output_type": "execute_result",
          "data": {
            "text/plain": [
              "0.9925"
            ]
          },
          "metadata": {
            "tags": []
          },
          "execution_count": 61
        }
      ]
    },
    {
      "cell_type": "code",
      "metadata": {
        "id": "5Pw-u01Km3B1",
        "colab_type": "code",
        "outputId": "d9451974-9727-4cca-a813-12a8ddb86dda",
        "colab": {
          "base_uri": "https://localhost:8080/",
          "height": 523
        }
      },
      "source": [
        "plt.figure(figsize = (12, 8))\n",
        "plt.plot(history_8_2.history[\"acc\"], color = \"b\")\n",
        "plt.plot(history_8_2.history[\"val_acc\"], color = \"r\")\n",
        "plt.title(\"The accuracy of Training and testing datasets\", size = 20)\n",
        "plt.xlabel(\"Epochs\", size = 16)\n",
        "plt.ylabel(\"Accuracy\", size = 16)\n",
        "plt.legend([\"Training\",\"Testing\"])\n",
        "plt.show()"
      ],
      "execution_count": 0,
      "outputs": [
        {
          "output_type": "display_data",
          "data": {
            "image/png": "[encoded data removed]",
            "text/plain": [
              "<Figure size 864x576 with 1 Axes>"
            ]
          },
          "metadata": {
            "tags": []
          }
        }
      ]
    },
    {
      "cell_type": "markdown",
      "metadata": {
        "id": "EWX_YcMkmIcq",
        "colab_type": "text"
      },
      "source": [
        "## 调参 9： batch size"
      ]
    },
    {
      "cell_type": "code",
      "metadata": {
        "id": "b9Z9o0XWm_OP",
        "colab_type": "code",
        "outputId": "5d19337b-73f0-400e-9733-24e72cda0ac4",
        "colab": {
          "base_uri": "https://localhost:8080/",
          "height": 639
        }
      },
      "source": [
        "model = Sequential()\n",
        "\n",
        "# 第一层: CNN\n",
        "model.add(Conv2D(64, kernel_size = (3, 3), input_shape = (28, 28, 1)))\n",
        "model.add(BatchNormalization())\n",
        "# 第二层：激活层\n",
        "model.add(Activation(\"relu\"))\n",
        "\n",
        "# 第一层: CNN\n",
        "model.add(Conv2D(64, kernel_size = (3, 3)))\n",
        "model.add(BatchNormalization())\n",
        "# 第二层：激活层\n",
        "model.add(Activation(\"relu\"))\n",
        "\n",
        "# 第二层：激活层\n",
        "# 第一层: CNN\n",
        "model.add(Conv2D(32, kernel_size = (3, 3)))\n",
        "model.add(BatchNormalization())\n",
        "\n",
        "\n",
        "# 第二层：激活层\n",
        "model.add(Activation(\"relu\"))\n",
        "\n",
        "# 第三层：池化层\n",
        "model.add(MaxPooling2D(2, 2))\n",
        "model.add(Dropout(0.5))\n",
        "\n",
        "# 将图片拉平\n",
        "model.add(Flatten())\n",
        "model.add(BatchNormalization())\n",
        "model.add(Dense(10, activation = \"softmax\"))\n",
        "\n",
        "model.compile(loss = 'categorical_crossentropy', optimizer = adam(), metrics = [\"accuracy\"])\n",
        "model.summary()"
      ],
      "execution_count": 0,
      "outputs": [
        {
          "output_type": "stream",
          "text": [
            "Model: \"sequential_21\"\n",
            "_________________________________________________________________\n",
            "Layer (type)                 Output Shape              Param #   \n",
            "=================================================================\n",
            "conv2d_65 (Conv2D)           (None, 26, 26, 64)        640       \n",
            "_________________________________________________________________\n",
            "batch_normalization_13 (Batc (None, 26, 26, 64)        256       \n",
            "_________________________________________________________________\n",
            "activation_65 (Activation)   (None, 26, 26, 64)        0         \n",
            "_________________________________________________________________\n",
            "conv2d_66 (Conv2D)           (None, 24, 24, 64)        36928     \n",
            "_________________________________________________________________\n",
            "batch_normalization_14 (Batc (None, 24, 24, 64)        256       \n",
            "_________________________________________________________________\n",
            "activation_66 (Activation)   (None, 24, 24, 64)        0         \n",
            "_________________________________________________________________\n",
            "conv2d_67 (Conv2D)           (None, 22, 22, 32)        18464     \n",
            "_________________________________________________________________\n",
            "batch_normalization_15 (Batc (None, 22, 22, 32)        128       \n",
            "_________________________________________________________________\n",
            "activation_67 (Activation)   (None, 22, 22, 32)        0         \n",
            "_________________________________________________________________\n",
            "max_pooling2d_31 (MaxPooling (None, 11, 11, 32)        0         \n",
            "_________________________________________________________________\n",
            "dropout_5 (Dropout)          (None, 11, 11, 32)        0         \n",
            "_________________________________________________________________\n",
            "flatten_16 (Flatten)         (None, 3872)              0         \n",
            "_________________________________________________________________\n",
            "batch_normalization_16 (Batc (None, 3872)              15488     \n",
            "_________________________________________________________________\n",
            "dense_16 (Dense)             (None, 10)                38730     \n",
            "=================================================================\n",
            "Total params: 110,890\n",
            "Trainable params: 102,826\n",
            "Non-trainable params: 8,064\n",
            "_________________________________________________________________\n"
          ],
          "name": "stdout"
        }
      ]
    },
    {
      "cell_type": "code",
      "metadata": {
        "id": "YYefYEIenG-t",
        "colab_type": "code",
        "outputId": "6dd8b024-b062-4179-8bc8-9dcdc4452849",
        "colab": {
          "base_uri": "https://localhost:8080/",
          "height": 795
        }
      },
      "source": [
        "history_9 = model.fit(x_train, y_train, \n",
        "                   batch_size = 64, \n",
        "                   epochs = 20,\n",
        "                   validation_data = (x_test, y_test))\n",
        "score = model.evaluate(x_train, y_train)\n",
        "print(\"Train score: {}\".format(score[1]))\n",
        "\n",
        "\n",
        "score = model.evaluate(x_test, y_test)\n",
        "print(\"Test score: {}\".format(score[1]))"
      ],
      "execution_count": 0,
      "outputs": [
        {
          "output_type": "stream",
          "text": [
            "Train on 60000 samples, validate on 10000 samples\n",
            "Epoch 1/20\n",
            "60000/60000 [==============================] - 24s 396us/step - loss: 0.1195 - acc: 0.9638 - val_loss: 0.0772 - val_acc: 0.9758\n",
            "Epoch 2/20\n",
            "60000/60000 [==============================] - 23s 386us/step - loss: 0.0872 - acc: 0.9749 - val_loss: 0.0548 - val_acc: 0.9825\n",
            "Epoch 3/20\n",
            "60000/60000 [==============================] - 23s 386us/step - loss: 0.0829 - acc: 0.9771 - val_loss: 0.0605 - val_acc: 0.9836\n",
            "Epoch 4/20\n",
            "60000/60000 [==============================] - 23s 387us/step - loss: 0.0791 - acc: 0.9788 - val_loss: 0.0543 - val_acc: 0.9855\n",
            "Epoch 5/20\n",
            "60000/60000 [==============================] - 23s 388us/step - loss: 0.0763 - acc: 0.9807 - val_loss: 0.0453 - val_acc: 0.9869\n",
            "Epoch 6/20\n",
            "60000/60000 [==============================] - 23s 387us/step - loss: 0.0707 - acc: 0.9818 - val_loss: 0.0516 - val_acc: 0.9877\n",
            "Epoch 7/20\n",
            "60000/60000 [==============================] - 23s 386us/step - loss: 0.0681 - acc: 0.9831 - val_loss: 0.0599 - val_acc: 0.9872\n",
            "Epoch 8/20\n",
            "60000/60000 [==============================] - 23s 388us/step - loss: 0.0650 - acc: 0.9841 - val_loss: 0.0669 - val_acc: 0.9853\n",
            "Epoch 9/20\n",
            "60000/60000 [==============================] - 23s 388us/step - loss: 0.0689 - acc: 0.9836 - val_loss: 0.0507 - val_acc: 0.9900\n",
            "Epoch 10/20\n",
            "60000/60000 [==============================] - 23s 386us/step - loss: 0.0618 - acc: 0.9849 - val_loss: 0.0423 - val_acc: 0.9899\n",
            "Epoch 11/20\n",
            "60000/60000 [==============================] - 23s 389us/step - loss: 0.0585 - acc: 0.9861 - val_loss: 0.0524 - val_acc: 0.9881\n",
            "Epoch 12/20\n",
            "60000/60000 [==============================] - 23s 385us/step - loss: 0.0539 - acc: 0.9871 - val_loss: 0.0566 - val_acc: 0.9879\n",
            "Epoch 13/20\n",
            "60000/60000 [==============================] - 23s 387us/step - loss: 0.0549 - acc: 0.9868 - val_loss: 0.0581 - val_acc: 0.9895\n",
            "Epoch 14/20\n",
            "60000/60000 [==============================] - 23s 387us/step - loss: 0.0513 - acc: 0.9877 - val_loss: 0.0546 - val_acc: 0.9889\n",
            "Epoch 15/20\n",
            "60000/60000 [==============================] - 23s 386us/step - loss: 0.0513 - acc: 0.9876 - val_loss: 0.0447 - val_acc: 0.9904\n",
            "Epoch 16/20\n",
            "60000/60000 [==============================] - 23s 388us/step - loss: 0.0466 - acc: 0.9888 - val_loss: 0.0509 - val_acc: 0.9891\n",
            "Epoch 17/20\n",
            "60000/60000 [==============================] - 23s 387us/step - loss: 0.0481 - acc: 0.9885 - val_loss: 0.0540 - val_acc: 0.9893\n",
            "Epoch 18/20\n",
            "60000/60000 [==============================] - 23s 387us/step - loss: 0.0484 - acc: 0.9881 - val_loss: 0.0483 - val_acc: 0.9910\n",
            "Epoch 19/20\n",
            "60000/60000 [==============================] - 23s 386us/step - loss: 0.0440 - acc: 0.9889 - val_loss: 0.0471 - val_acc: 0.9906\n",
            "Epoch 20/20\n",
            "60000/60000 [==============================] - 23s 386us/step - loss: 0.0460 - acc: 0.9888 - val_loss: 0.0500 - val_acc: 0.9896\n",
            "60000/60000 [==============================] - 10s 164us/step\n",
            "Train score: 0.9966666666666667\n",
            "10000/10000 [==============================] - 2s 173us/step\n",
            "Test score: 0.9896\n"
          ],
          "name": "stdout"
        }
      ]
    },
    {
      "cell_type": "code",
      "metadata": {
        "id": "oZrYbhM-Dg8j",
        "colab_type": "code",
        "outputId": "7a4ae6ac-95c5-43a5-bbc9-ffea972b8d68",
        "colab": {
          "base_uri": "https://localhost:8080/",
          "height": 35
        }
      },
      "source": [
        "max(history_9.history[\"val_acc\"])"
      ],
      "execution_count": 0,
      "outputs": [
        {
          "output_type": "execute_result",
          "data": {
            "text/plain": [
              "0.991"
            ]
          },
          "metadata": {
            "tags": []
          },
          "execution_count": 68
        }
      ]
    },
    {
      "cell_type": "code",
      "metadata": {
        "id": "7CFbs-_ilste",
        "colab_type": "code",
        "outputId": "7fb2589b-1156-45c4-a27d-77689cb088fd",
        "colab": {
          "base_uri": "https://localhost:8080/",
          "height": 520
        }
      },
      "source": [
        "plt.figure(figsize = (12, 8))\n",
        "plt.plot(history_9.history[\"acc\"], color = \"b\")\n",
        "plt.plot(history_9.history[\"val_acc\"], color = \"r\")\n",
        "plt.title(\"The accuracy of Training and testing datasets, batch_size = 64, epochs = 100\", size = 16)\n",
        "plt.xlabel(\"Epochs\", size = 16)\n",
        "plt.ylabel(\"Accuracy\", size = 16)\n",
        "plt.legend([\"Training\",\"Testing\"])\n",
        "plt.show()"
      ],
      "execution_count": 0,
      "outputs": [
        {
          "output_type": "display_data",
          "data": {
            "image/png": "[encoded data removed]",
            "text/plain": [
              "<Figure size 864x576 with 1 Axes>"
            ]
          },
          "metadata": {
            "tags": []
          }
        }
      ]
    },
    {
      "cell_type": "markdown",
      "metadata": {
        "id": "WIV1-W-BKvqc",
        "colab_type": "text"
      },
      "source": [
        "## 调参 9： batch size, 跟多多次迭代"
      ]
    },
    {
      "cell_type": "code",
      "metadata": {
        "id": "TrtPoDMlK3Bt",
        "colab_type": "code",
        "outputId": "b7269cc6-e32d-4249-fe5d-fc788bea800f",
        "colab": {
          "base_uri": "https://localhost:8080/",
          "height": 1000
        }
      },
      "source": [
        "history_10 = model.fit(x_train, y_train, \n",
        "                   batch_size = 64, \n",
        "                   epochs = 50,\n",
        "                   validation_data = (x_test, y_test))\n",
        "score = model.evaluate(x_train, y_train)\n",
        "print(\"Train score: {}\".format(score[1]))\n",
        "\n",
        "\n",
        "score = model.evaluate(x_test, y_test)\n",
        "print(\"Test score: {}\".format(score[1]))"
      ],
      "execution_count": 0,
      "outputs": [
        {
          "output_type": "stream",
          "text": [
            "Train on 60000 samples, validate on 10000 samples\n",
            "Epoch 1/50\n",
            "60000/60000 [==============================] - 24s 396us/step - loss: 0.0424 - acc: 0.9901 - val_loss: 0.0422 - val_acc: 0.9918\n",
            "Epoch 2/50\n",
            "60000/60000 [==============================] - 23s 388us/step - loss: 0.0363 - acc: 0.9912 - val_loss: 0.0491 - val_acc: 0.9899\n",
            "Epoch 3/50\n",
            "60000/60000 [==============================] - 23s 388us/step - loss: 0.0408 - acc: 0.9901 - val_loss: 0.0525 - val_acc: 0.9899\n",
            "Epoch 4/50\n",
            "60000/60000 [==============================] - 23s 387us/step - loss: 0.0398 - acc: 0.9904 - val_loss: 0.0455 - val_acc: 0.9915\n",
            "Epoch 5/50\n",
            "60000/60000 [==============================] - 23s 387us/step - loss: 0.0396 - acc: 0.9905 - val_loss: 0.0497 - val_acc: 0.9908\n",
            "Epoch 6/50\n",
            "60000/60000 [==============================] - 23s 390us/step - loss: 0.0370 - acc: 0.9913 - val_loss: 0.0490 - val_acc: 0.9907\n",
            "Epoch 7/50\n",
            "60000/60000 [==============================] - 23s 387us/step - loss: 0.0351 - acc: 0.9914 - val_loss: 0.0464 - val_acc: 0.9924\n",
            "Epoch 8/50\n",
            "60000/60000 [==============================] - 23s 388us/step - loss: 0.0366 - acc: 0.9912 - val_loss: 0.0525 - val_acc: 0.9905\n",
            "Epoch 9/50\n",
            "60000/60000 [==============================] - 23s 386us/step - loss: 0.0350 - acc: 0.9914 - val_loss: 0.0490 - val_acc: 0.9906\n",
            "Epoch 10/50\n",
            "60000/60000 [==============================] - 23s 386us/step - loss: 0.0332 - acc: 0.9916 - val_loss: 0.0512 - val_acc: 0.9893\n",
            "Epoch 11/50\n",
            "60000/60000 [==============================] - 23s 386us/step - loss: 0.0330 - acc: 0.9919 - val_loss: 0.0587 - val_acc: 0.9903\n",
            "Epoch 12/50\n",
            "60000/60000 [==============================] - 23s 386us/step - loss: 0.0297 - acc: 0.9928 - val_loss: 0.0478 - val_acc: 0.9919\n",
            "Epoch 13/50\n",
            "60000/60000 [==============================] - 23s 386us/step - loss: 0.0327 - acc: 0.9917 - val_loss: 0.0454 - val_acc: 0.9915\n",
            "Epoch 14/50\n",
            "60000/60000 [==============================] - 23s 387us/step - loss: 0.0318 - acc: 0.9925 - val_loss: 0.0442 - val_acc: 0.9922\n",
            "Epoch 15/50\n",
            "60000/60000 [==============================] - 23s 389us/step - loss: 0.0318 - acc: 0.9922 - val_loss: 0.0529 - val_acc: 0.9897\n",
            "Epoch 16/50\n",
            "60000/60000 [==============================] - 23s 387us/step - loss: 0.0330 - acc: 0.9925 - val_loss: 0.0531 - val_acc: 0.9906\n",
            "Epoch 17/50\n",
            "60000/60000 [==============================] - 23s 386us/step - loss: 0.0306 - acc: 0.9924 - val_loss: 0.0710 - val_acc: 0.9887\n",
            "Epoch 18/50\n",
            "60000/60000 [==============================] - 23s 385us/step - loss: 0.0326 - acc: 0.9920 - val_loss: 0.0580 - val_acc: 0.9901\n",
            "Epoch 19/50\n",
            "60000/60000 [==============================] - 23s 386us/step - loss: 0.0317 - acc: 0.9926 - val_loss: 0.0573 - val_acc: 0.9903\n",
            "Epoch 20/50\n",
            "60000/60000 [==============================] - 23s 388us/step - loss: 0.0311 - acc: 0.9926 - val_loss: 0.0504 - val_acc: 0.9911\n",
            "Epoch 21/50\n",
            "60000/60000 [==============================] - 23s 388us/step - loss: 0.0271 - acc: 0.9934 - val_loss: 0.0512 - val_acc: 0.9918\n",
            "Epoch 22/50\n",
            "60000/60000 [==============================] - 23s 385us/step - loss: 0.0314 - acc: 0.9924 - val_loss: 0.0498 - val_acc: 0.9914\n",
            "Epoch 23/50\n",
            "60000/60000 [==============================] - 23s 384us/step - loss: 0.0277 - acc: 0.9936 - val_loss: 0.0495 - val_acc: 0.9915\n",
            "Epoch 24/50\n",
            "60000/60000 [==============================] - 23s 385us/step - loss: 0.0276 - acc: 0.9934 - val_loss: 0.0550 - val_acc: 0.9911\n",
            "Epoch 25/50\n",
            "60000/60000 [==============================] - 23s 386us/step - loss: 0.0255 - acc: 0.9935 - val_loss: 0.0516 - val_acc: 0.9920\n",
            "Epoch 26/50\n",
            "60000/60000 [==============================] - 23s 385us/step - loss: 0.0274 - acc: 0.9936 - val_loss: 0.0499 - val_acc: 0.9914\n",
            "Epoch 27/50\n",
            "60000/60000 [==============================] - 23s 385us/step - loss: 0.0230 - acc: 0.9941 - val_loss: 0.0548 - val_acc: 0.9911\n",
            "Epoch 28/50\n",
            "60000/60000 [==============================] - 23s 386us/step - loss: 0.0259 - acc: 0.9938 - val_loss: 0.0551 - val_acc: 0.9906\n",
            "Epoch 29/50\n",
            "60000/60000 [==============================] - 23s 385us/step - loss: 0.0290 - acc: 0.9933 - val_loss: 0.0439 - val_acc: 0.9918\n",
            "Epoch 30/50\n",
            "60000/60000 [==============================] - 23s 386us/step - loss: 0.0264 - acc: 0.9939 - val_loss: 0.0490 - val_acc: 0.9920\n",
            "Epoch 31/50\n",
            "60000/60000 [==============================] - 23s 385us/step - loss: 0.0268 - acc: 0.9936 - val_loss: 0.0437 - val_acc: 0.9928\n",
            "Epoch 32/50\n",
            "60000/60000 [==============================] - 23s 385us/step - loss: 0.0265 - acc: 0.9940 - val_loss: 0.0464 - val_acc: 0.9925\n",
            "Epoch 33/50\n",
            "60000/60000 [==============================] - 23s 390us/step - loss: 0.0237 - acc: 0.9941 - val_loss: 0.0469 - val_acc: 0.9916\n",
            "Epoch 34/50\n",
            "60000/60000 [==============================] - 23s 387us/step - loss: 0.0240 - acc: 0.9942 - val_loss: 0.0420 - val_acc: 0.9923\n",
            "Epoch 35/50\n",
            "60000/60000 [==============================] - 23s 386us/step - loss: 0.0239 - acc: 0.9944 - val_loss: 0.0575 - val_acc: 0.9911\n",
            "Epoch 36/50\n",
            "60000/60000 [==============================] - 23s 385us/step - loss: 0.0230 - acc: 0.9945 - val_loss: 0.0513 - val_acc: 0.9920\n",
            "Epoch 37/50\n",
            "60000/60000 [==============================] - 23s 386us/step - loss: 0.0235 - acc: 0.9947 - val_loss: 0.0549 - val_acc: 0.9917\n",
            "Epoch 38/50\n",
            "60000/60000 [==============================] - 23s 387us/step - loss: 0.0265 - acc: 0.9939 - val_loss: 0.0491 - val_acc: 0.9921\n",
            "Epoch 39/50\n",
            "60000/60000 [==============================] - 23s 388us/step - loss: 0.0237 - acc: 0.9941 - val_loss: 0.0494 - val_acc: 0.9920\n",
            "Epoch 40/50\n",
            "60000/60000 [==============================] - 23s 386us/step - loss: 0.0238 - acc: 0.9943 - val_loss: 0.0451 - val_acc: 0.9924\n",
            "Epoch 41/50\n",
            "60000/60000 [==============================] - 23s 387us/step - loss: 0.0221 - acc: 0.9945 - val_loss: 0.0508 - val_acc: 0.9926\n",
            "Epoch 42/50\n",
            "60000/60000 [==============================] - 23s 387us/step - loss: 0.0214 - acc: 0.9947 - val_loss: 0.0473 - val_acc: 0.9928\n",
            "Epoch 43/50\n",
            "60000/60000 [==============================] - 23s 388us/step - loss: 0.0215 - acc: 0.9949 - val_loss: 0.0434 - val_acc: 0.9930\n",
            "Epoch 44/50\n",
            "60000/60000 [==============================] - 23s 387us/step - loss: 0.0206 - acc: 0.9949 - val_loss: 0.0483 - val_acc: 0.9932\n",
            "Epoch 45/50\n",
            "60000/60000 [==============================] - 23s 385us/step - loss: 0.0246 - acc: 0.9942 - val_loss: 0.0479 - val_acc: 0.9921\n",
            "Epoch 46/50\n",
            "60000/60000 [==============================] - 23s 389us/step - loss: 0.0225 - acc: 0.9949 - val_loss: 0.0488 - val_acc: 0.9924\n",
            "Epoch 47/50\n",
            "60000/60000 [==============================] - 23s 388us/step - loss: 0.0233 - acc: 0.9947 - val_loss: 0.0594 - val_acc: 0.9925\n",
            "Epoch 48/50\n",
            "60000/60000 [==============================] - 23s 387us/step - loss: 0.0222 - acc: 0.9943 - val_loss: 0.0456 - val_acc: 0.9923\n",
            "Epoch 49/50\n",
            "60000/60000 [==============================] - 23s 385us/step - loss: 0.0207 - acc: 0.9948 - val_loss: 0.0550 - val_acc: 0.9914\n",
            "Epoch 50/50\n",
            "60000/60000 [==============================] - 23s 386us/step - loss: 0.0188 - acc: 0.9952 - val_loss: 0.0460 - val_acc: 0.9924\n",
            "60000/60000 [==============================] - 10s 167us/step\n",
            "Train score: 0.9994\n",
            "10000/10000 [==============================] - 2s 180us/step\n",
            "Test score: 0.9924\n"
          ],
          "name": "stdout"
        }
      ]
    },
    {
      "cell_type": "code",
      "metadata": {
        "id": "7Bjv-8MtMaEG",
        "colab_type": "code",
        "outputId": "b926f574-274b-4ba4-fa68-f100ab822252",
        "colab": {
          "base_uri": "https://localhost:8080/",
          "height": 35
        }
      },
      "source": [
        "max(history_10.history[\"val_acc\"])"
      ],
      "execution_count": 0,
      "outputs": [
        {
          "output_type": "execute_result",
          "data": {
            "text/plain": [
              "0.9932"
            ]
          },
          "metadata": {
            "tags": []
          },
          "execution_count": 71
        }
      ]
    },
    {
      "cell_type": "markdown",
      "metadata": {
        "id": "jBVR5av6JvEL",
        "colab_type": "text"
      },
      "source": [
        "# 线性模型"
      ]
    },
    {
      "cell_type": "code",
      "metadata": {
        "id": "OAyEZ8t41Lu8",
        "colab_type": "code",
        "outputId": "33007a9a-eebd-42e0-821a-bd839dd1d860",
        "colab": {
          "base_uri": "https://localhost:8080/",
          "height": 190
        }
      },
      "source": [
        "model = Sequential()\n",
        "#model.add(Dense(units = input_shape = (28, 28, 1)))\n",
        "model.add(Dense(10, input_dim=784, activation='sigmoid'))\n",
        "model.compile(loss = 'mean_squared_error', optimizer = adam(), metrics = [\"accuracy\"]) # 'sgd'\n",
        "#SGD(lr=0.01, momentum=0.9, nesterov=True)\n",
        "model.summary()"
      ],
      "execution_count": 0,
      "outputs": [
        {
          "output_type": "stream",
          "text": [
            "Model: \"sequential_22\"\n",
            "_________________________________________________________________\n",
            "Layer (type)                 Output Shape              Param #   \n",
            "=================================================================\n",
            "dense_17 (Dense)             (None, 10)                7850      \n",
            "=================================================================\n",
            "Total params: 7,850\n",
            "Trainable params: 7,850\n",
            "Non-trainable params: 0\n",
            "_________________________________________________________________\n"
          ],
          "name": "stdout"
        }
      ]
    },
    {
      "cell_type": "code",
      "metadata": {
        "id": "D5023tqOIY_Q",
        "colab_type": "code",
        "colab": {}
      },
      "source": [
        "x_train_new = x_train[:].reshape((-1, 28 * 28))\n",
        "y_train_new = y_train[:]\n",
        "x_test_new = x_test[:].reshape((-1, 28 * 28))\n",
        "y_test_new = y_test[:]"
      ],
      "execution_count": 0,
      "outputs": []
    },
    {
      "cell_type": "code",
      "metadata": {
        "id": "piY9qndBGriG",
        "colab_type": "code",
        "outputId": "81ca7100-5530-4671-f9e1-0062e93d1f2c",
        "colab": {
          "base_uri": "https://localhost:8080/",
          "height": 795
        }
      },
      "source": [
        "history_linear = model.fit(x_train_new, y_train_new, \n",
        "                   batch_size = 64, \n",
        "                   epochs = 20,\n",
        "                   validation_data = (x_test_new, y_test_new))\n",
        "score = model.evaluate(x_train_new, y_train_new)\n",
        "print(\"Train score: {}\".format(score[1]))\n",
        "\n",
        "\n",
        "score = model.evaluate(x_test_new, y_test_new)\n",
        "print(\"Test score: {}\".format(score[1]))"
      ],
      "execution_count": 0,
      "outputs": [
        {
          "output_type": "stream",
          "text": [
            "Train on 60000 samples, validate on 10000 samples\n",
            "Epoch 1/20\n",
            "60000/60000 [==============================] - 6s 96us/step - loss: 0.0398 - acc: 0.7960 - val_loss: 0.0233 - val_acc: 0.8952\n",
            "Epoch 2/20\n",
            "60000/60000 [==============================] - 4s 69us/step - loss: 0.0219 - acc: 0.8948 - val_loss: 0.0194 - val_acc: 0.9061\n",
            "Epoch 3/20\n",
            "60000/60000 [==============================] - 4s 68us/step - loss: 0.0194 - acc: 0.9042 - val_loss: 0.0179 - val_acc: 0.9119\n",
            "Epoch 4/20\n",
            "60000/60000 [==============================] - 4s 69us/step - loss: 0.0181 - acc: 0.9086 - val_loss: 0.0170 - val_acc: 0.9158\n",
            "Epoch 5/20\n",
            "60000/60000 [==============================] - 4s 69us/step - loss: 0.0173 - acc: 0.9124 - val_loss: 0.0164 - val_acc: 0.9188\n",
            "Epoch 6/20\n",
            "60000/60000 [==============================] - 4s 68us/step - loss: 0.0168 - acc: 0.9146 - val_loss: 0.0159 - val_acc: 0.9202\n",
            "Epoch 7/20\n",
            "60000/60000 [==============================] - 4s 69us/step - loss: 0.0164 - acc: 0.9168 - val_loss: 0.0157 - val_acc: 0.9213\n",
            "Epoch 8/20\n",
            "60000/60000 [==============================] - 4s 67us/step - loss: 0.0160 - acc: 0.9193 - val_loss: 0.0154 - val_acc: 0.9215\n",
            "Epoch 9/20\n",
            "60000/60000 [==============================] - 4s 70us/step - loss: 0.0157 - acc: 0.9200 - val_loss: 0.0153 - val_acc: 0.9230\n",
            "Epoch 10/20\n",
            "60000/60000 [==============================] - 4s 68us/step - loss: 0.0155 - acc: 0.9218 - val_loss: 0.0151 - val_acc: 0.9235\n",
            "Epoch 11/20\n",
            "60000/60000 [==============================] - 4s 68us/step - loss: 0.0153 - acc: 0.9218 - val_loss: 0.0149 - val_acc: 0.9238\n",
            "Epoch 12/20\n",
            "60000/60000 [==============================] - 4s 68us/step - loss: 0.0152 - acc: 0.9224 - val_loss: 0.0148 - val_acc: 0.9240\n",
            "Epoch 13/20\n",
            "60000/60000 [==============================] - 4s 68us/step - loss: 0.0150 - acc: 0.9236 - val_loss: 0.0147 - val_acc: 0.9247\n",
            "Epoch 14/20\n",
            "60000/60000 [==============================] - 4s 69us/step - loss: 0.0149 - acc: 0.9244 - val_loss: 0.0147 - val_acc: 0.9240\n",
            "Epoch 15/20\n",
            "60000/60000 [==============================] - 4s 69us/step - loss: 0.0148 - acc: 0.9250 - val_loss: 0.0147 - val_acc: 0.9240\n",
            "Epoch 16/20\n",
            "60000/60000 [==============================] - 4s 68us/step - loss: 0.0147 - acc: 0.9251 - val_loss: 0.0146 - val_acc: 0.9251\n",
            "Epoch 17/20\n",
            "60000/60000 [==============================] - 4s 69us/step - loss: 0.0146 - acc: 0.9255 - val_loss: 0.0145 - val_acc: 0.9253\n",
            "Epoch 18/20\n",
            "60000/60000 [==============================] - 4s 69us/step - loss: 0.0145 - acc: 0.9258 - val_loss: 0.0145 - val_acc: 0.9245\n",
            "Epoch 19/20\n",
            "60000/60000 [==============================] - 4s 68us/step - loss: 0.0144 - acc: 0.9261 - val_loss: 0.0144 - val_acc: 0.9247\n",
            "Epoch 20/20\n",
            "60000/60000 [==============================] - 4s 69us/step - loss: 0.0143 - acc: 0.9266 - val_loss: 0.0144 - val_acc: 0.9243\n",
            "60000/60000 [==============================] - 3s 58us/step\n",
            "Train score: 0.9269666666666667\n",
            "10000/10000 [==============================] - 1s 59us/step\n",
            "Test score: 0.9243\n"
          ],
          "name": "stdout"
        }
      ]
    },
    {
      "cell_type": "code",
      "metadata": {
        "id": "LjypynMCRbcm",
        "colab_type": "code",
        "outputId": "3c5bca68-ce45-44d7-fa7d-3937a9dce3f7",
        "colab": {
          "base_uri": "https://localhost:8080/",
          "height": 520
        }
      },
      "source": [
        "plt.figure(figsize = (12, 8))\n",
        "plt.plot(history_9.history[\"acc\"], color = \"b\")\n",
        "plt.plot(history_9.history[\"val_acc\"], color = \"r\")\n",
        "plt.title(\"The accuracy of Training and testing datasets, batch_size = 64, epochs = 100\", size = 16)\n",
        "plt.xlabel(\"Epochs\", size = 16)\n",
        "plt.ylabel(\"Accuracy\", size = 16)\n",
        "plt.legend([\"Training\",\"Testing\"])\n",
        "plt.show()"
      ],
      "execution_count": 0,
      "outputs": [
        {
          "output_type": "display_data",
          "data": {
            "image/png": "[encoded data removed]",
            "text/plain": [
              "<Figure size 864x576 with 1 Axes>"
            ]
          },
          "metadata": {
            "tags": []
          }
        }
      ]
    },
    {
      "cell_type": "markdown",
      "metadata": {
        "id": "caJocMPlRawC",
        "colab_type": "text"
      },
      "source": [
        "## 提取线性模型参数"
      ]
    },
    {
      "cell_type": "code",
      "metadata": {
        "id": "MfZHQXWYKRQv",
        "colab_type": "code",
        "colab": {}
      },
      "source": [
        "weights, bias = model.get_weights()"
      ],
      "execution_count": 0,
      "outputs": []
    },
    {
      "cell_type": "code",
      "metadata": {
        "id": "VxqWI0tJLob6",
        "colab_type": "code",
        "outputId": "8d63cb91-5591-434e-f3fa-614a1d7c273d",
        "colab": {
          "base_uri": "https://localhost:8080/",
          "height": 35
        }
      },
      "source": [
        "weights.shape"
      ],
      "execution_count": 0,
      "outputs": [
        {
          "output_type": "execute_result",
          "data": {
            "text/plain": [
              "(784, 10)"
            ]
          },
          "metadata": {
            "tags": []
          },
          "execution_count": 78
        }
      ]
    },
    {
      "cell_type": "code",
      "metadata": {
        "id": "W6LQRYPEL1pi",
        "colab_type": "code",
        "outputId": "e2bab4c7-708b-4186-e4a0-787bf8d8e748",
        "colab": {
          "base_uri": "https://localhost:8080/",
          "height": 1000
        }
      },
      "source": [
        "for i in range(10):\n",
        "  plt.imshow(weights[:, i].reshape(28, 28))\n",
        "  plt.show()"
      ],
      "execution_count": 0,
      "outputs": [
        {
          "output_type": "display_data",
          "data": {
            "image/png": "[encoded data removed]",
            "text/plain": [
              "<Figure size 432x288 with 1 Axes>"
            ]
          },
          "metadata": {
            "tags": []
          }
        },
        {
          "output_type": "display_data",
          "data": {
            "image/png": "[encoded data removed]",
            "text/plain": [
              "<Figure size 432x288 with 1 Axes>"
            ]
          },
          "metadata": {
            "tags": []
          }
        },
        {
          "output_type": "display_data",
          "data": {
            "image/png": "[encoded data removed]",
            "text/plain": [
              "<Figure size 432x288 with 1 Axes>"
            ]
          },
          "metadata": {
            "tags": []
          }
        },
        {
          "output_type": "display_data",
          "data": {
            "image/png": "[encoded data removed]",
            "text/plain": [
              "<Figure size 432x288 with 1 Axes>"
            ]
          },
          "metadata": {
            "tags": []
          }
        },
        {
          "output_type": "display_data",
          "data": {
            "image/png": "[encoded data removed]",
            "text/plain": [
              "<Figure size 432x288 with 1 Axes>"
            ]
          },
          "metadata": {
            "tags": []
          }
        },
        {
          "output_type": "display_data",
          "data": {
            "image/png": "[encoded data removed]",
            "text/plain": [
              "<Figure size 432x288 with 1 Axes>"
            ]
          },
          "metadata": {
            "tags": []
          }
        },
        {
          "output_type": "display_data",
          "data": {
            "image/png": "[encoded data removed]",
            "text/plain": [
              "<Figure size 432x288 with 1 Axes>"
            ]
          },
          "metadata": {
            "tags": []
          }
        },
        {
          "output_type": "display_data",
          "data": {
            "image/png": "[encoded data removed]",
            "text/plain": [
              "<Figure size 432x288 with 1 Axes>"
            ]
          },
          "metadata": {
            "tags": []
          }
        },
        {
          "output_type": "display_data",
          "data": {
            "image/png": "[encoded data removed]",
            "text/plain": [
              "<Figure size 432x288 with 1 Axes>"
            ]
          },
          "metadata": {
            "tags": []
          }
        },
        {
          "output_type": "display_data",
          "data": {
            "image/png": "[encoded data removed]",
            "text/plain": [
              "<Figure size 432x288 with 1 Axes>"
            ]
          },
          "metadata": {
            "tags": []
          }
        }
      ]
    },
    {
      "cell_type": "code",
      "metadata": {
        "id": "KdGgF0ltNP9j",
        "colab_type": "code",
        "outputId": "c3927324-f655-4ddc-bab4-666c59d265fe",
        "colab": {
          "base_uri": "https://localhost:8080/",
          "height": 1000
        }
      },
      "source": [
        "weights_by_class = []\n",
        "weights[:, 0]"
      ],
      "execution_count": 0,
      "outputs": [
        {
          "output_type": "execute_result",
          "data": {
            "text/plain": [
              "array([ 7.96114579e-02,  1.82741657e-02, -5.04040532e-02, -3.16032469e-02,\n",
              "        1.66505277e-02, -6.17902391e-02, -5.10610081e-02,  7.10898563e-02,\n",
              "       -4.77758795e-03,  3.28558609e-02, -4.50293645e-02, -7.73869455e-04,\n",
              "        6.44401312e-02,  3.74111459e-02,  6.74584657e-02,  7.90744647e-02,\n",
              "       -4.11741063e-02, -8.59119296e-02, -2.17607170e-02,  8.35489705e-02,\n",
              "        5.66439852e-02,  2.93427333e-02,  3.42159048e-02,  4.09484655e-03,\n",
              "       -7.09564313e-02, -1.12178102e-02,  6.26644269e-02, -7.02398717e-02,\n",
              "       -7.03331754e-02,  7.35484064e-04,  4.74585816e-02, -7.14592785e-02,\n",
              "       -3.00862435e-02, -1.38719380e-02, -5.55197075e-02,  2.76541729e-02,\n",
              "        2.69193072e-02, -2.16838848e-02, -2.72564292e-01,  3.58774960e-01,\n",
              "        4.77132469e-01,  4.05680090e-01, -2.99011528e-01, -2.36639798e-01,\n",
              "       -3.64648581e-01, -2.17890620e-01, -5.18180057e-02, -1.69007197e-01,\n",
              "       -6.99826628e-02,  3.23480926e-02,  4.84084450e-02, -7.75404721e-02,\n",
              "        3.62408534e-02, -1.33503452e-02, -8.29160735e-02, -3.22842672e-02,\n",
              "       -9.96897370e-03, -3.08260396e-02,  8.20414163e-03,  1.20283268e-01,\n",
              "        1.46690339e-01, -1.70395017e-01, -4.67028409e-01, -9.38219875e-02,\n",
              "       -7.86677301e-01, -8.72954607e-01, -8.51185083e-01, -5.99066138e-01,\n",
              "       -5.83262384e-01, -6.88061237e-01, -9.96630371e-01, -1.44126260e+00,\n",
              "       -9.14044619e-01, -1.35124576e+00, -1.29866362e+00, -8.78608763e-01,\n",
              "       -1.24977899e+00, -8.85053337e-01, -5.17371416e-01, -3.91687989e-01,\n",
              "       -1.71943203e-01, -8.65691975e-02, -7.37920552e-02,  7.89420307e-03,\n",
              "       -8.43606442e-02, -5.58919013e-02, -5.19673079e-02, -6.55964166e-02,\n",
              "       -3.19943577e-01, -3.68206710e-01, -8.44745278e-01, -4.83062327e-01,\n",
              "       -4.93648201e-01, -9.60940421e-01, -9.85399306e-01, -6.32881701e-01,\n",
              "       -6.18439436e-01, -2.51758933e-01, -5.92152476e-01, -5.62508881e-01,\n",
              "       -2.48113900e-01, -4.87475425e-01, -6.04918063e-01, -5.70746660e-01,\n",
              "       -6.61593914e-01, -1.03388298e+00, -8.30284119e-01, -3.98887038e-01,\n",
              "       -1.34955540e-01, -4.57455695e-01, -4.33288813e-01, -3.61661986e-02,\n",
              "       -5.49158119e-02, -8.40436742e-02, -1.78767983e-02, -2.59748638e-01,\n",
              "       -5.70703626e-01, -9.36686277e-01, -5.53191364e-01, -7.46490717e-01,\n",
              "       -1.93420917e-01,  1.68318436e-01, -2.16594804e-02,  1.06051704e-02,\n",
              "       -1.91262484e-01,  5.75862732e-03, -8.62373412e-02, -9.54599585e-03,\n",
              "       -2.56127268e-01, -1.51510060e-01, -5.13456017e-02,  4.31861691e-02,\n",
              "       -7.07889795e-02, -2.40520850e-01, -2.39936665e-01, -1.22502200e-01,\n",
              "       -6.26640737e-01, -7.07340360e-01, -5.05059838e-01, -8.13449398e-02,\n",
              "        3.23993787e-02, -2.55504623e-02, -3.77370745e-01, -4.46674049e-01,\n",
              "       -6.61171615e-01, -6.35406256e-01, -1.79592390e-02, -5.14423430e-01,\n",
              "       -2.23864034e-01, -7.23821521e-02,  2.74624340e-02, -1.72330007e-01,\n",
              "       -1.41586900e-01,  1.30819350e-01,  1.45303309e-01,  1.85612872e-01,\n",
              "        1.45076290e-01,  4.04811464e-02,  5.52256033e-02, -7.21505806e-02,\n",
              "       -9.89140868e-02, -1.78376824e-01, -3.89304161e-02, -1.91435143e-01,\n",
              "       -7.05532789e-01, -1.19687092e+00, -9.22674537e-01, -5.03611624e-01,\n",
              "        4.49632108e-03,  7.23396838e-02, -3.26865524e-01, -1.92318559e-01,\n",
              "       -4.70681041e-01, -1.96037859e-01, -1.77260682e-01, -1.36489421e-01,\n",
              "       -2.33985260e-01, -4.77867454e-01, -6.38302043e-02, -1.48110107e-01,\n",
              "       -1.19477361e-01,  4.22832817e-02,  3.95048000e-02,  7.78610036e-02,\n",
              "       -6.79302588e-02,  1.36293516e-01,  2.04167247e-01,  9.82009247e-02,\n",
              "       -1.29712922e-02,  1.79334536e-01,  2.41841570e-01, -8.42339620e-02,\n",
              "       -1.11794472e+00, -1.65602207e+00, -1.24305785e+00, -6.75509572e-01,\n",
              "        7.18391314e-02, -1.84487671e-01, -3.08493733e-01, -5.09282291e-01,\n",
              "       -4.38032359e-01, -6.88289702e-02,  1.49219297e-02, -9.55724623e-04,\n",
              "       -4.18782622e-01, -1.48436651e-01, -3.53569835e-02, -1.50096491e-02,\n",
              "       -9.61565450e-02,  1.31200165e-01,  7.24943541e-03, -8.79793335e-03,\n",
              "        5.64634912e-02,  2.43277326e-01,  3.17547679e-01,  2.04701662e-01,\n",
              "        1.45209923e-01,  6.70528710e-02, -4.31721546e-02, -8.43319520e-02,\n",
              "       -8.37623417e-01, -1.38391960e+00, -1.12381375e+00, -2.33193949e-01,\n",
              "        4.83487815e-01, -8.01753998e-03,  1.86431095e-01,  1.61408126e-01,\n",
              "       -7.86079288e-01, -1.47319213e-01,  2.05020472e-01, -2.18474027e-02,\n",
              "       -5.74221835e-02,  7.62401447e-02,  6.23003878e-02, -3.11230309e-02,\n",
              "        1.15333833e-01, -6.09742887e-02,  9.65140089e-02,  2.67111391e-01,\n",
              "        6.22189164e-01,  2.76729107e-01,  2.68192232e-01,  9.20702145e-02,\n",
              "        9.50474590e-02, -2.80789584e-02, -2.80997846e-02,  2.31613770e-01,\n",
              "       -7.23430634e-01, -1.82612360e+00, -1.11181414e+00, -3.31587791e-01,\n",
              "       -9.39041283e-03, -1.21274129e-01,  1.57360852e-01, -1.15387544e-01,\n",
              "       -4.96890396e-01,  2.23499447e-01, -4.87259552e-02, -9.54204351e-02,\n",
              "       -2.99041495e-02,  1.11344919e-01,  5.72962165e-02, -1.50576741e-01,\n",
              "        1.50350705e-02,  7.00454935e-02, -2.76058018e-02,  7.20615387e-02,\n",
              "        3.03767234e-01,  4.50569153e-01,  2.67107815e-01,  2.39430606e-01,\n",
              "        1.53894454e-01,  8.11182112e-02,  2.03751232e-02,  3.00647736e-01,\n",
              "       -4.80387121e-01, -1.89561284e+00, -1.37862623e+00, -7.14931339e-02,\n",
              "       -4.94525321e-02, -6.55243397e-02,  1.41632259e-01, -5.91927290e-01,\n",
              "       -2.43687108e-01,  1.60301968e-01, -2.71715611e-01,  7.62518495e-02,\n",
              "       -2.41540000e-02, -6.43310174e-02, -1.13113895e-01,  6.50376901e-02,\n",
              "       -6.08561039e-02, -9.22802910e-02, -1.83869943e-01, -1.41988188e-01,\n",
              "        1.67122811e-01,  2.79341221e-01,  2.53809452e-01,  7.41740912e-02,\n",
              "        2.38882646e-01,  1.37500077e-01,  2.74962842e-01,  4.80840713e-01,\n",
              "       -1.40302241e-01, -1.61209333e+00, -1.24103677e+00,  1.67957470e-02,\n",
              "       -1.34374830e-03,  3.69085193e-01, -3.89008164e-01, -6.98372781e-01,\n",
              "       -7.30704129e-01, -1.51497647e-01,  2.10390225e-01,  2.92179435e-02,\n",
              "       -9.93003771e-02, -9.75798443e-02, -6.36253208e-02,  3.35718924e-03,\n",
              "       -1.00798212e-01, -4.11362052e-02, -4.54628348e-01, -6.89933419e-01,\n",
              "       -4.52009916e-01, -6.22111037e-02, -7.16975704e-02,  1.72498599e-01,\n",
              "        2.45728150e-01,  1.86080083e-01,  4.83636372e-02,  1.23926014e-01,\n",
              "        1.32678851e-01, -1.44150138e+00, -1.10484147e+00, -1.16108336e-01,\n",
              "       -3.52171101e-02, -6.58694431e-02, -4.56473559e-01, -9.91836071e-01,\n",
              "       -6.25571668e-01,  1.87795714e-01,  2.54873127e-01,  6.95841536e-02,\n",
              "        1.06089581e-02, -4.71962243e-02,  9.58507881e-02, -5.11958785e-02,\n",
              "        1.33255154e-01, -7.57549033e-02, -6.63537323e-01, -9.23654854e-01,\n",
              "       -7.73518324e-01, -7.21269622e-02,  1.05623908e-01,  8.90030861e-02,\n",
              "        5.44290282e-02,  6.74901158e-02,  2.10111424e-01, -6.02594065e-03,\n",
              "        2.94994712e-01, -4.82560515e-01, -6.84921205e-01, -9.13748965e-02,\n",
              "       -4.18111496e-02,  2.12869078e-01, -1.20714761e-01, -3.65001887e-01,\n",
              "       -2.11391136e-01,  1.56062879e-02,  3.58779520e-01,  2.30675235e-01,\n",
              "        2.27070659e-01,  1.18051477e-01,  2.50408858e-01, -5.89876026e-02,\n",
              "       -1.34230237e-02, -3.41548443e-01, -5.27948380e-01, -1.07765293e+00,\n",
              "       -6.22819185e-01,  2.43618432e-02, -8.17610249e-02, -1.57153830e-01,\n",
              "       -1.19795762e-01,  9.39645469e-02,  3.34802389e-01,  2.08546087e-01,\n",
              "        5.16257808e-02, -1.23124406e-01, -5.25123179e-01, -1.67265028e-01,\n",
              "       -5.32110110e-02,  1.44718876e-02, -5.13884366e-01, -6.36428952e-01,\n",
              "        5.73835634e-02,  2.65784144e-01,  1.10868916e-01,  4.21065927e-01,\n",
              "        2.54857153e-01,  2.54200459e-01,  7.15935007e-02,  1.40222572e-02,\n",
              "        2.85570353e-01, -3.01684082e-01, -1.07407808e+00, -1.01548314e+00,\n",
              "       -4.33774382e-01,  1.47292344e-02, -1.83004841e-01, -7.07803369e-02,\n",
              "        7.60409236e-02,  1.11047670e-01,  9.21040848e-02,  2.56477505e-01,\n",
              "        4.55513643e-03, -5.05467132e-02, -7.71300614e-01, -1.94897458e-01,\n",
              "       -8.76705498e-02, -4.84604016e-02, -5.26877403e-01, -7.57294953e-01,\n",
              "       -5.74159808e-03,  2.96777964e-01, -1.17932828e-02,  3.64014506e-01,\n",
              "        3.76171350e-01,  3.49646568e-01,  3.28364700e-01,  5.88713065e-02,\n",
              "        1.03451826e-01, -7.88996577e-01, -1.30391300e+00, -6.83050632e-01,\n",
              "       -2.61968583e-01, -1.83130622e-01, -1.06311448e-01, -3.45166475e-02,\n",
              "        1.53691873e-01,  4.04228754e-02,  4.45990544e-03,  2.85222858e-01,\n",
              "        1.09449299e-02, -7.54801184e-02, -9.55813646e-01, -3.42027456e-01,\n",
              "        3.51320505e-02, -8.79148096e-02, -2.42684275e-01, -7.35373259e-01,\n",
              "       -9.69035551e-03,  3.14806223e-01,  2.29207754e-01,  2.53181130e-01,\n",
              "        3.22925359e-01,  1.89382285e-01,  2.81415701e-01,  3.24955255e-01,\n",
              "       -3.04691434e-01, -1.40871644e+00, -1.17039406e+00, -3.65104139e-01,\n",
              "       -2.15308070e-01, -3.57532650e-02, -5.43276444e-02, -4.24320288e-02,\n",
              "        7.44400620e-02,  3.88351157e-02, -2.19694283e-02,  5.77143282e-02,\n",
              "       -1.37218639e-01, -5.61983764e-01, -1.02478671e+00, -1.29519105e-01,\n",
              "       -5.30251898e-02, -3.95934470e-02, -3.84679407e-01, -6.06876791e-01,\n",
              "        1.26755731e-02,  2.04610407e-01,  2.97168344e-01,  1.07856423e-01,\n",
              "        1.52315080e-01,  1.64663509e-01,  4.10883933e-01,  1.39970988e-01,\n",
              "       -6.26045048e-01, -9.47426617e-01, -6.69836223e-01, -3.10821414e-01,\n",
              "       -2.15166971e-01, -1.14135094e-01, -1.17588811e-01,  1.93740223e-02,\n",
              "        1.25259040e-02, -1.46535426e-01,  1.35253489e-01,  7.03228312e-03,\n",
              "       -6.47749826e-02, -3.26948524e-01, -9.14718151e-01,  4.33334202e-01,\n",
              "       -1.67005807e-01,  1.65923312e-02, -4.68599141e-01, -1.12268782e+00,\n",
              "       -9.28553045e-02, -1.66912362e-01,  1.14644572e-01,  1.89966112e-01,\n",
              "        2.71254003e-01,  2.58257776e-01,  3.81286919e-01,  8.81294385e-02,\n",
              "       -4.87863570e-01, -8.06256831e-01, -4.39282686e-01, -1.56655073e-01,\n",
              "       -1.46337435e-01, -1.33928031e-01, -1.06088310e-01, -1.19365245e-01,\n",
              "       -2.67689288e-01,  5.79266176e-02,  1.79898888e-02, -1.95033163e-01,\n",
              "       -2.66867161e-01, -1.96763113e-01, -5.25532126e-01, -3.72584850e-01,\n",
              "        7.70168304e-02,  4.90976900e-01,  9.15575400e-02, -8.01856041e-01,\n",
              "       -2.25136671e-02, -1.41098052e-01,  8.81394371e-02,  7.83488974e-02,\n",
              "        1.60245478e-01,  3.40613797e-02,  2.63251811e-01,  2.31874809e-01,\n",
              "       -1.69281401e-02, -4.67089504e-01, -3.97382945e-01, -2.17243299e-01,\n",
              "       -1.14603512e-01, -1.15532607e-01, -4.84467819e-02, -2.04490364e-01,\n",
              "        6.16101548e-02,  6.46944121e-02,  1.02823965e-01, -7.24079758e-02,\n",
              "       -2.24410400e-01, -8.46203387e-01, -6.30414248e-01, -2.05200106e-01,\n",
              "       -4.86229025e-02,  5.01217663e-01, -1.51622280e-01, -5.09786546e-01,\n",
              "       -6.29853904e-02,  6.34638369e-02,  1.04273707e-01, -6.21691942e-02,\n",
              "        1.71432227e-01,  4.68132570e-02,  3.17685157e-01,  4.37284768e-01,\n",
              "        1.22498676e-01, -6.15432300e-02, -2.67157167e-01, -1.72836557e-01,\n",
              "       -2.89636910e-01, -1.38453439e-01, -2.25644693e-01, -2.42840037e-01,\n",
              "       -2.33045757e-01, -2.24541500e-03, -1.50224686e-01, -4.45537597e-01,\n",
              "       -6.10606492e-01, -8.31181586e-01,  4.59273756e-02, -3.96342352e-02,\n",
              "        7.42779002e-02,  1.44194216e-02, -4.76702094e-01, -2.46472552e-01,\n",
              "       -1.11572020e-01,  6.13880008e-02,  8.36414471e-02,  2.51378808e-02,\n",
              "       -9.51294601e-02,  1.04866639e-01,  2.74552912e-01,  3.67016852e-01,\n",
              "        1.38859019e-01, -5.65810427e-02, -1.46065548e-01, -1.15790494e-01,\n",
              "       -1.43279627e-01, -2.53582478e-01, -2.58942723e-01, -3.60043436e-01,\n",
              "       -1.64242223e-01,  1.65861342e-02,  5.39190620e-02, -5.44847310e-01,\n",
              "       -5.49587071e-01, -5.39318860e-01,  5.49507916e-01,  5.56870103e-02,\n",
              "       -1.29731093e-02,  1.04511417e-02, -6.42252147e-01, -5.16587853e-01,\n",
              "       -7.00767994e-01, -4.24197800e-02,  2.13337183e-01,  1.66039951e-02,\n",
              "        4.35022637e-02,  1.05691262e-01, -3.99757223e-03,  1.87193215e-01,\n",
              "        1.14537291e-01,  2.37378210e-01, -2.45870892e-02, -1.27491921e-01,\n",
              "       -1.75698876e-01, -6.27460405e-02, -2.84896791e-01, -1.61147565e-02,\n",
              "       -4.03543264e-02, -5.06622083e-02, -1.11479491e-01, -5.93979597e-01,\n",
              "       -6.83681786e-01, -1.66925162e-01,  3.12697232e-01,  1.02393422e-02,\n",
              "       -8.04710239e-02, -5.17746918e-02, -7.08288699e-02, -8.72444749e-01,\n",
              "       -1.01199067e+00, -1.34284407e-01,  1.02708481e-01, -1.42192305e-03,\n",
              "       -1.00122709e-02,  1.02884039e-01,  9.77849215e-02,  1.26588464e-01,\n",
              "        3.15919876e-01,  3.22998650e-02,  2.19463166e-02, -1.54906183e-01,\n",
              "       -2.03563765e-01, -2.01208014e-02, -1.77097321e-01, -5.18606782e-01,\n",
              "       -7.78296113e-01, -3.29556614e-01, -9.28069651e-02, -6.15280092e-01,\n",
              "       -5.77997506e-01, -1.03112370e-01, -1.85092106e-01,  4.94856611e-02,\n",
              "        7.04426393e-02, -4.36751395e-02, -4.55599010e-01, -3.92781287e-01,\n",
              "       -3.50697249e-01, -1.23840563e-01, -1.92346439e-01, -4.18604851e-01,\n",
              "       -1.06941268e-01,  6.74743280e-02,  1.04188295e-02, -5.29585481e-02,\n",
              "       -1.67208817e-02, -7.03129023e-02,  7.14090317e-02, -3.38726826e-02,\n",
              "       -3.07251632e-01, -1.35832667e-01, -4.27419126e-01, -4.29400980e-01,\n",
              "       -9.80495334e-01, -1.07820499e+00, -7.91887641e-01, -6.39947236e-01,\n",
              "       -3.05854201e-01, -5.80950603e-02,  3.46429236e-02,  1.85865834e-02,\n",
              "       -3.28414328e-02,  1.99783668e-02, -7.17110485e-02, -4.01982479e-02,\n",
              "       -5.54177701e-01, -1.17341733e+00, -1.39784348e+00, -1.31583083e+00,\n",
              "       -1.36634445e+00, -1.35787606e+00, -1.49592459e+00, -1.38632071e+00,\n",
              "       -1.74459004e+00, -1.79256356e+00, -1.47265959e+00, -1.80086076e+00,\n",
              "       -1.95898151e+00, -1.67504644e+00, -1.53941405e+00, -1.49488032e+00,\n",
              "       -1.02357590e+00, -1.17822576e+00, -7.19593346e-01, -8.39640319e-01,\n",
              "       -5.15188515e-01, -6.99815899e-03,  2.94292755e-02,  6.54430762e-02,\n",
              "        2.71949545e-02, -7.65746683e-02, -1.59580708e-02, -8.85338485e-02,\n",
              "       -4.89244238e-02, -3.80659461e-01, -8.11002493e-01, -9.36028779e-01,\n",
              "       -1.40199971e+00, -1.60581827e+00, -1.54932559e+00, -1.36128223e+00,\n",
              "       -1.31680763e+00, -1.29593289e+00, -1.37214649e+00, -1.34469295e+00,\n",
              "       -1.26993167e+00, -9.69144940e-01, -1.08904696e+00, -5.94388127e-01,\n",
              "       -7.44219422e-01, -9.61969733e-01, -5.28119922e-01, -5.77107251e-01,\n",
              "       -1.06588090e-02, -7.85976946e-02, -1.92537159e-02, -1.09251663e-02,\n",
              "       -2.11250260e-02, -3.68767232e-03,  7.38590136e-02, -7.38757104e-03,\n",
              "        2.47281808e-02, -7.65599608e-02, -2.31004551e-01, -1.77676335e-01,\n",
              "       -3.31328869e-01, -3.88030976e-01, -5.14304817e-01, -4.48074490e-01,\n",
              "       -5.49378514e-01, -4.51833993e-01, -7.11332023e-01, -7.38405585e-01,\n",
              "       -5.05094588e-01, -3.79991293e-01, -3.83246839e-01, -1.89670935e-01,\n",
              "       -2.04915792e-01, -5.28547347e-01, -4.71870035e-01, -4.84288514e-01,\n",
              "       -4.23851609e-03,  8.01447555e-02, -2.60464028e-02, -2.18184590e-02],\n",
              "      dtype=float32)"
            ]
          },
          "metadata": {
            "tags": []
          },
          "execution_count": 82
        }
      ]
    }
  ]
}