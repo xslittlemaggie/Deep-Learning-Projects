{
  "nbformat": 4,
  "nbformat_minor": 0,
  "metadata": {
    "colab": {
      "name": "MNIST_CNN 参数调节.ipynb",
      "version": "0.3.2",
      "provenance": [],
      "collapsed_sections": [],
      "toc_visible": true,
      "include_colab_link": true
    },
    "kernelspec": {
      "name": "python3",
      "display_name": "Python 3"
    },
    "accelerator": "GPU"
  },
  "cells": [
    {
      "cell_type": "markdown",
      "metadata": {
        "id": "view-in-github",
        "colab_type": "text"
      },
      "source": [
        "<a href=\"https://colab.research.google.com/github/xslittlemaggie/Deep-Learning-Projects/blob/master/MNIST_CNN_%E5%9F%BA%E6%9C%AC%E6%A8%A1%E5%9E%8B.ipynb\" target=\"_parent\"><img src=\"https://colab.research.google.com/assets/colab-badge.svg\" alt=\"Open In Colab\"/></a>"
      ]
    },
    {
      "cell_type": "code",
      "metadata": {
        "id": "uWcscijNFffz",
        "colab_type": "code",
        "colab": {
          "base_uri": "https://localhost:8080/",
          "height": 33
        },
        "outputId": "2b3ab423-bf44-4496-dc84-347675272216"
      },
      "source": [
        "import keras\n",
        "from keras.datasets import mnist\n",
        "\n",
        "from keras.models import Sequential\n",
        "\n",
        "from keras.layers import Conv2D, MaxPooling2D, Dropout\n",
        "from keras.layers import Dense, Activation, Flatten\n",
        "\n",
        "from keras.optimizers import SGD, adam, RMSprop\n",
        "\n",
        "from keras.utils import np_utils\n",
        "from keras import backend as K\n",
        "\n",
        "# visualization\n",
        "import matplotlib.pyplot as plt\n"
      ],
      "execution_count": 1,
      "outputs": [
        {
          "output_type": "stream",
          "text": [
            "Using TensorFlow backend.\n"
          ],
          "name": "stderr"
        }
      ]
    },
    {
      "cell_type": "markdown",
      "metadata": {
        "id": "riiPMBkrHBN1",
        "colab_type": "text"
      },
      "source": [
        "## 读取数据"
      ]
    },
    {
      "cell_type": "code",
      "metadata": {
        "id": "0FqOAGrPFg4W",
        "colab_type": "code",
        "colab": {
          "base_uri": "https://localhost:8080/",
          "height": 50
        },
        "outputId": "3f57e162-50ca-4eb2-dc80-abcc8e63e81b"
      },
      "source": [
        "# the data, split between train and test sets\n",
        "(x_train, y_train), (x_test, y_test) = mnist.load_data()"
      ],
      "execution_count": 2,
      "outputs": [
        {
          "output_type": "stream",
          "text": [
            "Downloading data from https://s3.amazonaws.com/img-datasets/mnist.npz\n",
            "11493376/11490434 [==============================] - 2s 0us/step\n"
          ],
          "name": "stdout"
        }
      ]
    },
    {
      "cell_type": "code",
      "metadata": {
        "id": "QqnIxYoE7CI6",
        "colab_type": "code",
        "colab": {
          "base_uri": "https://localhost:8080/",
          "height": 33
        },
        "outputId": "9b6d6981-b85a-40da-f4f4-3c0f986f6e72"
      },
      "source": [
        "x_train.shape\n",
        "y_train.shape"
      ],
      "execution_count": 3,
      "outputs": [
        {
          "output_type": "execute_result",
          "data": {
            "text/plain": [
              "(60000,)"
            ]
          },
          "metadata": {
            "tags": []
          },
          "execution_count": 3
        }
      ]
    },
    {
      "cell_type": "code",
      "metadata": {
        "id": "tVMvPN0kGTOO",
        "colab_type": "code",
        "colab": {}
      },
      "source": [
        "# the data, split between train and test sets\n",
        "if K.image_data_format() == \"channels_first\":\n",
        "  x_train = x_train.reshape(x_train.shape[0], 1, 28, 28)\n",
        "  x_test = x_test.reshape(x_test.shape[0], 1, 28, 28)\n",
        "  input_shape = (1, 28, 28)\n",
        "else:\n",
        "  x_train = x_train.reshape(x_train.shape[0], 28, 28, 1)\n",
        "  x_test = x_test.reshape(x_test.shape[0], 28, 28, 1)\n",
        "  input_shape = (28, 28, 1)\n",
        "\n",
        "x_train = x_train.astype('float32')\n",
        "x_test = x_test.astype('float32')\n",
        "#x_train = x_train/255\n",
        "#x_test = x_test/255\n",
        "\n",
        "# convert class vectors to binary class matrics\n",
        "y_train = np_utils.to_categorical(y_train, 10)\n",
        "y_test = np_utils.to_categorical(y_test, 10)"
      ],
      "execution_count": 0,
      "outputs": []
    },
    {
      "cell_type": "markdown",
      "metadata": {
        "id": "zlgpCqQkHEiP",
        "colab_type": "text"
      },
      "source": [
        "## 模型建立"
      ]
    },
    {
      "cell_type": "code",
      "metadata": {
        "id": "d_fENKHPFlsm",
        "colab_type": "code",
        "outputId": "f14f31c9-2aa6-4948-f0ea-1cd343327105",
        "colab": {
          "base_uri": "https://localhost:8080/",
          "height": 521
        }
      },
      "source": [
        "model = Sequential()\n",
        "\n",
        "# 第一层: CNN\n",
        "model.add(Conv2D(32, kernel_size = (3, 3), input_shape = (28, 28, 1)))\n",
        "\n",
        "# 第二层：激活层\n",
        "model.add(Activation(\"sigmoid\"))\n",
        "\n",
        "# 第三层：池化层\n",
        "model.add(MaxPooling2D(2, 2))\n",
        "\n",
        "\n",
        "# 将图片拉平\n",
        "model.add(Flatten())\n",
        "model.add(Dense(10, activation = \"softmax\"))\n",
        "\n",
        "model.compile(loss = 'mse', optimizer = adam(), metrics = [\"accuracy\"]) # categorical_crossentropy\n",
        "\n",
        "model.summary()"
      ],
      "execution_count": 5,
      "outputs": [
        {
          "output_type": "stream",
          "text": [
            "WARNING:tensorflow:From /usr/local/lib/python3.6/dist-packages/keras/backend/tensorflow_backend.py:66: The name tf.get_default_graph is deprecated. Please use tf.compat.v1.get_default_graph instead.\n",
            "\n",
            "WARNING:tensorflow:From /usr/local/lib/python3.6/dist-packages/keras/backend/tensorflow_backend.py:541: The name tf.placeholder is deprecated. Please use tf.compat.v1.placeholder instead.\n",
            "\n",
            "WARNING:tensorflow:From /usr/local/lib/python3.6/dist-packages/keras/backend/tensorflow_backend.py:4432: The name tf.random_uniform is deprecated. Please use tf.random.uniform instead.\n",
            "\n",
            "WARNING:tensorflow:From /usr/local/lib/python3.6/dist-packages/keras/backend/tensorflow_backend.py:4267: The name tf.nn.max_pool is deprecated. Please use tf.nn.max_pool2d instead.\n",
            "\n",
            "WARNING:tensorflow:From /usr/local/lib/python3.6/dist-packages/keras/optimizers.py:793: The name tf.train.Optimizer is deprecated. Please use tf.compat.v1.train.Optimizer instead.\n",
            "\n",
            "Model: \"sequential_1\"\n",
            "_________________________________________________________________\n",
            "Layer (type)                 Output Shape              Param #   \n",
            "=================================================================\n",
            "conv2d_1 (Conv2D)            (None, 26, 26, 32)        320       \n",
            "_________________________________________________________________\n",
            "activation_1 (Activation)    (None, 26, 26, 32)        0         \n",
            "_________________________________________________________________\n",
            "max_pooling2d_1 (MaxPooling2 (None, 13, 13, 32)        0         \n",
            "_________________________________________________________________\n",
            "flatten_1 (Flatten)          (None, 5408)              0         \n",
            "_________________________________________________________________\n",
            "dense_1 (Dense)              (None, 10)                54090     \n",
            "=================================================================\n",
            "Total params: 54,410\n",
            "Trainable params: 54,410\n",
            "Non-trainable params: 0\n",
            "_________________________________________________________________\n"
          ],
          "name": "stdout"
        }
      ]
    },
    {
      "cell_type": "markdown",
      "metadata": {
        "id": "Vizjjq87HIYA",
        "colab_type": "text"
      },
      "source": [
        "## 模型训练"
      ]
    },
    {
      "cell_type": "code",
      "metadata": {
        "id": "A-bSJ62zFzAV",
        "colab_type": "code",
        "outputId": "818df97d-142d-43ea-9d7a-9291df1105c6",
        "colab": {
          "base_uri": "https://localhost:8080/",
          "height": 1000
        }
      },
      "source": [
        "history_0 = model.fit(x_train, y_train, \n",
        "                   batch_size = 128, \n",
        "                   epochs = 30,\n",
        "                   validation_data = (x_test, y_test))\n",
        "score = model.evaluate(x_train, y_train)\n",
        "print(\"Train score: {}\".format(score[1]))\n",
        "\n",
        "\n",
        "score = model.evaluate(x_test, y_test)\n",
        "print(\"Test score: {}\".format(score[1]))"
      ],
      "execution_count": 6,
      "outputs": [
        {
          "output_type": "stream",
          "text": [
            "WARNING:tensorflow:From /usr/local/lib/python3.6/dist-packages/keras/backend/tensorflow_backend.py:1033: The name tf.assign_add is deprecated. Please use tf.compat.v1.assign_add instead.\n",
            "\n",
            "WARNING:tensorflow:From /usr/local/lib/python3.6/dist-packages/keras/backend/tensorflow_backend.py:1020: The name tf.assign is deprecated. Please use tf.compat.v1.assign instead.\n",
            "\n",
            "Train on 60000 samples, validate on 10000 samples\n",
            "Epoch 1/30\n",
            "60000/60000 [==============================] - 10s 162us/step - loss: 0.0848 - acc: 0.3755 - val_loss: 0.0793 - val_acc: 0.4065\n",
            "Epoch 2/30\n",
            "60000/60000 [==============================] - 4s 59us/step - loss: 0.0677 - acc: 0.4847 - val_loss: 0.0647 - val_acc: 0.5047\n",
            "Epoch 3/30\n",
            "60000/60000 [==============================] - 3s 58us/step - loss: 0.0653 - acc: 0.4973 - val_loss: 0.0645 - val_acc: 0.5035\n",
            "Epoch 4/30\n",
            "60000/60000 [==============================] - 4s 58us/step - loss: 0.0649 - acc: 0.4984 - val_loss: 0.0635 - val_acc: 0.5046\n",
            "Epoch 5/30\n",
            "60000/60000 [==============================] - 4s 59us/step - loss: 0.0647 - acc: 0.4990 - val_loss: 0.0638 - val_acc: 0.5068\n",
            "Epoch 6/30\n",
            "60000/60000 [==============================] - 4s 59us/step - loss: 0.0645 - acc: 0.4998 - val_loss: 0.0652 - val_acc: 0.5058\n",
            "Epoch 7/30\n",
            "60000/60000 [==============================] - 4s 59us/step - loss: 0.0643 - acc: 0.5003 - val_loss: 0.0629 - val_acc: 0.5079\n",
            "Epoch 8/30\n",
            "60000/60000 [==============================] - 4s 58us/step - loss: 0.0641 - acc: 0.5008 - val_loss: 0.0644 - val_acc: 0.5056\n",
            "Epoch 9/30\n",
            "60000/60000 [==============================] - 4s 59us/step - loss: 0.0639 - acc: 0.5012 - val_loss: 0.0627 - val_acc: 0.5073\n",
            "Epoch 10/30\n",
            "60000/60000 [==============================] - 3s 58us/step - loss: 0.0640 - acc: 0.5013 - val_loss: 0.0643 - val_acc: 0.5073\n",
            "Epoch 11/30\n",
            "60000/60000 [==============================] - 3s 58us/step - loss: 0.0639 - acc: 0.5017 - val_loss: 0.0631 - val_acc: 0.5082\n",
            "Epoch 12/30\n",
            "60000/60000 [==============================] - 4s 61us/step - loss: 0.0636 - acc: 0.5018 - val_loss: 0.0625 - val_acc: 0.5083\n",
            "Epoch 13/30\n",
            "60000/60000 [==============================] - 4s 60us/step - loss: 0.0637 - acc: 0.5021 - val_loss: 0.0631 - val_acc: 0.5070\n",
            "Epoch 14/30\n",
            "60000/60000 [==============================] - 4s 59us/step - loss: 0.0636 - acc: 0.5024 - val_loss: 0.0630 - val_acc: 0.5073\n",
            "Epoch 15/30\n",
            "60000/60000 [==============================] - 4s 59us/step - loss: 0.0635 - acc: 0.5024 - val_loss: 0.0623 - val_acc: 0.5080\n",
            "Epoch 16/30\n",
            "60000/60000 [==============================] - 3s 58us/step - loss: 0.0635 - acc: 0.5024 - val_loss: 0.0633 - val_acc: 0.5074\n",
            "Epoch 17/30\n",
            "60000/60000 [==============================] - 4s 59us/step - loss: 0.0634 - acc: 0.5026 - val_loss: 0.0631 - val_acc: 0.5075\n",
            "Epoch 18/30\n",
            "60000/60000 [==============================] - 4s 59us/step - loss: 0.0634 - acc: 0.5027 - val_loss: 0.0624 - val_acc: 0.5083\n",
            "Epoch 19/30\n",
            "60000/60000 [==============================] - 4s 59us/step - loss: 0.0634 - acc: 0.5030 - val_loss: 0.0628 - val_acc: 0.5072\n",
            "Epoch 20/30\n",
            "60000/60000 [==============================] - 4s 59us/step - loss: 0.0633 - acc: 0.5032 - val_loss: 0.0625 - val_acc: 0.5083\n",
            "Epoch 21/30\n",
            "60000/60000 [==============================] - 4s 59us/step - loss: 0.0633 - acc: 0.5029 - val_loss: 0.0627 - val_acc: 0.5078\n",
            "Epoch 22/30\n",
            "60000/60000 [==============================] - 4s 59us/step - loss: 0.0634 - acc: 0.5030 - val_loss: 0.0624 - val_acc: 0.5081\n",
            "Epoch 23/30\n",
            "60000/60000 [==============================] - 4s 59us/step - loss: 0.0632 - acc: 0.5031 - val_loss: 0.0644 - val_acc: 0.5049\n",
            "Epoch 24/30\n",
            "60000/60000 [==============================] - 4s 60us/step - loss: 0.0633 - acc: 0.5034 - val_loss: 0.0630 - val_acc: 0.5073\n",
            "Epoch 25/30\n",
            "60000/60000 [==============================] - 4s 59us/step - loss: 0.0631 - acc: 0.5033 - val_loss: 0.0646 - val_acc: 0.5023\n",
            "Epoch 26/30\n",
            "60000/60000 [==============================] - 4s 59us/step - loss: 0.0633 - acc: 0.5032 - val_loss: 0.0632 - val_acc: 0.5049\n",
            "Epoch 27/30\n",
            "60000/60000 [==============================] - 4s 59us/step - loss: 0.0630 - acc: 0.5040 - val_loss: 0.0627 - val_acc: 0.5064\n",
            "Epoch 28/30\n",
            "60000/60000 [==============================] - 4s 59us/step - loss: 0.0632 - acc: 0.5035 - val_loss: 0.0635 - val_acc: 0.5074\n",
            "Epoch 29/30\n",
            "60000/60000 [==============================] - 4s 59us/step - loss: 0.0632 - acc: 0.5037 - val_loss: 0.0626 - val_acc: 0.5076\n",
            "Epoch 30/30\n",
            "60000/60000 [==============================] - 4s 59us/step - loss: 0.0631 - acc: 0.5036 - val_loss: 0.0627 - val_acc: 0.5077\n",
            "60000/60000 [==============================] - 4s 62us/step\n",
            "Train score: 0.5041166666666667\n",
            "10000/10000 [==============================] - 1s 61us/step\n",
            "Test score: 0.5077\n"
          ],
          "name": "stdout"
        }
      ]
    },
    {
      "cell_type": "code",
      "metadata": {
        "id": "jJGNK0VsMXSG",
        "colab_type": "code",
        "outputId": "390f27a5-10ac-4ff7-b0c1-05795531a2d8",
        "colab": {
          "base_uri": "https://localhost:8080/",
          "height": 523
        }
      },
      "source": [
        "plt.figure(figsize = (12, 8))\n",
        "plt.plot(history_0.history[\"acc\"], color = \"b\")\n",
        "plt.plot(history_0.history[\"val_acc\"], color = \"r\")\n",
        "plt.title(\"The accuracy of Training and testing datasets\", size = 20)\n",
        "plt.xlabel(\"Epochs\", size = 16)\n",
        "plt.ylabel(\"Accuracy\", size = 16)\n",
        "plt.legend([\"Training\",\"Testing\"])\n",
        "plt.show()"
      ],
      "execution_count": 7,
      "outputs": [
        {
          "output_type": "display_data",
          "data": {
            "image/png": "[encoded data removed]",
            "text/plain": [
              "<Figure size 864x576 with 1 Axes>"
            ]
          },
          "metadata": {
            "tags": []
          }
        }
      ]
    },
    {
      "cell_type": "markdown",
      "metadata": {
        "id": "bJKUEC2juuLG",
        "colab_type": "text"
      },
      "source": [
        "# 线性模型"
      ]
    },
    {
      "cell_type": "markdown",
      "metadata": {
        "id": "U_R59a4OvuZd",
        "colab_type": "text"
      },
      "source": [
        "## 1. activation = \"sigmoid\", loss = \"mse\""
      ]
    },
    {
      "cell_type": "code",
      "metadata": {
        "id": "QXkg4OKovD5M",
        "colab_type": "code",
        "colab": {}
      },
      "source": [
        "x_train = x_train/255\n",
        "x_test = x_test/255"
      ],
      "execution_count": 0,
      "outputs": []
    },
    {
      "cell_type": "code",
      "metadata": {
        "id": "0EKBnBhHuxky",
        "colab_type": "code",
        "colab": {
          "base_uri": "https://localhost:8080/",
          "height": 190
        },
        "outputId": "60acd176-c15e-4273-89f3-6e959d083df1"
      },
      "source": [
        "model = Sequential()\n",
        "#model.add(Dense(units = input_shape = (28, 28, 1)))\n",
        "model.add(Dense(10, input_dim=784, activation='sigmoid'))\n",
        "model.compile(loss = 'mean_squared_error', optimizer = adam(), metrics = [\"accuracy\"]) # 'sgd'\n",
        "#SGD(lr=0.01, momentum=0.9, nesterov=True)\n",
        "model.summary()"
      ],
      "execution_count": 9,
      "outputs": [
        {
          "output_type": "stream",
          "text": [
            "Model: \"sequential_2\"\n",
            "_________________________________________________________________\n",
            "Layer (type)                 Output Shape              Param #   \n",
            "=================================================================\n",
            "dense_2 (Dense)              (None, 10)                7850      \n",
            "=================================================================\n",
            "Total params: 7,850\n",
            "Trainable params: 7,850\n",
            "Non-trainable params: 0\n",
            "_________________________________________________________________\n"
          ],
          "name": "stdout"
        }
      ]
    },
    {
      "cell_type": "code",
      "metadata": {
        "id": "ROV4mmjVvEsv",
        "colab_type": "code",
        "colab": {}
      },
      "source": [
        "x_train_new = x_train[:].reshape((-1, 28 * 28))\n",
        "y_train_new = y_train[:]\n",
        "x_test_new = x_test[:].reshape((-1, 28 * 28))\n",
        "y_test_new = y_test[:]"
      ],
      "execution_count": 0,
      "outputs": []
    },
    {
      "cell_type": "code",
      "metadata": {
        "id": "nZNTY4lVvN4J",
        "colab_type": "code",
        "colab": {
          "base_uri": "https://localhost:8080/",
          "height": 795
        },
        "outputId": "d4aa829f-83f8-4f2e-e562-3813b6639bb6"
      },
      "source": [
        "history_linear = model.fit(x_train_new, y_train_new, \n",
        "                   batch_size = 64, \n",
        "                   epochs = 20,\n",
        "                   validation_data = (x_test_new, y_test_new))\n",
        "score = model.evaluate(x_train_new, y_train_new)\n",
        "print(\"Train score: {}\".format(score[1]))\n",
        "\n",
        "\n",
        "score = model.evaluate(x_test_new, y_test_new)\n",
        "print(\"Test score: {}\".format(score[1]))"
      ],
      "execution_count": 11,
      "outputs": [
        {
          "output_type": "stream",
          "text": [
            "Train on 60000 samples, validate on 10000 samples\n",
            "Epoch 1/20\n",
            "60000/60000 [==============================] - 4s 59us/step - loss: 0.0399 - acc: 0.7945 - val_loss: 0.0234 - val_acc: 0.8914\n",
            "Epoch 2/20\n",
            "60000/60000 [==============================] - 3s 56us/step - loss: 0.0219 - acc: 0.8945 - val_loss: 0.0194 - val_acc: 0.9085\n",
            "Epoch 3/20\n",
            "60000/60000 [==============================] - 3s 56us/step - loss: 0.0194 - acc: 0.9038 - val_loss: 0.0179 - val_acc: 0.9138\n",
            "Epoch 4/20\n",
            "60000/60000 [==============================] - 3s 56us/step - loss: 0.0182 - acc: 0.9088 - val_loss: 0.0170 - val_acc: 0.9163\n",
            "Epoch 5/20\n",
            "60000/60000 [==============================] - 3s 57us/step - loss: 0.0174 - acc: 0.9122 - val_loss: 0.0164 - val_acc: 0.9175\n",
            "Epoch 6/20\n",
            "60000/60000 [==============================] - 3s 56us/step - loss: 0.0168 - acc: 0.9146 - val_loss: 0.0161 - val_acc: 0.9194\n",
            "Epoch 7/20\n",
            "60000/60000 [==============================] - 3s 56us/step - loss: 0.0164 - acc: 0.9176 - val_loss: 0.0157 - val_acc: 0.9195\n",
            "Epoch 8/20\n",
            "60000/60000 [==============================] - 3s 56us/step - loss: 0.0160 - acc: 0.9185 - val_loss: 0.0155 - val_acc: 0.9201\n",
            "Epoch 9/20\n",
            "60000/60000 [==============================] - 3s 56us/step - loss: 0.0158 - acc: 0.9203 - val_loss: 0.0152 - val_acc: 0.9233\n",
            "Epoch 10/20\n",
            "60000/60000 [==============================] - 3s 56us/step - loss: 0.0155 - acc: 0.9212 - val_loss: 0.0151 - val_acc: 0.9235\n",
            "Epoch 11/20\n",
            "60000/60000 [==============================] - 3s 56us/step - loss: 0.0153 - acc: 0.9221 - val_loss: 0.0149 - val_acc: 0.9235\n",
            "Epoch 12/20\n",
            "60000/60000 [==============================] - 3s 56us/step - loss: 0.0152 - acc: 0.9229 - val_loss: 0.0149 - val_acc: 0.9234\n",
            "Epoch 13/20\n",
            "60000/60000 [==============================] - 3s 55us/step - loss: 0.0150 - acc: 0.9231 - val_loss: 0.0148 - val_acc: 0.9236\n",
            "Epoch 14/20\n",
            "60000/60000 [==============================] - 3s 56us/step - loss: 0.0149 - acc: 0.9243 - val_loss: 0.0147 - val_acc: 0.9243\n",
            "Epoch 15/20\n",
            "60000/60000 [==============================] - 3s 57us/step - loss: 0.0148 - acc: 0.9244 - val_loss: 0.0146 - val_acc: 0.9247\n",
            "Epoch 16/20\n",
            "60000/60000 [==============================] - 4s 58us/step - loss: 0.0147 - acc: 0.9246 - val_loss: 0.0146 - val_acc: 0.9251\n",
            "Epoch 17/20\n",
            "60000/60000 [==============================] - 3s 58us/step - loss: 0.0146 - acc: 0.9254 - val_loss: 0.0145 - val_acc: 0.9252\n",
            "Epoch 18/20\n",
            "60000/60000 [==============================] - 3s 56us/step - loss: 0.0145 - acc: 0.9253 - val_loss: 0.0145 - val_acc: 0.9240\n",
            "Epoch 19/20\n",
            "60000/60000 [==============================] - 3s 54us/step - loss: 0.0144 - acc: 0.9263 - val_loss: 0.0144 - val_acc: 0.9254\n",
            "Epoch 20/20\n",
            "60000/60000 [==============================] - 3s 55us/step - loss: 0.0144 - acc: 0.9259 - val_loss: 0.0145 - val_acc: 0.9245\n",
            "60000/60000 [==============================] - 3s 44us/step\n",
            "Train score: 0.9274\n",
            "10000/10000 [==============================] - 0s 44us/step\n",
            "Test score: 0.9245\n"
          ],
          "name": "stdout"
        }
      ]
    },
    {
      "cell_type": "code",
      "metadata": {
        "id": "gSR3DmejvkOo",
        "colab_type": "code",
        "colab": {
          "base_uri": "https://localhost:8080/",
          "height": 523
        },
        "outputId": "c1ee332e-794c-4fe9-eea9-22572223f058"
      },
      "source": [
        "plt.figure(figsize = (12, 8))\n",
        "plt.plot(history_linear.history[\"acc\"], color = \"b\")\n",
        "plt.plot(history_linear.history[\"val_acc\"], color = \"r\")\n",
        "plt.title(\"The accuracy of Training and testing datasets\", size = 20)\n",
        "plt.xlabel(\"Epochs\", size = 16)\n",
        "plt.ylabel(\"Accuracy\", size = 16)\n",
        "plt.legend([\"Training\",\"Testing\"])\n",
        "plt.show()"
      ],
      "execution_count": 12,
      "outputs": [
        {
          "output_type": "display_data",
          "data": {
            "image/png": "[encoded data removed]",
            "text/plain": [
              "<Figure size 864x576 with 1 Axes>"
            ]
          },
          "metadata": {
            "tags": []
          }
        }
      ]
    },
    {
      "cell_type": "markdown",
      "metadata": {
        "id": "XU7CkezXvxVA",
        "colab_type": "text"
      },
      "source": [
        "## 2. activation = \"softmax\", loss = \"mse\""
      ]
    },
    {
      "cell_type": "code",
      "metadata": {
        "id": "cD5IHznVv3zW",
        "colab_type": "code",
        "colab": {
          "base_uri": "https://localhost:8080/",
          "height": 190
        },
        "outputId": "35a1f60b-3bfd-4434-ef5d-f47b74a51bfa"
      },
      "source": [
        "model = Sequential()\n",
        "#model.add(Dense(units = input_shape = (28, 28, 1)))\n",
        "model.add(Dense(10, input_dim=784, activation='softmax'))\n",
        "model.compile(loss = 'mean_squared_error', optimizer = adam(), metrics = [\"accuracy\"]) # 'sgd'\n",
        "#SGD(lr=0.01, momentum=0.9, nesterov=True)\n",
        "model.summary()"
      ],
      "execution_count": 13,
      "outputs": [
        {
          "output_type": "stream",
          "text": [
            "Model: \"sequential_3\"\n",
            "_________________________________________________________________\n",
            "Layer (type)                 Output Shape              Param #   \n",
            "=================================================================\n",
            "dense_3 (Dense)              (None, 10)                7850      \n",
            "=================================================================\n",
            "Total params: 7,850\n",
            "Trainable params: 7,850\n",
            "Non-trainable params: 0\n",
            "_________________________________________________________________\n"
          ],
          "name": "stdout"
        }
      ]
    },
    {
      "cell_type": "code",
      "metadata": {
        "id": "V7WxCcq2v9Bl",
        "colab_type": "code",
        "colab": {
          "base_uri": "https://localhost:8080/",
          "height": 795
        },
        "outputId": "473f84ec-42ab-451d-bce7-97d53e97ae3b"
      },
      "source": [
        "history_linear_1 = model.fit(x_train_new, y_train_new, \n",
        "                   batch_size = 64, \n",
        "                   epochs = 20,\n",
        "                   validation_data = (x_test_new, y_test_new))\n",
        "score = model.evaluate(x_train_new, y_train_new)\n",
        "print(\"Train score: {}\".format(score[1]))\n",
        "\n",
        "\n",
        "score = model.evaluate(x_test_new, y_test_new)\n",
        "print(\"Test score: {}\".format(score[1]))"
      ],
      "execution_count": 14,
      "outputs": [
        {
          "output_type": "stream",
          "text": [
            "Train on 60000 samples, validate on 10000 samples\n",
            "Epoch 1/20\n",
            "60000/60000 [==============================] - 4s 60us/step - loss: 0.0230 - acc: 0.8623 - val_loss: 0.0141 - val_acc: 0.9138\n",
            "Epoch 2/20\n",
            "60000/60000 [==============================] - 3s 57us/step - loss: 0.0137 - acc: 0.9138 - val_loss: 0.0124 - val_acc: 0.9221\n",
            "Epoch 3/20\n",
            "60000/60000 [==============================] - 3s 58us/step - loss: 0.0125 - acc: 0.9222 - val_loss: 0.0118 - val_acc: 0.9253\n",
            "Epoch 4/20\n",
            "60000/60000 [==============================] - 3s 57us/step - loss: 0.0118 - acc: 0.9266 - val_loss: 0.0114 - val_acc: 0.9271\n",
            "Epoch 5/20\n",
            "60000/60000 [==============================] - 3s 57us/step - loss: 0.0114 - acc: 0.9284 - val_loss: 0.0112 - val_acc: 0.9284\n",
            "Epoch 6/20\n",
            "60000/60000 [==============================] - 3s 58us/step - loss: 0.0111 - acc: 0.9303 - val_loss: 0.0110 - val_acc: 0.9308\n",
            "Epoch 7/20\n",
            "60000/60000 [==============================] - 3s 57us/step - loss: 0.0108 - acc: 0.9326 - val_loss: 0.0109 - val_acc: 0.9303\n",
            "Epoch 8/20\n",
            "60000/60000 [==============================] - 3s 57us/step - loss: 0.0106 - acc: 0.9333 - val_loss: 0.0109 - val_acc: 0.9309\n",
            "Epoch 9/20\n",
            "60000/60000 [==============================] - 3s 58us/step - loss: 0.0105 - acc: 0.9347 - val_loss: 0.0108 - val_acc: 0.9300\n",
            "Epoch 10/20\n",
            "60000/60000 [==============================] - 3s 58us/step - loss: 0.0103 - acc: 0.9358 - val_loss: 0.0107 - val_acc: 0.9320\n",
            "Epoch 11/20\n",
            "60000/60000 [==============================] - 3s 57us/step - loss: 0.0102 - acc: 0.9366 - val_loss: 0.0108 - val_acc: 0.9294\n",
            "Epoch 12/20\n",
            "60000/60000 [==============================] - 3s 58us/step - loss: 0.0101 - acc: 0.9374 - val_loss: 0.0107 - val_acc: 0.9302\n",
            "Epoch 13/20\n",
            "60000/60000 [==============================] - 3s 57us/step - loss: 0.0100 - acc: 0.9376 - val_loss: 0.0107 - val_acc: 0.9308\n",
            "Epoch 14/20\n",
            "60000/60000 [==============================] - 3s 57us/step - loss: 0.0099 - acc: 0.9383 - val_loss: 0.0105 - val_acc: 0.9324\n",
            "Epoch 15/20\n",
            "60000/60000 [==============================] - 4s 59us/step - loss: 0.0098 - acc: 0.9388 - val_loss: 0.0107 - val_acc: 0.9315\n",
            "Epoch 16/20\n",
            "60000/60000 [==============================] - 3s 58us/step - loss: 0.0097 - acc: 0.9397 - val_loss: 0.0106 - val_acc: 0.9314\n",
            "Epoch 17/20\n",
            "60000/60000 [==============================] - 3s 57us/step - loss: 0.0097 - acc: 0.9403 - val_loss: 0.0106 - val_acc: 0.9323\n",
            "Epoch 18/20\n",
            "60000/60000 [==============================] - 3s 57us/step - loss: 0.0096 - acc: 0.9408 - val_loss: 0.0107 - val_acc: 0.9317\n",
            "Epoch 19/20\n",
            "60000/60000 [==============================] - 3s 57us/step - loss: 0.0096 - acc: 0.9407 - val_loss: 0.0106 - val_acc: 0.9328\n",
            "Epoch 20/20\n",
            "60000/60000 [==============================] - 3s 57us/step - loss: 0.0095 - acc: 0.9414 - val_loss: 0.0106 - val_acc: 0.9323\n",
            "60000/60000 [==============================] - 3s 44us/step\n",
            "Train score: 0.9434\n",
            "10000/10000 [==============================] - 0s 44us/step\n",
            "Test score: 0.9323\n"
          ],
          "name": "stdout"
        }
      ]
    },
    {
      "cell_type": "code",
      "metadata": {
        "id": "N-Rto0fBwIL3",
        "colab_type": "code",
        "colab": {
          "base_uri": "https://localhost:8080/",
          "height": 523
        },
        "outputId": "fba24fd4-070a-4b98-91e8-7fb4201b25a6"
      },
      "source": [
        "plt.figure(figsize = (12, 8))\n",
        "plt.plot(history_linear_1.history[\"acc\"], color = \"b\")\n",
        "plt.plot(history_linear_1.history[\"val_acc\"], color = \"r\")\n",
        "plt.title(\"The accuracy of Training and testing datasets\", size = 20)\n",
        "plt.xlabel(\"Epochs\", size = 16)\n",
        "plt.ylabel(\"Accuracy\", size = 16)\n",
        "plt.legend([\"Training\",\"Testing\"])\n",
        "plt.show()"
      ],
      "execution_count": 15,
      "outputs": [
        {
          "output_type": "display_data",
          "data": {
            "image/png": "[encoded data removed]",
            "text/plain": [
              "<Figure size 864x576 with 1 Axes>"
            ]
          },
          "metadata": {
            "tags": []
          }
        }
      ]
    },
    {
      "cell_type": "markdown",
      "metadata": {
        "id": "JNYYURxHwXA_",
        "colab_type": "text"
      },
      "source": [
        "## 3. activation = \"softmax\", loss = \"categorical_crossentropy\""
      ]
    },
    {
      "cell_type": "code",
      "metadata": {
        "id": "Rg9EzfUKwr3l",
        "colab_type": "code",
        "colab": {
          "base_uri": "https://localhost:8080/",
          "height": 190
        },
        "outputId": "10e030fe-0180-4959-9cd7-0b147197d375"
      },
      "source": [
        "model = Sequential()\n",
        "#model.add(Dense(units = input_shape = (28, 28, 1)))\n",
        "model.add(Dense(10, input_dim=784, activation='softmax'))\n",
        "model.compile(loss = 'categorical_crossentropy', optimizer = adam(), metrics = [\"accuracy\"]) # 'sgd'\n",
        "#SGD(lr=0.01, momentum=0.9, nesterov=True)\n",
        "model.summary()"
      ],
      "execution_count": 16,
      "outputs": [
        {
          "output_type": "stream",
          "text": [
            "Model: \"sequential_4\"\n",
            "_________________________________________________________________\n",
            "Layer (type)                 Output Shape              Param #   \n",
            "=================================================================\n",
            "dense_4 (Dense)              (None, 10)                7850      \n",
            "=================================================================\n",
            "Total params: 7,850\n",
            "Trainable params: 7,850\n",
            "Non-trainable params: 0\n",
            "_________________________________________________________________\n"
          ],
          "name": "stdout"
        }
      ]
    },
    {
      "cell_type": "code",
      "metadata": {
        "id": "MCTqamQfwxu5",
        "colab_type": "code",
        "colab": {
          "base_uri": "https://localhost:8080/",
          "height": 866
        },
        "outputId": "b13ca708-5887-4ca8-a84d-15343ee9cb5e"
      },
      "source": [
        "history_linear_2 = model.fit(x_train_new, y_train_new, \n",
        "                   batch_size = 64, \n",
        "                   epochs = 20,\n",
        "                   validation_data = (x_test_new, y_test_new))\n",
        "score = model.evaluate(x_train_new, y_train_new)\n",
        "print(\"Train score: {}\".format(score[1]))\n",
        "\n",
        "\n",
        "score = model.evaluate(x_test_new, y_test_new)\n",
        "print(\"Test score: {}\".format(score[1]))"
      ],
      "execution_count": 17,
      "outputs": [
        {
          "output_type": "stream",
          "text": [
            "WARNING:tensorflow:From /usr/local/lib/python3.6/dist-packages/tensorflow/python/ops/math_grad.py:1250: add_dispatch_support.<locals>.wrapper (from tensorflow.python.ops.array_ops) is deprecated and will be removed in a future version.\n",
            "Instructions for updating:\n",
            "Use tf.where in 2.0, which has the same broadcast rule as np.where\n",
            "Train on 60000 samples, validate on 10000 samples\n",
            "Epoch 1/20\n",
            "60000/60000 [==============================] - 4s 70us/step - loss: 0.5554 - acc: 0.8577 - val_loss: 0.3360 - val_acc: 0.9074\n",
            "Epoch 2/20\n",
            "60000/60000 [==============================] - 4s 63us/step - loss: 0.3251 - acc: 0.9101 - val_loss: 0.2958 - val_acc: 0.9167\n",
            "Epoch 3/20\n",
            "60000/60000 [==============================] - 4s 65us/step - loss: 0.2961 - acc: 0.9173 - val_loss: 0.2800 - val_acc: 0.9215\n",
            "Epoch 4/20\n",
            "60000/60000 [==============================] - 4s 64us/step - loss: 0.2822 - acc: 0.9211 - val_loss: 0.2718 - val_acc: 0.9232\n",
            "Epoch 5/20\n",
            "60000/60000 [==============================] - 4s 67us/step - loss: 0.2741 - acc: 0.9229 - val_loss: 0.2716 - val_acc: 0.9247\n",
            "Epoch 6/20\n",
            "60000/60000 [==============================] - 4s 65us/step - loss: 0.2680 - acc: 0.9249 - val_loss: 0.2699 - val_acc: 0.9238\n",
            "Epoch 7/20\n",
            "60000/60000 [==============================] - 4s 65us/step - loss: 0.2637 - acc: 0.9263 - val_loss: 0.2671 - val_acc: 0.9255\n",
            "Epoch 8/20\n",
            "60000/60000 [==============================] - 4s 65us/step - loss: 0.2603 - acc: 0.9280 - val_loss: 0.2653 - val_acc: 0.9255\n",
            "Epoch 9/20\n",
            "60000/60000 [==============================] - 4s 68us/step - loss: 0.2569 - acc: 0.9287 - val_loss: 0.2657 - val_acc: 0.9260\n",
            "Epoch 10/20\n",
            "60000/60000 [==============================] - 4s 68us/step - loss: 0.2546 - acc: 0.9296 - val_loss: 0.2637 - val_acc: 0.9268\n",
            "Epoch 11/20\n",
            "60000/60000 [==============================] - 4s 66us/step - loss: 0.2525 - acc: 0.9300 - val_loss: 0.2641 - val_acc: 0.9267\n",
            "Epoch 12/20\n",
            "60000/60000 [==============================] - 4s 65us/step - loss: 0.2506 - acc: 0.9304 - val_loss: 0.2641 - val_acc: 0.9265\n",
            "Epoch 13/20\n",
            "60000/60000 [==============================] - 4s 64us/step - loss: 0.2494 - acc: 0.9309 - val_loss: 0.2651 - val_acc: 0.9256\n",
            "Epoch 14/20\n",
            "60000/60000 [==============================] - 4s 64us/step - loss: 0.2476 - acc: 0.9317 - val_loss: 0.2640 - val_acc: 0.9266\n",
            "Epoch 15/20\n",
            "60000/60000 [==============================] - 4s 65us/step - loss: 0.2465 - acc: 0.9316 - val_loss: 0.2642 - val_acc: 0.9275\n",
            "Epoch 16/20\n",
            "60000/60000 [==============================] - 4s 65us/step - loss: 0.2448 - acc: 0.9323 - val_loss: 0.2643 - val_acc: 0.9278\n",
            "Epoch 17/20\n",
            "60000/60000 [==============================] - 4s 67us/step - loss: 0.2442 - acc: 0.9327 - val_loss: 0.2630 - val_acc: 0.9273\n",
            "Epoch 18/20\n",
            "60000/60000 [==============================] - 4s 67us/step - loss: 0.2430 - acc: 0.9329 - val_loss: 0.2640 - val_acc: 0.9279\n",
            "Epoch 19/20\n",
            "60000/60000 [==============================] - 4s 64us/step - loss: 0.2421 - acc: 0.9336 - val_loss: 0.2638 - val_acc: 0.9278\n",
            "Epoch 20/20\n",
            "60000/60000 [==============================] - 4s 65us/step - loss: 0.2415 - acc: 0.9335 - val_loss: 0.2665 - val_acc: 0.9272\n",
            "60000/60000 [==============================] - 3s 47us/step\n",
            "Train score: 0.9342666666666667\n",
            "10000/10000 [==============================] - 0s 47us/step\n",
            "Test score: 0.9272\n"
          ],
          "name": "stdout"
        }
      ]
    },
    {
      "cell_type": "code",
      "metadata": {
        "id": "hFs_iAR-w0Fm",
        "colab_type": "code",
        "colab": {}
      },
      "source": [
        "plt.figure(figsize = (12, 8))\n",
        "plt.plot(history_linear_2.history[\"acc\"], color = \"b\")\n",
        "plt.plot(history_linear_2.history[\"val_acc\"], color = \"r\")\n",
        "plt.title(\"The accuracy of Training and testing datasets\", size = 20)\n",
        "plt.xlabel(\"Epochs\", size = 16)\n",
        "plt.ylabel(\"Accuracy\", size = 16)\n",
        "plt.legend([\"Training\",\"Testing\"])\n",
        "plt.show()"
      ],
      "execution_count": 0,
      "outputs": []
    },
    {
      "cell_type": "markdown",
      "metadata": {
        "id": "bG2M6IwAdt8k",
        "colab_type": "text"
      },
      "source": [
        "# 参数调节"
      ]
    },
    {
      "cell_type": "markdown",
      "metadata": {
        "id": "Pa0bGBwo1qPQ",
        "colab_type": "text"
      },
      "source": [
        "## 调参 1. 数据归一化"
      ]
    },
    {
      "cell_type": "code",
      "metadata": {
        "id": "tdqokUA_gYSw",
        "colab_type": "code",
        "colab": {}
      },
      "source": [
        "x_train = x_train/255\n",
        "x_test = x_test/255"
      ],
      "execution_count": 0,
      "outputs": []
    },
    {
      "cell_type": "code",
      "metadata": {
        "id": "K8yMnUAMCW2P",
        "colab_type": "code",
        "colab": {}
      },
      "source": [
        "model = Sequential()\n",
        "\n",
        "# 第一层: CNN\n",
        "model.add(Conv2D(32, kernel_size = (3, 3), input_shape = (28, 28, 1)))\n",
        "\n",
        "# 第二层：激活层\n",
        "model.add(Activation(\"sigmoid\"))\n",
        "\n",
        "# 第三层：池化层\n",
        "model.add(MaxPooling2D(2, 2))\n",
        "\n",
        "\n",
        "# 将图片拉平\n",
        "model.add(Flatten())\n",
        "model.add(Dense(10, activation = \"softmax\"))\n",
        "\n",
        "model.compile(loss = 'mse', optimizer = adam(), metrics = [\"accuracy\"]) # categorical_crossentropy\n",
        "\n",
        "model.summary()"
      ],
      "execution_count": 0,
      "outputs": []
    },
    {
      "cell_type": "markdown",
      "metadata": {
        "id": "o7-3PcsReAlT",
        "colab_type": "text"
      },
      "source": [
        "## 调参 2. 增加网络的深度"
      ]
    },
    {
      "cell_type": "markdown",
      "metadata": {
        "id": "7T4fp_B9hj2b",
        "colab_type": "text"
      },
      "source": [
        "## 调参 3: 激励函数 "
      ]
    },
    {
      "cell_type": "markdown",
      "metadata": {
        "id": "F0kLP79Ilo67",
        "colab_type": "text"
      },
      "source": [
        "## 调参 4: 目标函数"
      ]
    },
    {
      "cell_type": "markdown",
      "metadata": {
        "id": "Uci32GtWlvNJ",
        "colab_type": "text"
      },
      "source": [
        "## 调参 5: 优化函数"
      ]
    },
    {
      "cell_type": "markdown",
      "metadata": {
        "id": "E-lqGGAJlzrZ",
        "colab_type": "text"
      },
      "source": [
        "## 调参 6: 批归一化（BN）"
      ]
    },
    {
      "cell_type": "markdown",
      "metadata": {
        "id": "2TUSnTcTl8HJ",
        "colab_type": "text"
      },
      "source": [
        "## 调参 7：Dropout"
      ]
    },
    {
      "cell_type": "markdown",
      "metadata": {
        "id": "Y-Jvle17mB6u",
        "colab_type": "text"
      },
      "source": [
        "## 调参 8_1： 卷积核个数， 大小"
      ]
    },
    {
      "cell_type": "markdown",
      "metadata": {
        "id": "hgNQFS2fEF-9",
        "colab_type": "text"
      },
      "source": [
        "## 调参 8_2： 卷积核个数， 大小, 更深"
      ]
    },
    {
      "cell_type": "markdown",
      "metadata": {
        "id": "EWX_YcMkmIcq",
        "colab_type": "text"
      },
      "source": [
        "## 调参 9： batch size"
      ]
    },
    {
      "cell_type": "markdown",
      "metadata": {
        "id": "WIV1-W-BKvqc",
        "colab_type": "text"
      },
      "source": [
        "## 调参 9： batch size, 更多次迭代"
      ]
    }
  ]
}