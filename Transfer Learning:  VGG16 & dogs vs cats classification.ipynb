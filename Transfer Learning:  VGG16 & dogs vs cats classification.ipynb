{
  "nbformat": 4,
  "nbformat_minor": 0,
  "metadata": {
    "colab": {
      "name": "Save & load pre-trained model.ipynb",
      "version": "0.3.2",
      "provenance": [],
      "collapsed_sections": [],
      "toc_visible": true,
      "machine_shape": "hm",
      "include_colab_link": true
    },
    "kernelspec": {
      "name": "python3",
      "display_name": "Python 3"
    },
    "accelerator": "GPU"
  },
  "cells": [
    {
      "cell_type": "markdown",
      "metadata": {
        "id": "view-in-github",
        "colab_type": "text"
      },
      "source": [
        "<a href=\"https://colab.research.google.com/github/xslittlemaggie/Deep-Learning-Projects/blob/master/Transfer%20Learning%3A%20%20VGG16%20%26%20dogs%20vs%20cats%20classification.ipynb\" target=\"_parent\"><img src=\"https://colab.research.google.com/assets/colab-badge.svg\" alt=\"Open In Colab\"/></a>"
      ]
    },
    {
      "cell_type": "markdown",
      "metadata": {
        "id": "HNGAZlOFH5Rc",
        "colab_type": "text"
      },
      "source": [
        "<h1><center>Transfer Learning:  VGG16 & dogs vs cats classification </center></h1>"
      ]
    },
    {
      "cell_type": "markdown",
      "metadata": {
        "id": "EVEixmhu9pKj",
        "colab_type": "text"
      },
      "source": [
        "## Step 0: Import libraries"
      ]
    },
    {
      "cell_type": "code",
      "metadata": {
        "id": "40Gvuauo9a4h",
        "colab_type": "code",
        "outputId": "1c226663-b252-4488-9aa5-8cee81b25418",
        "colab": {
          "base_uri": "https://localhost:8080/",
          "height": 35
        }
      },
      "source": [
        "import keras\n",
        "from keras.datasets import cifar10\n",
        "from keras.preprocessing.image import ImageDataGenerator\n",
        "from keras.models import Sequential\n",
        "from keras.layers import Dense, Dropout, Activation, Flatten, GlobalAveragePooling2D\n",
        "from keras.layers import Conv2D, MaxPooling2D\n",
        "from keras.layers.normalization import BatchNormalization\n",
        "from keras.optimizers import SGD, adam, Adadelta\n",
        "from keras.callbacks import ModelCheckpoint\n",
        "from keras import backend as K\n",
        "from keras.utils import np_utils\n",
        "\n",
        "from keras.applications.resnet50 import ResNet50, preprocess_input\n",
        "from keras.applications.vgg16 import VGG16, preprocess_input\n",
        "\n",
        "\n",
        "from keras.applications.imagenet_utils import decode_predictions\n",
        "\n",
        "from keras.preprocessing.image import ImageDataGenerator\n",
        "\n",
        "import numpy as np\n",
        "import random\n",
        "% matplotlib inline\n",
        "import matplotlib.pyplot as plt\n",
        "\n",
        "# Confusion matrix result\n",
        "from sklearn.metrics import classification_report, confusion_matrix\n",
        "\n",
        "# visualizating of confusion matrix\n",
        "import seaborn as sn\n",
        "import pandas as pd\n",
        "\n",
        "# upload new images\n",
        "import urllib.request\n",
        "import os\n",
        "import cv2\n",
        "import glob"
      ],
      "execution_count": 0,
      "outputs": [
        {
          "output_type": "stream",
          "text": [
            "Using TensorFlow backend.\n"
          ],
          "name": "stderr"
        }
      ]
    },
    {
      "cell_type": "markdown",
      "metadata": {
        "id": "Qq0zLf1whlZC",
        "colab_type": "text"
      },
      "source": [
        "## Step 1: Load data from Kaggle"
      ]
    },
    {
      "cell_type": "code",
      "metadata": {
        "id": "IiPAyXrBAlMO",
        "colab_type": "code",
        "colab": {}
      },
      "source": [
        "def load_data_from_kaggle():\n",
        "  os.environ['KAGGLE_USERNAME'] = \"maggie\" # username from the json file \n",
        "  os.environ['KAGGLE_KEY'] = \"7adfc6c4e6c5eec087031fbb7397aee\" # key from the json file (This key is incorrect5)\n",
        "  \n",
        "  !pip install -q kaggle\n",
        "  !kaggle datasets list -s dogs-vs-cats  # It will list the 20 datasets including \"dogs-vs-cats\" from kaggle\n",
        "  !kaggle datasets download -d biaiscience/dogs-vs-cats -p /content/\n",
        "  !unzip -q /content/dogs-vs-cats.zip -d /content/dogs-vs-cats/\n",
        "  !unzip -q /content/dogs-vs-cats/train.zip -d /content/dogs-vs-cats/\n",
        "  !unzip -q /content/dogs-vs-cats/test.zip -d /content/dogs-vs-cats/\n",
        "  \n",
        "  # splits pictures into cats and dogs files for train dataset\n",
        "  os.mkdir(\"/content/dogs-vs-cats/train/cats\")\n",
        "  os.mkdir(\"/content/dogs-vs-cats/train/dogs\")\n",
        "\n",
        "  # create validation file to store validation dataset\n",
        "  os.mkdir(\"/content/dogs-vs-cats/validation\")\n",
        "\n",
        "  os.mkdir(\"/content/dogs-vs-cats/validation/cats\")\n",
        "  os.mkdir(\"/content/dogs-vs-cats/validation/dogs\")\n",
        "\n",
        "  # create subfile from test to store testing dataset\n",
        "  os.mkdir(\"/content/dogs-vs-cats/test/unlabelled\")\n",
        "  \n",
        "  # move all pictures labelled \"cat\" to \"/cat/s\" file and all picture labelled \"dog\" to \"/dogs/\" file in training\n",
        "  pathes = glob.glob('/content/dogs-vs-cats/train/*.jpg')\n",
        "  for path in pathes:\n",
        "    head, tail = os.path.split(path)\n",
        "    if tail[:3] == \"cat\":\n",
        "      new_path = head + \"/cats/\" + tail  \n",
        "    else:\n",
        "      new_path = head + \"/dogs/\" + tail\n",
        "    os.rename(path, new_path)\n",
        "    \n",
        "  # move all pictures from testing file to test subfile \"/unlabelled/\" for predicting later\n",
        "  pathes = glob.glob('/content/dogs-vs-cats/test/*.jpg')\n",
        "  for path in pathes:\n",
        "    head, tail = os.path.split(path)\n",
        "    new_path = head + \"/unlabelled/\" + tail\n",
        "    os.rename(path, new_path)\n",
        "    \n",
        "  # cats in validation data\n",
        "  cats_pathes = glob.glob('/content/dogs-vs-cats/train/cats/*.jpg') \n",
        "  val_cats_idx = random.sample((range(12500)), k = 1250)\n",
        "  val_cats = [cats_pathes[idx] for idx in val_cats_idx]\n",
        "\n",
        "  for path in val_cats:\n",
        "    head, tail = os.path.split(path)  \n",
        "    new_path = head[:-10] + \"validation/cats/\" + tail \n",
        "    os.rename(path, new_path)  \n",
        "\n",
        "  # dogs in validation data\n",
        "  dogs_pathes = glob.glob('/content/dogs-vs-cats/train/dogs/*.jpg') \n",
        "  val_dogs_idx = random.sample((range(12500)), k = 1250)\n",
        "  val_dogs = [dogs_pathes[idx] for idx in val_dogs_idx]\n",
        "\n",
        "  for path in val_dogs:\n",
        "    head, tail = os.path.split(path)  \n",
        "    new_path = head[:-10] + \"validation/dogs/\" + tail \n",
        "    os.rename(path, new_path)  \n",
        "    \n",
        "  DATADIR_train = \"/content/dogs-vs-cats/train\"\n",
        "  DATADIR_validation = \"/content/dogs-vs-cats/validation\"\n",
        "  DATADIR_test = \"/content/dogs-vs-cats/test\"\n",
        "  \n",
        "  # train file\n",
        "  train_dogs_dir = os.path.join(DATADIR_train, \"dogs\")\n",
        "  train_cats_dir = os.path.join(DATADIR_train, \"cats\")\n",
        "  train_dog_fnames = os.listdir(train_dogs_dir)\n",
        "  train_cat_fnames = os.listdir(train_cats_dir)\n",
        "\n",
        "  print(\"Images from Training file:\")\n",
        "  print(\"cats:\", train_cat_fnames[:5])\n",
        "  print(\"dogs:\", train_dog_fnames[:5])\n",
        "  print('total training cat images :', len(train_cat_fnames))\n",
        "  print('total training dog images :', len(train_dog_fnames ))\n",
        "  print()\n",
        "\n",
        "  # validation file\n",
        "  validation_dogs_dir = os.path.join(DATADIR_validation, \"dogs\")\n",
        "  validation_cats_dir = os.path.join(DATADIR_validation, \"cats\")\n",
        "  validation_dog_fnames = os.listdir(validation_dogs_dir)\n",
        "  validation_cat_fnames = os.listdir(validation_cats_dir)\n",
        "\n",
        "  print(\"Images from validation file:\")\n",
        "  print(validation_cat_fnames[:5])\n",
        "  print(validation_dog_fnames[:5])\n",
        "  print('total validation cat images :', len(validation_cat_fnames))\n",
        "  print('total validation dog images :', len(validation_dog_fnames ))\n",
        "  print()\n",
        "\n",
        "  # test file\n",
        "  #pathes_test = glob.glob('/content/dogs-vs-cats/test/*.jpg')\n",
        "  test_dir = os.path.join(DATADIR_test, \"unlabelled\")\n",
        "  test_fnames = os.listdir(test_dir)\n",
        "  print(\"Images from test file:\")\n",
        "  print(test_fnames[:5])\n",
        "  print('total test images :', len(test_fnames))\n"
      ],
      "execution_count": 0,
      "outputs": []
    },
    {
      "cell_type": "code",
      "metadata": {
        "id": "-F1LywvuB8Xw",
        "colab_type": "code",
        "outputId": "3ba27981-5ace-4b01-9f7b-f59cc020f8b5",
        "colab": {
          "base_uri": "https://localhost:8080/",
          "height": 728
        }
      },
      "source": [
        "load_data_from_kaggle()"
      ],
      "execution_count": 0,
      "outputs": [
        {
          "output_type": "stream",
          "text": [
            "ref                                                   title                                               size  lastUpdated          downloadCount  \n",
            "----------------------------------------------------  -------------------------------------------------  -----  -------------------  -------------  \n",
            "nafisur/dogs-vs-cats                                  Dogs_vs_cats                                       217MB  2018-04-25 08:01:49           1485  \n",
            "biaiscience/dogs-vs-cats                              Dogs vs Cats                                       814MB  2017-12-05 14:03:33           1576  \n",
            "dhirensk/cats-vs-dogs-training8000test2000            Cats vs Dogs Training8000Test2000                  218MB  2018-11-21 09:38:07            121  \n",
            "kanwalinder/cats-vs-dogs-redux-transfer-features      Cats vs Dogs Redux Transfer Features                 1GB  2018-08-22 00:46:31             68  \n",
            "prasunroy/natural-images                              Natural Images                                     171MB  2018-08-11 18:24:11           2939  \n",
            "tongpython/cat-and-dog                                Cat and Dog                                        217MB  2018-04-26 10:56:50           7125  \n",
            "salader/dogs-vs-cats                                  dogs vs cats                                       545MB  2018-11-30 19:31:13            374  \n",
            "lucassj/dogs-vs-cats-train-validadion-and-evaluation  Dogs vs. Cats -- train, validadion and evaluation  550MB  2018-09-26 20:10:24            338  \n",
            "mauricefreund/cats-vs-dogs                            cats_vs_dogs                                         6MB  2017-11-06 13:28:08            272  \n",
            "pocahontas1010/dogs-vs-cats-for-pytorch               Dogs vs Cats for Pytorch                           545MB  2018-12-03 21:25:20            124  \n",
            "salader/dogsvscats                                    dogsVScats                                         545MB  2018-11-30 16:21:15             69  \n",
            "pmigdal/alien-vs-predator-images                      Alien vs. Predator images                            7MB  2018-09-27 14:18:46            591  \n",
            "selfishgene/youtube-faces-with-facial-keypoints       YouTube Faces With Facial Keypoints                 10GB  2017-11-14 05:46:08           2815  \n",
            "arnaudeq/cats-vs-dogs-1000                            Cats Vs Dogs (1000)                                 90MB  2018-11-22 20:49:53             33  \n",
            "arnaudeq/cats-vs-dogs-5000                            Cats Vs Dogs (5000)                                268MB  2018-11-22 21:57:23             21  \n",
            "a1041134926/cats-vs-dogs                              cats vs dogs                                        27MB  2018-07-26 08:34:44             26  \n",
            "hellokugo/dogs-vs-cats                                dogs vs cats                                       211KB  2018-02-24 03:54:49             45  \n",
            "ekkus93/keras-models                                  Keras Models                                         1GB  2017-06-21 12:53:13            399  \n",
            "muhammedfathi/pickled-cats-vs-dogs                    Pickled cats vs dogs                                57MB  2018-11-12 20:34:51             22  \n",
            "zyayoung/dogs-vs-cats-features-under-resnet50         Dogs vs Cats features under resnet50               252MB  2018-02-10 09:21:48             34  \n",
            "Downloading dogs-vs-cats.zip to /content\n",
            " 98% 798M/814M [00:06<00:00, 172MB/s]\n",
            "100% 814M/814M [00:06<00:00, 132MB/s]\n",
            "Images from Training file:\n",
            "cats: ['cat.11159.jpg', 'cat.12258.jpg', 'cat.5275.jpg', 'cat.11680.jpg', 'cat.6469.jpg']\n",
            "dogs: ['dog.7962.jpg', 'dog.8763.jpg', 'dog.10789.jpg', 'dog.6428.jpg', 'dog.8724.jpg']\n",
            "total training cat images : 11250\n",
            "total training dog images : 11250\n",
            "\n",
            "Images from validation file:\n",
            "['cat.261.jpg', 'cat.5624.jpg', 'cat.8649.jpg', 'cat.5833.jpg', 'cat.1932.jpg']\n",
            "['dog.9991.jpg', 'dog.6698.jpg', 'dog.2916.jpg', 'dog.8346.jpg', 'dog.11912.jpg']\n",
            "total validation cat images : 1250\n",
            "total validation dog images : 1250\n",
            "\n",
            "Images from test file:\n",
            "['2007.jpg', '2427.jpg', '8896.jpg', '12356.jpg', '12358.jpg']\n",
            "total test images : 12500\n"
          ],
          "name": "stdout"
        }
      ]
    },
    {
      "cell_type": "markdown",
      "metadata": {
        "id": "sDYp_pBrEhEq",
        "colab_type": "text"
      },
      "source": [
        "## Step 2: Use image generator to preprocess images"
      ]
    },
    {
      "cell_type": "code",
      "metadata": {
        "id": "FaLCl4laB8RY",
        "colab_type": "code",
        "outputId": "868fada4-2897-4353-b28f-759169b2bb87",
        "colab": {
          "base_uri": "https://localhost:8080/",
          "height": 86
        }
      },
      "source": [
        "train_datagen = ImageDataGenerator(\n",
        "    rescale=1./255,\n",
        "    shear_range = 0.2, \n",
        "    zoom_range = 0.2,    \n",
        "    horizontal_flip = True)  # augumentation to add noise to data: shear_range = 0.2, zoom_range = 0.2, horizontal_flip = True\n",
        "\n",
        "val_datagen = ImageDataGenerator(\n",
        "    rescale=1./255,\n",
        "    shear_range = 0.2, \n",
        "    zoom_range = 0.2,    \n",
        "    horizontal_flip = True)\n",
        "\n",
        "\n",
        "test_datagen = ImageDataGenerator(rescale=1./255)\n",
        "\n",
        "batch_size = 100\n",
        "\n",
        "train_generator = train_datagen.flow_from_directory(\"/content/dogs-vs-cats/train\", class_mode = \"binary\", target_size = (150, 150), batch_size = batch_size)\n",
        "validation_generator = val_datagen.flow_from_directory(\"/content/dogs-vs-cats/validation\", class_mode = 'binary', target_size = (150, 150), batch_size = batch_size)\n",
        "test_generator = test_datagen.flow_from_directory(\"/content/dogs-vs-cats/test\", target_size = (150, 150), batch_size = batch_size, class_mode = None, shuffle = False )\n",
        "\n",
        "batchX, batchy = train_generator.next()\n",
        "print(\"Batch shape = {}, min = {}, max = {}\".format(batchX.shape, batchX.min(), batchX.max()))"
      ],
      "execution_count": 0,
      "outputs": [
        {
          "output_type": "stream",
          "text": [
            "Found 22500 images belonging to 2 classes.\n",
            "Found 2500 images belonging to 2 classes.\n",
            "Found 12500 images belonging to 1 classes.\n",
            "Batch shape = (100, 150, 150, 3), min = 0.0, max = 1.0\n"
          ],
          "name": "stdout"
        }
      ]
    },
    {
      "cell_type": "markdown",
      "metadata": {
        "id": "oFCJKp0A37-Q",
        "colab_type": "text"
      },
      "source": [
        "## Step 3: Visualize the training data (~~~)"
      ]
    },
    {
      "cell_type": "markdown",
      "metadata": {
        "id": "L3ndYi2VJw-4",
        "colab_type": "text"
      },
      "source": [
        "## Step 4: Import the VGG16 Model to implement transfer learning"
      ]
    },
    {
      "cell_type": "markdown",
      "metadata": {
        "id": "ynoum0vncwvK",
        "colab_type": "text"
      },
      "source": [
        "The dataset of dogs vs cats is small (814 MB) and similar to the VGG16 dataset. So, we will remove the fully connected layers of the pre-trained network near the end. To implement this, we set 'include_top = False', while loading the ResNet50 model."
      ]
    },
    {
      "cell_type": "markdown",
      "metadata": {
        "id": "pChSxUblzQ8O",
        "colab_type": "text"
      },
      "source": [
        "#### 4.1 import the VGG16 model"
      ]
    },
    {
      "cell_type": "code",
      "metadata": {
        "id": "w0q0HsfYtSKS",
        "colab_type": "code",
        "outputId": "543cba66-01c6-4dc6-a2b1-571ef488439e",
        "colab": {
          "base_uri": "https://localhost:8080/",
          "height": 1000
        }
      },
      "source": [
        "vgg16 = VGG16(weights='imagenet', include_top=False, input_shape=(150, 150, 3))\n",
        "                          \n",
        "\n",
        "# freeze the weights from ResNet50 Model\n",
        "for layer in vgg16.layers:   \n",
        "  layer.trainable = False\n",
        "\n",
        "vgg16.summary()"
      ],
      "execution_count": 0,
      "outputs": [
        {
          "output_type": "stream",
          "text": [
            "WARNING: Logging before flag parsing goes to stderr.\n",
            "W0804 17:20:58.372192 139643376539520 deprecation_wrapper.py:119] From /usr/local/lib/python3.6/dist-packages/keras/backend/tensorflow_backend.py:74: The name tf.get_default_graph is deprecated. Please use tf.compat.v1.get_default_graph instead.\n",
            "\n",
            "W0804 17:20:58.416874 139643376539520 deprecation_wrapper.py:119] From /usr/local/lib/python3.6/dist-packages/keras/backend/tensorflow_backend.py:517: The name tf.placeholder is deprecated. Please use tf.compat.v1.placeholder instead.\n",
            "\n",
            "W0804 17:20:58.425017 139643376539520 deprecation_wrapper.py:119] From /usr/local/lib/python3.6/dist-packages/keras/backend/tensorflow_backend.py:4138: The name tf.random_uniform is deprecated. Please use tf.random.uniform instead.\n",
            "\n",
            "W0804 17:20:58.474182 139643376539520 deprecation_wrapper.py:119] From /usr/local/lib/python3.6/dist-packages/keras/backend/tensorflow_backend.py:3976: The name tf.nn.max_pool is deprecated. Please use tf.nn.max_pool2d instead.\n",
            "\n"
          ],
          "name": "stderr"
        },
        {
          "output_type": "stream",
          "text": [
            "Downloading data from https://github.com/fchollet/deep-learning-models/releases/download/v0.1/vgg16_weights_tf_dim_ordering_tf_kernels_notop.h5\n",
            "58892288/58889256 [==============================] - 2s 0us/step\n"
          ],
          "name": "stdout"
        },
        {
          "output_type": "stream",
          "text": [
            "W0804 17:21:01.857450 139643376539520 deprecation_wrapper.py:119] From /usr/local/lib/python3.6/dist-packages/keras/backend/tensorflow_backend.py:174: The name tf.get_default_session is deprecated. Please use tf.compat.v1.get_default_session instead.\n",
            "\n",
            "W0804 17:21:01.859088 139643376539520 deprecation_wrapper.py:119] From /usr/local/lib/python3.6/dist-packages/keras/backend/tensorflow_backend.py:181: The name tf.ConfigProto is deprecated. Please use tf.compat.v1.ConfigProto instead.\n",
            "\n"
          ],
          "name": "stderr"
        },
        {
          "output_type": "stream",
          "text": [
            "_________________________________________________________________\n",
            "Layer (type)                 Output Shape              Param #   \n",
            "=================================================================\n",
            "input_1 (InputLayer)         (None, 150, 150, 3)       0         \n",
            "_________________________________________________________________\n",
            "block1_conv1 (Conv2D)        (None, 150, 150, 64)      1792      \n",
            "_________________________________________________________________\n",
            "block1_conv2 (Conv2D)        (None, 150, 150, 64)      36928     \n",
            "_________________________________________________________________\n",
            "block1_pool (MaxPooling2D)   (None, 75, 75, 64)        0         \n",
            "_________________________________________________________________\n",
            "block2_conv1 (Conv2D)        (None, 75, 75, 128)       73856     \n",
            "_________________________________________________________________\n",
            "block2_conv2 (Conv2D)        (None, 75, 75, 128)       147584    \n",
            "_________________________________________________________________\n",
            "block2_pool (MaxPooling2D)   (None, 37, 37, 128)       0         \n",
            "_________________________________________________________________\n",
            "block3_conv1 (Conv2D)        (None, 37, 37, 256)       295168    \n",
            "_________________________________________________________________\n",
            "block3_conv2 (Conv2D)        (None, 37, 37, 256)       590080    \n",
            "_________________________________________________________________\n",
            "block3_conv3 (Conv2D)        (None, 37, 37, 256)       590080    \n",
            "_________________________________________________________________\n",
            "block3_pool (MaxPooling2D)   (None, 18, 18, 256)       0         \n",
            "_________________________________________________________________\n",
            "block4_conv1 (Conv2D)        (None, 18, 18, 512)       1180160   \n",
            "_________________________________________________________________\n",
            "block4_conv2 (Conv2D)        (None, 18, 18, 512)       2359808   \n",
            "_________________________________________________________________\n",
            "block4_conv3 (Conv2D)        (None, 18, 18, 512)       2359808   \n",
            "_________________________________________________________________\n",
            "block4_pool (MaxPooling2D)   (None, 9, 9, 512)         0         \n",
            "_________________________________________________________________\n",
            "block5_conv1 (Conv2D)        (None, 9, 9, 512)         2359808   \n",
            "_________________________________________________________________\n",
            "block5_conv2 (Conv2D)        (None, 9, 9, 512)         2359808   \n",
            "_________________________________________________________________\n",
            "block5_conv3 (Conv2D)        (None, 9, 9, 512)         2359808   \n",
            "_________________________________________________________________\n",
            "block5_pool (MaxPooling2D)   (None, 4, 4, 512)         0         \n",
            "=================================================================\n",
            "Total params: 14,714,688\n",
            "Trainable params: 0\n",
            "Non-trainable params: 14,714,688\n",
            "_________________________________________________________________\n"
          ],
          "name": "stdout"
        }
      ]
    },
    {
      "cell_type": "markdown",
      "metadata": {
        "id": "EsWUnI-kx-2v",
        "colab_type": "text"
      },
      "source": [
        "#### 4.2. Get familar with how the original VGG16 look like"
      ]
    },
    {
      "cell_type": "code",
      "metadata": {
        "id": "ucrzPH2AZ7GR",
        "colab_type": "code",
        "outputId": "e2ba4437-aba8-43a7-def3-f84b79b0ff73",
        "colab": {
          "base_uri": "https://localhost:8080/",
          "height": 987
        }
      },
      "source": [
        "vgg16_old = VGG16(weights='imagenet')\n",
        "vgg16_old.summary()"
      ],
      "execution_count": 0,
      "outputs": [
        {
          "output_type": "stream",
          "text": [
            "Downloading data from https://github.com/fchollet/deep-learning-models/releases/download/v0.1/vgg16_weights_tf_dim_ordering_tf_kernels.h5\n",
            "553467904/553467096 [==============================] - 17s 0us/step\n",
            "_________________________________________________________________\n",
            "Layer (type)                 Output Shape              Param #   \n",
            "=================================================================\n",
            "input_2 (InputLayer)         (None, 224, 224, 3)       0         \n",
            "_________________________________________________________________\n",
            "block1_conv1 (Conv2D)        (None, 224, 224, 64)      1792      \n",
            "_________________________________________________________________\n",
            "block1_conv2 (Conv2D)        (None, 224, 224, 64)      36928     \n",
            "_________________________________________________________________\n",
            "block1_pool (MaxPooling2D)   (None, 112, 112, 64)      0         \n",
            "_________________________________________________________________\n",
            "block2_conv1 (Conv2D)        (None, 112, 112, 128)     73856     \n",
            "_________________________________________________________________\n",
            "block2_conv2 (Conv2D)        (None, 112, 112, 128)     147584    \n",
            "_________________________________________________________________\n",
            "block2_pool (MaxPooling2D)   (None, 56, 56, 128)       0         \n",
            "_________________________________________________________________\n",
            "block3_conv1 (Conv2D)        (None, 56, 56, 256)       295168    \n",
            "_________________________________________________________________\n",
            "block3_conv2 (Conv2D)        (None, 56, 56, 256)       590080    \n",
            "_________________________________________________________________\n",
            "block3_conv3 (Conv2D)        (None, 56, 56, 256)       590080    \n",
            "_________________________________________________________________\n",
            "block3_pool (MaxPooling2D)   (None, 28, 28, 256)       0         \n",
            "_________________________________________________________________\n",
            "block4_conv1 (Conv2D)        (None, 28, 28, 512)       1180160   \n",
            "_________________________________________________________________\n",
            "block4_conv2 (Conv2D)        (None, 28, 28, 512)       2359808   \n",
            "_________________________________________________________________\n",
            "block4_conv3 (Conv2D)        (None, 28, 28, 512)       2359808   \n",
            "_________________________________________________________________\n",
            "block4_pool (MaxPooling2D)   (None, 14, 14, 512)       0         \n",
            "_________________________________________________________________\n",
            "block5_conv1 (Conv2D)        (None, 14, 14, 512)       2359808   \n",
            "_________________________________________________________________\n",
            "block5_conv2 (Conv2D)        (None, 14, 14, 512)       2359808   \n",
            "_________________________________________________________________\n",
            "block5_conv3 (Conv2D)        (None, 14, 14, 512)       2359808   \n",
            "_________________________________________________________________\n",
            "block5_pool (MaxPooling2D)   (None, 7, 7, 512)         0         \n",
            "_________________________________________________________________\n",
            "flatten (Flatten)            (None, 25088)             0         \n",
            "_________________________________________________________________\n",
            "fc1 (Dense)                  (None, 4096)              102764544 \n",
            "_________________________________________________________________\n",
            "fc2 (Dense)                  (None, 4096)              16781312  \n",
            "_________________________________________________________________\n",
            "predictions (Dense)          (None, 1000)              4097000   \n",
            "=================================================================\n",
            "Total params: 138,357,544\n",
            "Trainable params: 138,357,544\n",
            "Non-trainable params: 0\n",
            "_________________________________________________________________\n"
          ],
          "name": "stdout"
        }
      ]
    },
    {
      "cell_type": "markdown",
      "metadata": {
        "id": "nHSoSP80IdkW",
        "colab_type": "text"
      },
      "source": [
        "#### 4.3 Model:  VGG16 model (include_top = False) + Fully connected layer and some other layers\n"
      ]
    },
    {
      "cell_type": "code",
      "metadata": {
        "id": "c70W5QKbIc1J",
        "colab_type": "code",
        "outputId": "57e5f49c-2b84-45be-80ac-60ebf10a89c4",
        "colab": {
          "base_uri": "https://localhost:8080/",
          "height": 625
        }
      },
      "source": [
        "model = Sequential([\n",
        "    vgg16,\n",
        "    \n",
        "    Flatten(),\n",
        "    Dense(64),\n",
        "    Activation('relu'),\n",
        "    BatchNormalization(),\n",
        "    Dropout(0.5),\n",
        "    \n",
        "    Dense(64),\n",
        "    Activation('relu'),\n",
        "    BatchNormalization(),\n",
        "    Dropout(0.5),\n",
        "    Dense(1),\n",
        "    Activation('sigmoid')\n",
        "])\n",
        "\n",
        "\n",
        "filepath=\"weights.VGG16_transfer_learning.hdf5\"\n",
        "checkpoint = ModelCheckpoint(filepath, monitor='val_acc', verbose=1, save_best_only=True, mode='max')\n",
        "callbacks_list = [checkpoint]\n",
        "\n",
        "#model.load_weights(\"weights.VGG16_transfer_learning.hdf5\")\n",
        "\n",
        "model.summary()\n"
      ],
      "execution_count": 0,
      "outputs": [
        {
          "output_type": "stream",
          "text": [
            "W0804 17:21:24.714944 139643376539520 deprecation.py:506] From /usr/local/lib/python3.6/dist-packages/keras/backend/tensorflow_backend.py:3445: calling dropout (from tensorflow.python.ops.nn_ops) with keep_prob is deprecated and will be removed in a future version.\n",
            "Instructions for updating:\n",
            "Please use `rate` instead of `keep_prob`. Rate should be set to `rate = 1 - keep_prob`.\n"
          ],
          "name": "stderr"
        },
        {
          "output_type": "stream",
          "text": [
            "_________________________________________________________________\n",
            "Layer (type)                 Output Shape              Param #   \n",
            "=================================================================\n",
            "vgg16 (Model)                (None, 4, 4, 512)         14714688  \n",
            "_________________________________________________________________\n",
            "flatten_1 (Flatten)          (None, 8192)              0         \n",
            "_________________________________________________________________\n",
            "dense_1 (Dense)              (None, 16)                131088    \n",
            "_________________________________________________________________\n",
            "activation_1 (Activation)    (None, 16)                0         \n",
            "_________________________________________________________________\n",
            "batch_normalization_1 (Batch (None, 16)                64        \n",
            "_________________________________________________________________\n",
            "dropout_1 (Dropout)          (None, 16)                0         \n",
            "_________________________________________________________________\n",
            "dense_2 (Dense)              (None, 64)                1088      \n",
            "_________________________________________________________________\n",
            "activation_2 (Activation)    (None, 64)                0         \n",
            "_________________________________________________________________\n",
            "batch_normalization_2 (Batch (None, 64)                256       \n",
            "_________________________________________________________________\n",
            "dropout_2 (Dropout)          (None, 64)                0         \n",
            "_________________________________________________________________\n",
            "dense_3 (Dense)              (None, 1)                 65        \n",
            "_________________________________________________________________\n",
            "activation_3 (Activation)    (None, 1)                 0         \n",
            "=================================================================\n",
            "Total params: 14,847,249\n",
            "Trainable params: 132,401\n",
            "Non-trainable params: 14,714,848\n",
            "_________________________________________________________________\n"
          ],
          "name": "stdout"
        }
      ]
    },
    {
      "cell_type": "code",
      "metadata": {
        "id": "pEb9InYsLoUG",
        "colab_type": "code",
        "outputId": "7b67bd04-bdaf-4f4e-94f4-38ce7f57fc18",
        "colab": {
          "base_uri": "https://localhost:8080/",
          "height": 124
        }
      },
      "source": [
        "model.compile(loss = 'binary_crossentropy', \n",
        "              optimizer = \"adam\", \n",
        "              metrics = ['accuracy'])"
      ],
      "execution_count": 0,
      "outputs": [
        {
          "output_type": "stream",
          "text": [
            "W0804 17:21:25.039095 139643376539520 deprecation_wrapper.py:119] From /usr/local/lib/python3.6/dist-packages/keras/optimizers.py:790: The name tf.train.Optimizer is deprecated. Please use tf.compat.v1.train.Optimizer instead.\n",
            "\n",
            "W0804 17:21:25.068569 139643376539520 deprecation.py:323] From /usr/local/lib/python3.6/dist-packages/tensorflow/python/ops/nn_impl.py:180: add_dispatch_support.<locals>.wrapper (from tensorflow.python.ops.array_ops) is deprecated and will be removed in a future version.\n",
            "Instructions for updating:\n",
            "Use tf.where in 2.0, which has the same broadcast rule as np.where\n"
          ],
          "name": "stderr"
        }
      ]
    },
    {
      "cell_type": "markdown",
      "metadata": {
        "id": "WaKT7BFV0Nma",
        "colab_type": "text"
      },
      "source": [
        "#### 4.4 Saving weights for future use to save computation"
      ]
    },
    {
      "cell_type": "code",
      "metadata": {
        "id": "f_QnNhJpz3aN",
        "colab_type": "code",
        "colab": {}
      },
      "source": [
        "# saving weights\n",
        "fname = \"weights_transfer_vgg16.hdf5\"\n",
        "model.save_weights(fname, overwrite = True)"
      ],
      "execution_count": 0,
      "outputs": []
    },
    {
      "cell_type": "code",
      "metadata": {
        "id": "_3IZIJukz_r0",
        "colab_type": "code",
        "colab": {}
      },
      "source": [
        "# loading weights\n",
        "fname = \"weights_transfer_vgg16.hdf5\"\n",
        "model.save_weights(fname)"
      ],
      "execution_count": 0,
      "outputs": []
    },
    {
      "cell_type": "markdown",
      "metadata": {
        "id": "XADoO-zhRaVk",
        "colab_type": "text"
      },
      "source": [
        "## Step 5: Fitting/Training the model"
      ]
    },
    {
      "cell_type": "code",
      "metadata": {
        "id": "bzt2P42JLoeh",
        "colab_type": "code",
        "outputId": "4f09f0cb-dce2-47d0-d737-7611b8607c3e",
        "colab": {
          "base_uri": "https://localhost:8080/",
          "height": 1000
        }
      },
      "source": [
        "steps_per_epoch = train_generator.n//train_generator.batch_size \n",
        "validation_steps = validation_generator.n//validation_generator.batch_size\n",
        "\n",
        "history = model.fit_generator(\n",
        "            train_generator,\n",
        "            steps_per_epoch = steps_per_epoch,\n",
        "            validation_data = validation_generator,\n",
        "            validation_steps = validation_steps,\n",
        "            epochs=100)"
      ],
      "execution_count": 0,
      "outputs": [
        {
          "output_type": "stream",
          "text": [
            "Epoch 1/100\n",
            "225/225 [==============================] - 192s 852ms/step - loss: 0.4296 - acc: 0.8041 - val_loss: 0.2779 - val_acc: 0.8808\n",
            "Epoch 2/100\n",
            "225/225 [==============================] - 181s 804ms/step - loss: 0.2996 - acc: 0.8746 - val_loss: 0.3334 - val_acc: 0.8568\n",
            "Epoch 3/100\n",
            "225/225 [==============================] - 179s 797ms/step - loss: 0.2785 - acc: 0.8860 - val_loss: 0.2703 - val_acc: 0.8820\n",
            "Epoch 4/100\n",
            "225/225 [==============================] - 178s 791ms/step - loss: 0.2628 - acc: 0.8927 - val_loss: 0.2705 - val_acc: 0.8840\n",
            "Epoch 5/100\n",
            "225/225 [==============================] - 179s 795ms/step - loss: 0.2511 - acc: 0.8997 - val_loss: 0.2361 - val_acc: 0.8924\n",
            "Epoch 6/100\n",
            "225/225 [==============================] - 179s 797ms/step - loss: 0.2478 - acc: 0.8989 - val_loss: 0.2397 - val_acc: 0.8988\n",
            "Epoch 7/100\n",
            "225/225 [==============================] - 179s 798ms/step - loss: 0.2412 - acc: 0.9026 - val_loss: 0.2298 - val_acc: 0.9032\n",
            "Epoch 8/100\n",
            "225/225 [==============================] - 179s 796ms/step - loss: 0.2368 - acc: 0.9045 - val_loss: 0.2396 - val_acc: 0.8984\n",
            "Epoch 9/100\n",
            "225/225 [==============================] - 179s 794ms/step - loss: 0.2291 - acc: 0.9077 - val_loss: 0.2365 - val_acc: 0.8940\n",
            "Epoch 10/100\n",
            "225/225 [==============================] - 177s 789ms/step - loss: 0.2345 - acc: 0.9059 - val_loss: 0.3174 - val_acc: 0.8672\n",
            "Epoch 11/100\n",
            "225/225 [==============================] - 180s 800ms/step - loss: 0.2291 - acc: 0.9095 - val_loss: 0.2383 - val_acc: 0.8956\n",
            "Epoch 12/100\n",
            "225/225 [==============================] - 181s 806ms/step - loss: 0.2245 - acc: 0.9092 - val_loss: 0.2382 - val_acc: 0.8980\n",
            "Epoch 13/100\n",
            "225/225 [==============================] - 182s 807ms/step - loss: 0.2234 - acc: 0.9109 - val_loss: 0.2409 - val_acc: 0.8996\n",
            "Epoch 14/100\n",
            "225/225 [==============================] - 178s 791ms/step - loss: 0.2217 - acc: 0.9123 - val_loss: 0.2344 - val_acc: 0.9032\n",
            "Epoch 15/100\n",
            "225/225 [==============================] - 180s 799ms/step - loss: 0.2209 - acc: 0.9107 - val_loss: 0.2703 - val_acc: 0.8808\n",
            "Epoch 16/100\n",
            "225/225 [==============================] - 178s 793ms/step - loss: 0.2164 - acc: 0.9135 - val_loss: 0.3279 - val_acc: 0.8516\n",
            "Epoch 17/100\n",
            "225/225 [==============================] - 180s 798ms/step - loss: 0.2186 - acc: 0.9150 - val_loss: 0.3250 - val_acc: 0.8576\n",
            "Epoch 18/100\n",
            "225/225 [==============================] - 179s 797ms/step - loss: 0.2132 - acc: 0.9148 - val_loss: 0.2308 - val_acc: 0.8976\n",
            "Epoch 19/100\n",
            "225/225 [==============================] - 179s 796ms/step - loss: 0.2179 - acc: 0.9134 - val_loss: 0.2364 - val_acc: 0.9008\n",
            "Epoch 20/100\n",
            "225/225 [==============================] - 179s 796ms/step - loss: 0.2114 - acc: 0.9180 - val_loss: 0.2370 - val_acc: 0.9008\n",
            "Epoch 21/100\n",
            "225/225 [==============================] - 177s 786ms/step - loss: 0.2152 - acc: 0.9141 - val_loss: 0.2392 - val_acc: 0.8988\n",
            "Epoch 22/100\n",
            "225/225 [==============================] - 178s 791ms/step - loss: 0.2173 - acc: 0.9168 - val_loss: 0.2749 - val_acc: 0.8856\n",
            "Epoch 23/100\n",
            "225/225 [==============================] - 180s 800ms/step - loss: 0.2168 - acc: 0.9142 - val_loss: 0.2547 - val_acc: 0.8892\n",
            "Epoch 24/100\n",
            "225/225 [==============================] - 180s 801ms/step - loss: 0.2071 - acc: 0.9181 - val_loss: 0.2269 - val_acc: 0.9056\n",
            "Epoch 25/100\n",
            "225/225 [==============================] - 179s 796ms/step - loss: 0.2153 - acc: 0.9139 - val_loss: 0.2273 - val_acc: 0.9088\n",
            "Epoch 26/100\n",
            "225/225 [==============================] - 178s 793ms/step - loss: 0.2087 - acc: 0.9191 - val_loss: 0.2295 - val_acc: 0.9028\n",
            "Epoch 27/100\n",
            "225/225 [==============================] - 178s 792ms/step - loss: 0.2115 - acc: 0.9172 - val_loss: 0.2409 - val_acc: 0.9016\n",
            "Epoch 28/100\n",
            "225/225 [==============================] - 178s 792ms/step - loss: 0.2050 - acc: 0.9201 - val_loss: 0.2908 - val_acc: 0.8732\n",
            "Epoch 29/100\n",
            "225/225 [==============================] - 181s 802ms/step - loss: 0.2089 - acc: 0.9186 - val_loss: 0.2435 - val_acc: 0.8988\n",
            "Epoch 30/100\n",
            "225/225 [==============================] - 179s 793ms/step - loss: 0.2094 - acc: 0.9172 - val_loss: 0.2839 - val_acc: 0.8852\n",
            "Epoch 31/100\n",
            "225/225 [==============================] - 182s 807ms/step - loss: 0.2069 - acc: 0.9169 - val_loss: 0.2406 - val_acc: 0.8976\n",
            "Epoch 32/100\n",
            "225/225 [==============================] - 179s 794ms/step - loss: 0.2043 - acc: 0.9191 - val_loss: 0.2268 - val_acc: 0.8988\n",
            "Epoch 33/100\n",
            "225/225 [==============================] - 181s 802ms/step - loss: 0.2059 - acc: 0.9188 - val_loss: 0.2450 - val_acc: 0.8964\n",
            "Epoch 34/100\n",
            "225/225 [==============================] - 179s 797ms/step - loss: 0.2013 - acc: 0.9206 - val_loss: 0.3151 - val_acc: 0.8808\n",
            "Epoch 35/100\n",
            "225/225 [==============================] - 180s 799ms/step - loss: 0.2018 - acc: 0.9196 - val_loss: 0.2513 - val_acc: 0.8980\n",
            "Epoch 36/100\n",
            "225/225 [==============================] - 179s 796ms/step - loss: 0.2024 - acc: 0.9200 - val_loss: 0.2422 - val_acc: 0.8940\n",
            "Epoch 37/100\n",
            "225/225 [==============================] - 181s 804ms/step - loss: 0.2042 - acc: 0.9191 - val_loss: 0.2292 - val_acc: 0.8996\n",
            "Epoch 38/100\n",
            "225/225 [==============================] - 180s 799ms/step - loss: 0.2002 - acc: 0.9206 - val_loss: 0.2308 - val_acc: 0.9040\n",
            "Epoch 39/100\n",
            "225/225 [==============================] - 182s 808ms/step - loss: 0.2038 - acc: 0.9188 - val_loss: 0.2482 - val_acc: 0.8968\n",
            "Epoch 40/100\n",
            "225/225 [==============================] - 180s 800ms/step - loss: 0.1986 - acc: 0.9217 - val_loss: 0.2347 - val_acc: 0.8968\n",
            "Epoch 41/100\n",
            "225/225 [==============================] - 181s 806ms/step - loss: 0.1983 - acc: 0.9206 - val_loss: 0.2466 - val_acc: 0.8972\n",
            "Epoch 42/100\n",
            "225/225 [==============================] - 181s 804ms/step - loss: 0.1935 - acc: 0.9233 - val_loss: 0.2364 - val_acc: 0.8972\n",
            "Epoch 43/100\n",
            "225/225 [==============================] - 181s 805ms/step - loss: 0.2024 - acc: 0.9202 - val_loss: 0.2580 - val_acc: 0.8916\n",
            "Epoch 44/100\n",
            "225/225 [==============================] - 181s 806ms/step - loss: 0.1967 - acc: 0.9215 - val_loss: 0.2273 - val_acc: 0.9080\n",
            "Epoch 45/100\n",
            "225/225 [==============================] - 180s 802ms/step - loss: 0.2016 - acc: 0.9199 - val_loss: 0.2465 - val_acc: 0.8936\n",
            "Epoch 46/100\n",
            "225/225 [==============================] - 179s 795ms/step - loss: 0.1977 - acc: 0.9223 - val_loss: 0.2512 - val_acc: 0.8936\n",
            "Epoch 47/100\n",
            "225/225 [==============================] - 179s 794ms/step - loss: 0.1982 - acc: 0.9217 - val_loss: 0.2408 - val_acc: 0.8972\n",
            "Epoch 48/100\n",
            "225/225 [==============================] - 179s 795ms/step - loss: 0.1952 - acc: 0.9196 - val_loss: 0.2459 - val_acc: 0.9020\n",
            "Epoch 49/100\n",
            "225/225 [==============================] - 178s 791ms/step - loss: 0.1961 - acc: 0.9208 - val_loss: 0.2506 - val_acc: 0.8940\n",
            "Epoch 50/100\n",
            "225/225 [==============================] - 178s 790ms/step - loss: 0.1925 - acc: 0.9210 - val_loss: 0.2564 - val_acc: 0.8940\n",
            "Epoch 51/100\n",
            "225/225 [==============================] - 179s 796ms/step - loss: 0.1952 - acc: 0.9246 - val_loss: 0.2338 - val_acc: 0.8972\n",
            "Epoch 52/100\n",
            "225/225 [==============================] - 181s 803ms/step - loss: 0.1931 - acc: 0.9239 - val_loss: 0.2639 - val_acc: 0.8884\n",
            "Epoch 53/100\n",
            "225/225 [==============================] - 180s 802ms/step - loss: 0.1875 - acc: 0.9254 - val_loss: 0.2572 - val_acc: 0.8928\n",
            "Epoch 54/100\n",
            "225/225 [==============================] - 179s 797ms/step - loss: 0.1973 - acc: 0.9200 - val_loss: 0.2487 - val_acc: 0.8976\n",
            "Epoch 55/100\n",
            "225/225 [==============================] - 180s 799ms/step - loss: 0.1952 - acc: 0.9206 - val_loss: 0.2317 - val_acc: 0.9024\n",
            "Epoch 56/100\n",
            "225/225 [==============================] - 179s 795ms/step - loss: 0.1920 - acc: 0.9236 - val_loss: 0.2507 - val_acc: 0.8908\n",
            "Epoch 57/100\n",
            "225/225 [==============================] - 181s 804ms/step - loss: 0.1928 - acc: 0.9210 - val_loss: 0.2290 - val_acc: 0.9016\n",
            "Epoch 58/100\n",
            "225/225 [==============================] - 181s 803ms/step - loss: 0.1911 - acc: 0.9220 - val_loss: 0.2880 - val_acc: 0.8940\n",
            "Epoch 59/100\n",
            "225/225 [==============================] - 183s 813ms/step - loss: 0.1898 - acc: 0.9242 - val_loss: 0.2564 - val_acc: 0.8936\n",
            "Epoch 60/100\n",
            "225/225 [==============================] - 182s 808ms/step - loss: 0.1883 - acc: 0.9260 - val_loss: 0.2454 - val_acc: 0.9000\n",
            "Epoch 61/100\n",
            "225/225 [==============================] - 184s 816ms/step - loss: 0.1894 - acc: 0.9241 - val_loss: 0.2475 - val_acc: 0.8924\n",
            "Epoch 62/100\n",
            "225/225 [==============================] - 183s 812ms/step - loss: 0.1930 - acc: 0.9228 - val_loss: 0.2185 - val_acc: 0.9072\n",
            "Epoch 63/100\n",
            "225/225 [==============================] - 181s 807ms/step - loss: 0.1902 - acc: 0.9214 - val_loss: 0.2528 - val_acc: 0.8948\n",
            "Epoch 64/100\n",
            "225/225 [==============================] - 181s 806ms/step - loss: 0.1873 - acc: 0.9244 - val_loss: 0.2406 - val_acc: 0.9004\n",
            "Epoch 65/100\n",
            "225/225 [==============================] - 180s 801ms/step - loss: 0.1887 - acc: 0.9223 - val_loss: 0.2442 - val_acc: 0.8948\n",
            "Epoch 66/100\n",
            "225/225 [==============================] - 182s 808ms/step - loss: 0.1892 - acc: 0.9218 - val_loss: 0.2217 - val_acc: 0.9056\n",
            "Epoch 67/100\n",
            "225/225 [==============================] - 185s 821ms/step - loss: 0.1867 - acc: 0.9231 - val_loss: 0.2411 - val_acc: 0.9044\n",
            "Epoch 68/100\n",
            "225/225 [==============================] - 182s 808ms/step - loss: 0.1856 - acc: 0.9240 - val_loss: 0.2575 - val_acc: 0.9020\n",
            "Epoch 69/100\n",
            "225/225 [==============================] - 179s 796ms/step - loss: 0.1910 - acc: 0.9218 - val_loss: 0.2491 - val_acc: 0.9008\n",
            "Epoch 70/100\n",
            "225/225 [==============================] - 183s 812ms/step - loss: 0.1853 - acc: 0.9263 - val_loss: 0.2970 - val_acc: 0.8852\n",
            "Epoch 71/100\n",
            "225/225 [==============================] - 181s 804ms/step - loss: 0.1868 - acc: 0.9216 - val_loss: 0.2574 - val_acc: 0.8952\n",
            "Epoch 72/100\n",
            "225/225 [==============================] - 182s 809ms/step - loss: 0.1860 - acc: 0.9227 - val_loss: 0.2450 - val_acc: 0.8956\n",
            "Epoch 73/100\n",
            "225/225 [==============================] - 180s 802ms/step - loss: 0.1853 - acc: 0.9244 - val_loss: 0.2583 - val_acc: 0.8980\n",
            "Epoch 74/100\n",
            "225/225 [==============================] - 181s 803ms/step - loss: 0.1884 - acc: 0.9234 - val_loss: 0.2796 - val_acc: 0.8752\n",
            "Epoch 75/100\n",
            "225/225 [==============================] - 181s 805ms/step - loss: 0.1858 - acc: 0.9247 - val_loss: 0.2543 - val_acc: 0.8936\n",
            "Epoch 76/100\n",
            "225/225 [==============================] - 183s 811ms/step - loss: 0.1884 - acc: 0.9245 - val_loss: 0.2350 - val_acc: 0.9024\n",
            "Epoch 77/100\n",
            "225/225 [==============================] - 183s 812ms/step - loss: 0.1809 - acc: 0.9258 - val_loss: 0.3222 - val_acc: 0.8764\n",
            "Epoch 78/100\n",
            "225/225 [==============================] - 180s 798ms/step - loss: 0.1865 - acc: 0.9236 - val_loss: 0.2433 - val_acc: 0.9028\n",
            "Epoch 79/100\n",
            "225/225 [==============================] - 181s 805ms/step - loss: 0.1860 - acc: 0.9218 - val_loss: 0.2483 - val_acc: 0.9028\n",
            "Epoch 80/100\n",
            "225/225 [==============================] - 180s 799ms/step - loss: 0.1822 - acc: 0.9238 - val_loss: 0.2502 - val_acc: 0.8908\n",
            "Epoch 81/100\n",
            "225/225 [==============================] - 179s 796ms/step - loss: 0.1852 - acc: 0.9232 - val_loss: 0.2490 - val_acc: 0.8924\n",
            "Epoch 82/100\n",
            "225/225 [==============================] - 178s 790ms/step - loss: 0.1844 - acc: 0.9255 - val_loss: 0.2373 - val_acc: 0.8972\n",
            "Epoch 83/100\n",
            "225/225 [==============================] - 185s 820ms/step - loss: 0.1783 - acc: 0.9265 - val_loss: 0.2869 - val_acc: 0.8952\n",
            "Epoch 84/100\n",
            "225/225 [==============================] - 183s 813ms/step - loss: 0.1832 - acc: 0.9238 - val_loss: 0.2316 - val_acc: 0.9000\n",
            "Epoch 85/100\n",
            "225/225 [==============================] - 181s 805ms/step - loss: 0.1817 - acc: 0.9252 - val_loss: 0.2566 - val_acc: 0.8980\n",
            "Epoch 86/100\n",
            "225/225 [==============================] - 181s 804ms/step - loss: 0.1857 - acc: 0.9246 - val_loss: 0.2498 - val_acc: 0.8956\n",
            "Epoch 87/100\n",
            "225/225 [==============================] - 183s 813ms/step - loss: 0.1829 - acc: 0.9222 - val_loss: 0.2593 - val_acc: 0.8972\n",
            "Epoch 88/100\n",
            "225/225 [==============================] - 183s 814ms/step - loss: 0.1836 - acc: 0.9243 - val_loss: 0.2710 - val_acc: 0.8820\n",
            "Epoch 89/100\n",
            "225/225 [==============================] - 181s 802ms/step - loss: 0.1834 - acc: 0.9228 - val_loss: 0.2764 - val_acc: 0.8976\n",
            "Epoch 90/100\n",
            "225/225 [==============================] - 181s 804ms/step - loss: 0.1791 - acc: 0.9264 - val_loss: 0.3202 - val_acc: 0.8820\n",
            "Epoch 91/100\n",
            "225/225 [==============================] - 181s 805ms/step - loss: 0.1765 - acc: 0.9268 - val_loss: 0.2415 - val_acc: 0.9020\n",
            "Epoch 92/100\n",
            "225/225 [==============================] - 181s 806ms/step - loss: 0.1824 - acc: 0.9244 - val_loss: 0.2439 - val_acc: 0.8912\n",
            "Epoch 93/100\n",
            "225/225 [==============================] - 179s 794ms/step - loss: 0.1807 - acc: 0.9256 - val_loss: 0.2423 - val_acc: 0.8976\n",
            "Epoch 94/100\n",
            "225/225 [==============================] - 182s 808ms/step - loss: 0.1886 - acc: 0.9224 - val_loss: 0.2762 - val_acc: 0.8804\n",
            "Epoch 95/100\n",
            "225/225 [==============================] - 180s 801ms/step - loss: 0.1841 - acc: 0.9258 - val_loss: 0.2449 - val_acc: 0.9020\n",
            "Epoch 96/100\n",
            "225/225 [==============================] - 178s 790ms/step - loss: 0.1827 - acc: 0.9230 - val_loss: 0.2669 - val_acc: 0.8936\n",
            "Epoch 97/100\n",
            "225/225 [==============================] - 178s 791ms/step - loss: 0.1893 - acc: 0.9224 - val_loss: 0.2676 - val_acc: 0.8936\n",
            "Epoch 98/100\n",
            "225/225 [==============================] - 181s 805ms/step - loss: 0.1865 - acc: 0.9228 - val_loss: 0.2555 - val_acc: 0.8904\n",
            "Epoch 99/100\n",
            "225/225 [==============================] - 180s 800ms/step - loss: 0.1889 - acc: 0.9222 - val_loss: 0.2360 - val_acc: 0.9088\n",
            "Epoch 100/100\n",
            "225/225 [==============================] - 182s 808ms/step - loss: 0.1862 - acc: 0.9224 - val_loss: 0.2424 - val_acc: 0.8916\n"
          ],
          "name": "stdout"
        }
      ]
    },
    {
      "cell_type": "code",
      "metadata": {
        "id": "QfmNENt3lBaL",
        "colab_type": "code",
        "colab": {}
      },
      "source": [
        "#weights.VGG16_transfer_learning.hdf5"
      ],
      "execution_count": 0,
      "outputs": []
    },
    {
      "cell_type": "markdown",
      "metadata": {
        "id": "jlSiACTYSJcx",
        "colab_type": "text"
      },
      "source": [
        "## Step 6: Evaluating the model"
      ]
    },
    {
      "cell_type": "code",
      "metadata": {
        "id": "RwQjMjIXSHFA",
        "colab_type": "code",
        "outputId": "b2f29a1a-ef9e-4e5c-8531-1f924e556393",
        "colab": {
          "base_uri": "https://localhost:8080/",
          "height": 52
        }
      },
      "source": [
        "validation_steps = validation_generator.n//validation_generator.batch_size \n",
        "\n",
        "result = model.evaluate_generator(generator = validation_generator, steps = validation_steps)\n",
        "print(\"The validation accuracy: {:.4f}\".format(result[1]))\n",
        "print(\"The validation loss: {:.4f}\".format(result[0]))"
      ],
      "execution_count": 0,
      "outputs": [
        {
          "output_type": "stream",
          "text": [
            "The validation accuracy: 0.8944\n",
            "The validation loss: 0.2393\n"
          ],
          "name": "stdout"
        }
      ]
    },
    {
      "cell_type": "markdown",
      "metadata": {
        "id": "o0j5vdcLwTEv",
        "colab_type": "text"
      },
      "source": [
        "#### 6.1 Analysis of the accuracy & loss for the transferred model"
      ]
    },
    {
      "cell_type": "code",
      "metadata": {
        "id": "WcTHrsE9wajh",
        "colab_type": "code",
        "outputId": "a0b4a15e-8e5c-4cca-c8c1-9bdabe84f325",
        "colab": {
          "base_uri": "https://localhost:8080/",
          "height": 792
        }
      },
      "source": [
        "epochs = 100\n",
        "#plt.figure(0)\n",
        "plt.plot(history.history['acc'],'r')\n",
        "plt.plot(history.history['val_acc'],'g')\n",
        "plt.xticks(np.arange(0, epochs + 1, 10.0))\n",
        "#plt.yticks(np.arange(0.3, 1, 0.1))\n",
        "plt.rcParams['figure.figsize'] = (10, 6)\n",
        "plt.xlabel(\"Num of Epochs\")\n",
        "plt.ylabel(\"Accuracy\")\n",
        "plt.title(\"Training vs Validation Accuracy\")\n",
        "plt.legend(['train','validation'])\n",
        "plt.show()\n",
        "\n",
        "#plt.figure(1)\n",
        "plt.plot(history.history['loss'],'r')\n",
        "plt.plot(history.history['val_loss'],'g')\n",
        "#plt.xticks(np.arange(0, epochs + 1, 10.0))\n",
        "plt.rcParams['figure.figsize'] = (10, 6)\n",
        "plt.xlabel(\"Num of Epochs\")\n",
        "plt.ylabel(\"Loss\")\n",
        "plt.title(\"Training vs Validation Loss\")\n",
        "plt.legend(['train','validation'])\n",
        "plt.show()"
      ],
      "execution_count": 0,
      "outputs": [
        {
          "output_type": "display_data",
          "data": {
            "image/png": "[encoded data removed]",
            "text/plain": [
              "<Figure size 720x432 with 1 Axes>"
            ]
          },
          "metadata": {
            "tags": []
          }
        },
        {
          "output_type": "display_data",
          "data": {
            "image/png": "[encoded data removed]",
            "text/plain": [
              "<Figure size 720x432 with 1 Axes>"
            ]
          },
          "metadata": {
            "tags": []
          }
        }
      ]
    },
    {
      "cell_type": "markdown",
      "metadata": {
        "id": "Wr57IiYhz_dV",
        "colab_type": "text"
      },
      "source": [
        "## Conclusion\n",
        "\n",
        "The number of trainable parameters in the transfer model is low as compared to our scratch model. Apart from this, the CNN scratch model took quite a long time to train on GPG, while the transfer model took less than to train the model. We can conclude that the use of transfer learning not only improves the performance of the model but also is computationally efficient.\n",
        "\n",
        "Next, we can use techniques to further improve the performance of the model:\n",
        "\n",
        "- implement data augumentation\n",
        "- fine tuning the optimizer and loss function \n",
        "- use L1 and L2 regularization\n",
        "- use a different pre-trained model \n",
        "- fine tune the layers of the pre-trained model\n"
      ]
    },
    {
      "cell_type": "markdown",
      "metadata": {
        "id": "oSITmA4An4ka",
        "colab_type": "text"
      },
      "source": [
        "## Useful references\n",
        "URL_1 = 'https://www.hackerearth.com/practice/machine-learning/transfer-learning/transfer-learning-intro/tutorial/'\n",
        "\n",
        "URL_2 = \"https://www.learnopencv.com/keras-tutorial-using-pre-trained-imagenet-models/\"\n",
        "\n",
        "URL_3 = \"https://mathematica.stackexchange.com/questions/145281/how-to-finetune-a-large-pretrained-netmodel/145317#145317\"\n",
        "\n",
        "URL_4 = \"https://towardsdatascience.com/keras-transfer-learning-for-beginners-6c9b8b7143e\""
      ]
    }
  ]
}